{
 "cells": [
  {
   "cell_type": "markdown",
   "metadata": {},
   "source": [
    "# Agenda\n",
    "\n",
    "1. Fundamentals\n",
    "    - Data\n",
    "    - Assignment and variables\n",
    "    - Displaying things on the screen with `print`\n",
    "    - Getting input from the user with `input`\n",
    "    - Comparisons and conditionals (with `if` and `else`)\n",
    "    - Numbers (integers and floats)\n",
    "    - Strings\n",
    "2. Loops, lists, and tuples\n",
    "    - What is a loop? Why would I use it?\n",
    "        - `for` and `while`\n",
    "    - Lists \n",
    "    - Tuples\n",
    "3. Dictionaries and files\n",
    "    - Creating and using dicts\n",
    "    - Reading from and writing to text files\n",
    "4. Functions\n",
    "    - What are functions?\n",
    "    - How do we define functions?\n",
    "    - Passing arguments to functions\n",
    "5. Modules and packages\n",
    "    - What is a module?\n",
    "    - What are some modules that come with Python?\n",
    "    - What are some third-party modules that we can download and install?\n",
    "\n"
   ]
  },
  {
   "cell_type": "markdown",
   "metadata": {},
   "source": [
    "# Running Python code\n",
    "\n",
    "You have a few options for running Python code for this course.\n",
    "\n",
    "1. If you can pull it off (and not everyone can, because it's complicated), you can install Python and Jupyter on your computer.  (Search for my YouTube video on installing Jupyter, and that might well help.)\n",
    "\n",
    "2. Google Colab, which has a verion of Jupyter that you can use. Open a new notebook, and follow along and/or do the exercises in it.\n",
    "\n",
    "3. Python Anywhere \n",
    "\n",
    "4. Replit\n",
    "\n",
    "5. Install Python and an editor (PyCharm or VSCode) on your computer, to edit/run it.\n",
    "\n",
    "6. Anaconda -- easy installation of Python, an editor (Spyder), and Jupyter.\n",
    "\n",
    "At the end of the day, you'll need to write Python code and run it.\n",
    "\n"
   ]
  },
  {
   "cell_type": "markdown",
   "metadata": {},
   "source": [
    "# What is a programming language?\n",
    "\n",
    "At the end of the day, computers are all circuits. Those circuits can redirect electricity in different ways.\n",
    "\n",
    "You can design a computer that uses circuits to make decisions -- it gets some input electricity, and based on the various inputs, it then produces some output electricity.\n",
    "\n",
    "That got very difficult, very quickly. Every time you wanted to change the computer's functionality, you needed to rewire the computer!\n",
    "\n",
    "Computer scientists came up with the idea of a general-purpose computer that you could give instructions to... they called that \"programming\" with a \"language.\" Languages have been around since the 1950s. Some were very close to the hardware, and were called things like \"assembly language.\" \n",
    "\n",
    "But you also had some \"high-level languages,\" like Lisp and Fortran and PL/1, which allowed you to write in an English-like syntax, which was then converted into assembly language.\n",
    "\n",
    "Python has been around for about 30 years now. It's a very high level language:\n",
    "\n",
    "- You don't need to worry about the computer's memory\n",
    "- You don't need to worry about what kind of computer you're running on\n",
    "- It tries to be as close to human language as possible, so that we can do less work and the computer can do more work.\n",
    "\n",
    "I like to say that Python is perfect for a world in which computers are cheap, and people are expensive. Your time is worth a lot!\n",
    "\n"
   ]
  },
  {
   "cell_type": "markdown",
   "metadata": {},
   "source": [
    "# Jupyter \n",
    "\n",
    "In order to run Python code, you need to:\n",
    "\n",
    "- Put it in a file (typically with a `.py` suffix\n",
    "- Tell Python to run it (and yes, you need the language around)\n",
    "\n",
    "This can be annoying, especially if you're experimenting. Jupyter is the latest REPL (read-eval-print loop) in the Python world:\n",
    "\n",
    "- It's Web-based (which makes it friendlier)\n",
    "- It can handle text (like I'm typing now) or code (as I'll show in a moment)\n",
    "- It stores its data regularly, and in a format that's pretty portable\n",
    "\n",
    "Jupyter is wildly popular in the world of data science."
   ]
  },
  {
   "cell_type": "code",
   "execution_count": 1,
   "metadata": {},
   "outputs": [
    {
     "name": "stdout",
     "output_type": "stream",
     "text": [
      "Hello!\n"
     ]
    }
   ],
   "source": [
    "print('Hello!')"
   ]
  },
  {
   "cell_type": "markdown",
   "metadata": {},
   "source": [
    "# Jupyter command tour (for those of you using it)\n",
    "\n",
    "Jupyter has two modes for when you type:'\n",
    "\n",
    "- Edit mode. You can enter edit mode by clicking inside of a cell or pressing ENTER. When you're in edit mode, anything you type is put inside of the cell.  You can tell you're in edit mode if the cell has a green border.\n",
    "- Command mode. You can command mode by clicking to the left of the cell or pressing ESC. When you're in command mode, anything you type is sent to Jupyter.  You can tell that you're in command mode, because the cell has a blue border.\n",
    "\n",
    "In edit mode, you can complete what you're typing and/or execute the cell's contents with shift+ENTER.\n",
    "\n",
    "In command mode, you have a bunch of commands:\n",
    "\n",
    "- `x` -- cuts the current cell\n",
    "- `c` -- copies the current cell\n",
    "- `v` -- pastes the current cell\n",
    "- `m` -- makes the cell use markdown, for typing text like this\n",
    "- `y` -- makes the cell a code cell, for typing Python\n",
    "- `h` -- gives help, if you don't know what the commands might be\n"
   ]
  },
  {
   "cell_type": "code",
   "execution_count": 2,
   "metadata": {},
   "outputs": [
    {
     "name": "stdout",
     "output_type": "stream",
     "text": [
      "Hello, out there!\n"
     ]
    }
   ],
   "source": [
    "# Python comments start with # and go to the end of the line\n",
    "# this allows us to document our programs\n",
    "# Python ignores comments completely\n",
    "\n",
    "# In this cell, I have Python code, and I'm invoking the \"print\" function,\n",
    "# which displays something on the screen. Here, I'm displaying text which is\n",
    "# in single quotes.  When I run this cell with shift+ENTER, that text\n",
    "# will be displayed on the screen.\n",
    "\n",
    "print('Hello, out there!')   # I can even have a comment here!"
   ]
  },
  {
   "cell_type": "markdown",
   "metadata": {},
   "source": [
    "# Basic values\n",
    "\n",
    "In the computer, there are only 0s and 1s. But in our Python programs, we divide our program into \"code\" (which runs) and \"data\" (which has values). That data is further divided into types of data.\n",
    "\n",
    "This allows us to think about things more clearly. It also allows the computer to provide functionality without breaking too much.\n",
    "\n",
    "For example: If I want to add together two numbers, that's different from adding together two words.  So we need to have different data types to represent numbers and words."
   ]
  },
  {
   "cell_type": "code",
   "execution_count": 4,
   "metadata": {},
   "outputs": [
    {
     "name": "stdout",
     "output_type": "stream",
     "text": [
      "15\n"
     ]
    }
   ],
   "source": [
    "# print is a function\n",
    "# functions are verbs -- they execute functionality\n",
    "# before print can run, we need to get a value from what's in the ()\n",
    "# 10+5 runs, gives us a value of 15, and then print sees print(15|)\n",
    "\n",
    "print(10 + 5)     # I'm going to add 10+5, and whatever the value is, will be printed"
   ]
  },
  {
   "cell_type": "code",
   "execution_count": 5,
   "metadata": {},
   "outputs": [
    {
     "name": "stdout",
     "output_type": "stream",
     "text": [
      "7\n"
     ]
    }
   ],
   "source": [
    "print(2+5)"
   ]
  },
  {
   "cell_type": "code",
   "execution_count": 7,
   "metadata": {},
   "outputs": [
    {
     "name": "stdout",
     "output_type": "stream",
     "text": [
      "20\n"
     ]
    }
   ],
   "source": [
    "print(2*10)    # * is multiplication in Python"
   ]
  },
  {
   "cell_type": "code",
   "execution_count": 8,
   "metadata": {},
   "outputs": [
    {
     "name": "stdout",
     "output_type": "stream",
     "text": [
      "14\n"
     ]
    }
   ],
   "source": [
    "print(2+3*4)   # just like you learned in school, * comes before +"
   ]
  },
  {
   "cell_type": "code",
   "execution_count": 9,
   "metadata": {},
   "outputs": [
    {
     "data": {
      "text/plain": [
       "14"
      ]
     },
     "execution_count": 9,
     "metadata": {},
     "output_type": "execute_result"
    }
   ],
   "source": [
    "# it so happens in that in Jupyter and ONLY IN JUPYTER, you don't need\n",
    "# to use \"print\" to display a value. You can just give any Python \"expression\"\n",
    "# and Jupyter will display it\n",
    "\n",
    "2+3*4  "
   ]
  },
  {
   "cell_type": "code",
   "execution_count": 11,
   "metadata": {},
   "outputs": [
    {
     "data": {
      "text/plain": [
       "'hellogoodbye'"
      ]
     },
     "execution_count": 11,
     "metadata": {},
     "output_type": "execute_result"
    }
   ],
   "source": [
    "# can I do this with text? Let's try!\n",
    "\n",
    "# text in programming languages is normally called \"strings\"\n",
    "# here, we'll adding together two strings\n",
    "# the result that we get back is a new string, with the contents of the old one\n",
    "\n",
    "'hello' + 'goodbye'"
   ]
  },
  {
   "cell_type": "code",
   "execution_count": 12,
   "metadata": {},
   "outputs": [
    {
     "ename": "TypeError",
     "evalue": "unsupported operand type(s) for +: 'int' and 'str'",
     "output_type": "error",
     "traceback": [
      "\u001b[0;31m---------------------------------------------------------------------------\u001b[0m",
      "\u001b[0;31mTypeError\u001b[0m                                 Traceback (most recent call last)",
      "Cell \u001b[0;32mIn [12], line 3\u001b[0m\n\u001b[1;32m      1\u001b[0m \u001b[38;5;66;03m# what if we do this...\u001b[39;00m\n\u001b[0;32m----> 3\u001b[0m \u001b[38;5;241;43m10\u001b[39;49m\u001b[43m \u001b[49m\u001b[38;5;241;43m+\u001b[39;49m\u001b[43m \u001b[49m\u001b[38;5;124;43m'\u001b[39;49m\u001b[38;5;124;43m20\u001b[39;49m\u001b[38;5;124;43m'\u001b[39;49m    \u001b[38;5;66;03m# integer 10 + string 20\u001b[39;00m\n",
      "\u001b[0;31mTypeError\u001b[0m: unsupported operand type(s) for +: 'int' and 'str'"
     ]
    }
   ],
   "source": [
    "# what if we do this...\n",
    "\n",
    "10 + '20'    # integer 10 + string 20"
   ]
  },
  {
   "cell_type": "code",
   "execution_count": 13,
   "metadata": {},
   "outputs": [
    {
     "data": {
      "text/plain": [
       "'1020'"
      ]
     },
     "execution_count": 13,
     "metadata": {},
     "output_type": "execute_result"
    }
   ],
   "source": [
    "# what if I add together two numbers, but as strings?\n",
    "\n",
    "'10' + '20'    # Python sees these as two strings..."
   ]
  },
  {
   "cell_type": "markdown",
   "metadata": {},
   "source": [
    "# Keeping track of data types\n",
    "\n",
    "This is a crucial skill to develop! You need to know what type of data you're dealing with, not just its value. The type determines how it interacts with other data types (and with your functions), and also what functionality is even available.\n",
    "\n",
    "There are things we can do with text strings that we cannot do with numbers, and vice versa.\n",
    "\n",
    "We can always ask any Python data -- what are you? -- with the `type` function."
   ]
  },
  {
   "cell_type": "code",
   "execution_count": 14,
   "metadata": {},
   "outputs": [
    {
     "data": {
      "text/plain": [
       "int"
      ]
     },
     "execution_count": 14,
     "metadata": {},
     "output_type": "execute_result"
    }
   ],
   "source": [
    "type(5)   # what kind of data do I have here?"
   ]
  },
  {
   "cell_type": "code",
   "execution_count": 15,
   "metadata": {},
   "outputs": [
    {
     "data": {
      "text/plain": [
       "str"
      ]
     },
     "execution_count": 15,
     "metadata": {},
     "output_type": "execute_result"
    }
   ],
   "source": [
    "type('5')  # what kind of data do I have here?"
   ]
  },
  {
   "cell_type": "code",
   "execution_count": 17,
   "metadata": {},
   "outputs": [
    {
     "data": {
      "text/plain": [
       "100"
      ]
     },
     "execution_count": 17,
     "metadata": {},
     "output_type": "execute_result"
    }
   ],
   "source": [
    "20*5"
   ]
  },
  {
   "cell_type": "markdown",
   "metadata": {},
   "source": [
    "It gets kind of boring to work with values in this way. I'd like to assign a value to a variable, and then refer to it via the variable.\n",
    "\n",
    "We can assign to a variable with `=`.\n",
    "\n",
    "NOTE: The `=` operator in Python is **NOT** the same as you had in math class growing up. That `=` asks a question, are the things on both sides the same? In Python, `=` is not asking a question. Rather, it's saying that the value on the right side should be assigned to the name on the left side."
   ]
  },
  {
   "cell_type": "code",
   "execution_count": 21,
   "metadata": {},
   "outputs": [],
   "source": [
    "x = 10   # I'm assigning the integer value 10 to the variable x\n",
    "y = 20   # I'm assigning the integer value 20 to the variable y\n",
    "\n",
    "# once I've done that, I can refer to 10 and 20, or I can refer to x and y\n",
    "# Python will ask the variable for its value, and use it wherever we ask."
   ]
  },
  {
   "cell_type": "code",
   "execution_count": 20,
   "metadata": {},
   "outputs": [
    {
     "data": {
      "text/plain": [
       "30"
      ]
     },
     "execution_count": 20,
     "metadata": {},
     "output_type": "execute_result"
    }
   ],
   "source": [
    "x + y   "
   ]
  },
  {
   "cell_type": "markdown",
   "metadata": {},
   "source": [
    "# Naming variables\n",
    "\n",
    "Variables in Python can have any number of characters:\n",
    "\n",
    "- Letters \n",
    "- Digits (except for the first character in the variable name)\n",
    "- `_` (underscore)\n",
    "\n",
    "Note that uppercase and lowercase letters are different. And we normally only use lowercase letters in Python variable names.\n",
    "\n",
    "The first time that you assign to a variable, it is created. Subsequent times then overwrite the existing value, but keep the same variable."
   ]
  },
  {
   "cell_type": "code",
   "execution_count": 22,
   "metadata": {},
   "outputs": [
    {
     "data": {
      "text/plain": [
       "25"
      ]
     },
     "execution_count": 22,
     "metadata": {},
     "output_type": "execute_result"
    }
   ],
   "source": [
    "x = 5\n",
    "\n",
    "x + y"
   ]
  },
  {
   "cell_type": "markdown",
   "metadata": {},
   "source": [
    "# Python is a dynamic language!\n",
    "\n",
    "In many programming languages, you need to specify what type of value will be assigned to a variable when you create the variable. That allows the language to check that you're assigning a valid value to that variable.\n",
    "\n",
    "This doesn't exist in Python. Any value can be assigned to any variable. That makes this a *dynamic* language.\n",
    "\n",
    "There are some static-typing extensions to Python that you can use. But the core language itself remains dynamic. Any value can be assigned to any variable at any time, including halfway through the program."
   ]
  },
  {
   "cell_type": "code",
   "execution_count": 23,
   "metadata": {},
   "outputs": [],
   "source": [
    "# Variable examples\n",
    "\n",
    "y = 'hello'    # just lowercase letter\n",
    "    \n",
    "first_name = 'Reuven'    # lowercase + _ between words\n",
    "\n",
    "test_score_3 = 97        # lowercase + _ + digits\n",
    "\n",
    "_this_is_kind_of_private = 'shhh'  # leading underscore means \"don't touch this\""
   ]
  },
  {
   "cell_type": "code",
   "execution_count": null,
   "metadata": {},
   "outputs": [],
   "source": []
  },
  {
   "cell_type": "markdown",
   "metadata": {},
   "source": [
    "# Exercise: Simple calculator\n",
    "\n",
    "1. Assign two numbers to `x` and `y`. \n",
    "2. Add those numbers together, and assign to `z`.\n",
    "3. Print the value of `z`."
   ]
  },
  {
   "cell_type": "code",
   "execution_count": 26,
   "metadata": {},
   "outputs": [
    {
     "name": "stdout",
     "output_type": "stream",
     "text": [
      "90\n"
     ]
    }
   ],
   "source": [
    "x = 23       # I'm assigning the integer 23 to x\n",
    "y = 67       # I'm assigning the integer 67 to y\n",
    "\n",
    "# when you assign, the right side is evaluated before the left side\n",
    "\n",
    "z = x + y    # assign the integer 90 to z\n",
    "\n",
    "print(z)     # print the current value of z"
   ]
  },
  {
   "cell_type": "code",
   "execution_count": 25,
   "metadata": {},
   "outputs": [
    {
     "name": "stdout",
     "output_type": "stream",
     "text": [
      "23\n"
     ]
    }
   ],
   "source": [
    "x = 23\n",
    "print(x)"
   ]
  },
  {
   "cell_type": "code",
   "execution_count": 27,
   "metadata": {},
   "outputs": [
    {
     "name": "stdout",
     "output_type": "stream",
     "text": [
      "90\n"
     ]
    }
   ],
   "source": [
    "x = 23\n",
    "y = 67\n",
    "\n",
    "z = x + y\n",
    "\n",
    "x = 10\n",
    "\n",
    "# will this print 90, because we assigned an integer to z?\n",
    "# or will this print 77, because z is going to calculate the current value of x + y\n",
    "\n",
    "print(z)   "
   ]
  },
  {
   "cell_type": "markdown",
   "metadata": {},
   "source": [
    "# \"Private\" variables\n",
    "\n",
    "If you put `_` as the first character in your variable name, then the variable, by convention, will be seen as private or hidden. It's not private. It's not hidden. But you are supposed to avoid touching such variables that others have created.\n",
    "\n",
    "I tend not to use it that much, but if you want to \"hide\" things from others, this is the way to do it in Python.\n",
    "\n"
   ]
  },
  {
   "cell_type": "code",
   "execution_count": 28,
   "metadata": {},
   "outputs": [
    {
     "name": "stdout",
     "output_type": "stream",
     "text": [
      "90\n",
      "1541\n"
     ]
    }
   ],
   "source": [
    "x = 23\n",
    "y = 67\n",
    "\n",
    "z = x + y   # add x and y, and assign to z\n",
    "\n",
    "print(z)   \n",
    "\n",
    "z = x * y   # multiply x and y, and assign to z\n",
    "\n",
    "print(z)"
   ]
  },
  {
   "cell_type": "markdown",
   "metadata": {},
   "source": [
    "# What are variables?\n",
    "\n",
    "I think of variables as pronouns. We have our data, and we can use data directly in our programs:\n",
    "\n",
    "```python\n",
    "print(10 + 3)\n",
    "```\n",
    "\n",
    "Or I can assign the values to variables, and reason at a higher level, as well as get more flexibility.\n",
    "\n",
    "```python\n",
    "x = 10\n",
    "y = 3\n",
    "print(x + y)\n",
    "```"
   ]
  },
  {
   "cell_type": "markdown",
   "metadata": {},
   "source": [
    "# Next up\n",
    "\n",
    "1. Getting input from the user with `input`\n",
    "2. Displaying things with f-strings\n",
    "3. Comparisons"
   ]
  },
  {
   "cell_type": "code",
   "execution_count": 29,
   "metadata": {},
   "outputs": [
    {
     "name": "stdout",
     "output_type": "stream",
     "text": [
      "hellogoodbye\n"
     ]
    }
   ],
   "source": [
    "# can I assign text strings to variables?\n",
    "# of course I can!\n",
    "\n",
    "x = 'hello'\n",
    "y = 'goodbye'\n",
    "\n",
    "print(x + y)"
   ]
  },
  {
   "cell_type": "code",
   "execution_count": 30,
   "metadata": {},
   "outputs": [
    {
     "name": "stdout",
     "output_type": "stream",
     "text": [
      "hellogoodbye\n"
     ]
    }
   ],
   "source": [
    "# can I assign the sum of these two strings to a variable?\n",
    "\n",
    "x = 'hello'\n",
    "y = 'goodbye'\n",
    "\n",
    "z = x + y\n",
    "\n",
    "print(z)"
   ]
  },
  {
   "cell_type": "code",
   "execution_count": 31,
   "metadata": {},
   "outputs": [
    {
     "name": "stdout",
     "output_type": "stream",
     "text": [
      "hello goodbye\n"
     ]
    }
   ],
   "source": [
    "# what if I want to have spaces between them?\n",
    "\n",
    "z = x + ' ' + y  # yes, space is a real thing! \n",
    "\n",
    "print(z)"
   ]
  },
  {
   "cell_type": "code",
   "execution_count": 32,
   "metadata": {},
   "outputs": [
    {
     "name": "stdout",
     "output_type": "stream",
     "text": [
      "Hello, Reuven Lerner.\n"
     ]
    }
   ],
   "source": [
    "# this gets really annoying!\n",
    "\n",
    "first_name = 'Reuven'\n",
    "last_name = 'Lerner'\n",
    "\n",
    "print('Hello, ' + first_name + ' ' + last_name + '.')"
   ]
  },
  {
   "cell_type": "code",
   "execution_count": 34,
   "metadata": {},
   "outputs": [
    {
     "name": "stdout",
     "output_type": "stream",
     "text": [
      "Hello, Reuven Lerner.\n"
     ]
    }
   ],
   "source": [
    "# a much better solution? f-strings\n",
    "# if you put the letter f before the opening quote, then you can put {}\n",
    "# inside of the string. Those {} can contain variables\n",
    "\n",
    "# f is for \"format\" (I like to say \"fancy\")\n",
    "\n",
    "print(f'Hello, {first_name} {last_name}.')"
   ]
  },
  {
   "cell_type": "markdown",
   "metadata": {},
   "source": [
    "# Getting input from the user\n",
    "\n",
    "So far, all of the data we've had has come from the program itself, what we call \"hard coded.\" In a real program, we don't know what the data will be, but we do know what we want to do with it.\n",
    "\n",
    "We can use the builtin `input` function to get input from the user:\n",
    "\n",
    "1. We call `input` and pass it a string. That string will be displayed to the user as an input prompt.\n",
    "2. Whatever the user types is then the value returned by `input`\n",
    "3. Typically, we'll then take that returned value and assign it to a variable."
   ]
  },
  {
   "cell_type": "code",
   "execution_count": 35,
   "metadata": {},
   "outputs": [
    {
     "name": "stdout",
     "output_type": "stream",
     "text": [
      "Enter your name: Reuven\n",
      "Hello, Reuven.\n"
     ]
    }
   ],
   "source": [
    "# calling input, and assigning whatever the user typed to \"name\"\n",
    "name = input('Enter your name: ')\n",
    "\n",
    "# print the user's name in a friendly greeting\n",
    "print(f'Hello, {name}.')"
   ]
  },
  {
   "cell_type": "code",
   "execution_count": 36,
   "metadata": {
    "scrolled": true
   },
   "outputs": [
    {
     "name": "stdout",
     "output_type": "stream",
     "text": [
      "a\n",
      "e\n"
     ]
    }
   ],
   "source": [
    "# in Jupyter, and many editors, you can highlight a section and then use control-#\n",
    "# to comment them all out\n",
    "\n",
    "print('a')\n",
    "# print('b')\n",
    "# print('c')\n",
    "# print('d')\n",
    "print('e')"
   ]
  },
  {
   "cell_type": "markdown",
   "metadata": {},
   "source": [
    "# Exercise: Friendly greeting\n",
    "\n",
    "1. Ask the user to enter their name, and assign it to `name`.\n",
    "2. Ask the user to enter their country, and assign it to `country`.\n",
    "3. Print a friendly greeting, along the lines of, \"Hello PERSON from COUNTRY.\""
   ]
  },
  {
   "cell_type": "code",
   "execution_count": 37,
   "metadata": {},
   "outputs": [
    {
     "name": "stdout",
     "output_type": "stream",
     "text": [
      "Enter your name: Reuven\n",
      "Enter your country: Israel\n",
      "Hello, Reuven from Israel!\n"
     ]
    }
   ],
   "source": [
    "# notice that the string I pass to input ends with : and then a space\n",
    "# that makes it a little nicer to read when the user is presented with the prompt\n",
    "\n",
    "name = input('Enter your name: ')\n",
    "country = input('Enter your country: ')\n",
    "\n",
    "print(f'Hello, {name} from {country}!')"
   ]
  },
  {
   "cell_type": "markdown",
   "metadata": {},
   "source": [
    "# What happens if I enter numbers?\n",
    "\n"
   ]
  },
  {
   "cell_type": "code",
   "execution_count": 38,
   "metadata": {},
   "outputs": [
    {
     "name": "stdout",
     "output_type": "stream",
     "text": [
      "Enter first number: 10\n",
      "Enter second number: 2\n",
      "10 + 2 = 102\n"
     ]
    }
   ],
   "source": [
    "x = input('Enter first number: ')     # input always returns a string\n",
    "y = input('Enter second number: ')    # input always returns a string\n",
    "\n",
    "z = x + y    # z will be the sum of two strings, not numbers!\n",
    " \n",
    "print(f'{x} + {y} = {z}')"
   ]
  },
  {
   "cell_type": "markdown",
   "metadata": {},
   "source": [
    "# Converting\n",
    "\n",
    "If we have a string, and we want to get an integer based on it, we can call `int` on that string. We get back a new integer.  We don't change the original value or variable.\n",
    "\n",
    "```python\n",
    "s = '1234'     # assign a string to s\n",
    "n = int(s)     # get an integer based on s, using int()\n",
    "print(n * 2)   # this will print 2468\n",
    "```"
   ]
  },
  {
   "cell_type": "code",
   "execution_count": 39,
   "metadata": {},
   "outputs": [
    {
     "name": "stdout",
     "output_type": "stream",
     "text": [
      "2468\n"
     ]
    }
   ],
   "source": [
    "s = '1234'     # assign a string to s\n",
    "n = int(s)     # get an integer based on s, using int()\n",
    "print(n * 2) "
   ]
  },
  {
   "cell_type": "code",
   "execution_count": 40,
   "metadata": {},
   "outputs": [
    {
     "name": "stdout",
     "output_type": "stream",
     "text": [
      "Enter your name: Reuven\n"
     ]
    }
   ],
   "source": [
    "name = input('Enter your name: ')"
   ]
  },
  {
   "cell_type": "code",
   "execution_count": 41,
   "metadata": {},
   "outputs": [
    {
     "data": {
      "text/plain": [
       "'Reuven'"
      ]
     },
     "execution_count": 41,
     "metadata": {},
     "output_type": "execute_result"
    }
   ],
   "source": [
    "name"
   ]
  },
  {
   "cell_type": "code",
   "execution_count": 42,
   "metadata": {},
   "outputs": [
    {
     "name": "stdout",
     "output_type": "stream",
     "text": [
      "Enter your name: asdfadfsa\n"
     ]
    }
   ],
   "source": [
    "name = input('Enter your name: ')"
   ]
  },
  {
   "cell_type": "code",
   "execution_count": 43,
   "metadata": {},
   "outputs": [
    {
     "data": {
      "text/plain": [
       "1234"
      ]
     },
     "execution_count": 43,
     "metadata": {},
     "output_type": "execute_result"
    }
   ],
   "source": [
    "int('1234') # this returns a new int based on the string '1234'"
   ]
  },
  {
   "cell_type": "code",
   "execution_count": 44,
   "metadata": {},
   "outputs": [
    {
     "ename": "ValueError",
     "evalue": "invalid literal for int() with base 10: 'hello'",
     "output_type": "error",
     "traceback": [
      "\u001b[0;31m---------------------------------------------------------------------------\u001b[0m",
      "\u001b[0;31mValueError\u001b[0m                                Traceback (most recent call last)",
      "Cell \u001b[0;32mIn [44], line 1\u001b[0m\n\u001b[0;32m----> 1\u001b[0m \u001b[38;5;28;43mint\u001b[39;49m\u001b[43m(\u001b[49m\u001b[38;5;124;43m'\u001b[39;49m\u001b[38;5;124;43mhello\u001b[39;49m\u001b[38;5;124;43m'\u001b[39;49m\u001b[43m)\u001b[49m  \u001b[38;5;66;03m# what happens now?\u001b[39;00m\n",
      "\u001b[0;31mValueError\u001b[0m: invalid literal for int() with base 10: 'hello'"
     ]
    }
   ],
   "source": [
    "int('hello')  # what happens now?"
   ]
  },
  {
   "cell_type": "markdown",
   "metadata": {},
   "source": [
    "# Exercise: Calculator\n",
    "\n",
    "1. Ask the user to enter a number, and asisgn it to `x`.\n",
    "2. Ask the user to enter a second number, an assign it to `y`.\n",
    "3. Convert these values to integers (rather than strings).\n",
    "4. Assign the sum to `z`.\n",
    "5. Print the full addition expression.\n",
    "\n",
    "Example:\n",
    "\n",
    "    Enter first number: 10\n",
    "    Enter second number: 3\n",
    "    10 + 3 = 13"
   ]
  },
  {
   "cell_type": "code",
   "execution_count": 45,
   "metadata": {},
   "outputs": [
    {
     "name": "stdout",
     "output_type": "stream",
     "text": [
      "Enter first number: 10\n",
      "Enter second number: 2\n",
      "10 + 2 = 102\n"
     ]
    }
   ],
   "source": [
    "x = input('Enter first number: ')\n",
    "y = input('Enter second number: ')\n",
    "\n",
    "z = x + y\n",
    "\n",
    "print(f'{x} + {y} = {z}')"
   ]
  },
  {
   "cell_type": "code",
   "execution_count": 46,
   "metadata": {},
   "outputs": [
    {
     "name": "stdout",
     "output_type": "stream",
     "text": [
      "Enter first number: 10\n",
      "Enter second number: 2\n",
      "10 + 2 = 12\n"
     ]
    }
   ],
   "source": [
    "# a working solution -- get integers based on the strings\n",
    "\n",
    "x = input('Enter first number: ')\n",
    "y = input('Enter second number: ')\n",
    "\n",
    "z = int(x) + int(y)\n",
    "\n",
    "print(f'{x} + {y} = {z}')"
   ]
  },
  {
   "cell_type": "code",
   "execution_count": 47,
   "metadata": {},
   "outputs": [
    {
     "name": "stdout",
     "output_type": "stream",
     "text": [
      "Enter first number: 10\n",
      "Enter second number: 2\n",
      "10 + 2 = 12\n"
     ]
    }
   ],
   "source": [
    "# you could also say...\n",
    "\n",
    "# a working solution -- get integers based on the strings\n",
    "\n",
    "x = input('Enter first number: ')\n",
    "x = int(x)   # take the int version of x, and assign back to x\n",
    "\n",
    "y = input('Enter second number: ')\n",
    "y = int(y)   # take the int version of y, and assign back to y\n",
    "\n",
    "z = x + y\n",
    "\n",
    "print(f'{x} + {y} = {z}')"
   ]
  },
  {
   "cell_type": "code",
   "execution_count": 48,
   "metadata": {},
   "outputs": [
    {
     "name": "stdout",
     "output_type": "stream",
     "text": [
      "Enter first number: 10\n",
      "Enter second number: 3\n",
      "10 + 3 = 13\n"
     ]
    }
   ],
   "source": [
    "# you could also say...\n",
    "\n",
    "x = int(input('Enter first number: '))\n",
    "\n",
    "y = int(input('Enter second number: '))\n",
    "\n",
    "z = x + y\n",
    "\n",
    "print(f'{x} + {y} = {z}')"
   ]
  },
  {
   "cell_type": "markdown",
   "metadata": {},
   "source": [
    "# Comparisons\n",
    "\n",
    "We've seen that we can assign with `=`.  But what if I want to know if two values are equal to one another? They can be data or variables refering to data.\n",
    "\n",
    "For that, I can use `==`. This is VERY VERY DIFFERENT from `=`. \n",
    "\n",
    "To recap:\n",
    "\n",
    "- `=` assigns the value on the right to the variable on the left\n",
    "- `==` returns `True` or `False`, indicating whether the value on the left and the value on the right are equal."
   ]
  },
  {
   "cell_type": "code",
   "execution_count": 49,
   "metadata": {},
   "outputs": [
    {
     "data": {
      "text/plain": [
       "False"
      ]
     },
     "execution_count": 49,
     "metadata": {},
     "output_type": "execute_result"
    }
   ],
   "source": [
    "x = 5\n",
    "y = 6\n",
    "\n",
    "x == y   # are the values in x and y equal?"
   ]
  },
  {
   "cell_type": "code",
   "execution_count": 50,
   "metadata": {},
   "outputs": [
    {
     "data": {
      "text/plain": [
       "True"
      ]
     },
     "execution_count": 50,
     "metadata": {},
     "output_type": "execute_result"
    }
   ],
   "source": [
    "x == x   # is x equal to itself?"
   ]
  },
  {
   "cell_type": "code",
   "execution_count": 51,
   "metadata": {},
   "outputs": [
    {
     "data": {
      "text/plain": [
       "False"
      ]
     },
     "execution_count": 51,
     "metadata": {},
     "output_type": "execute_result"
    }
   ],
   "source": [
    "x = '10'  # string 10\n",
    "y = 10    # integer 10\n",
    "\n",
    "x == y"
   ]
  },
  {
   "cell_type": "code",
   "execution_count": 52,
   "metadata": {},
   "outputs": [
    {
     "data": {
      "text/plain": [
       "True"
      ]
     },
     "execution_count": 52,
     "metadata": {},
     "output_type": "execute_result"
    }
   ],
   "source": [
    "int(x) == y"
   ]
  },
  {
   "cell_type": "markdown",
   "metadata": {},
   "source": [
    "# Comparison operators\n",
    "\n",
    "We can use a bunch of different operators to compare values:\n",
    "\n",
    "- `==` -- are the two values equal?\n",
    "- `!=` -- opposite of `==`, are they unequal\n",
    "- `<` -- is the item on the left less than the one on the right?\n",
    "- `>` -- is the item on the left greater than the one on the right?\n",
    "- `<=` -- is the item on the left less than or equal to the one on the right?\n",
    "- `>=` -- is the item on the left greater than or equal to the one on the right?\n",
    "\n",
    "`==` and `!=` work on all values in Python, no exceptions.\n",
    "\n",
    "These operators all work on numbers, but they *also* work on strings, comparing them (more or less) alphabetically. So you can find out which word comes first in the dictionary by checking `<` and `>`.\n",
    "\n",
    "Not all types know how to handle `<` and `>`."
   ]
  },
  {
   "cell_type": "markdown",
   "metadata": {},
   "source": [
    "# Conditionals\n",
    "\n",
    "One of the most important things that a program does is make decisions. It'll usually make decisions based on values it got from the outside world (e.g., the network, the user, files on disk, etc.). How can it make decisions? In Python, we use `if`."
   ]
  },
  {
   "cell_type": "code",
   "execution_count": 56,
   "metadata": {},
   "outputs": [
    {
     "name": "stdout",
     "output_type": "stream",
     "text": [
      "Enter your name: a\n",
      "Hello, a.\n"
     ]
    }
   ],
   "source": [
    "name = input('Enter your name: ')\n",
    "\n",
    "if name == 'Reuven':\n",
    "    print('Hello, boss!')\n",
    "    print('It is so nice to see you again!')\n",
    "else:\n",
    "    print(f'Hello, {name}.')"
   ]
  },
  {
   "cell_type": "markdown",
   "metadata": {},
   "source": [
    "# Lots of Python idioms here!\n",
    "\n",
    "1. We get the user's input and assign it to `name`.\n",
    "2. We use `if` to determine whether the name is the same as `'Reuven'`.  (No difference in capitalization and/or spaces.)  `if` looks to its right, and checks for a `True` value.\n",
    "    - if there is a `True` value, then it executes the block of code under the `if`\n",
    "    - If there is a `False` value, then it executse the block kof code under the `else` (if there is one).\n",
    "3. How does Python know where our block begins and where it ends? Indentation! In Python, indentation is not a nice-to-have; it's mandatory, and enforced by the language.  Traditionally, we use four space characters for indentation. But most tools (e.g., Jupyter) will automatically indent after an end-of-line \":\" character.\n",
    "\n",
    "The end of the `if` line will be a `:` character.  That tells Python that starting on the next line, everything must be indented. So long as the code is indented, we're inside of the block, and it's executed if the `if` sees `True`."
   ]
  },
  {
   "cell_type": "code",
   "execution_count": 57,
   "metadata": {},
   "outputs": [
    {
     "data": {
      "text/plain": [
       "False"
      ]
     },
     "execution_count": 57,
     "metadata": {},
     "output_type": "execute_result"
    }
   ],
   "source": [
    "s1 = 'abcd'\n",
    "s2 = '     aBcB     '\n",
    "\n",
    "s1 == s2"
   ]
  },
  {
   "cell_type": "markdown",
   "metadata": {},
   "source": [
    "# Exercise: Employer\n",
    "\n",
    "1. Ask the user where they work.\n",
    "2. If they work where you do, then say that you're colleagues.\n",
    "3. If they don't work where you do, then dismiss them as inferior."
   ]
  },
  {
   "cell_type": "code",
   "execution_count": 59,
   "metadata": {},
   "outputs": [
    {
     "name": "stdout",
     "output_type": "stream",
     "text": [
      "Enter your company: Apple\n",
      "That is too bad for you.\n"
     ]
    }
   ],
   "source": [
    "company = input('Enter your company: ')\n",
    "\n",
    "if company == 'Oreilly':\n",
    "    print('I work with them, too!')\n",
    "else:\n",
    "    print('That is too bad for you.')"
   ]
  },
  {
   "cell_type": "markdown",
   "metadata": {},
   "source": [
    "# Next up:\n",
    "\n",
    "- `elif` and more complex conditions\n",
    "- `and` and `or` and `not` in our conditions\n",
    "- Then we'll start to talk about data structures in greater detail"
   ]
  },
  {
   "cell_type": "code",
   "execution_count": null,
   "metadata": {},
   "outputs": [],
   "source": [
    "# if we have more than two possibilities, then we can use \"elif\"\n",
    "\n",
    "# this checks for another possiblity\n",
    "# elif works just like \"if\", but only fires if the \"if\" was False\n",
    "# we can have as many \"elif\" clauses as we want\n",
    "# \"else\" fires if none of the others did\n",
    "\n",
    "# if/elif/else guarantees that ONE and EXACTLY ONE of these blocks will run\n",
    "\n",
    "name = input('Enter your name: ')\n",
    "\n",
    "if name == 'Reuven':\n",
    "    print('Hello, boss!')\n",
    "    print('It is so nice to see you again!')\n",
    "elif name == 'something else':\n",
    "    print('Is that really a name?')\n",
    "else:\n",
    "    print(f'Hello, {name}.')"
   ]
  },
  {
   "cell_type": "markdown",
   "metadata": {},
   "source": [
    "# What about `is`?\n",
    "\n",
    "There is a comparison operation in Python called `is` that you should basically never use unless you *really* know what you're doing. It doesn't compare values, but rather checks if two objects are exactly the same. \n",
    "\n",
    "Imagine two identical shirts in a store. They would be `==` to one another, but they would not be `is` to one another.\n",
    "\n",
    "Normally, there is no good reason to use `is`, and you certainly don't want to use it with strings."
   ]
  },
  {
   "cell_type": "code",
   "execution_count": 60,
   "metadata": {},
   "outputs": [],
   "source": [
    "# In Python we don't use CamelCase. Rather, we use snake_case.\n",
    "# - all lowercase letters\n",
    "# - _ between words\n",
    "\n"
   ]
  },
  {
   "cell_type": "markdown",
   "metadata": {},
   "source": [
    "# Exercise: Which word comes first?\n",
    "\n",
    "1. Ask the user to enter a first word.\n",
    "2. Ask the user to enter a second word.\n",
    "3. Using `if` and comparisons:\n",
    "    - Indicate if one of the words comes earlier in the dictionary\n",
    "    - Or indicate that they are the same word.\n",
    "    \n",
    "Note: We can assume that the user will only enter words with lowercase letters.    "
   ]
  },
  {
   "cell_type": "code",
   "execution_count": 63,
   "metadata": {},
   "outputs": [
    {
     "name": "stdout",
     "output_type": "stream",
     "text": [
      "Enter first word: giraffe\n",
      "Enter second word: giraffe\n",
      "giraffe and giraffe are equal\n"
     ]
    }
   ],
   "source": [
    "w1 = input('Enter first word: ')\n",
    "w2 = input('Enter second word: ')\n",
    "\n",
    "if w1 < w2:\n",
    "    print(f'{w1} comes before {w2}')\n",
    "elif w2 < w1:\n",
    "    print(f'{w2} comes before {w1}')\n",
    "else:\n",
    "    print(f'{w1} and {w2} are equal')"
   ]
  },
  {
   "cell_type": "markdown",
   "metadata": {},
   "source": [
    "# What if I want to combine conditions?\n",
    "\n",
    "If I want something to happen if two different things are `True`,  how can I do it?\n",
    "\n",
    "Python provides us with `and` and `or`, which we can use to combine other conditions:\n",
    "\n",
    "- If the conditions on both the left and right of `and` are both `True`, then the `and` will return `True`.\n",
    "- If one (or both) of the conditions on the left and right of `or` are `True`, then the `or` returns `True`."
   ]
  },
  {
   "cell_type": "code",
   "execution_count": 64,
   "metadata": {},
   "outputs": [
    {
     "data": {
      "text/plain": [
       "True"
      ]
     },
     "execution_count": 64,
     "metadata": {},
     "output_type": "execute_result"
    }
   ],
   "source": [
    "x = 10\n",
    "y = 20\n",
    "\n",
    "x == 10"
   ]
  },
  {
   "cell_type": "code",
   "execution_count": 65,
   "metadata": {},
   "outputs": [
    {
     "data": {
      "text/plain": [
       "True"
      ]
     },
     "execution_count": 65,
     "metadata": {},
     "output_type": "execute_result"
    }
   ],
   "source": [
    "y == 20"
   ]
  },
  {
   "cell_type": "code",
   "execution_count": 66,
   "metadata": {},
   "outputs": [
    {
     "data": {
      "text/plain": [
       "True"
      ]
     },
     "execution_count": 66,
     "metadata": {},
     "output_type": "execute_result"
    }
   ],
   "source": [
    "# combine them with and\n",
    "\n",
    "#  True   and     True ---> True\n",
    "x == 10   and     y == 20"
   ]
  },
  {
   "cell_type": "code",
   "execution_count": 67,
   "metadata": {},
   "outputs": [
    {
     "data": {
      "text/plain": [
       "False"
      ]
     },
     "execution_count": 67,
     "metadata": {},
     "output_type": "execute_result"
    }
   ],
   "source": [
    "#  False  and   True  --> False\n",
    "x == 5    and    y == 20"
   ]
  },
  {
   "cell_type": "code",
   "execution_count": null,
   "metadata": {},
   "outputs": [],
   "source": [
    "if x == 5 and y "
   ]
  }
 ],
 "metadata": {
  "kernelspec": {
   "display_name": "Python 3 (ipykernel)",
   "language": "python",
   "name": "python3"
  },
  "language_info": {
   "codemirror_mode": {
    "name": "ipython",
    "version": 3
   },
   "file_extension": ".py",
   "mimetype": "text/x-python",
   "name": "python",
   "nbconvert_exporter": "python",
   "pygments_lexer": "ipython3",
   "version": "3.11.3"
  }
 },
 "nbformat": 4,
 "nbformat_minor": 4
}
