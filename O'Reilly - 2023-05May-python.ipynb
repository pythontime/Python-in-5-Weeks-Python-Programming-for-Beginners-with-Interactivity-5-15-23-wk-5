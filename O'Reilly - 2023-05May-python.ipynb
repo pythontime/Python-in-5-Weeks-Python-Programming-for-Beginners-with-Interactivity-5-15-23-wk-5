{
 "cells": [
  {
   "cell_type": "markdown",
   "metadata": {},
   "source": [
    "# Agenda\n",
    "\n",
    "1. Fundamentals\n",
    "    - Data\n",
    "    - Assignment and variables\n",
    "    - Displaying things on the screen with `print`\n",
    "    - Getting input from the user with `input`\n",
    "    - Comparisons and conditionals (with `if` and `else`)\n",
    "    - Numbers (integers and floats)\n",
    "    - Strings\n",
    "2. Loops, lists, and tuples\n",
    "    - What is a loop? Why would I use it?\n",
    "        - `for` and `while`\n",
    "    - Lists \n",
    "    - Tuples\n",
    "3. Dictionaries and files\n",
    "    - Creating and using dicts\n",
    "    - Reading from and writing to text files\n",
    "4. Functions\n",
    "    - What are functions?\n",
    "    - How do we define functions?\n",
    "    - Passing arguments to functions\n",
    "5. Modules and packages\n",
    "    - What is a module?\n",
    "    - What are some modules that come with Python?\n",
    "    - What are some third-party modules that we can download and install?\n",
    "\n"
   ]
  },
  {
   "cell_type": "markdown",
   "metadata": {},
   "source": [
    "# Running Python code\n",
    "\n",
    "You have a few options for running Python code for this course.\n",
    "\n",
    "1. If you can pull it off (and not everyone can, because it's complicated), you can install Python and Jupyter on your computer.  (Search for my YouTube video on installing Jupyter, and that might well help.)\n",
    "\n",
    "2. Google Colab, which has a verion of Jupyter that you can use. Open a new notebook, and follow along and/or do the exercises in it.\n",
    "\n",
    "3. Python Anywhere \n",
    "\n",
    "4. Replit\n",
    "\n",
    "5. Install Python and an editor (PyCharm or VSCode) on your computer, to edit/run it.\n",
    "\n",
    "6. Anaconda -- easy installation of Python, an editor (Spyder), and Jupyter.\n",
    "\n",
    "At the end of the day, you'll need to write Python code and run it.\n",
    "\n"
   ]
  },
  {
   "cell_type": "markdown",
   "metadata": {},
   "source": [
    "# What is a programming language?\n",
    "\n",
    "At the end of the day, computers are all circuits. Those circuits can redirect electricity in different ways.\n",
    "\n",
    "You can design a computer that uses circuits to make decisions -- it gets some input electricity, and based on the various inputs, it then produces some output electricity.\n",
    "\n",
    "That got very difficult, very quickly. Every time you wanted to change the computer's functionality, you needed to rewire the computer!\n",
    "\n",
    "Computer scientists came up with the idea of a general-purpose computer that you could give instructions to... they called that \"programming\" with a \"language.\" Languages have been around since the 1950s. Some were very close to the hardware, and were called things like \"assembly language.\" \n",
    "\n",
    "But you also had some \"high-level languages,\" like Lisp and Fortran and PL/1, which allowed you to write in an English-like syntax, which was then converted into assembly language.\n",
    "\n",
    "Python has been around for about 30 years now. It's a very high level language:\n",
    "\n",
    "- You don't need to worry about the computer's memory\n",
    "- You don't need to worry about what kind of computer you're running on\n",
    "- It tries to be as close to human language as possible, so that we can do less work and the computer can do more work.\n",
    "\n",
    "I like to say that Python is perfect for a world in which computers are cheap, and people are expensive. Your time is worth a lot!\n",
    "\n"
   ]
  }
 ],
 "metadata": {
  "kernelspec": {
   "display_name": "Python 3 (ipykernel)",
   "language": "python",
   "name": "python3"
  },
  "language_info": {
   "codemirror_mode": {
    "name": "ipython",
    "version": 3
   },
   "file_extension": ".py",
   "mimetype": "text/x-python",
   "name": "python",
   "nbconvert_exporter": "python",
   "pygments_lexer": "ipython3",
   "version": "3.11.3"
  }
 },
 "nbformat": 4,
 "nbformat_minor": 4
}
