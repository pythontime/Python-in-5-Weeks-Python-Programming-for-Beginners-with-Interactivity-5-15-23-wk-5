{
 "cells": [
  {
   "cell_type": "markdown",
   "metadata": {},
   "source": [
    "# Agenda\n",
    "\n",
    "1. Fundamentals\n",
    "    - Data\n",
    "    - Assignment and variables\n",
    "    - Displaying things on the screen with `print`\n",
    "    - Getting input from the user with `input`\n",
    "    - Comparisons and conditionals (with `if` and `else`)\n",
    "    - Numbers (integers and floats)\n",
    "    - Strings\n",
    "2. Loops, lists, and tuples\n",
    "    - What is a loop? Why would I use it?\n",
    "        - `for` and `while`\n",
    "    - Lists \n",
    "    - Tuples\n",
    "3. Dictionaries and files\n",
    "    - Creating and using dicts\n",
    "    - Reading from and writing to text files\n",
    "4. Functions\n",
    "    - What are functions?\n",
    "    - How do we define functions?\n",
    "    - Passing arguments to functions\n",
    "5. Modules and packages\n",
    "    - What is a module?\n",
    "    - What are some modules that come with Python?\n",
    "    - What are some third-party modules that we can download and install?\n",
    "\n"
   ]
  },
  {
   "cell_type": "markdown",
   "metadata": {},
   "source": [
    "# Running Python code\n",
    "\n",
    "You have a few options for running Python code for this course.\n",
    "\n",
    "1. If you can pull it off (and not everyone can, because it's complicated), you can install Python and Jupyter on your computer. "
   ]
  }
 ],
 "metadata": {
  "kernelspec": {
   "display_name": "Python 3 (ipykernel)",
   "language": "python",
   "name": "python3"
  },
  "language_info": {
   "codemirror_mode": {
    "name": "ipython",
    "version": 3
   },
   "file_extension": ".py",
   "mimetype": "text/x-python",
   "name": "python",
   "nbconvert_exporter": "python",
   "pygments_lexer": "ipython3",
   "version": "3.11.3"
  }
 },
 "nbformat": 4,
 "nbformat_minor": 4
}
