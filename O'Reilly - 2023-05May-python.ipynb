{
 "cells": [
  {
   "cell_type": "markdown",
   "metadata": {},
   "source": [
    "# Agenda\n",
    "\n",
    "1. Fundamentals\n",
    "    - Data\n",
    "    - Assignment and variables\n",
    "    - Displaying things on the screen with `print`\n",
    "    - Getting input from the user with `input`\n",
    "    - Comparisons and conditionals (with `if` and `else`)\n",
    "    - Numbers (integers and floats)\n",
    "    - Strings\n",
    "2. Loops, lists, and tuples\n",
    "    - What is a loop? Why would I use it?\n",
    "        - `for` and `while`\n",
    "    - Lists \n",
    "    - T\n",
    "\n"
   ]
  },
  {
   "cell_type": "code",
   "execution_count": null,
   "metadata": {},
   "outputs": [],
   "source": []
  }
 ],
 "metadata": {
  "kernelspec": {
   "display_name": "Python 3 (ipykernel)",
   "language": "python",
   "name": "python3"
  },
  "language_info": {
   "codemirror_mode": {
    "name": "ipython",
    "version": 3
   },
   "file_extension": ".py",
   "mimetype": "text/x-python",
   "name": "python",
   "nbconvert_exporter": "python",
   "pygments_lexer": "ipython3",
   "version": "3.11.3"
  }
 },
 "nbformat": 4,
 "nbformat_minor": 4
}
