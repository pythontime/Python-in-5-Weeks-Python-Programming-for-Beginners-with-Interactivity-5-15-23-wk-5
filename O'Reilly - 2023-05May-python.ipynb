{
 "cells": [
  {
   "cell_type": "markdown",
   "metadata": {},
   "source": [
    "# Agenda\n",
    "\n",
    "1. Fundamentals\n",
    "    - Data\n",
    "    - Assignment and variables\n",
    "    - Displaying things on the screen with `print`\n",
    "    - Getting input from the user with `input`\n",
    "    - Comparisons and conditionals (with `if` and `else`)\n",
    "    - Numbers (integers and floats)\n",
    "    - Strings\n",
    "2. Loops, lists, and tuples\n",
    "    - What is a loop? Why would I use it?\n",
    "        - `for` and `while`\n",
    "    - Lists \n",
    "    - Tuples\n",
    "3. Dictionaries and files\n",
    "    - Creating and using dicts\n",
    "    - Reading from and writing to text files\n",
    "4. Functions\n",
    "    - What are functions?\n",
    "    - How do we define functions?\n",
    "    - Passing arguments to functions\n",
    "5. Modules and packages\n",
    "    - What is a module?\n",
    "    - What are some modules that come with Python?\n",
    "    - What are some third-party modules that we can download and install?\n",
    "\n"
   ]
  },
  {
   "cell_type": "markdown",
   "metadata": {},
   "source": [
    "# Running Python code\n",
    "\n",
    "You have a few options for running Python code for this course.\n",
    "\n",
    "1. If you can pull it off (and not everyone can, because it's complicated), you can install Python and Jupyter on your computer.  (Search for my YouTube video on installing Jupyter, and that might well help.)\n",
    "\n",
    "2. Google Colab, which has a verion of Jupyter that you can use. Open a new notebook, and follow along and/or do the exercises in it.\n",
    "\n",
    "3. Python Anywhere \n",
    "\n",
    "4. Replit\n",
    "\n",
    "5. Install Python and an editor (PyCharm or VSCode) on your computer, to edit/run it.\n",
    "\n",
    "6. Anaconda -- easy installation of Python, an editor (Spyder), and Jupyter.\n",
    "\n",
    "At the end of the day, you'll need to write Python code and run it.\n",
    "\n"
   ]
  },
  {
   "cell_type": "markdown",
   "metadata": {},
   "source": [
    "# What is a programming language?\n",
    "\n",
    "At the end of the day, computers are all circuits. Those circuits can redirect electricity in different ways.\n",
    "\n",
    "You can design a computer that uses circuits to make decisions -- it gets some input electricity, and based on the various inputs, it then produces some output electricity.\n",
    "\n",
    "That got very difficult, very quickly. Every time you wanted to change the computer's functionality, you needed to rewire the computer!\n",
    "\n",
    "Computer scientists came up with the idea of a general-purpose computer that you could give instructions to... they called that \"programming\" with a \"language.\" Languages have been around since the 1950s. Some were very close to the hardware, and were called things like \"assembly language.\" \n",
    "\n",
    "But you also had some \"high-level languages,\" like Lisp and Fortran and PL/1, which allowed you to write in an English-like syntax, which was then converted into assembly language.\n",
    "\n",
    "Python has been around for about 30 years now. It's a very high level language:\n",
    "\n",
    "- You don't need to worry about the computer's memory\n",
    "- You don't need to worry about what kind of computer you're running on\n",
    "- It tries to be as close to human language as possible, so that we can do less work and the computer can do more work.\n",
    "\n",
    "I like to say that Python is perfect for a world in which computers are cheap, and people are expensive. Your time is worth a lot!\n",
    "\n"
   ]
  },
  {
   "cell_type": "markdown",
   "metadata": {},
   "source": [
    "# Jupyter \n",
    "\n",
    "In order to run Python code, you need to:\n",
    "\n",
    "- Put it in a file (typically with a `.py` suffix\n",
    "- Tell Python to run it (and yes, you need the language around)\n",
    "\n",
    "This can be annoying, especially if you're experimenting. Jupyter is the latest REPL (read-eval-print loop) in the Python world:\n",
    "\n",
    "- It's Web-based (which makes it friendlier)\n",
    "- It can handle text (like I'm typing now) or code (as I'll show in a moment)\n",
    "- It stores its data regularly, and in a format that's pretty portable\n",
    "\n",
    "Jupyter is wildly popular in the world of data science."
   ]
  },
  {
   "cell_type": "code",
   "execution_count": 1,
   "metadata": {},
   "outputs": [
    {
     "name": "stdout",
     "output_type": "stream",
     "text": [
      "Hello!\n"
     ]
    }
   ],
   "source": [
    "print('Hello!')"
   ]
  },
  {
   "cell_type": "markdown",
   "metadata": {},
   "source": [
    "# Jupyter command tour (for those of you using it)\n",
    "\n",
    "Jupyter has two modes for when you type:'\n",
    "\n",
    "- Edit mode. You can enter edit mode by clicking inside of a cell or pressing ENTER. When you're in edit mode, anything you type is put inside of the cell.  You can tell you're in edit mode if the cell has a green border.\n",
    "- Command mode. You can command mode by clicking to the left of the cell or pressing ESC. When you're in command mode, anything you type is sent to Jupyter.  You can tell that you're in command mode, because the cell has a blue border.\n",
    "\n",
    "In edit mode, you can complete what you're typing and/or execute the cell's contents with shift+ENTER.\n",
    "\n",
    "In command mode, you have a bunch of commands:\n",
    "\n",
    "- `x` -- cuts the current cell\n",
    "- `c` -- copies the current cell\n",
    "- `v` -- pastes the current cell\n",
    "- `m` -- makes the cell use markdown, for typing text like this\n",
    "- `y` -- makes the cell a code cell, for typing Python\n",
    "- `h` -- gives help, if you don't know what the commands might be\n"
   ]
  },
  {
   "cell_type": "code",
   "execution_count": 2,
   "metadata": {},
   "outputs": [
    {
     "name": "stdout",
     "output_type": "stream",
     "text": [
      "Hello, out there!\n"
     ]
    }
   ],
   "source": [
    "# Python comments start with # and go to the end of the line\n",
    "# this allows us to document our programs\n",
    "# Python ignores comments completely\n",
    "\n",
    "# In this cell, I have Python code, and I'm invoking the \"print\" function,\n",
    "# which displays something on the screen. Here, I'm displaying text which is\n",
    "# in single quotes.  When I run this cell with shift+ENTER, that text\n",
    "# will be displayed on the screen.\n",
    "\n",
    "print('Hello, out there!')   # I can even have a comment here!"
   ]
  },
  {
   "cell_type": "markdown",
   "metadata": {},
   "source": [
    "# Basic values\n",
    "\n",
    "In the computer, there are only 0s and 1s. But in our Python programs, we divide our program into \"code\" (which runs) and \"data\" (which has values). That data is further divided into types of data.\n",
    "\n",
    "This allows us to think about things more clearly. It also allows the computer to provide functionality without breaking too much.\n",
    "\n",
    "For example: If I want to add together two numbers, that's different from adding together two words.  So we need to have different data types to represent numbers and words."
   ]
  },
  {
   "cell_type": "code",
   "execution_count": 4,
   "metadata": {},
   "outputs": [
    {
     "name": "stdout",
     "output_type": "stream",
     "text": [
      "15\n"
     ]
    }
   ],
   "source": [
    "# print is a function\n",
    "# functions are verbs -- they execute functionality\n",
    "# before print can run, we need to get a value from what's in the ()\n",
    "# 10+5 runs, gives us a value of 15, and then print sees print(15|)\n",
    "\n",
    "print(10 + 5)     # I'm going to add 10+5, and whatever the value is, will be printed"
   ]
  },
  {
   "cell_type": "code",
   "execution_count": 5,
   "metadata": {},
   "outputs": [
    {
     "name": "stdout",
     "output_type": "stream",
     "text": [
      "7\n"
     ]
    }
   ],
   "source": [
    "print(2+5)"
   ]
  },
  {
   "cell_type": "code",
   "execution_count": 7,
   "metadata": {},
   "outputs": [
    {
     "name": "stdout",
     "output_type": "stream",
     "text": [
      "20\n"
     ]
    }
   ],
   "source": [
    "print(2*10)    # * is multiplication in Python"
   ]
  },
  {
   "cell_type": "code",
   "execution_count": 8,
   "metadata": {},
   "outputs": [
    {
     "name": "stdout",
     "output_type": "stream",
     "text": [
      "14\n"
     ]
    }
   ],
   "source": [
    "print(2+3*4)   # just like you learned in school, * comes before +"
   ]
  },
  {
   "cell_type": "code",
   "execution_count": 9,
   "metadata": {},
   "outputs": [
    {
     "data": {
      "text/plain": [
       "14"
      ]
     },
     "execution_count": 9,
     "metadata": {},
     "output_type": "execute_result"
    }
   ],
   "source": [
    "# it so happens in that in Jupyter and ONLY IN JUPYTER, you don't need\n",
    "# to use \"print\" to display a value. You can just give any Python \"expression\"\n",
    "# and Jupyter will display it\n",
    "\n",
    "2+3*4  "
   ]
  },
  {
   "cell_type": "code",
   "execution_count": 11,
   "metadata": {},
   "outputs": [
    {
     "data": {
      "text/plain": [
       "'hellogoodbye'"
      ]
     },
     "execution_count": 11,
     "metadata": {},
     "output_type": "execute_result"
    }
   ],
   "source": [
    "# can I do this with text? Let's try!\n",
    "\n",
    "# text in programming languages is normally called \"strings\"\n",
    "# here, we'll adding together two strings\n",
    "# the result that we get back is a new string, with the contents of the old one\n",
    "\n",
    "'hello' + 'goodbye'"
   ]
  },
  {
   "cell_type": "code",
   "execution_count": 12,
   "metadata": {},
   "outputs": [
    {
     "ename": "TypeError",
     "evalue": "unsupported operand type(s) for +: 'int' and 'str'",
     "output_type": "error",
     "traceback": [
      "\u001b[0;31m---------------------------------------------------------------------------\u001b[0m",
      "\u001b[0;31mTypeError\u001b[0m                                 Traceback (most recent call last)",
      "Cell \u001b[0;32mIn [12], line 3\u001b[0m\n\u001b[1;32m      1\u001b[0m \u001b[38;5;66;03m# what if we do this...\u001b[39;00m\n\u001b[0;32m----> 3\u001b[0m \u001b[38;5;241;43m10\u001b[39;49m\u001b[43m \u001b[49m\u001b[38;5;241;43m+\u001b[39;49m\u001b[43m \u001b[49m\u001b[38;5;124;43m'\u001b[39;49m\u001b[38;5;124;43m20\u001b[39;49m\u001b[38;5;124;43m'\u001b[39;49m    \u001b[38;5;66;03m# integer 10 + string 20\u001b[39;00m\n",
      "\u001b[0;31mTypeError\u001b[0m: unsupported operand type(s) for +: 'int' and 'str'"
     ]
    }
   ],
   "source": [
    "# what if we do this...\n",
    "\n",
    "10 + '20'    # integer 10 + string 20"
   ]
  },
  {
   "cell_type": "code",
   "execution_count": 13,
   "metadata": {},
   "outputs": [
    {
     "data": {
      "text/plain": [
       "'1020'"
      ]
     },
     "execution_count": 13,
     "metadata": {},
     "output_type": "execute_result"
    }
   ],
   "source": [
    "# what if I add together two numbers, but as strings?\n",
    "\n",
    "'10' + '20'    # Python sees these as two strings..."
   ]
  },
  {
   "cell_type": "markdown",
   "metadata": {},
   "source": [
    "# Keeping track of data types\n",
    "\n",
    "This is a crucial skill to develop! You need to know what type of data you're dealing with, not just its value. The type determines how it interacts with other data types (and with your functions), and also what functionality is even available.\n",
    "\n",
    "There are things we can do with text strings that we cannot do with numbers, and vice versa.\n",
    "\n",
    "We can always ask any Python data -- what are you? -- with the `type` function."
   ]
  },
  {
   "cell_type": "code",
   "execution_count": 14,
   "metadata": {},
   "outputs": [
    {
     "data": {
      "text/plain": [
       "int"
      ]
     },
     "execution_count": 14,
     "metadata": {},
     "output_type": "execute_result"
    }
   ],
   "source": [
    "type(5)   # what kind of data do I have here?"
   ]
  },
  {
   "cell_type": "code",
   "execution_count": 15,
   "metadata": {},
   "outputs": [
    {
     "data": {
      "text/plain": [
       "str"
      ]
     },
     "execution_count": 15,
     "metadata": {},
     "output_type": "execute_result"
    }
   ],
   "source": [
    "type('5')  # what kind of data do I have here?"
   ]
  },
  {
   "cell_type": "code",
   "execution_count": 17,
   "metadata": {},
   "outputs": [
    {
     "data": {
      "text/plain": [
       "100"
      ]
     },
     "execution_count": 17,
     "metadata": {},
     "output_type": "execute_result"
    }
   ],
   "source": [
    "20*5"
   ]
  },
  {
   "cell_type": "markdown",
   "metadata": {},
   "source": [
    "It gets kind of boring to work with values in this way. I'd like to assign a value to a variable, and then refer to it via the variable.\n",
    "\n",
    "We can assign to a variable with `=`.\n",
    "\n",
    "NOTE: The `=` operator in Python is **NOT** the same as you had in math class growing up. That `=` asks a question, are the things on both sides the same? In Python, `=` is not asking a question. Rather, it's saying that the value on the right side should be assigned to the name on the left side."
   ]
  },
  {
   "cell_type": "code",
   "execution_count": 21,
   "metadata": {},
   "outputs": [],
   "source": [
    "x = 10   # I'm assigning the integer value 10 to the variable x\n",
    "y = 20   # I'm assigning the integer value 20 to the variable y\n",
    "\n",
    "# once I've done that, I can refer to 10 and 20, or I can refer to x and y\n",
    "# Python will ask the variable for its value, and use it wherever we ask."
   ]
  },
  {
   "cell_type": "code",
   "execution_count": 20,
   "metadata": {},
   "outputs": [
    {
     "data": {
      "text/plain": [
       "30"
      ]
     },
     "execution_count": 20,
     "metadata": {},
     "output_type": "execute_result"
    }
   ],
   "source": [
    "x + y   "
   ]
  },
  {
   "cell_type": "markdown",
   "metadata": {},
   "source": [
    "# Naming variables\n",
    "\n",
    "Variables in Python can have any number of characters:\n",
    "\n",
    "- Letters \n",
    "- Digits (except for the first character in the variable name)\n",
    "- `_` (underscore)\n",
    "\n",
    "Note that uppercase and lowercase letters are different. And we normally only use lowercase letters in Python variable names.\n",
    "\n",
    "The first time that you assign to a variable, it is created. Subsequent times then overwrite the existing value, but keep the same variable."
   ]
  },
  {
   "cell_type": "code",
   "execution_count": 22,
   "metadata": {},
   "outputs": [
    {
     "data": {
      "text/plain": [
       "25"
      ]
     },
     "execution_count": 22,
     "metadata": {},
     "output_type": "execute_result"
    }
   ],
   "source": [
    "x = 5\n",
    "\n",
    "x + y"
   ]
  },
  {
   "cell_type": "markdown",
   "metadata": {},
   "source": [
    "# Python is a dynamic language!\n",
    "\n",
    "In many programming languages, you need to specify what type of value will be assigned to a variable when you create the variable. That allows the language to check that you're assigning a valid value to that variable.\n",
    "\n",
    "This doesn't exist in Python. Any value can be assigned to any variable. That makes this a *dynamic* language.\n",
    "\n",
    "There are some static-typing extensions to Python that you can use. But the core language itself remains dynamic. Any value can be assigned to any variable at any time, including halfway through the program."
   ]
  },
  {
   "cell_type": "code",
   "execution_count": 23,
   "metadata": {},
   "outputs": [],
   "source": [
    "# Variable examples\n",
    "\n",
    "y = 'hello'    # just lowercase letter\n",
    "    \n",
    "first_name = 'Reuven'    # lowercase + _ between words\n",
    "\n",
    "test_score_3 = 97        # lowercase + _ + digits\n",
    "\n",
    "_this_is_kind_of_private = 'shhh'  # leading underscore means \"don't touch this\""
   ]
  },
  {
   "cell_type": "code",
   "execution_count": null,
   "metadata": {},
   "outputs": [],
   "source": []
  },
  {
   "cell_type": "markdown",
   "metadata": {},
   "source": [
    "# Exercise: Simple calculator\n",
    "\n",
    "1. Assign two numbers to `x` and `y`. \n",
    "2. Add those numbers together, and assign to `z`.\n",
    "3. Print the value of `z`."
   ]
  },
  {
   "cell_type": "code",
   "execution_count": null,
   "metadata": {},
   "outputs": [],
   "source": [
    "x = 23       # I'm assigning the integer 23 to x\n",
    "y = 67       # I'm assigning the integer 67 to y\n",
    "\n",
    "# when you assign, the right side is evaluated before the left side\n",
    "\n",
    "z = x + y    # assign the integer "
   ]
  }
 ],
 "metadata": {
  "kernelspec": {
   "display_name": "Python 3 (ipykernel)",
   "language": "python",
   "name": "python3"
  },
  "language_info": {
   "codemirror_mode": {
    "name": "ipython",
    "version": 3
   },
   "file_extension": ".py",
   "mimetype": "text/x-python",
   "name": "python",
   "nbconvert_exporter": "python",
   "pygments_lexer": "ipython3",
   "version": "3.11.3"
  }
 },
 "nbformat": 4,
 "nbformat_minor": 4
}
