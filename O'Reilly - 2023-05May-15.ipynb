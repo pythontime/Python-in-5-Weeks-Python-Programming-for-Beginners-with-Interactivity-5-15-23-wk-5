{
 "cells": [
  {
   "cell_type": "markdown",
   "id": "2f5d38fa",
   "metadata": {},
   "source": [
    "# Week 3: Agenda\n",
    "\n",
    "1. Q&A\n",
    "2. Tuples and unpacking\n",
    "3. Dictionaries\n",
    "    - What are they?\n",
    "    - Creating dictionaries\n",
    "    - Retrieving from them\n",
    "    - Different ways to use them in our programs\n",
    "4. Files\n",
    "    - Reading from files (plain-text files)\n",
    "    - Looping over file objects to read them\n",
    "    - Writing to files"
   ]
  },
  {
   "cell_type": "markdown",
   "id": "57d8ac35",
   "metadata": {},
   "source": [
    "# Tuples and unpacking\n",
    "\n",
    "Last time, we talked about lists:\n",
    "\n",
    "- Strings are sequences of characters. They are immutable. (We cannot change a string.)\n",
    "- Lists are sequences of *anything*. They are mutable. (We *can* change a list.)\n",
    "\n",
    "Tuples are a mix of these two ideas:\n",
    "\n",
    "- A tuple is a sequence of *anything*\n",
    "- But it is also immutable.\n",
    "\n",
    "Many people like to think of tuples are immutable lists (or as I've sometimes heard, \"locked lists.\") This is *not* the way that the Python core developers want you to think about them! Rather, they want you think of lists as sequences of the same type, whereas tuples are sequences of different types.\n",
    "\n",
    "If you have a bunch of integers, then a list is appropriate. If you have one integer, one string, and one list, then a tuple is more appropriate. (At least, officially.)\n",
    "\n",
    "Where do we use tuples?  Many people use them instead of structs or records, data structures from other programming languages. Here are some more concrete examples:\n",
    "\n",
    "- A record in a database can be thought of as a tuple, and when we read a database record into Python, it's useful to have it in a tuple\n",
    "- When I call a function in Python, the arguments as passed as a tuple\n",
    "- If I have information about a person -- first name, last name, birthdate, and shoe size -- then I'll want to use a tuple, because we have different types.\n",
    "\n",
    "Many beginners (and not-so-beginners) in Python wonder why we need tuples at all. That's not a bad question! They're immutable, so they're more efficient than lists. But you can get away without using tuples for a while."
   ]
  },
  {
   "cell_type": "code",
   "execution_count": 3,
   "id": "d86feb31",
   "metadata": {},
   "outputs": [
    {
     "data": {
      "text/plain": [
       "tuple"
      ]
     },
     "execution_count": 3,
     "metadata": {},
     "output_type": "execute_result"
    }
   ],
   "source": [
    "# create a tuple\n",
    "\n",
    "t = (100, 200, 300, 400, 500)    # round parentheses and , between the elements\n",
    "type(t)"
   ]
  },
  {
   "cell_type": "code",
   "execution_count": 4,
   "id": "000e20dd",
   "metadata": {},
   "outputs": [
    {
     "data": {
      "text/plain": [
       "100"
      ]
     },
     "execution_count": 4,
     "metadata": {},
     "output_type": "execute_result"
    }
   ],
   "source": [
    "t[0]   # retrieve one item"
   ]
  },
  {
   "cell_type": "code",
   "execution_count": 5,
   "id": "5bc650be",
   "metadata": {},
   "outputs": [
    {
     "data": {
      "text/plain": [
       "200"
      ]
     },
     "execution_count": 5,
     "metadata": {},
     "output_type": "execute_result"
    }
   ],
   "source": [
    "t[1]"
   ]
  },
  {
   "cell_type": "code",
   "execution_count": 6,
   "id": "97316488",
   "metadata": {},
   "outputs": [
    {
     "data": {
      "text/plain": [
       "500"
      ]
     },
     "execution_count": 6,
     "metadata": {},
     "output_type": "execute_result"
    }
   ],
   "source": [
    "t[-1]  # get the final item"
   ]
  },
  {
   "cell_type": "code",
   "execution_count": 7,
   "id": "5a4334f8",
   "metadata": {},
   "outputs": [
    {
     "data": {
      "text/plain": [
       "5"
      ]
     },
     "execution_count": 7,
     "metadata": {},
     "output_type": "execute_result"
    }
   ],
   "source": [
    "len(t)  # how many items?"
   ]
  },
  {
   "cell_type": "code",
   "execution_count": 9,
   "id": "25470c12",
   "metadata": {},
   "outputs": [
    {
     "data": {
      "text/plain": [
       "(300, 400, 500)"
      ]
     },
     "execution_count": 9,
     "metadata": {},
     "output_type": "execute_result"
    }
   ],
   "source": [
    "t[2:5]    #get a slice"
   ]
  },
  {
   "cell_type": "code",
   "execution_count": 10,
   "id": "586201be",
   "metadata": {},
   "outputs": [
    {
     "name": "stdout",
     "output_type": "stream",
     "text": [
      "100\n",
      "200\n",
      "300\n",
      "400\n",
      "500\n"
     ]
    }
   ],
   "source": [
    "for one_item in t:\n",
    "    print(one_item)"
   ]
  },
  {
   "cell_type": "code",
   "execution_count": 11,
   "id": "3f906650",
   "metadata": {},
   "outputs": [
    {
     "ename": "TypeError",
     "evalue": "'tuple' object does not support item assignment",
     "output_type": "error",
     "traceback": [
      "\u001b[0;31m---------------------------------------------------------------------------\u001b[0m",
      "\u001b[0;31mTypeError\u001b[0m                                 Traceback (most recent call last)",
      "Cell \u001b[0;32mIn [11], line 3\u001b[0m\n\u001b[1;32m      1\u001b[0m \u001b[38;5;66;03m# but of course, they're immutable!\u001b[39;00m\n\u001b[0;32m----> 3\u001b[0m \u001b[43mt\u001b[49m\u001b[43m[\u001b[49m\u001b[38;5;241;43m0\u001b[39;49m\u001b[43m]\u001b[49m \u001b[38;5;241m=\u001b[39m \u001b[38;5;124m'\u001b[39m\u001b[38;5;124m!\u001b[39m\u001b[38;5;124m'\u001b[39m\n",
      "\u001b[0;31mTypeError\u001b[0m: 'tuple' object does not support item assignment"
     ]
    }
   ],
   "source": [
    "# but of course, they're immutable!\n",
    "\n",
    "t[0] = '!'"
   ]
  },
  {
   "cell_type": "code",
   "execution_count": null,
   "id": "1c7ea5d3",
   "metadata": {},
   "outputs": [],
   "source": [
    "# one aspect of tuples that's really useful!\n",
    "# tuple unpacking\n",
    "\n",
    "mylist = [10, 20, 30]\n",
    "\n",
    "x = mylist    # wha"
   ]
  }
 ],
 "metadata": {
  "kernelspec": {
   "display_name": "Python 3 (ipykernel)",
   "language": "python",
   "name": "python3"
  },
  "language_info": {
   "codemirror_mode": {
    "name": "ipython",
    "version": 3
   },
   "file_extension": ".py",
   "mimetype": "text/x-python",
   "name": "python",
   "nbconvert_exporter": "python",
   "pygments_lexer": "ipython3",
   "version": "3.11.3"
  }
 },
 "nbformat": 4,
 "nbformat_minor": 5
}
