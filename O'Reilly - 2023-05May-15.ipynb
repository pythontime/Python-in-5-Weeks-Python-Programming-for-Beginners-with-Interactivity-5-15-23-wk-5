{
 "cells": [
  {
   "cell_type": "markdown",
   "id": "2f5d38fa",
   "metadata": {},
   "source": [
    "# Week 3: Agenda\n",
    "\n",
    "1. Q&A\n",
    "2. Tuples and unpacking\n",
    "3. Dictionaries\n",
    "    - What are they?\n",
    "    - Creating dictionaries\n",
    "    - Retrieving from them\n",
    "    - Different ways to use them in our programs\n",
    "4. Files\n",
    "    - Reading from files (plain-text files)\n",
    "    - Looping over file objects to read them\n",
    "    - Writing to files"
   ]
  },
  {
   "cell_type": "code",
   "execution_count": 2,
   "id": "7ec1f8cf",
   "metadata": {
    "scrolled": true
   },
   "outputs": [
    {
     "data": {
      "application/javascript": [
       "IPython.notebook.set_autosave_interval(30000)"
      ]
     },
     "metadata": {},
     "output_type": "display_data"
    },
    {
     "name": "stdout",
     "output_type": "stream",
     "text": [
      "Autosaving every 30 seconds\n"
     ]
    }
   ],
   "source": [
    "%autosave 30"
   ]
  },
  {
   "cell_type": "markdown",
   "id": "56820b12",
   "metadata": {},
   "source": [
    "# Tuples and unpacking\n",
    "\n",
    "Last time, we talked about lists:\n",
    "\n",
    "- Strings are sequences of characters. They are immutable. (We cannot change a string.)\n",
    "- Lists are sequences of *anything*. They are mutable. (We *can* change a list.)\n",
    "\n",
    "Tuples are a mix of these two ideas:\n",
    "\n",
    "- A tuple is a sequence of *anything*\n",
    "- But it is also immutable.\n",
    "\n",
    "Many people like to think of tuples are immutable lists (or as I've sometimes heard, \"locked lists.\") This is *not* the way that the Python core developers want you to think about them! Rather, they want you think of lists as sequences of the same type, whereas tuples are sequences of different types.\n",
    "\n",
    "If you have a bunch of integers, then a list is appropriate. If you have one integer, one string, and one list, then a tuple is more appropriate. (At least, officially.)\n",
    "\n",
    "Where do we use tuples?  Many people use them instead of structs or records, data structures from other programming languages. Here are some more concrete examples:\n",
    "\n",
    "- A record in a database can be thought of as a tuple, and when we read a database record into Python, it's useful to have it in a tuple\n",
    "- When I call a function in Python, the arguments as passed as a tuple\n",
    "- If I have information about a person -- first name, last name, birthdate, and shoe size -- then I'll want to use a tuple, because we have different types.\n",
    "\n",
    "Many beginners (and not-so-beginners) in Python wonder why we need tuples at all. That's not a bad question! They're immutable, so they're more efficient than lists. But you can get away without using tuples for a while."
   ]
  },
  {
   "cell_type": "code",
   "execution_count": 3,
   "id": "dc398c03",
   "metadata": {},
   "outputs": [
    {
     "data": {
      "text/plain": [
       "tuple"
      ]
     },
     "execution_count": 3,
     "metadata": {},
     "output_type": "execute_result"
    }
   ],
   "source": [
    "# create a tuple\n",
    "\n",
    "t = (100, 200, 300, 400, 500)    # round parentheses and , between the elements\n",
    "type(t)"
   ]
  },
  {
   "cell_type": "code",
   "execution_count": 4,
   "id": "2f14d627",
   "metadata": {},
   "outputs": [
    {
     "data": {
      "text/plain": [
       "100"
      ]
     },
     "execution_count": 4,
     "metadata": {},
     "output_type": "execute_result"
    }
   ],
   "source": [
    "t[0]   # retrieve one item"
   ]
  },
  {
   "cell_type": "code",
   "execution_count": 5,
   "id": "904a9800",
   "metadata": {},
   "outputs": [
    {
     "data": {
      "text/plain": [
       "200"
      ]
     },
     "execution_count": 5,
     "metadata": {},
     "output_type": "execute_result"
    }
   ],
   "source": [
    "t[1]"
   ]
  },
  {
   "cell_type": "code",
   "execution_count": 6,
   "id": "6db575f7",
   "metadata": {},
   "outputs": [
    {
     "data": {
      "text/plain": [
       "500"
      ]
     },
     "execution_count": 6,
     "metadata": {},
     "output_type": "execute_result"
    }
   ],
   "source": [
    "t[-1]  # get the final item"
   ]
  },
  {
   "cell_type": "code",
   "execution_count": 7,
   "id": "0da53117",
   "metadata": {},
   "outputs": [
    {
     "data": {
      "text/plain": [
       "5"
      ]
     },
     "execution_count": 7,
     "metadata": {},
     "output_type": "execute_result"
    }
   ],
   "source": [
    "len(t)  # how many items?"
   ]
  },
  {
   "cell_type": "code",
   "execution_count": 9,
   "id": "d2c805bc",
   "metadata": {},
   "outputs": [
    {
     "data": {
      "text/plain": [
       "(300, 400, 500)"
      ]
     },
     "execution_count": 9,
     "metadata": {},
     "output_type": "execute_result"
    }
   ],
   "source": [
    "t[2:5]    #get a slice"
   ]
  },
  {
   "cell_type": "code",
   "execution_count": 10,
   "id": "66e54e71",
   "metadata": {},
   "outputs": [
    {
     "name": "stdout",
     "output_type": "stream",
     "text": [
      "100\n",
      "200\n",
      "300\n",
      "400\n",
      "500\n"
     ]
    }
   ],
   "source": [
    "for one_item in t:\n",
    "    print(one_item)"
   ]
  },
  {
   "cell_type": "code",
   "execution_count": 11,
   "id": "e21ca39e",
   "metadata": {
    "scrolled": true
   },
   "outputs": [
    {
     "ename": "TypeError",
     "evalue": "'tuple' object does not support item assignment",
     "output_type": "error",
     "traceback": [
      "\u001b[0;31m---------------------------------------------------------------------------\u001b[0m",
      "\u001b[0;31mTypeError\u001b[0m                                 Traceback (most recent call last)",
      "Cell \u001b[0;32mIn [11], line 3\u001b[0m\n\u001b[1;32m      1\u001b[0m \u001b[38;5;66;03m# but of course, they're immutable!\u001b[39;00m\n\u001b[0;32m----> 3\u001b[0m \u001b[43mt\u001b[49m\u001b[43m[\u001b[49m\u001b[38;5;241;43m0\u001b[39;49m\u001b[43m]\u001b[49m \u001b[38;5;241m=\u001b[39m \u001b[38;5;124m'\u001b[39m\u001b[38;5;124m!\u001b[39m\u001b[38;5;124m'\u001b[39m\n",
      "\u001b[0;31mTypeError\u001b[0m: 'tuple' object does not support item assignment"
     ]
    }
   ],
   "source": [
    "# but of course, they're immutable!\n",
    "\n",
    "t[0] = '!'"
   ]
  },
  {
   "cell_type": "code",
   "execution_count": 12,
   "id": "ee721a40",
   "metadata": {
    "scrolled": true
   },
   "outputs": [
    {
     "data": {
      "text/plain": [
       "3"
      ]
     },
     "execution_count": 12,
     "metadata": {},
     "output_type": "execute_result"
    }
   ],
   "source": [
    "t = (100, 'abcd', [102, 103, 104])\n",
    "len(t)"
   ]
  },
  {
   "cell_type": "code",
   "execution_count": 13,
   "id": "26c1eb49",
   "metadata": {},
   "outputs": [
    {
     "data": {
      "text/plain": [
       "(100, 'abcd', [102, 103, 104])"
      ]
     },
     "execution_count": 13,
     "metadata": {},
     "output_type": "execute_result"
    }
   ],
   "source": [
    "# we don't even need the parentheses!\n",
    "# The commas are enough to make it a tuple\n",
    "\n",
    "t = 100, 'abcd', [102, 103, 104]\n",
    "t"
   ]
  },
  {
   "cell_type": "code",
   "execution_count": 14,
   "id": "7099aebb",
   "metadata": {},
   "outputs": [
    {
     "data": {
      "text/plain": [
       "(100, 'abcd', [102, 103, 104, 105])"
      ]
     },
     "execution_count": 14,
     "metadata": {},
     "output_type": "execute_result"
    }
   ],
   "source": [
    "# can I change a list in a tuple? YES, absolutely!\n",
    "\n",
    "t[-1].append(105)\n",
    "t"
   ]
  },
  {
   "cell_type": "code",
   "execution_count": 16,
   "id": "748ed53e",
   "metadata": {},
   "outputs": [],
   "source": [
    "# one aspect of tuples that's really useful!\n",
    "# tuple unpacking\n",
    "\n",
    "mylist = [10, 20, 30]\n",
    "\n",
    "x = mylist    # what will the value of x be?"
   ]
  },
  {
   "cell_type": "code",
   "execution_count": 17,
   "id": "8c10971f",
   "metadata": {},
   "outputs": [
    {
     "data": {
      "text/plain": [
       "[10, 20, 30]"
      ]
     },
     "execution_count": 17,
     "metadata": {},
     "output_type": "execute_result"
    }
   ],
   "source": [
    "x"
   ]
  },
  {
   "cell_type": "code",
   "execution_count": 18,
   "id": "847a292a",
   "metadata": {},
   "outputs": [],
   "source": [
    "# but what if I do this:\n",
    "\n",
    "x,y,z = mylist    # three variables in a tuple (no parentheses), and an object with three elements"
   ]
  },
  {
   "cell_type": "code",
   "execution_count": 19,
   "id": "c1f96611",
   "metadata": {},
   "outputs": [
    {
     "data": {
      "text/plain": [
       "10"
      ]
     },
     "execution_count": 19,
     "metadata": {},
     "output_type": "execute_result"
    }
   ],
   "source": [
    "x"
   ]
  },
  {
   "cell_type": "code",
   "execution_count": 20,
   "id": "42092fae",
   "metadata": {},
   "outputs": [
    {
     "data": {
      "text/plain": [
       "20"
      ]
     },
     "execution_count": 20,
     "metadata": {},
     "output_type": "execute_result"
    }
   ],
   "source": [
    "y"
   ]
  },
  {
   "cell_type": "code",
   "execution_count": 21,
   "id": "b692d8d4",
   "metadata": {},
   "outputs": [
    {
     "data": {
      "text/plain": [
       "30"
      ]
     },
     "execution_count": 21,
     "metadata": {},
     "output_type": "execute_result"
    }
   ],
   "source": [
    "z"
   ]
  },
  {
   "cell_type": "markdown",
   "id": "669765fe",
   "metadata": {},
   "source": [
    "\"Unpacking\" is when the object on the right has a certain number of values, and we put variables on the left to capture those values.\n",
    "\n",
    "If the object on the right is iterable, and if I have the same number of variables on the left, then I'm totally fine, and each variable will get one element of the iterable.\n",
    "\n",
    "What if the numbers don't match? We get an error."
   ]
  },
  {
   "cell_type": "code",
   "execution_count": 22,
   "id": "63f2e2d3",
   "metadata": {},
   "outputs": [
    {
     "ename": "ValueError",
     "evalue": "too many values to unpack (expected 2)",
     "output_type": "error",
     "traceback": [
      "\u001b[0;31m---------------------------------------------------------------------------\u001b[0m",
      "\u001b[0;31mValueError\u001b[0m                                Traceback (most recent call last)",
      "Cell \u001b[0;32mIn [22], line 1\u001b[0m\n\u001b[0;32m----> 1\u001b[0m x,y \u001b[38;5;241m=\u001b[39m mylist\n",
      "\u001b[0;31mValueError\u001b[0m: too many values to unpack (expected 2)"
     ]
    }
   ],
   "source": [
    "x,y = mylist"
   ]
  },
  {
   "cell_type": "code",
   "execution_count": 23,
   "id": "50cd9bc4",
   "metadata": {},
   "outputs": [
    {
     "ename": "ValueError",
     "evalue": "not enough values to unpack (expected 4, got 3)",
     "output_type": "error",
     "traceback": [
      "\u001b[0;31m---------------------------------------------------------------------------\u001b[0m",
      "\u001b[0;31mValueError\u001b[0m                                Traceback (most recent call last)",
      "Cell \u001b[0;32mIn [23], line 1\u001b[0m\n\u001b[0;32m----> 1\u001b[0m w,x,y,z \u001b[38;5;241m=\u001b[39m mylist\n",
      "\u001b[0;31mValueError\u001b[0m: not enough values to unpack (expected 4, got 3)"
     ]
    }
   ],
   "source": [
    "w,x,y,z = mylist"
   ]
  },
  {
   "cell_type": "code",
   "execution_count": 25,
   "id": "cf56ba68",
   "metadata": {},
   "outputs": [
    {
     "name": "stdout",
     "output_type": "stream",
     "text": [
      "(0, 'a')\n",
      "(1, 'b')\n",
      "(2, 'c')\n",
      "(3, 'd')\n"
     ]
    }
   ],
   "source": [
    "# an example of unpacking\n",
    "\n",
    "# how can I get the indexes along with elements of a string/list/tuple? I can use \"enumerate\"\n",
    "\n",
    "# \n",
    "\n",
    "for one_item in enumerate('abcd'):\n",
    "    print(one_item)"
   ]
  },
  {
   "cell_type": "code",
   "execution_count": 26,
   "id": "9adfd854",
   "metadata": {},
   "outputs": [
    {
     "name": "stdout",
     "output_type": "stream",
     "text": [
      "0: a\n",
      "1: b\n",
      "2: c\n",
      "3: d\n"
     ]
    }
   ],
   "source": [
    "# know that enumerate('abcd') returns a 2-element tuple (index, letter) with each\n",
    "# iteration.  Can I capture this in a nicer way?\n",
    "\n",
    "for index, one_letter in enumerate('abcd'):\n",
    "    print(f'{index}: {one_letter}')"
   ]
  },
  {
   "cell_type": "code",
   "execution_count": 28,
   "id": "678fd890",
   "metadata": {},
   "outputs": [
    {
     "name": "stdout",
     "output_type": "stream",
     "text": [
      "0: 100\n",
      "1: 200\n",
      "2: 300\n"
     ]
    }
   ],
   "source": [
    "t = (100, 200, 300)\n",
    "\n",
    "for index, one_number in enumerate(t):\n",
    "    print(f'{index}: {one_number}')"
   ]
  },
  {
   "cell_type": "markdown",
   "id": "38680770",
   "metadata": {},
   "source": [
    "# Dictionaries\n",
    "\n",
    "So far, we've seen that we can store our data in strings (only if they're characters/text), lists, or tuples. In all of these cases, we retrieve our data via a numeric index, starting at 0 for the first item and going up from there. If there are `n` elements in a sequence, then the highest index will always be `n-1`.\n",
    "\n",
    "If I want to search through a string/list/tuple for a value, it might take a long time! I might need to search through the entire data structure to see if it's there. Which means that the longer the data structure, the more time it might take to find the value.\n",
    "\n",
    "How do dictionaries help?\n",
    "\n",
    "1. We can set the index (known as a \"key\" in the world of dicts) to be anything we want, so long as it's unique  and it's immutable. (Basically, strings, integers, and floats.)  This makes the dict easier to understand and work with.\n",
    "2. Searching and retrieval via the keys is done at very very high speed."
   ]
  },
  {
   "cell_type": "code",
   "execution_count": 29,
   "id": "736871e0",
   "metadata": {},
   "outputs": [
    {
     "data": {
      "text/plain": [
       "3"
      ]
     },
     "execution_count": 29,
     "metadata": {},
     "output_type": "execute_result"
    }
   ],
   "source": [
    "# example:\n",
    "\n",
    "d = {'a':100, 'b':200, 'c':300}\n",
    "\n",
    "# this dict has 3 key-value pairs\n",
    "len(d)"
   ]
  },
  {
   "cell_type": "code",
   "execution_count": 30,
   "id": "54cea7ac",
   "metadata": {},
   "outputs": [
    {
     "data": {
      "text/plain": [
       "100"
      ]
     },
     "execution_count": 30,
     "metadata": {},
     "output_type": "execute_result"
    }
   ],
   "source": [
    "# retrieve from the dict with d[]\n",
    "# in the [], put the key whose value you want\n",
    "\n",
    "d['a']"
   ]
  },
  {
   "cell_type": "code",
   "execution_count": 31,
   "id": "f9260700",
   "metadata": {},
   "outputs": [
    {
     "ename": "KeyError",
     "evalue": "'qqqq'",
     "output_type": "error",
     "traceback": [
      "\u001b[0;31m---------------------------------------------------------------------------\u001b[0m",
      "\u001b[0;31mKeyError\u001b[0m                                  Traceback (most recent call last)",
      "Cell \u001b[0;32mIn [31], line 2\u001b[0m\n\u001b[1;32m      1\u001b[0m \u001b[38;5;66;03m# what if I retrieve a key that doesn't exist?\u001b[39;00m\n\u001b[0;32m----> 2\u001b[0m \u001b[43md\u001b[49m\u001b[43m[\u001b[49m\u001b[38;5;124;43m'\u001b[39;49m\u001b[38;5;124;43mqqqq\u001b[39;49m\u001b[38;5;124;43m'\u001b[39;49m\u001b[43m]\u001b[49m\n",
      "\u001b[0;31mKeyError\u001b[0m: 'qqqq'"
     ]
    }
   ],
   "source": [
    "# what if I retrieve a key that doesn't exist?\n",
    "d['qqqq']"
   ]
  },
  {
   "cell_type": "code",
   "execution_count": 32,
   "id": "eb053f04",
   "metadata": {},
   "outputs": [
    {
     "data": {
      "text/plain": [
       "True"
      ]
     },
     "execution_count": 32,
     "metadata": {},
     "output_type": "execute_result"
    }
   ],
   "source": [
    "# how can we check to see if a key exists?\n",
    "# we can use *in*\n",
    "\n",
    "'a' in d"
   ]
  },
  {
   "cell_type": "code",
   "execution_count": 33,
   "id": "806298a9",
   "metadata": {},
   "outputs": [
    {
     "data": {
      "text/plain": [
       "True"
      ]
     },
     "execution_count": 33,
     "metadata": {},
     "output_type": "execute_result"
    }
   ],
   "source": [
    "'b' in d"
   ]
  },
  {
   "cell_type": "code",
   "execution_count": 34,
   "id": "3a900c4e",
   "metadata": {},
   "outputs": [
    {
     "data": {
      "text/plain": [
       "False"
      ]
     },
     "execution_count": 34,
     "metadata": {},
     "output_type": "execute_result"
    }
   ],
   "source": [
    "'g' in d"
   ]
  },
  {
   "cell_type": "markdown",
   "id": "06824134",
   "metadata": {},
   "source": [
    "# Summary of dicts, so far\n",
    "\n",
    "1. We can define them with\n",
    "    - `{}` around the outside\n",
    "    - commas between the key-value pairs\n",
    "    - colons separating the keys from the values\n",
    "    - every key needs a value and vice versa\n",
    "    - Keys must be immutable\n",
    "2. We can retrieve with `[]`\n",
    "3. We can check for membership of a key with `in`\n",
    "\n",
    "Dicts are designed to be very fast and efficient if you retrieve the values via the keys. You can, in theory, get the keys via the values, but it's not guaranteed to be unique and it's just not done that much.\n",
    "\n",
    "- The keys of a dict must be immutable (typically strings or integers)\n",
    "- The values of a dict can be *anything at all*."
   ]
  },
  {
   "cell_type": "markdown",
   "id": "0a898428",
   "metadata": {},
   "source": [
    "# Exercise: Restaurant\n",
    "\n",
    "1. Define a dict whose keys are the names of items on a restaurant menu, and whose values are prices (ints). This will be the `menu` dict.\n",
    "2. Define `total` to be 0\n",
    "3. Ask the user, repeatedly, to enter something they want to eat.\n",
    "    - If they enter the empty string, stop asking and print the final bill.\n",
    "    - If they enter something that is on the menu, then add it to the total, and print out the current total and the new total.\n",
    "    - If they order something that is *not* on the menu, then scold them appropriately.\n",
    "    \n",
    "Example:\n",
    "\n",
    "    Order: sandwich\n",
    "    sandwich costs 15, total is 15\n",
    "    Order: tea\n",
    "    tea costs 7, total is 22\n",
    "    Order: cake\n",
    "    cake costs 9, total is 31\n",
    "    Order: elephant\n",
    "    Sorry, we are fresh out of elephant\n",
    "    Order: [ENTER]\n",
    "    total is 31"
   ]
  },
  {
   "cell_type": "markdown",
   "id": "2cc951b0",
   "metadata": {},
   "source": [
    "# Use cases for dicts\n",
    "\n",
    "1. Month names (keys) and month numbers (values)\n",
    "2. Month numbers (keys) and month names (values)\n",
    "3. User IDs (keys) and user info (values)\n"
   ]
  },
  {
   "cell_type": "code",
   "execution_count": null,
   "id": "3b4eb07f",
   "metadata": {},
   "outputs": [],
   "source": []
  },
  {
   "cell_type": "markdown",
   "id": "78883512",
   "metadata": {},
   "source": [
    "# Exercise: Restaurant\n",
    "\n",
    "1. Define a dict whose keys are the names of items on a restaurant menu, and whose values are prices (ints). This will be the `menu` dict.\n",
    "2. Define `total` to be 0\n",
    "3. Ask the user, repeatedly, to enter something they want to eat.\n",
    "    - If they enter the empty string, stop asking and print the final bill.\n",
    "    - If they enter something that is on the menu, then add it to the total, and print out the current total and the new total.\n",
    "    - If they order something that is *not* on the menu, then scold them appropriately.\n",
    "    \n",
    "Example:\n",
    "\n",
    "    Order: sandwich\n",
    "    sandwich costs 15, total is 15\n",
    "    Order: tea\n",
    "    tea costs 7, total is 22\n",
    "    Order: cake\n",
    "    cake costs 9, total is 31\n",
    "    Order: elephant\n",
    "    Sorry, we are fresh out of elephant\n",
    "    Order: [ENTER]\n",
    "    total is 31"
   ]
  },
  {
   "cell_type": "code",
   "execution_count": 35,
   "id": "0e7f6392",
   "metadata": {},
   "outputs": [
    {
     "name": "stdout",
     "output_type": "stream",
     "text": [
      "Order: sandwich\n",
      "sandwich costs 15; total is now 15\n",
      "Order: tea\n",
      "tea costs 7; total is now 22\n",
      "Order: coffee\n",
      "coffee is not on the menu today.\n",
      "Order: cake\n",
      "cake costs 9; total is now 31\n",
      "Order: cake\n",
      "cake costs 9; total is now 40\n",
      "Order: \n",
      "40\n"
     ]
    }
   ],
   "source": [
    "# define a dict, where the keys are strings (menu items), and the values are prices (ints)\n",
    "\n",
    "menu = {'sandwich':15, 'tea':7, 'cake':9, 'apple':5}\n",
    "total = 0\n",
    "\n",
    "while True:   # this will run forever\n",
    "    order = input('Order: ').strip()\n",
    "    \n",
    "    if order == '':      # no order? break out of the loop; you could also say \"if not order:\"\n",
    "        break\n",
    "        \n",
    "    if order in menu:         # does the user's input string exist as a key our dict?\n",
    "        price = menu[order]   # get the price\n",
    "        total += price\n",
    "        print(f'{order} costs {price}; total is now {total}')\n",
    "    else:\n",
    "        print(f'{order} is not on the menu today.')\n",
    "        \n",
    "print(total)        "
   ]
  },
  {
   "cell_type": "markdown",
   "id": "7502464c",
   "metadata": {},
   "source": [
    "# Dictionaries are mutable!\n",
    "\n",
    "Remember that \"mutable\" means that the value, the object, can be modified. Strings and tuples are immutable. Lists and dicts are mutable.\n",
    "\n",
    "This is *NOT* remotely the same thing as saying they are (or aren't) constants. A constant (in other languages) means that once you set a value to a variable, you can never change that assignment. Python doesn't have constants.\n",
    "\n",
    "Immutable means that the variable refers to an object, and the object will never change.\n",
    "\n",
    "In the case of dictionaries, we can modify the dict -- adding or removing key-value pairs, or modifying values once they're in the dict."
   ]
  },
  {
   "cell_type": "code",
   "execution_count": 36,
   "id": "5fb09ae8",
   "metadata": {},
   "outputs": [
    {
     "data": {
      "text/plain": [
       "3"
      ]
     },
     "execution_count": 36,
     "metadata": {},
     "output_type": "execute_result"
    }
   ],
   "source": [
    "# how do I modify a dict?\n",
    "\n",
    "d = {'a':10, 'b':20, 'c':30}   # this is the start\n",
    "\n",
    "len(d)   # this tells me how many key-value pairs I have"
   ]
  },
  {
   "cell_type": "code",
   "execution_count": 37,
   "id": "68ccb633",
   "metadata": {},
   "outputs": [
    {
     "data": {
      "text/plain": [
       "{'a': 10, 'b': 20, 'c': 40}"
      ]
     },
     "execution_count": 37,
     "metadata": {},
     "output_type": "execute_result"
    }
   ],
   "source": [
    "# I'm not saying d = SOMETHING, but rather I'm modifying the object that d is referring to\n",
    "\n",
    "d['c'] = 40     # I'm replacing the value associated with the key 'c'\n",
    "d"
   ]
  },
  {
   "cell_type": "code",
   "execution_count": 38,
   "id": "980ffed9",
   "metadata": {},
   "outputs": [],
   "source": [
    "# how can I add a new key-value pair to the dict?\n",
    "# I assign to the dict, EXACTLY as I modified an existing value\n",
    "\n",
    "# if the key exists, the value is updated\n",
    "# if the key is new, the key-value pair is added\n",
    "\n",
    "# there is no \"append\" method for dictionaries\n",
    "\n",
    "d['x'] = 1234   # this is the first assignment to the key 'x', so this creates that key-value pair"
   ]
  },
  {
   "cell_type": "code",
   "execution_count": 39,
   "id": "7568ee11",
   "metadata": {},
   "outputs": [
    {
     "data": {
      "text/plain": [
       "{'a': 10, 'b': 20, 'c': 40, 'x': 1234}"
      ]
     },
     "execution_count": 39,
     "metadata": {},
     "output_type": "execute_result"
    }
   ],
   "source": [
    "d"
   ]
  },
  {
   "cell_type": "code",
   "execution_count": 40,
   "id": "951558f5",
   "metadata": {},
   "outputs": [
    {
     "data": {
      "text/plain": [
       "4"
      ]
     },
     "execution_count": 40,
     "metadata": {},
     "output_type": "execute_result"
    }
   ],
   "source": [
    "len(d)"
   ]
  },
  {
   "cell_type": "code",
   "execution_count": 41,
   "id": "58b8ed8b",
   "metadata": {},
   "outputs": [
    {
     "data": {
      "text/plain": [
       "1234"
      ]
     },
     "execution_count": 41,
     "metadata": {},
     "output_type": "execute_result"
    }
   ],
   "source": [
    "# I can remove a key-value pair with the \"pop\" method\n",
    "# I name the key, and I get back the value associated with it\n",
    "\n",
    "d.pop('x')   # this looks for the key \"x\" and returns the value associated with it, when we remove the pair"
   ]
  },
  {
   "cell_type": "code",
   "execution_count": 42,
   "id": "2246d0e8",
   "metadata": {},
   "outputs": [
    {
     "data": {
      "text/plain": [
       "{'a': 10, 'b': 20, 'c': 40}"
      ]
     },
     "execution_count": 42,
     "metadata": {},
     "output_type": "execute_result"
    }
   ],
   "source": [
    "d"
   ]
  },
  {
   "cell_type": "code",
   "execution_count": 43,
   "id": "7684b484",
   "metadata": {},
   "outputs": [
    {
     "name": "stdout",
     "output_type": "stream",
     "text": [
      "{'a': 10, 'b': 20, 'c': 40}\n"
     ]
    }
   ],
   "source": [
    "print(d)  # if I print my dict, this is how it looks..."
   ]
  },
  {
   "cell_type": "code",
   "execution_count": 44,
   "id": "ea68ac54",
   "metadata": {},
   "outputs": [
    {
     "data": {
      "text/plain": [
       "20"
      ]
     },
     "execution_count": 44,
     "metadata": {},
     "output_type": "execute_result"
    }
   ],
   "source": [
    "d['b']"
   ]
  },
  {
   "cell_type": "code",
   "execution_count": 45,
   "id": "a15933ca",
   "metadata": {},
   "outputs": [
    {
     "name": "stdout",
     "output_type": "stream",
     "text": [
      "20\n"
     ]
    }
   ],
   "source": [
    "print(d['b'])"
   ]
  },
  {
   "cell_type": "code",
   "execution_count": 47,
   "id": "9f4eb1a6",
   "metadata": {},
   "outputs": [
    {
     "data": {
      "text/plain": [
       "20"
      ]
     },
     "execution_count": 47,
     "metadata": {},
     "output_type": "execute_result"
    }
   ],
   "source": [
    "# perhaps it's obvious, but the key can be a variable\n",
    "\n",
    "k = 'b'\n",
    "\n",
    "d[k]  # retrieve the value from d, where k (the variable)'s value is the key"
   ]
  },
  {
   "cell_type": "markdown",
   "id": "c5eb4b6d",
   "metadata": {},
   "source": [
    "# Dicts aren't unique to Python!\n",
    "\n",
    "Just about every programming language has something like a dict. High-level languages like Python, Perl, Ruby, PHP, and JavaScript really use them everywhere. But they're known under many different names:\n",
    "\n",
    "- Hash tables\n",
    "- Hashes\n",
    "- Associative arrays\n",
    "- Name-value pairs\n",
    "- Key-value pairs\n",
    "- Hash maps\n",
    "- Maps"
   ]
  },
  {
   "cell_type": "code",
   "execution_count": 48,
   "id": "be867786",
   "metadata": {},
   "outputs": [
    {
     "data": {
      "text/plain": [
       "{'a': 10, 'b': 10, 'c': 10, 'd': 10}"
      ]
     },
     "execution_count": 48,
     "metadata": {},
     "output_type": "execute_result"
    }
   ],
   "source": [
    "d = {}   # empty dict\n",
    "\n",
    "for one_letter in 'abcd':\n",
    "    d[one_letter] = 10\n",
    "    \n",
    "d"
   ]
  },
  {
   "cell_type": "markdown",
   "id": "001c5abc",
   "metadata": {},
   "source": [
    "# Next up\n",
    "\n",
    "1. Accumulating (known things) in dicts\n",
    "2. Accumulating (unknown things) in dicts\n",
    "3. Looping over dicts\n",
    "4. How dicts work behind the scenes\n",
    "\n"
   ]
  },
  {
   "cell_type": "markdown",
   "id": "87d828ed",
   "metadata": {},
   "source": [
    "# Using dicts to accumulate information\n",
    "\n",
    "In some cases, I know what I want to count. I can create a dict in which the things I want to count are the keys, and the values all start at 0. Then, over the course of the program, those numbers can rise.  At the end of the program, I look at the dict and see how many of each thing was there."
   ]
  },
  {
   "cell_type": "code",
   "execution_count": 49,
   "id": "2e0dd9a2",
   "metadata": {},
   "outputs": [
    {
     "name": "stdout",
     "output_type": "stream",
     "text": [
      "Enter numbers, separated by spaces: 10 15 abcd 17 18\n",
      "{'evens': 2, 'odds': 2}\n"
     ]
    }
   ],
   "source": [
    "# count even and odd numbers in a string\n",
    "\n",
    "counts = {'evens':0, 'odds':0}   \n",
    "\n",
    "numbers = input('Enter numbers, separated by spaces: ').split()\n",
    "\n",
    "for one_number in numbers:\n",
    "\n",
    "    if not one_number.isdigit():   # can this string not be made into an int? Next number!\n",
    "        continue\n",
    "        \n",
    "    n = int(one_number)\n",
    "    \n",
    "    if n % 2 == 0:   # if the number is even\n",
    "        counts['evens'] += 1\n",
    "    else:\n",
    "        counts['odds'] += 1\n",
    "        \n",
    "print(counts)        "
   ]
  },
  {
   "cell_type": "code",
   "execution_count": 50,
   "id": "97382a70",
   "metadata": {},
   "outputs": [
    {
     "name": "stdout",
     "output_type": "stream",
     "text": [
      "Enter a value: 123\n",
      "Enter b value: 456\n"
     ]
    }
   ],
   "source": [
    "d = {'a':input('Enter a value: ').strip(),\n",
    "     'b':input('Enter b value: ').strip()}"
   ]
  },
  {
   "cell_type": "code",
   "execution_count": 51,
   "id": "07ab5e55",
   "metadata": {},
   "outputs": [
    {
     "data": {
      "text/plain": [
       "{'a': '123', 'b': '456'}"
      ]
     },
     "execution_count": 51,
     "metadata": {},
     "output_type": "execute_result"
    }
   ],
   "source": [
    "d"
   ]
  },
  {
   "cell_type": "markdown",
   "id": "6bd41ed1",
   "metadata": {},
   "source": [
    "# Exercise: Vowels, digits, and others (dict edition)\n",
    "\n",
    "1. Define a dict with three keys: `vowels`, `digits`, and `others`, and 0 for all values.\n",
    "2. Ask the user, repeatedly, to enter a string.\n",
    "    - If the user enters the empty string, stop asking and print our dict\n",
    "3. Go through each character in the user's string:\n",
    "    - If it's a vowel, add 1 to `vowels`\n",
    "    - If it's a digit, add 1 to `digits`\n",
    "    - If it's neither, add 1 to `others`.\n",
    "4. Print our dict with all of the counts.    \n",
    "\n",
    "Example:\n",
    "\n",
    "    Enter text: hello!\n",
    "    Enter text: ab12??\n",
    "    Enter text: [ENTER]\n",
    "    \n",
    "    {'vowels':3, 'digits':2, 'others':7}"
   ]
  },
  {
   "cell_type": "code",
   "execution_count": null,
   "id": "a9e17cd2",
   "metadata": {},
   "outputs": [],
   "source": [
    "# if you're getting errors about futures and PyIodide (most of you won't), then you have to say\n",
    "\n",
    "x = input('Enter text: ')\n",
    "\n",
    "# don't put these in the same cell!\n",
    "s = x.result()"
   ]
  },
  {
   "cell_type": "markdown",
   "id": "ef6fc39d",
   "metadata": {},
   "source": [
    "# Exercise: Vowels, digits, and others (dict edition)\n",
    "\n",
    "1. Define a dict with three keys: `vowels`, `digits`, and `others`, and 0 for all values.\n",
    "2. Ask the user, repeatedly, to enter a string.\n",
    "    - If the user enters the empty string, stop asking and print our dict\n",
    "3. Go through each character in the user's string:\n",
    "    - If it's a vowel, add 1 to `vowels`\n",
    "    - If it's a digit, add 1 to `digits`\n",
    "    - If it's neither, add 1 to `others`.\n",
    "4. Print our dict with all of the counts.    \n",
    "\n",
    "Example:\n",
    "\n",
    "    Enter text: hello!\n",
    "    Enter text: ab12??\n",
    "    Enter text: [ENTER]\n",
    "    \n",
    "    {'vowels':3, 'digits':2, 'others':7}"
   ]
  },
  {
   "cell_type": "code",
   "execution_count": 52,
   "id": "bdb89ba7",
   "metadata": {
    "scrolled": true
   },
   "outputs": [
    {
     "name": "stdout",
     "output_type": "stream",
     "text": [
      "Enter text: hello!\n",
      "Enter text: ab12??\n",
      "Enter text: \n",
      "{'vowels': 3, 'digits': 2, 'others': 7}\n"
     ]
    }
   ],
   "source": [
    "counts = {'vowels':0, 'digits':0, 'others':0}\n",
    "\n",
    "while True:   # I don't know how many strings the user will enter\n",
    "    \n",
    "    s = input('Enter text: ').strip()\n",
    "    \n",
    "    if s == '':\n",
    "        break\n",
    "        \n",
    "    # go through each character -- for loop inside of my while loop!\n",
    "    for one_character in s:\n",
    "        if one_character in 'aeiou':   # is it a vowel?\n",
    "            counts['vowels'] += 1\n",
    "        elif one_character.isdigit():  # is it a digit?\n",
    "            counts['digits'] += 1\n",
    "        else:\n",
    "            counts['others'] += 1      # others == any character that is neither a vowel nor a digit\n",
    "            \n",
    "print(counts)"
   ]
  },
  {
   "cell_type": "markdown",
   "id": "22cb1690",
   "metadata": {},
   "source": [
    "hello! -- h (others), e (vowels), l (others), l (others), o (vowel), ! (others)\n",
    "ab12?? -- a (vowels), b (others), 1 (digit), 2 (digit), ? (others), ? (others)\n",
    "\n",
    "others -- 7\n",
    "vowels -- 3\n",
    "digits -- 2\n"
   ]
  },
  {
   "cell_type": "markdown",
   "id": "d7e59ca8",
   "metadata": {},
   "source": [
    "If your dict has integer keys, then use ints, not strings:\n",
    "\n"
   ]
  },
  {
   "cell_type": "code",
   "execution_count": 53,
   "id": "6ed12469",
   "metadata": {},
   "outputs": [
    {
     "data": {
      "text/plain": [
       "'Mar'"
      ]
     },
     "execution_count": 53,
     "metadata": {},
     "output_type": "execute_result"
    }
   ],
   "source": [
    "months = {1: 'Jan', 2: 'Feb', 3: 'Mar', 4: 'Apr'}\n",
    "\n",
    "months[3]"
   ]
  },
  {
   "cell_type": "markdown",
   "id": "98a152dc",
   "metadata": {},
   "source": [
    "# Accumulating the unknown\n",
    "\n",
    "We don't always know what we'll be counting. Examples:\n",
    "\n",
    "- I want to know how many times each IP address has visited my server\n",
    "- I want to know how much we have earned from each product\n",
    "- I want to know which users have tried to log in unsuccessfully\n",
    "\n",
    "I can start with an empty dict:\n",
    "\n",
    "- If I want to store info about an existing key, I just add it to the current count\n",
    "- If I want to store info about a new key, I have to add the new key-value pair.\n"
   ]
  },
  {
   "cell_type": "code",
   "execution_count": 54,
   "id": "4d103da1",
   "metadata": {},
   "outputs": [
    {
     "name": "stdout",
     "output_type": "stream",
     "text": [
      "Enter text: hello\n"
     ]
    },
    {
     "ename": "KeyError",
     "evalue": "'h'",
     "output_type": "error",
     "traceback": [
      "\u001b[0;31m---------------------------------------------------------------------------\u001b[0m",
      "\u001b[0;31mKeyError\u001b[0m                                  Traceback (most recent call last)",
      "Cell \u001b[0;32mIn [54], line 15\u001b[0m\n\u001b[1;32m     10\u001b[0m         \u001b[38;5;28;01mbreak\u001b[39;00m\n\u001b[1;32m     12\u001b[0m     \u001b[38;5;28;01mfor\u001b[39;00m one_character \u001b[38;5;129;01min\u001b[39;00m s:   \u001b[38;5;66;03m# go through s, one character at a time\u001b[39;00m\n\u001b[1;32m     13\u001b[0m \n\u001b[1;32m     14\u001b[0m         \u001b[38;5;66;03m# I want to do this:\u001b[39;00m\n\u001b[0;32m---> 15\u001b[0m         \u001b[43mcounts\u001b[49m\u001b[43m[\u001b[49m\u001b[43mone_character\u001b[49m\u001b[43m]\u001b[49m \u001b[38;5;241m+\u001b[39m\u001b[38;5;241m=\u001b[39m \u001b[38;5;241m1\u001b[39m  \u001b[38;5;66;03m# this won't work because we can only add to something that exists!\u001b[39;00m\n\u001b[1;32m     17\u001b[0m \u001b[38;5;28mprint\u001b[39m(counts)\n",
      "\u001b[0;31mKeyError\u001b[0m: 'h'"
     ]
    }
   ],
   "source": [
    "# example: letter counts\n",
    "\n",
    "counts = {}   # we will count each character, how many times it appears\n",
    "\n",
    "while True:   # I don't know how many strings the user will enter\n",
    "    \n",
    "    s = input('Enter text: ').strip()\n",
    "    \n",
    "    if s == '':\n",
    "        break\n",
    "        \n",
    "    for one_character in s:   # go through s, one character at a time\n",
    "\n",
    "        # I want to do this:\n",
    "        counts[one_character] += 1  # this won't work because we can only add to something that exists!\n",
    "        \n",
    "print(counts)"
   ]
  },
  {
   "cell_type": "code",
   "execution_count": 55,
   "id": "597caaa2",
   "metadata": {},
   "outputs": [
    {
     "name": "stdout",
     "output_type": "stream",
     "text": [
      "Enter text: hello\n",
      "Enter text: what is new?\n",
      "Enter text: I'm fine, how are you?\n",
      "Enter text: \n",
      "{'h': 3, 'e': 4, 'l': 2, 'o': 3, 'w': 3, 'a': 2, 't': 1, ' ': 6, 'i': 2, 's': 1, 'n': 2, '?': 2, 'I': 1, \"'\": 1, 'm': 1, 'f': 1, ',': 1, 'r': 1, 'y': 1, 'u': 1}\n"
     ]
    }
   ],
   "source": [
    "# example: letter counts\n",
    "\n",
    "counts = {}   # we will count each character, how many times it appears\n",
    "\n",
    "while True:   # I don't know how many strings the user will enter\n",
    "    \n",
    "    s = input('Enter text: ').strip()\n",
    "    \n",
    "    if s == '':\n",
    "        break\n",
    "        \n",
    "    for one_character in s:   # go through s, one character at a time\n",
    "\n",
    "        if one_character in counts:      # have we seen this character before?\n",
    "            counts[one_character] += 1   #   add to its count!\n",
    "        else:                            # new character?\n",
    "            counts[one_character] = 1    #   add the key-value pair with a value of 1\n",
    "        \n",
    "print(counts)"
   ]
  },
  {
   "cell_type": "markdown",
   "id": "af595f5e",
   "metadata": {},
   "source": [
    "# Three paradigms for using dicts\n",
    "\n",
    "1. Define it at the start of the program, treat it as read only.\n",
    "2. Define the keys and default values (0, empty list, etc.) at the start of the program. Update the values, but don't add/remove keys.\n",
    "3. Define an empty dict at the start of the program. Add keys as necessary, and update values when you see the same key a subsequent time."
   ]
  },
  {
   "cell_type": "markdown",
   "id": "acb40d6f",
   "metadata": {},
   "source": [
    "# Exercise: Rainfall exercise\n",
    "\n",
    "1. Define an empty dict, called `rainfall`. The dict's keys will be city names, and its values will be integers -- mm of rain that fell in each city.\n",
    "2. We're going to ask the user to enter a city, again and again. When we get an empty city name, we'll stop asking.\n",
    "3. If we got a city name, then we're going to ask how much rain (in mm) fell in that city in the last day.\n",
    "    - If this is the first time we're seeing a city, then add the city + its rainfall as a key-value pair.\n",
    "    - If this is not the first time we're seeing a city, then add the current rainfall to the existing value.\n",
    "4. Print the `rainfall` dict.\n",
    "\n",
    "Example:\n",
    "\n",
    "    City: Jerusalem\n",
    "    Rain: 4\n",
    "    City: Tel Aviv\n",
    "    Rain: 3\n",
    "    City: Tel Aviv\n",
    "    Rain: 2\n",
    "    City: [ENTER]\n",
    "    {'Jerusalem':4, 'Tel Aviv':5}"
   ]
  },
  {
   "cell_type": "code",
   "execution_count": 58,
   "id": "3d8bc608",
   "metadata": {},
   "outputs": [
    {
     "name": "stdout",
     "output_type": "stream",
     "text": [
      "City: a\n",
      "Rain: 5\n",
      "City: b\n",
      "Rain: 4\n",
      "City: a\n",
      "Rain: asdfsadfa\n",
      "\tNot numeric; try again\n",
      "City: a\n",
      "Rain: 3\n",
      "City: \n",
      "{'a': 8, 'b': 4}\n"
     ]
    }
   ],
   "source": [
    "rainfall = {}  # empty dict\n",
    "\n",
    "while True:\n",
    "    city_name = input('City: ').strip()\n",
    "    \n",
    "    if city_name == '':\n",
    "        break\n",
    "        \n",
    "    mm_rain = input('Rain: ').strip()\n",
    "\n",
    "    if not mm_rain.isdigit():\n",
    "        print('\\tNot numeric; try again')\n",
    "        continue\n",
    "\n",
    "    mm_rain = int(mm_rain)     # if the user enters non-digits, this will blow up\n",
    "    \n",
    "    if city_name in rainfall:\n",
    "        rainfall[city_name] += mm_rain    # add to the existing value if the city is already in the dict\n",
    "    else:\n",
    "        rainfall[city_name] = mm_rain     # add the key-value pair if the city is new\n",
    "        \n",
    "print(rainfall)        "
   ]
  },
  {
   "cell_type": "code",
   "execution_count": 59,
   "id": "f77f5e2a",
   "metadata": {},
   "outputs": [
    {
     "data": {
      "text/plain": [
       "True"
      ]
     },
     "execution_count": 59,
     "metadata": {},
     "output_type": "execute_result"
    }
   ],
   "source": [
    "# does in only work on the keys? \n",
    "\n",
    "d = {'a':10, 'b':20, 'c':30}\n",
    "\n",
    "'a' in d"
   ]
  },
  {
   "cell_type": "code",
   "execution_count": 60,
   "id": "de8e134c",
   "metadata": {},
   "outputs": [
    {
     "data": {
      "text/plain": [
       "False"
      ]
     },
     "execution_count": 60,
     "metadata": {},
     "output_type": "execute_result"
    }
   ],
   "source": [
    "10 in d"
   ]
  },
  {
   "cell_type": "markdown",
   "id": "cc0ad861",
   "metadata": {},
   "source": [
    "How do we search for values in a dict?\n",
    "\n",
    "1. Try to structure your data so you don't have to do this.\n",
    "2. If you really need to, there are dict methods `.keys()` and `.values()`. If you want, you can say something like `10 in d.values()`."
   ]
  },
  {
   "cell_type": "code",
   "execution_count": null,
   "id": "38f3cc07",
   "metadata": {},
   "outputs": [],
   "source": []
  },
  {
   "cell_type": "code",
   "execution_count": 61,
   "id": "fc65d1d9",
   "metadata": {},
   "outputs": [
    {
     "data": {
      "text/plain": [
       "True"
      ]
     },
     "execution_count": 61,
     "metadata": {},
     "output_type": "execute_result"
    }
   ],
   "source": [
    "10 in d.values()"
   ]
  },
  {
   "cell_type": "code",
   "execution_count": 62,
   "id": "3b382471",
   "metadata": {},
   "outputs": [
    {
     "name": "stdout",
     "output_type": "stream",
     "text": [
      "City: \n",
      "{}\n"
     ]
    }
   ],
   "source": [
    "#, Rainfall dict of lists edition\n",
    "\n",
    "rainfall = {}  # empty dict\n",
    "\n",
    "while True:\n",
    "    city_name = input('City: ').strip()\n",
    "    \n",
    "    if city_name == '':\n",
    "        break\n",
    "        \n",
    "    mm_rain = input('Rain: ').strip()\n",
    "\n",
    "    if not mm_rain.isdigit():\n",
    "        print('\\tNot numeric; try again')\n",
    "        continue\n",
    "\n",
    "    mm_rain = int(mm_rain)     # if the user enters non-digits, this will blow up\n",
    "    \n",
    "    if city_name in rainfall:\n",
    "        rainfall[city_name].append(mm_rain)\n",
    "    else:\n",
    "        \n",
    "        rainfall[city_name] = [mm_rain]    \n",
    "print(rainfall)        "
   ]
  },
  {
   "cell_type": "markdown",
   "id": "f99676ae",
   "metadata": {},
   "source": [
    "# Next up\n",
    "\n",
    "1. Loops and dicts (and avoiding some common mistakes)\n",
    "2. How do dicts work behind the scenes?\n",
    "3. Files\n",
    "    - Reading from text files\n",
    "    - Writing (a little) to text files\n",
    "    \n",
    "    "
   ]
  },
  {
   "cell_type": "markdown",
   "id": "20c96197",
   "metadata": {},
   "source": [
    "# Loops and dicts\n",
    "\n",
    "We've seen that we can run a `for` loop over a variety of data structures:\n",
    "\n",
    "- Iterating over a string gives us the characters\n",
    "- Iterating over a list gives us the elements\n",
    "- Iterating over a tuple also gives us its elements\n",
    "\n",
    "What happens if we iterate over a dict?"
   ]
  },
  {
   "cell_type": "code",
   "execution_count": 63,
   "id": "716fe398",
   "metadata": {},
   "outputs": [
    {
     "name": "stdout",
     "output_type": "stream",
     "text": [
      "a\n",
      "b\n",
      "c\n"
     ]
    }
   ],
   "source": [
    "d = {'a':10, 'b':20, 'c':30}\n",
    "\n",
    "for one_item in d:\n",
    "    print(one_item)"
   ]
  },
  {
   "cell_type": "code",
   "execution_count": 64,
   "id": "c61c2c0c",
   "metadata": {},
   "outputs": [
    {
     "name": "stdout",
     "output_type": "stream",
     "text": [
      "a: 10\n",
      "b: 20\n",
      "c: 30\n"
     ]
    }
   ],
   "source": [
    "# Iterating over a dict gives you the keys\n",
    "# Let's use that to print our dict\n",
    "\n",
    "for one_key in d:\n",
    "    print(f'{one_key}: {d[one_key]}')"
   ]
  },
  {
   "cell_type": "code",
   "execution_count": 65,
   "id": "7133aee0",
   "metadata": {},
   "outputs": [],
   "source": [
    "# I mentioned before that there is a \"dict.keys\" method that returns the keys\n",
    "# you *could* iterate over dict.keys -- but iterating directly over d is faster (and more Pythonic)\n",
    "\n"
   ]
  },
  {
   "cell_type": "code",
   "execution_count": 67,
   "id": "7004c773",
   "metadata": {},
   "outputs": [
    {
     "name": "stdout",
     "output_type": "stream",
     "text": [
      "('a', 10)\n",
      "('b', 20)\n",
      "('c', 30)\n"
     ]
    }
   ],
   "source": [
    "# it's kind of annoying that I get the keys, and then I retrieve the values via the keys\n",
    "# is there a way for me to get both the keys and the values?\n",
    "\n",
    "# yes, with the .items method!\n",
    "\n",
    "# every iteration over .items gives me a 2-element tuple, (key, value)\n",
    "\n",
    "for one_item in d.items():\n",
    "    print(one_item)"
   ]
  },
  {
   "cell_type": "code",
   "execution_count": 68,
   "id": "f0c63fe4",
   "metadata": {},
   "outputs": [
    {
     "name": "stdout",
     "output_type": "stream",
     "text": [
      "a: 10\n",
      "b: 20\n",
      "c: 30\n"
     ]
    }
   ],
   "source": [
    "for t in d.items():\n",
    "    print(f'{t[0]}: {t[1]}')   # t[0] is the key, and t[1] is the value"
   ]
  },
  {
   "cell_type": "code",
   "execution_count": 69,
   "id": "851a6769",
   "metadata": {},
   "outputs": [
    {
     "name": "stdout",
     "output_type": "stream",
     "text": [
      "a: 10\n",
      "b: 20\n",
      "c: 30\n"
     ]
    }
   ],
   "source": [
    "# let's take advantage of unpacking\n",
    "for t in d.items():\n",
    "    one_key, one_value = t\n",
    "    print(f'{one_key}: {one_value}')"
   ]
  },
  {
   "cell_type": "code",
   "execution_count": 70,
   "id": "603a52ce",
   "metadata": {},
   "outputs": [
    {
     "name": "stdout",
     "output_type": "stream",
     "text": [
      "a: 10\n",
      "b: 20\n",
      "c: 30\n"
     ]
    }
   ],
   "source": [
    "# we can shrink this even more by putting unpacking in our for loop\n",
    "\n",
    "for one_key, one_value in d.items():\n",
    "    print(f'{one_key}: {one_value}')"
   ]
  },
  {
   "cell_type": "code",
   "execution_count": 71,
   "id": "d3ebd38b",
   "metadata": {},
   "outputs": [],
   "source": [
    "for one_key, one_value in rainfall.items():\n",
    "    print(f'{one_key}: {one_value}')"
   ]
  },
  {
   "cell_type": "code",
   "execution_count": 72,
   "id": "c642df17",
   "metadata": {},
   "outputs": [
    {
     "name": "stdout",
     "output_type": "stream",
     "text": [
      "City: a\n",
      "Rain: 5\n",
      "City: b\n",
      "Rain: 4\n",
      "City: a\n",
      "Rain: 3\n",
      "City: b\n",
      "Rain: 2\n",
      "City: a\n",
      "Rain: 6\n",
      "City: b\n",
      "Rain: 5\n",
      "City: \n",
      "a: [5, 3, 6]\n",
      "b: [4, 2, 5]\n"
     ]
    }
   ],
   "source": [
    "#, Rainfall dict of lists edition\n",
    "\n",
    "rainfall = {}  # empty dict\n",
    "\n",
    "while True:\n",
    "    city_name = input('City: ').strip()\n",
    "    \n",
    "    if city_name == '':\n",
    "        break\n",
    "        \n",
    "    mm_rain = input('Rain: ').strip()\n",
    "\n",
    "    if not mm_rain.isdigit():\n",
    "        print('\\tNot numeric; try again')\n",
    "        continue\n",
    "\n",
    "    mm_rain = int(mm_rain)     # if the user enters non-digits, this will blow up\n",
    "    \n",
    "    if city_name in rainfall:\n",
    "        rainfall[city_name].append(mm_rain)\n",
    "    else:\n",
    "        \n",
    "        rainfall[city_name] = [mm_rain]    \n",
    "\n",
    "        \n",
    "for one_key, one_value in rainfall.items():\n",
    "    print(f'{one_key}: {one_value}')        "
   ]
  },
  {
   "cell_type": "code",
   "execution_count": 73,
   "id": "23b19827",
   "metadata": {},
   "outputs": [
    {
     "data": {
      "text/plain": [
       "{'a': [5, 3, 6], 'b': [4, 2, 5]}"
      ]
     },
     "execution_count": 73,
     "metadata": {},
     "output_type": "execute_result"
    }
   ],
   "source": [
    "rainfall"
   ]
  },
  {
   "cell_type": "code",
   "execution_count": 74,
   "id": "4ef01c62",
   "metadata": {},
   "outputs": [
    {
     "name": "stdout",
     "output_type": "stream",
     "text": [
      "a\n",
      "\t5\n",
      "\t3\n",
      "\t6\n",
      "b\n",
      "\t4\n",
      "\t2\n",
      "\t5\n"
     ]
    }
   ],
   "source": [
    "for one_key, all_values in rainfall.items():\n",
    "    print(one_key)\n",
    "\n",
    "    for one_value in all_values:\n",
    "        print(f'\\t{one_value}')"
   ]
  },
  {
   "cell_type": "markdown",
   "id": "04e6e1ff",
   "metadata": {},
   "source": [
    "# How do dicts work?\n",
    "\n",
    "How is it that:\n",
    "\n",
    "- Dict keys need to be immutable?\n",
    "- Searching in a dict is so fast?\n",
    "- Keys must be unique?\n",
    "- Values can be anything?\n",
    "- We can search via keys, but not via values?\n",
    "\n",
    "The answer: A hash function.  In other words, when Python decides where in memory to store each of the key-value pairs in our dict, it uses the key to make that calculation.\n",
    "\n",
    "In other words, a key-value pair with a key `'a'` will be stored in a place based on calling `hash('a')`, where `hash` is a special function that gives us a number back from a string. That number is very very hard to predict, but it's deterministic.\n",
    "\n",
    "How does this work? How is it different from lists?\n",
    "\n",
    "Lists are similar to an office building in which you don't know where people work. Searching in a list means going through each element, one at a time, hoping that you'll find the element you're looking for. You might have to search the entire list before either finding the value or giving up. That can take a long time, if you have a lot of data.\n",
    "\n",
    "Dicts work very differently, thanks to the hash function. You can look at the key and jump to the right place in memory, and then ask: Is my data here? If so, then great; you're done. If not, then it's not in the dictionary; you're also done. This is super fast -- we barely need to search at all.\n",
    "\n",
    "This explains a lot:\n",
    "\n",
    "- Why do dict keys need to be immutable? Because changing them would make their hash value irrelevant or wrong. The key-value pairs would be stored in the wrong place in the dict, and they would get lost.\n",
    "\n",
    "- Why do keys need to be unique? Because otherwise, we would have a hash collision -- more than one key-value pair vying for the same location, and no obvious way to resolve the conflict.\n",
    "\n",
    "- Values aren't part of the hash function, so they can be anything at all.\n",
    "\n"
   ]
  },
  {
   "cell_type": "code",
   "execution_count": 75,
   "id": "a3698d00",
   "metadata": {},
   "outputs": [
    {
     "ename": "TypeError",
     "evalue": "unhashable type: 'list'",
     "output_type": "error",
     "traceback": [
      "\u001b[0;31m---------------------------------------------------------------------------\u001b[0m",
      "\u001b[0;31mTypeError\u001b[0m                                 Traceback (most recent call last)",
      "Cell \u001b[0;32mIn [75], line 3\u001b[0m\n\u001b[1;32m      1\u001b[0m mylist \u001b[38;5;241m=\u001b[39m [\u001b[38;5;241m10\u001b[39m, \u001b[38;5;241m20\u001b[39m, \u001b[38;5;241m30\u001b[39m]\n\u001b[0;32m----> 3\u001b[0m \u001b[43md\u001b[49m\u001b[43m[\u001b[49m\u001b[43mmylist\u001b[49m\u001b[43m]\u001b[49m \u001b[38;5;241m=\u001b[39m \u001b[38;5;241m100\u001b[39m\n",
      "\u001b[0;31mTypeError\u001b[0m: unhashable type: 'list'"
     ]
    }
   ],
   "source": [
    "mylist = [10, 20, 30]\n",
    "\n",
    "d[mylist] = 100"
   ]
  },
  {
   "cell_type": "markdown",
   "id": "ec47dda0",
   "metadata": {},
   "source": [
    "# Files\n",
    "\n",
    "We use files all of the time:\n",
    "\n",
    "- Word files\n",
    "- Powerpoint files\n",
    "- Excel files\n",
    "- PDF files\n",
    "\n",
    "All a file is, is a bunch of bytes on disk that allow us to turn off the computer, turn it back on, and still have our data.  \n",
    "\n",
    "We're going to be using plain-text files -- as you would probably see for configuration, for logs, or for data. \n",
    "\n",
    "How can we read a file? We don't have access to the disk. But the OS does. So:\n",
    "\n",
    "- We need to ask the OS for help in opening the file\n",
    "- It does this by giving us a \"file handle,\" with which we can read from the file\n",
    "- This file handle goes through the OS, and makes sure that we don't do any monkey business\n",
    "\n",
    "The way this works in Python is that we run the `open` function, and it gives us the Python equivalent of a file handle, namely a file object. This object acts as our agent -- we ask it to read from the file, it asks the OS to read from the file, the OS asks the disk to read from the file, and then we get the file's contents (if all goes well)."
   ]
  },
  {
   "cell_type": "code",
   "execution_count": 83,
   "id": "a12bc230",
   "metadata": {},
   "outputs": [],
   "source": [
    "# option 1 for reading from a file: open it, and run the \"read\" method on the file object\n",
    "\n",
    "f = open('linux-etc-passwd.txt')   # opened the file for reading, the default\n"
   ]
  },
  {
   "cell_type": "code",
   "execution_count": 84,
   "id": "cd8d18fe",
   "metadata": {},
   "outputs": [
    {
     "data": {
      "text/plain": [
       "<_io.TextIOWrapper name='linux-etc-passwd.txt' mode='r' encoding='UTF-8'>"
      ]
     },
     "execution_count": 84,
     "metadata": {},
     "output_type": "execute_result"
    }
   ],
   "source": [
    "f   # printed representation of my file object, showing name, mode, and encoding"
   ]
  },
  {
   "cell_type": "code",
   "execution_count": 85,
   "id": "2246ff78",
   "metadata": {},
   "outputs": [
    {
     "name": "stdout",
     "output_type": "stream",
     "text": [
      "# This is a comment\n",
      "# You should ignore me\n",
      "root:x:0:0:root:/root:/bin/bash\n",
      "daemon:x:1:1:daemon:/usr/sbin:/usr/sbin/nologin\n",
      "bin:x:2:2:bin:/bin:/usr/sbin/nologin\n",
      "sys:x:3:3:sys:/dev:/usr/sbin/nologin\n",
      "sync:x:4:65534:sync:/bin:/bin/sync\n",
      "games:x:5:60:games:/usr/games:/usr/sbin/nologin\n",
      "man:x:6:12:man:/var/cache/man:/usr/sbin/nologin\n",
      "lp:x:7:7:lp:/var/spool/lpd:/usr/sbin/nologin\n",
      "mail:x:8:8:mail:/var/mail:/usr/sbin/nologin\n",
      "\n",
      "\n",
      "\n",
      "news:x:9:9:news:/var/spool/news:/usr/sbin/nologin\n",
      "uucp:x:10:10:uucp:/var/spool/uucp:/usr/sbin/nologin\n",
      "proxy:x:13:13:proxy:/bin:/usr/sbin/nologin\n",
      "www-data:x:33:33:www-data:/var/www:/usr/sbin/nologin\n",
      "backup:x:34:34:backup:/var/backups:/usr/sbin/nologin\n",
      "list:x:38:38:Mailing List Manager:/var/list:/usr/sbin/nologin\n",
      "irc:x:39:39:ircd:/var/run/ircd:/usr/sbin/nologin\n",
      "gnats:x:41:41:Gnats Bug-Reporting System (admin):/var/lib/gnats:/usr/sbin/nologin\n",
      "\n",
      "nobody:x:65534:65534:nobody:/nonexistent:/usr/sbin/nologin\n",
      "syslog:x:101:104::/home/syslog:/bin/false\n",
      "messagebus:x:102:106::/var/run/dbus:/bin/false\n",
      "landscape:x:103:109::/var/lib/landscape:/bin/false\n",
      "jci:x:955:955::/home/jci:/bin/bash\n",
      "sshd:x:104:65534::/var/run/sshd:/usr/sbin/nologin\n",
      "user:x:1000:1000:user,,,:/home/user:/bin/bash\n",
      "reuven:x:1001:1001:Reuven M. Lerner,,,:/home/reuven:/bin/bash\n",
      "postfix:x:105:113::/var/spool/postfix:/bin/false\n",
      "colord:x:106:116:colord colour management daemon,,,:/var/lib/colord:/bin/false\n",
      "postgres:x:107:117:PostgreSQL administrator,,,:/var/lib/postgresql:/bin/bash\n",
      "dovecot:x:108:119:Dovecot mail server,,,:/usr/lib/dovecot:/bin/false\n",
      "dovenull:x:109:120:Dovecot login user,,,:/nonexistent:/bin/false\n",
      "postgrey:x:110:121::/var/lib/postgrey:/bin/false\n",
      "debian-spamd:x:111:122::/var/lib/spamassassin:/bin/sh\n",
      "memcache:x:113:124:Memcached,,,:/nonexistent:/bin/false\n",
      "genadi:x:1002:1003:Genadi Reznichenko,,,:/home/genadi:/bin/bash\n",
      "shira:x:1003:1004:Shira Friedman,,,:/home/shira:/bin/bash\n",
      "atara:x:1004:1005:Atara Lerner-Friedman,,,:/home/atara:/bin/bash\n",
      "shikma:x:1005:1006:Shikma Lerner-Friedman,,,:/home/shikma:/bin/bash\n",
      "amotz:x:1006:1007:Amotz Lerner-Friedman,,,:/home/amotz:/bin/bash\n",
      "mysql:x:114:125:MySQL Server,,,:/nonexistent:/bin/false\n",
      "clamav:x:115:126::/var/lib/clamav:/bin/false\n",
      "amavis:x:116:127:AMaViS system user,,,:/var/lib/amavis:/bin/sh\n",
      "opendkim:x:117:128::/var/run/opendkim:/bin/false\n",
      "gitlab-redis:x:999:1009::/var/opt/gitlab/redis:/bin/nologin\n",
      "gitlab-psql:x:998:1010::/var/opt/gitlab/postgresql:/bin/sh\n",
      "git:x:1007:1008:GitLab,,,:/home/git:/bin/bash\n",
      "opendmarc:x:118:129::/var/run/opendmarc:/bin/false\n",
      "dkim-milter-python:x:119:130::/var/run/dkim-milter-python:/bin/false\n",
      "deploy:x:1008:1011:Deploy,,,:/home/deploy:/bin/bash\n",
      "redis:x:112:123:redis server,,,:/var/lib/redis:/bin/false\n",
      "\n"
     ]
    }
   ],
   "source": [
    "print(f.read())  # this returns a string, the entire contents of the file"
   ]
  },
  {
   "cell_type": "code",
   "execution_count": 86,
   "id": "971ddae4",
   "metadata": {},
   "outputs": [
    {
     "data": {
      "text/plain": [
       "'/Users/reuven/Courses/Current/oreilly-2023-05May-python'"
      ]
     },
     "execution_count": 86,
     "metadata": {},
     "output_type": "execute_result"
    }
   ],
   "source": [
    "# not sure where Jupyter is running?\n",
    "\n",
    "%pwd   "
   ]
  },
  {
   "cell_type": "markdown",
   "id": "65ef1883",
   "metadata": {},
   "source": [
    "We could run `read()` on a file object, if it's small.\n",
    "\n",
    "But what if it's big? \n",
    "\n",
    "The answer is: read it, one line at a time.  If we do that, then the odds that we run out of memory are very slim.\n",
    "\n",
    "We can do that by iterating over our file object in a `for` loop."
   ]
  },
  {
   "cell_type": "code",
   "execution_count": 88,
   "id": "e0f65f07",
   "metadata": {},
   "outputs": [
    {
     "name": "stdout",
     "output_type": "stream",
     "text": [
      "# This is a comment\n",
      "# You should ignore me\n",
      "root:x:0:0:root:/root:/bin/bash\n",
      "daemon:x:1:1:daemon:/usr/sbin:/usr/sbin/nologin\n",
      "bin:x:2:2:bin:/bin:/usr/sbin/nologin\n",
      "sys:x:3:3:sys:/dev:/usr/sbin/nologin\n",
      "sync:x:4:65534:sync:/bin:/bin/sync\n",
      "games:x:5:60:games:/usr/games:/usr/sbin/nologin\n",
      "man:x:6:12:man:/var/cache/man:/usr/sbin/nologin\n",
      "lp:x:7:7:lp:/var/spool/lpd:/usr/sbin/nologin\n",
      "mail:x:8:8:mail:/var/mail:/usr/sbin/nologin\n",
      "\n",
      "\n",
      "\n",
      "news:x:9:9:news:/var/spool/news:/usr/sbin/nologin\n",
      "uucp:x:10:10:uucp:/var/spool/uucp:/usr/sbin/nologin\n",
      "proxy:x:13:13:proxy:/bin:/usr/sbin/nologin\n",
      "www-data:x:33:33:www-data:/var/www:/usr/sbin/nologin\n",
      "backup:x:34:34:backup:/var/backups:/usr/sbin/nologin\n",
      "list:x:38:38:Mailing List Manager:/var/list:/usr/sbin/nologin\n",
      "irc:x:39:39:ircd:/var/run/ircd:/usr/sbin/nologin\n",
      "gnats:x:41:41:Gnats Bug-Reporting System (admin):/var/lib/gnats:/usr/sbin/nologin\n",
      "\n",
      "nobody:x:65534:65534:nobody:/nonexistent:/usr/sbin/nologin\n",
      "syslog:x:101:104::/home/syslog:/bin/false\n",
      "messagebus:x:102:106::/var/run/dbus:/bin/false\n",
      "landscape:x:103:109::/var/lib/landscape:/bin/false\n",
      "jci:x:955:955::/home/jci:/bin/bash\n",
      "sshd:x:104:65534::/var/run/sshd:/usr/sbin/nologin\n",
      "user:x:1000:1000:user,,,:/home/user:/bin/bash\n",
      "reuven:x:1001:1001:Reuven M. Lerner,,,:/home/reuven:/bin/bash\n",
      "postfix:x:105:113::/var/spool/postfix:/bin/false\n",
      "colord:x:106:116:colord colour management daemon,,,:/var/lib/colord:/bin/false\n",
      "postgres:x:107:117:PostgreSQL administrator,,,:/var/lib/postgresql:/bin/bash\n",
      "dovecot:x:108:119:Dovecot mail server,,,:/usr/lib/dovecot:/bin/false\n",
      "dovenull:x:109:120:Dovecot login user,,,:/nonexistent:/bin/false\n",
      "postgrey:x:110:121::/var/lib/postgrey:/bin/false\n",
      "debian-spamd:x:111:122::/var/lib/spamassassin:/bin/sh\n",
      "memcache:x:113:124:Memcached,,,:/nonexistent:/bin/false\n",
      "genadi:x:1002:1003:Genadi Reznichenko,,,:/home/genadi:/bin/bash\n",
      "shira:x:1003:1004:Shira Friedman,,,:/home/shira:/bin/bash\n",
      "atara:x:1004:1005:Atara Lerner-Friedman,,,:/home/atara:/bin/bash\n",
      "shikma:x:1005:1006:Shikma Lerner-Friedman,,,:/home/shikma:/bin/bash\n",
      "amotz:x:1006:1007:Amotz Lerner-Friedman,,,:/home/amotz:/bin/bash\n",
      "mysql:x:114:125:MySQL Server,,,:/nonexistent:/bin/false\n",
      "clamav:x:115:126::/var/lib/clamav:/bin/false\n",
      "amavis:x:116:127:AMaViS system user,,,:/var/lib/amavis:/bin/sh\n",
      "opendkim:x:117:128::/var/run/opendkim:/bin/false\n",
      "gitlab-redis:x:999:1009::/var/opt/gitlab/redis:/bin/nologin\n",
      "gitlab-psql:x:998:1010::/var/opt/gitlab/postgresql:/bin/sh\n",
      "git:x:1007:1008:GitLab,,,:/home/git:/bin/bash\n",
      "opendmarc:x:118:129::/var/run/opendmarc:/bin/false\n",
      "dkim-milter-python:x:119:130::/var/run/dkim-milter-python:/bin/false\n",
      "deploy:x:1008:1011:Deploy,,,:/home/deploy:/bin/bash\n",
      "redis:x:112:123:redis server,,,:/var/lib/redis:/bin/false\n"
     ]
    }
   ],
   "source": [
    "f = open('linux-etc-passwd.txt')\n",
    "\n",
    "for one_line in f:   # iterating over a file gives you the next line (through \\n) with each iteration\n",
    "    print(one_line.strip())   # remove the newline from the end of the line"
   ]
  },
  {
   "cell_type": "code",
   "execution_count": 91,
   "id": "b32d572d",
   "metadata": {},
   "outputs": [
    {
     "name": "stdout",
     "output_type": "stream",
     "text": [
      "root\n",
      "daemon\n",
      "bin\n",
      "sys\n",
      "sync\n",
      "games\n",
      "man\n",
      "lp\n",
      "mail\n",
      "news\n",
      "uucp\n",
      "proxy\n",
      "www-data\n",
      "backup\n",
      "list\n",
      "irc\n",
      "gnats\n",
      "nobody\n",
      "syslog\n",
      "messagebus\n",
      "landscape\n",
      "jci\n",
      "sshd\n",
      "user\n",
      "reuven\n",
      "postfix\n",
      "colord\n",
      "postgres\n",
      "dovecot\n",
      "dovenull\n",
      "postgrey\n",
      "debian-spamd\n",
      "memcache\n",
      "genadi\n",
      "shira\n",
      "atara\n",
      "shikma\n",
      "amotz\n",
      "mysql\n",
      "clamav\n",
      "amavis\n",
      "opendkim\n",
      "gitlab-redis\n",
      "gitlab-psql\n",
      "git\n",
      "opendmarc\n",
      "dkim-milter-python\n",
      "deploy\n",
      "redis\n"
     ]
    }
   ],
   "source": [
    "# Let's print all of the usernames in my passwd file\n",
    "# each useful line has a record with fields separated by ':'\n",
    "# the username is the first field on each line, meaning before the first :\n",
    "\n",
    "# let's read each line of the file, and break each line into a list using split on :\n",
    "# then field 0 will be our username\n",
    "\n",
    "for one_line in open('linux-etc-passwd.txt'):    # iterate over each line of linux-etc-passwd\n",
    "\n",
    "    if one_line[0] == '#':                       # ignore lines starting with #\n",
    "        continue\n",
    "        \n",
    "    if one_line.strip() == '':                   # if, after removing whitespace, nothing is left -- ignore it\n",
    "        continue\n",
    "    \n",
    "    fields = one_line.split(':')                 # get the current line into a list\n",
    "    print(fields[0])                             # username is first field, aka fields[0] -- print it"
   ]
  },
  {
   "cell_type": "markdown",
   "id": "0c47a8df",
   "metadata": {},
   "source": [
    "# Different filenames + paths\n",
    "\n",
    "- Unix\n",
    "    - If we give a filename without any `/` characters, we assume the file is in the same directory as Python is running.\n",
    "    - If the filename contains a `/` but doesn't start with it, then it's a *relative path*, and Python will try to open it relative to the current directory. So `abc/def.txt` will be the file `def.txt` in the `abc` subdirectory of the current directory.\n",
    "    - If the filename *starts* with `/`, then Python will start at the top of the filesystem, as in `/etc/passwd`.\n",
    "    \n",
    "- Windows\n",
    "    - If we give a filename without any `\\` characters, we assume the file is in the same directory as Python is running.\n",
    "    - If the filename contains a `\\` but doesn't start with it, then it's a *relative path*, and Python will try to open it relative to the current directory. So `abc\\def.txt` will be the file `def.txt` in the `abc` subdirectory of the current directory.\n",
    "    - If the filename *starts* with `c:\\`, then Python will start at the top of that disk in looking for the file, as in `c:\\etc\\passwd`.\n"
   ]
  },
  {
   "cell_type": "markdown",
   "id": "c9d6acf3",
   "metadata": {},
   "source": [
    "# code -> Markdown -> code\n",
    "\n",
    "- I can switch a cell to code mode by going into command mode (ESC) and then `y`.\n",
    "- I can switch a cell to Markdown mode by going into command mode (ESC) and then `m`.\n",
    "\n",
    "shift-Enter  executes Python code, but renders Markdown into HTML."
   ]
  },
  {
   "cell_type": "markdown",
   "id": "227812c5",
   "metadata": {},
   "source": [
    "# Next up\n",
    "\n",
    "1. Exercise with reading from files\n",
    "    - Simple reading from a file\n",
    "    - More advanced reading\n",
    "2. Writing to files\n",
    "    - the `with` construct\n",
    "    - writing a dict to a config file\n",
    "    \n",
    "Download this zipfile: https://files.lerner.co.il/exercise-files.zip    \n",
    "    "
   ]
  },
  {
   "cell_type": "code",
   "execution_count": 92,
   "id": "31b0d645",
   "metadata": {},
   "outputs": [
    {
     "data": {
      "text/plain": [
       "'/Users/reuven/Courses/Current/oreilly-2023-05May-python'"
      ]
     },
     "execution_count": 92,
     "metadata": {},
     "output_type": "execute_result"
    }
   ],
   "source": [
    "%pwd"
   ]
  },
  {
   "cell_type": "markdown",
   "id": "6957eae6",
   "metadata": {},
   "source": [
    "# Recap: Reading from files\n",
    "\n",
    "1. We have to use `open` to start working with a file. By default, we can only read from files when we open them, and they have to be text files.\n",
    "2. We say `open(filename)`, where `filename` is any filename, relative path, or absolute path on your filesystem. (You need to have permission to read from it, of course.)\n",
    "3. If you want, you could then run the `.read()` method on the file object you get back from `open`. But that's often going to be dangerous, because you don't know how big the file is, and reading one very big string could cause very big problems.\n",
    "4. It's best, and most Pythonic, to iterate over a file object:\n",
    "    - Each iteration uses only as much memory as one line in the file\n",
    "    - With each iteration, we get back a string ending with `\\n`\n",
    "    - The `for` loop ends automatically when we get to the end of the file\n",
    "    - You can use `if` to filter lines of the file you don't want\n",
    "    - You can use `split` to break the line into a list, when that's appropriate"
   ]
  },
  {
   "cell_type": "markdown",
   "id": "892e29c8",
   "metadata": {},
   "source": [
    "# Exercise: Summing numbers\n",
    "\n",
    "1. There is a file (in my zipfile, and the GitHub repo) called `nums.txt`. In that file, each line contains one integer, surrounded by some amount of whitespace. That's true except for one line with only whitespace and no integer.\n",
    "2. Go through this file, one line at a time, and sum/add the numbers.\n",
    "\n"
   ]
  },
  {
   "cell_type": "code",
   "execution_count": 93,
   "id": "e7557c5d",
   "metadata": {},
   "outputs": [
    {
     "name": "stdout",
     "output_type": "stream",
     "text": [
      "5\r\n",
      "\t10     \r\n",
      "\t20\r\n",
      "  \t3\r\n",
      "\t\t   \t20        \r\n",
      "\r\n",
      " 25\r\n"
     ]
    }
   ],
   "source": [
    "!cat nums.txt"
   ]
  },
  {
   "cell_type": "markdown",
   "id": "94af3d9b",
   "metadata": {},
   "source": [
    "Some hints:\n",
    "\n",
    "- Go through the file, one line at a time, with `for`\n",
    "- How can you turn the digits in that string into an integer? (`int`)\n",
    "- How can you remove the leading/trailing whitespace on each line? (`strip`)\n",
    "- How can you avoid problems with the single blank line? One option: (`strip` and checking if the result is an empty string)"
   ]
  },
  {
   "cell_type": "markdown",
   "id": "2e12fde5",
   "metadata": {},
   "source": [
    "If you're using Windows, then remember that Windows uses `\\` to separate paths. Python uses `\\` to indicate that we're about to get a special character in a string.\n",
    "\n",
    "This can and will collide!  You thus either want to double your backslashes (so Python ignores them) or use a raw string, with an `r` before the opening quote in a string."
   ]
  },
  {
   "cell_type": "code",
   "execution_count": 94,
   "id": "6420ee54",
   "metadata": {},
   "outputs": [
    {
     "data": {
      "text/plain": [
       "'/Users/reuven/Courses/Current/oreilly-2023-05May-python'"
      ]
     },
     "execution_count": 94,
     "metadata": {},
     "output_type": "execute_result"
    }
   ],
   "source": [
    "%pwd"
   ]
  },
  {
   "cell_type": "code",
   "execution_count": 95,
   "id": "51c12ceb",
   "metadata": {},
   "outputs": [
    {
     "ename": "FileNotFoundError",
     "evalue": "[Errno 2] No such file or directory: 'subdir/file.txt'",
     "output_type": "error",
     "traceback": [
      "\u001b[0;31m---------------------------------------------------------------------------\u001b[0m",
      "\u001b[0;31mFileNotFoundError\u001b[0m                         Traceback (most recent call last)",
      "Cell \u001b[0;32mIn [95], line 4\u001b[0m\n\u001b[1;32m      1\u001b[0m \u001b[38;5;66;03m# if I want to open a file in a subdirectory of the current directory (as seen above in %pwd), then\u001b[39;00m\n\u001b[1;32m      2\u001b[0m \u001b[38;5;66;03m# I can say\u001b[39;00m\n\u001b[0;32m----> 4\u001b[0m \u001b[38;5;28;43mopen\u001b[39;49m\u001b[43m(\u001b[49m\u001b[38;5;124;43m'\u001b[39;49m\u001b[38;5;124;43msubdir/file.txt\u001b[39;49m\u001b[38;5;124;43m'\u001b[39;49m\u001b[43m)\u001b[49m    \u001b[38;5;66;03m# subdir must exist, as must file.txt\u001b[39;00m\n",
      "File \u001b[0;32m/usr/local/lib/python3.11/site-packages/IPython/core/interactiveshell.py:282\u001b[0m, in \u001b[0;36m_modified_open\u001b[0;34m(file, *args, **kwargs)\u001b[0m\n\u001b[1;32m    275\u001b[0m \u001b[38;5;28;01mif\u001b[39;00m file \u001b[38;5;129;01min\u001b[39;00m {\u001b[38;5;241m0\u001b[39m, \u001b[38;5;241m1\u001b[39m, \u001b[38;5;241m2\u001b[39m}:\n\u001b[1;32m    276\u001b[0m     \u001b[38;5;28;01mraise\u001b[39;00m \u001b[38;5;167;01mValueError\u001b[39;00m(\n\u001b[1;32m    277\u001b[0m         \u001b[38;5;124mf\u001b[39m\u001b[38;5;124m\"\u001b[39m\u001b[38;5;124mIPython won\u001b[39m\u001b[38;5;124m'\u001b[39m\u001b[38;5;124mt let you open fd=\u001b[39m\u001b[38;5;132;01m{\u001b[39;00mfile\u001b[38;5;132;01m}\u001b[39;00m\u001b[38;5;124m by default \u001b[39m\u001b[38;5;124m\"\u001b[39m\n\u001b[1;32m    278\u001b[0m         \u001b[38;5;124m\"\u001b[39m\u001b[38;5;124mas it is likely to crash IPython. If you know what you are doing, \u001b[39m\u001b[38;5;124m\"\u001b[39m\n\u001b[1;32m    279\u001b[0m         \u001b[38;5;124m\"\u001b[39m\u001b[38;5;124myou can use builtins\u001b[39m\u001b[38;5;124m'\u001b[39m\u001b[38;5;124m open.\u001b[39m\u001b[38;5;124m\"\u001b[39m\n\u001b[1;32m    280\u001b[0m     )\n\u001b[0;32m--> 282\u001b[0m \u001b[38;5;28;01mreturn\u001b[39;00m \u001b[43mio_open\u001b[49m\u001b[43m(\u001b[49m\u001b[43mfile\u001b[49m\u001b[43m,\u001b[49m\u001b[43m \u001b[49m\u001b[38;5;241;43m*\u001b[39;49m\u001b[43margs\u001b[49m\u001b[43m,\u001b[49m\u001b[43m \u001b[49m\u001b[38;5;241;43m*\u001b[39;49m\u001b[38;5;241;43m*\u001b[39;49m\u001b[43mkwargs\u001b[49m\u001b[43m)\u001b[49m\n",
      "\u001b[0;31mFileNotFoundError\u001b[0m: [Errno 2] No such file or directory: 'subdir/file.txt'"
     ]
    }
   ],
   "source": [
    "# if I want to open a file in a subdirectory of the current directory (as seen above in %pwd), then\n",
    "# I can say\n",
    "\n",
    "open('subdir/file.txt')    # subdir must exist, as must file.txt"
   ]
  },
  {
   "cell_type": "code",
   "execution_count": null,
   "id": "39750f43",
   "metadata": {},
   "outputs": [],
   "source": [
    "# this means:\n",
    "# 1. I'm on a Windows machine\n",
    "# 2. The Windows path starts with \\ -- which is not true!\n",
    "# 3. there is a directory at the root of the disk called exercise-files\n",
    "# 4. there is a file called nums.txt in that directory\n",
    "\n",
    "f=open('exercise-files\\\\nums.txt')"
   ]
  },
  {
   "cell_type": "code",
   "execution_count": 100,
   "id": "4ab32e83",
   "metadata": {},
   "outputs": [
    {
     "data": {
      "text/plain": [
       "'/Users/reuven/Courses/Current/oreilly-2023-05May-python'"
      ]
     },
     "execution_count": 100,
     "metadata": {},
     "output_type": "execute_result"
    }
   ],
   "source": [
    "import os\n",
    "os.getcwd()  # this returns a string, the current working directory"
   ]
  },
  {
   "cell_type": "code",
   "execution_count": 104,
   "id": "0256f473",
   "metadata": {},
   "outputs": [
    {
     "name": "stdout",
     "output_type": "stream",
     "text": [
      "Bad line -- ignoring\n",
      "83\n"
     ]
    }
   ],
   "source": [
    "# iterate over the lines of the file\n",
    "# because the file is in the current directory, I don't have any special path stuff to do \n",
    "\n",
    "total = 0\n",
    "for one_line in open('nums.txt'):      # go through the file, one line at a time\n",
    "    if one_line.strip() == '':         # if, after removing whitespace, nothing is left...\n",
    "        print('Bad line -- ignoring')  #   ... ignore the line\n",
    "    else:                              # if there's something left on the line...\n",
    "        total += int(one_line)         #   ... turn it into an int, and add to total\n",
    "        \n",
    "print(total)        "
   ]
  },
  {
   "cell_type": "code",
   "execution_count": 105,
   "id": "5583ec73",
   "metadata": {},
   "outputs": [
    {
     "name": "stdout",
     "output_type": "stream",
     "text": [
      "Bad line -- ignoring\n",
      "83\n"
     ]
    }
   ],
   "source": [
    "# even more robust version -- check that after stripping, a line only has digits\n",
    "\n",
    "total = 0\n",
    "for one_line in open('nums.txt'):       # go through the file, one line at a time\n",
    "    if not one_line.strip().isdigit():  # remove whitespace, and check that only digits are left\n",
    "        print('Bad line -- ignoring')   #   ... ignore the line\n",
    "    else:                               # if there's something left on the line...\n",
    "        total += int(one_line)          #   ... turn it into an int, and add to total\n",
    "        \n",
    "print(total)        "
   ]
  },
  {
   "cell_type": "code",
   "execution_count": 106,
   "id": "bade8d54",
   "metadata": {},
   "outputs": [
    {
     "name": "stdout",
     "output_type": "stream",
     "text": [
      "Bad line -- ignoring\n",
      "83\n"
     ]
    }
   ],
   "source": [
    "# what if this file were in a subdirectory of the current directory?\n",
    "\n",
    "filename = 'data/also-nums.txt'    # this is the file in a subdirectory\n",
    "\n",
    "total = 0\n",
    "for one_line in open(filename):         # go through the file, one line at a time\n",
    "    if not one_line.strip().isdigit():  # remove whitespace, and check that only digits are left\n",
    "        print('Bad line -- ignoring')   #   ... ignore the line\n",
    "    else:                               # if there's something left on the line...\n",
    "        total += int(one_line)          #   ... turn it into an int, and add to total\n",
    "        \n",
    "print(total)        "
   ]
  },
  {
   "cell_type": "markdown",
   "id": "c3bfe2b6",
   "metadata": {},
   "source": [
    "# Another example of reading from a file...\n",
    "# ... counting IP addresses\n",
    "\n",
    "I have a file `mini-access-log.txt`, which contains log info from a Web server years ago.\n",
    "\n",
    "I want a dict containing the IP addresses and how many times each address accessed our server."
   ]
  },
  {
   "cell_type": "code",
   "execution_count": 107,
   "id": "4bfae9c8",
   "metadata": {},
   "outputs": [
    {
     "name": "stdout",
     "output_type": "stream",
     "text": [
      "67.218.116.165 - - [30/Jan/2010:00:03:18 +0200] \"GET /robots.txt HTTP/1.0\" 200 99 \"-\" \"Mozilla/5.0 (Twiceler-0.9 http://www.cuil.com/twiceler/robot.html)\"\r\n",
      "66.249.71.65 - - [30/Jan/2010:00:12:06 +0200] \"GET /browse/one_node/1557 HTTP/1.1\" 200 39208 \"-\" \"Mozilla/5.0 (compatible; Googlebot/2.1; +http://www.google.com/bot.html)\"\r\n",
      "65.55.106.183 - - [30/Jan/2010:01:29:23 +0200] \"GET /robots.txt HTTP/1.1\" 200 99 \"-\" \"msnbot/2.0b (+http://search.msn.com/msnbot.htm)\"\r\n",
      "65.55.106.183 - - [30/Jan/2010:01:30:06 +0200] \"GET /browse/one_model/2162 HTTP/1.1\" 200 2181 \"-\" \"msnbot/2.0b (+http://search.msn.com/msnbot.htm)\"\r\n",
      "66.249.71.65 - - [30/Jan/2010:02:07:14 +0200] \"GET /browse/browse_applet_tab/2593 HTTP/1.1\" 200 10305 \"-\" \"Mozilla/5.0 (compatible; Googlebot/2.1; +http://www.google.com/bot.html)\"\r\n",
      "66.249.71.65 - - [30/Jan/2010:02:10:39 +0200] \"GET /browse/browse_files_tab/2499?tab=true HTTP/1.1\" 200 446 \"-\" \"Mozilla/5.0 (compatible; Googlebot/2.1; +http://www.google.com/bot.html)\"\r\n",
      "66.249.65.12 - - [30/Jan/2010:03:13:34 +0200] \"GET /robots.txt HTTP/1.1\" 200 99 \"-\" \"Mozilla/5.0 (compatible; Googlebot/2.1; +http://www.google.com/bot.html)\"\r\n",
      "66.249.65.12 - - [30/Jan/2010:03:13:34 +0200] \"GET /browse/one_node/2715 HTTP/1.1\" 200 26433 \"-\" \"Mozilla/5.0 (compatible; Googlebot/2.1; +http://www.google.com/bot.html)\"\r\n",
      "66.249.65.12 - - [30/Jan/2010:03:43:39 +0200] \"GET /browse/download_model/1969 HTTP/1.1\" 200 31713 \"-\" \"Mozilla/5.0 (compatible; Googlebot/2.1; +http://www.google.com/bot.html)\"\r\n",
      "66.249.65.12 - - [30/Jan/2010:04:05:43 +0200] \"GET /browse/one_node/1406 HTTP/1.1\" 302 118 \"-\" \"Mozilla/5.0 (compatible; Googlebot/2.1; +http://www.google.com/bot.html)\"\r\n"
     ]
    }
   ],
   "source": [
    "!head mini-access-log.txt"
   ]
  },
  {
   "cell_type": "code",
   "execution_count": 108,
   "id": "17bc70f1",
   "metadata": {},
   "outputs": [
    {
     "name": "stdout",
     "output_type": "stream",
     "text": [
      "67.218.116.165 - - [30/Jan/2010:00:03:18 +0200] \"GET /robots.txt HTTP/1.0\" 200 99 \"-\" \"Mozilla/5.0 (Twiceler-0.9 http://www.cuil.com/twiceler/robot.html)\"\n",
      "\n",
      "66.249.71.65 - - [30/Jan/2010:00:12:06 +0200] \"GET /browse/one_node/1557 HTTP/1.1\" 200 39208 \"-\" \"Mozilla/5.0 (compatible; Googlebot/2.1; +http://www.google.com/bot.html)\"\n",
      "\n",
      "65.55.106.183 - - [30/Jan/2010:01:29:23 +0200] \"GET /robots.txt HTTP/1.1\" 200 99 \"-\" \"msnbot/2.0b (+http://search.msn.com/msnbot.htm)\"\n",
      "\n",
      "65.55.106.183 - - [30/Jan/2010:01:30:06 +0200] \"GET /browse/one_model/2162 HTTP/1.1\" 200 2181 \"-\" \"msnbot/2.0b (+http://search.msn.com/msnbot.htm)\"\n",
      "\n",
      "66.249.71.65 - - [30/Jan/2010:02:07:14 +0200] \"GET /browse/browse_applet_tab/2593 HTTP/1.1\" 200 10305 \"-\" \"Mozilla/5.0 (compatible; Googlebot/2.1; +http://www.google.com/bot.html)\"\n",
      "\n",
      "66.249.71.65 - - [30/Jan/2010:02:10:39 +0200] \"GET /browse/browse_files_tab/2499?tab=true HTTP/1.1\" 200 446 \"-\" \"Mozilla/5.0 (compatible; Googlebot/2.1; +http://www.google.com/bot.html)\"\n",
      "\n",
      "66.249.65.12 - - [30/Jan/2010:03:13:34 +0200] \"GET /robots.txt HTTP/1.1\" 200 99 \"-\" \"Mozilla/5.0 (compatible; Googlebot/2.1; +http://www.google.com/bot.html)\"\n",
      "\n",
      "66.249.65.12 - - [30/Jan/2010:03:13:34 +0200] \"GET /browse/one_node/2715 HTTP/1.1\" 200 26433 \"-\" \"Mozilla/5.0 (compatible; Googlebot/2.1; +http://www.google.com/bot.html)\"\n",
      "\n",
      "66.249.65.12 - - [30/Jan/2010:03:43:39 +0200] \"GET /browse/download_model/1969 HTTP/1.1\" 200 31713 \"-\" \"Mozilla/5.0 (compatible; Googlebot/2.1; +http://www.google.com/bot.html)\"\n",
      "\n",
      "66.249.65.12 - - [30/Jan/2010:04:05:43 +0200] \"GET /browse/one_node/1406 HTTP/1.1\" 302 118 \"-\" \"Mozilla/5.0 (compatible; Googlebot/2.1; +http://www.google.com/bot.html)\"\n",
      "\n",
      "66.249.65.12 - - [30/Jan/2010:04:05:51 +0200] \"GET /browse/one_model/1406 HTTP/1.1\" 200 2179 \"-\" \"Mozilla/5.0 (compatible; Googlebot/2.1; +http://www.google.com/bot.html)\"\n",
      "\n",
      "65.55.106.131 - - [30/Jan/2010:04:24:33 +0200] \"GET /robots.txt HTTP/1.1\" 200 99 \"-\" \"msnbot/2.0b (+http://search.msn.com/msnbot.htm)\"\n",
      "\n",
      "65.55.106.131 - - [30/Jan/2010:04:25:36 +0200] \"GET /browse/one_model/1200 HTTP/1.1\" 200 2180 \"-\" \"msnbot/2.0b (+http://search.msn.com/msnbot.htm)\"\n",
      "\n",
      "66.249.65.12 - - [30/Jan/2010:04:34:36 +0200] \"GET /browse/download_model/2170 HTTP/1.1\" 200 11772 \"-\" \"Mozilla/5.0 (compatible; Googlebot/2.1; +http://www.google.com/bot.html)\"\n",
      "\n",
      "66.249.65.12 - - [30/Jan/2010:04:39:37 +0200] \"GET /browse/browse_preview_tab/2499?tab=true HTTP/1.1\" 200 452 \"-\" \"Mozilla/5.0 (compatible; Googlebot/2.1; +http://www.google.com/bot.html)\"\n",
      "\n",
      "66.249.65.12 - - [30/Jan/2010:05:03:34 +0200] \"GET /browse/download_model/2244 HTTP/1.1\" 200 7215 \"-\" \"Mozilla/5.0 (compatible; Googlebot/2.1; +http://www.google.com/bot.html)\"\n",
      "\n",
      "66.249.65.12 - - [30/Jan/2010:05:32:31 +0200] \"GET /browse/download_model/1002 HTTP/1.1\" 200 3658 \"-\" \"Mozilla/5.0 (compatible; Googlebot/2.1; +http://www.google.com/bot.html)\"\n",
      "\n",
      "66.249.65.12 - - [30/Jan/2010:06:01:22 +0200] \"GET /browse/download_model/1200 HTTP/1.1\" 200 31950 \"-\" \"Mozilla/5.0 (compatible; Googlebot/2.1; +http://www.google.com/bot.html)\"\n",
      "\n",
      "66.249.65.12 - - [30/Jan/2010:06:30:19 +0200] \"GET /browse/download_model/2463 HTTP/1.1\" 200 3357 \"-\" \"Mozilla/5.0 (compatible; Googlebot/2.1; +http://www.google.com/bot.html)\"\n",
      "\n",
      "66.249.65.12 - - [30/Jan/2010:06:59:14 +0200] \"GET /browse/download_model/1861 HTTP/1.1\" 200 5136 \"-\" \"Mozilla/5.0 (compatible; Googlebot/2.1; +http://www.google.com/bot.html)\"\n",
      "\n",
      "65.55.106.186 - - [30/Jan/2010:07:07:13 +0200] \"GET /robots.txt HTTP/1.1\" 200 99 \"-\" \"msnbot/2.0b (+http://search.msn.com/msnbot.htm)\"\n",
      "\n",
      "65.55.106.186 - - [30/Jan/2010:07:08:06 +0200] \"GET /browse/about HTTP/1.1\" 200 2315 \"-\" \"msnbot/2.0b (+http://search.msn.com/msnbot.htm)\"\n",
      "\n",
      "66.249.65.12 - - [30/Jan/2010:07:28:09 +0200] \"GET /browse/download_model/1712 HTTP/1.1\" 200 11605 \"-\" \"Mozilla/5.0 (compatible; Googlebot/2.1; +http://www.google.com/bot.html)\"\n",
      "\n",
      "66.249.65.12 - - [30/Jan/2010:07:57:06 +0200] \"GET /browse/download_model/1192 HTTP/1.1\" 200 31656 \"-\" \"Mozilla/5.0 (compatible; Googlebot/2.1; +http://www.google.com/bot.html)\"\n",
      "\n",
      "66.249.65.12 - - [30/Jan/2010:08:26:00 +0200] \"GET /browse/download_model/1140 HTTP/1.1\" 200 4370 \"-\" \"Mozilla/5.0 (compatible; Googlebot/2.1; +http://www.google.com/bot.html)\"\n",
      "\n",
      "74.52.245.146 - - [30/Jan/2010:08:40:26 +0200] \"GET / HTTP/1.0\" 302 110 \"-\" \"Mozilla/5.0 (X11; U; Linux i686; en-US; rv:1.7.5) Gecko/20041107 Firefox/1.0\"\n",
      "\n",
      "74.52.245.146 - - [30/Jan/2010:08:40:26 +0200] \"GET /account/login HTTP/1.0\" 200 5801 \"-\" \"Mozilla/5.0 (X11; U; Linux i686; en-US; rv:1.7.5) Gecko/20041107 Firefox/1.0\"\n",
      "\n",
      "66.249.65.43 - - [30/Jan/2010:08:44:51 +0200] \"GET /robots.txt HTTP/1.1\" 200 99 \"-\" \"Mozilla/5.0 (compatible; Googlebot/2.1; +http://www.google.com/bot.html)\"\n",
      "\n",
      "66.249.65.43 - - [30/Jan/2010:08:44:52 +0200] \"GET / HTTP/1.1\" 302 112 \"-\" \"Mozilla/5.0 (compatible; Googlebot/2.1; +http://www.google.com/bot.html)\"\n",
      "\n",
      "66.249.65.43 - - [30/Jan/2010:08:44:52 +0200] \"GET /account/login HTTP/1.1\" 200 1935 \"-\" \"Mozilla/5.0 (compatible; Googlebot/2.1; +http://www.google.com/bot.html)\"\n",
      "\n",
      "66.249.65.12 - - [30/Jan/2010:08:54:53 +0200] \"GET /browse/download_model/2152 HTTP/1.1\" 200 7285 \"-\" \"Mozilla/5.0 (compatible; Googlebot/2.1; +http://www.google.com/bot.html)\"\n",
      "\n",
      "66.249.65.12 - - [30/Jan/2010:09:23:46 +0200] \"GET /browse/download_model/796 HTTP/1.1\" 200 3241 \"-\" \"Mozilla/5.0 (compatible; Googlebot/2.1; +http://www.google.com/bot.html)\"\n",
      "\n",
      "66.249.65.12 - - [30/Jan/2010:09:52:42 +0200] \"GET /browse/one_node/2177 HTTP/1.1\" 200 1556 \"-\" \"Mozilla/5.0 (compatible; Googlebot/2.1; +http://www.google.com/bot.html)\"\n",
      "\n",
      "66.249.65.12 - - [30/Jan/2010:10:21:43 +0200] \"GET /browse/one_node/2163 HTTP/1.1\" 200 4124 \"-\" \"Mozilla/5.0 (compatible; Googlebot/2.1; +http://www.google.com/bot.html)\"\n",
      "\n",
      "66.249.65.12 - - [30/Jan/2010:10:50:35 +0200] \"GET /browse/one_node/1193 HTTP/1.1\" 200 29168 \"-\" \"Mozilla/5.0 (compatible; Googlebot/2.1; +http://www.google.com/bot.html)\"\n",
      "\n",
      "66.249.65.12 - - [30/Jan/2010:11:19:27 +0200] \"GET /browse/one_node/1241 HTTP/1.1\" 200 7032 \"-\" \"Mozilla/5.0 (compatible; Googlebot/2.1; +http://www.google.com/bot.html)\"\n",
      "\n",
      "65.55.207.25 - - [30/Jan/2010:11:43:56 +0200] \"GET /robots.txt HTTP/1.1\" 200 99 \"-\" \"msnbot/2.0b (+http://search.msn.com/msnbot.htm)\"\n",
      "\n",
      "65.55.207.25 - - [30/Jan/2010:11:44:35 +0200] \"GET /help HTTP/1.1\" 304 - \"-\" \"msnbot/2.0b (+http://search.msn.com/msnbot.htm)\"\n",
      "\n",
      "66.249.65.12 - - [30/Jan/2010:11:48:31 +0200] \"GET /browse/download_model/2508 HTTP/1.1\" 200 11374 \"-\" \"Mozilla/5.0 (compatible; Googlebot/2.1; +http://www.google.com/bot.html)\"\n",
      "\n",
      "66.249.65.12 - - [30/Jan/2010:12:17:24 +0200] \"GET /browse/one_node/2509 HTTP/1.1\" 200 4766 \"-\" \"Mozilla/5.0 (compatible; Googlebot/2.1; +http://www.google.com/bot.html)\"\n",
      "\n",
      "66.249.65.12 - - [30/Jan/2010:12:46:17 +0200] \"GET /browse/one_node/1233 HTTP/1.1\" 200 79301 \"-\" \"Mozilla/5.0 (compatible; Googlebot/2.1; +http://www.google.com/bot.html)\"\n",
      "\n",
      "66.249.65.12 - - [30/Jan/2010:13:15:09 +0200] \"GET /browse/download_model/2508?version=1819 HTTP/1.1\" 200 11374 \"-\" \"Mozilla/5.0 (compatible; Googlebot/2.1; +http://www.google.com/bot.html)\"\n",
      "\n",
      "66.249.65.12 - - [30/Jan/2010:13:44:01 +0200] \"GET /browse/download_model/2508?version=1821 HTTP/1.1\" 200 11374 \"-\" \"Mozilla/5.0 (compatible; Googlebot/2.1; +http://www.google.com/bot.html)\"\n",
      "\n",
      "66.249.65.12 - - [30/Jan/2010:14:12:55 +0200] \"GET /browse/download_model/902 HTTP/1.1\" 200 5050 \"-\" \"Mozilla/5.0 (compatible; Googlebot/2.1; +http://www.google.com/bot.html)\"\n",
      "\n",
      "66.249.65.12 - - [30/Jan/2010:14:42:01 +0200] \"GET /browse/download_model/1679 HTTP/1.1\" 200 11290 \"-\" \"Mozilla/5.0 (compatible; Googlebot/2.1; +http://www.google.com/bot.html)\"\n",
      "\n",
      "65.55.207.94 - - [30/Jan/2010:15:02:52 +0200] \"GET /robots.txt HTTP/1.1\" 200 99 \"-\" \"msnbot/2.0b (+http://search.msn.com/msnbot.htm)\"\n",
      "\n",
      "65.55.207.94 - - [30/Jan/2010:15:03:36 +0200] \"GET /browse/one_model/900 HTTP/1.1\" 200 2165 \"-\" \"msnbot/2.0b (+http://search.msn.com/msnbot.htm)\"\n",
      "\n",
      "66.249.65.12 - - [30/Jan/2010:15:10:51 +0200] \"GET /browse/download_model/1612 HTTP/1.1\" 200 30540 \"-\" \"Mozilla/5.0 (compatible; Googlebot/2.1; +http://www.google.com/bot.html)\"\n",
      "\n",
      "65.55.207.71 - - [30/Jan/2010:15:32:04 +0200] \"GET /account/new HTTP/1.1\" 304 - \"-\" \"msnbot/2.0b (+http://search.msn.com/msnbot.htm)\"\n",
      "\n",
      "66.249.65.12 - - [30/Jan/2010:15:39:45 +0200] \"GET /browse/download_model/892 HTTP/1.1\" 200 4195 \"-\" \"Mozilla/5.0 (compatible; Googlebot/2.1; +http://www.google.com/bot.html)\"\n",
      "\n",
      "66.249.65.12 - - [30/Jan/2010:15:52:21 +0200] \"GET /system/avatars/7/thumb/fractal-tree-on-transparent-sm.png?1237131134 HTTP/1.1\" 304 - \"-\" \"Googlebot-Image/1.0\"\n",
      "\n",
      "66.249.65.12 - - [30/Jan/2010:16:08:36 +0200] \"GET /browse/download_model/1865 HTTP/1.1\" 200 19432 \"-\" \"Mozilla/5.0 (compatible; Googlebot/2.1; +http://www.google.com/bot.html)\"\n",
      "\n",
      "98.242.170.241 - - [30/Jan/2010:16:10:49 +0200] \"GET /dvdrental.com HTTP/1.1\" 404 947 \"http://www.dvdrental.com/modelingcommons.org\" \"Opera/9.80 (Windows NT 5.2; U; en) Presto/2.2.15 Version/10.10\"\n",
      "\n",
      "66.249.65.38 - - [30/Jan/2010:16:37:33 +0200] \"GET /browse/download_model/914 HTTP/1.1\" 200 6181 \"-\" \"Mozilla/5.0 (compatible; Googlebot/2.1; +http://www.google.com/bot.html)\"\n",
      "\n",
      "66.249.65.38 - - [30/Jan/2010:16:45:12 +0200] \"GET /browse/browse_applet_tab/2593?tab=true HTTP/1.1\" 200 10237 \"-\" \"Mozilla/5.0 (compatible; Googlebot/2.1; +http://www.google.com/bot.html)\"\n",
      "\n",
      "66.249.65.38 - - [30/Jan/2010:17:02:28 +0200] \"GET /javascripts/application.js?1264605648 HTTP/1.1\" 200 698 \"-\" \"Mozilla/5.0 (compatible; Googlebot/2.1; +http://www.google.com/bot.html)\"\n",
      "\n",
      "66.249.65.38 - - [30/Jan/2010:17:02:29 +0200] \"GET /stylesheets/browse.css?1264605648 HTTP/1.1\" 200 422 \"-\" \"Mozilla/5.0 (compatible; Googlebot/2.1; +http://www.google.com/bot.html)\"\n",
      "\n",
      "66.249.65.38 - - [30/Jan/2010:17:02:30 +0200] \"GET /javascripts/jquery.livequery.js?1264605648 HTTP/1.1\" 200 2135 \"-\" \"Mozilla/5.0 (compatible; Googlebot/2.1; +http://www.google.com/bot.html)\"\n",
      "\n",
      "66.249.65.38 - - [30/Jan/2010:17:02:30 +0200] \"GET /javascripts/jrails.js?1264605648 HTTP/1.1\" 200 1093 \"-\" \"Mozilla/5.0 (compatible; Googlebot/2.1; +http://www.google.com/bot.html)\"\n",
      "\n",
      "66.249.65.38 - - [30/Jan/2010:17:02:31 +0200] \"GET /stylesheets/themes/nlcommons/ui.all.css?1264605648 HTTP/1.1\" 200 52 \"-\" \"Mozilla/5.0 (compatible; Googlebot/2.1; +http://www.google.com/bot.html)\"\n",
      "\n",
      "66.249.65.38 - - [30/Jan/2010:17:02:31 +0200] \"GET /stylesheets/jquery.autocomplete.css?1264605648 HTTP/1.1\" 200 447 \"-\" \"Mozilla/5.0 (compatible; Googlebot/2.1; +http://www.google.com/bot.html)\"\n",
      "\n",
      "66.249.65.38 - - [30/Jan/2010:17:02:32 +0200] \"GET /stylesheets/nlcommons.css?1264605648 HTTP/1.1\" 200 1179 \"-\" \"Mozilla/5.0 (compatible; Googlebot/2.1; +http://www.google.com/bot.html)\"\n",
      "\n",
      "66.249.65.38 - - [30/Jan/2010:17:02:32 +0200] \"GET /javascripts/jquery.dataTables.js?1264605648 HTTP/1.1\" 200 15537 \"-\" \"Mozilla/5.0 (compatible; Googlebot/2.1; +http://www.google.com/bot.html)\"\n",
      "\n",
      "66.249.65.38 - - [30/Jan/2010:17:02:33 +0200] \"GET /javascripts/jquery.js?1264605648 HTTP/1.1\" 200 19740 \"-\" \"Mozilla/5.0 (compatible; Googlebot/2.1; +http://www.google.com/bot.html)\"\n",
      "\n",
      "66.249.65.38 - - [30/Jan/2010:17:02:34 +0200] \"GET /javascripts/nlcommons.js?1264605648 HTTP/1.1\" 200 20 \"-\" \"Mozilla/5.0 (compatible; Googlebot/2.1; +http://www.google.com/bot.html)\"\n",
      "\n",
      "66.249.65.38 - - [30/Jan/2010:17:02:34 +0200] \"GET /javascripts/jquery-ui.js?1264605648 HTTP/1.1\" 200 72080 \"-\" \"Mozilla/5.0 (compatible; Googlebot/2.1; +http://www.google.com/bot.html)\"\n",
      "\n",
      "66.249.65.38 - - [30/Jan/2010:17:02:35 +0200] \"GET /javascripts/jquery.autocomplete.js?1264605648 HTTP/1.1\" 200 6433 \"-\" \"Mozilla/5.0 (compatible; Googlebot/2.1; +http://www.google.com/bot.html)\"\n",
      "\n",
      "66.249.65.38 - - [30/Jan/2010:17:03:16 +0200] \"GET /stylesheets/themes/nlcommons/ui.base.css HTTP/1.1\" 200 111 \"-\" \"Mozilla/5.0 (compatible; Googlebot/2.1; +http://www.google.com/bot.html)\"\n",
      "\n",
      "66.249.65.38 - - [30/Jan/2010:17:03:16 +0200] \"GET /stylesheets/themes/nlcommons/ui.theme.css HTTP/1.1\" 200 2862 \"-\" \"Mozilla/5.0 (compatible; Googlebot/2.1; +http://www.google.com/bot.html)\"\n",
      "\n",
      "66.249.65.38 - - [30/Jan/2010:17:03:30 +0200] \"GET /stylesheets/themes/nlcommons/ui.core.css HTTP/1.1\" 200 624 \"-\" \"Mozilla/5.0 (compatible; Googlebot/2.1; +http://www.google.com/bot.html)\"\n",
      "\n",
      "66.249.65.38 - - [30/Jan/2010:17:03:31 +0200] \"GET /stylesheets/themes/nlcommons/ui.accordion.css HTTP/1.1\" 200 295 \"-\" \"Mozilla/5.0 (compatible; Googlebot/2.1; +http://www.google.com/bot.html)\"\n",
      "\n",
      "66.249.65.38 - - [30/Jan/2010:17:03:31 +0200] \"GET /stylesheets/themes/nlcommons/ui.datepicker.css HTTP/1.1\" 200 965 \"-\" \"Mozilla/5.0 (compatible; Googlebot/2.1; +http://www.google.com/bot.html)\"\n",
      "\n",
      "66.249.65.38 - - [30/Jan/2010:17:03:32 +0200] \"GET /stylesheets/themes/nlcommons/ui.dialog.css HTTP/1.1\" 200 442 \"-\" \"Mozilla/5.0 (compatible; Googlebot/2.1; +http://www.google.com/bot.html)\"\n",
      "\n",
      "66.249.65.38 - - [30/Jan/2010:17:03:32 +0200] \"GET /stylesheets/themes/nlcommons/ui.slider.css HTTP/1.1\" 200 318 \"-\" \"Mozilla/5.0 (compatible; Googlebot/2.1; +http://www.google.com/bot.html)\"\n",
      "\n",
      "66.249.65.38 - - [30/Jan/2010:17:03:33 +0200] \"GET /stylesheets/themes/nlcommons/ui.progressbar.css HTTP/1.1\" 200 114 \"-\" \"Mozilla/5.0 (compatible; Googlebot/2.1; +http://www.google.com/bot.html)\"\n",
      "\n",
      "66.249.65.38 - - [30/Jan/2010:17:03:34 +0200] \"GET /stylesheets/themes/nlcommons/ui.tabs.css HTTP/1.1\" 200 414 \"-\" \"Mozilla/5.0 (compatible; Googlebot/2.1; +http://www.google.com/bot.html)\"\n",
      "\n",
      "66.249.65.38 - - [30/Jan/2010:17:03:34 +0200] \"GET /stylesheets/themes/nlcommons/ui.resizable.css HTTP/1.1\" 200 307 \"-\" \"Mozilla/5.0 (compatible; Googlebot/2.1; +http://www.google.com/bot.html)\"\n",
      "\n",
      "66.249.65.38 - - [30/Jan/2010:17:06:29 +0200] \"GET /browse/download_model/743 HTTP/1.1\" 200 10552 \"-\" \"Mozilla/5.0 (compatible; Googlebot/2.1; +http://www.google.com/bot.html)\"\n",
      "\n",
      "66.249.65.38 - - [30/Jan/2010:17:35:24 +0200] \"GET /browse/download_model/2547 HTTP/1.1\" 200 40914 \"-\" \"Mozilla/5.0 (compatible; Googlebot/2.1; +http://www.google.com/bot.html)\"\n",
      "\n",
      "65.55.207.126 - - [30/Jan/2010:17:46:11 +0200] \"GET /robots.txt HTTP/1.1\" 200 99 \"-\" \"msnbot/2.0b (+http://search.msn.com/msnbot.htm)\"\n",
      "\n",
      "65.55.207.126 - - [30/Jan/2010:17:48:32 +0200] \"GET /browse/one_model/1002 HTTP/1.1\" 200 2173 \"-\" \"msnbot/2.0b (+http://search.msn.com/msnbot.htm)\"\n",
      "\n",
      "66.249.65.38 - - [30/Jan/2010:18:04:31 +0200] \"GET /browse/download_model/1210 HTTP/1.1\" 200 11948 \"-\" \"Mozilla/5.0 (compatible; Googlebot/2.1; +http://www.google.com/bot.html)\"\n",
      "\n",
      "66.249.65.38 - - [30/Jan/2010:18:33:30 +0200] \"GET /browse/download_model/849 HTTP/1.1\" 200 6836 \"-\" \"Mozilla/5.0 (compatible; Googlebot/2.1; +http://www.google.com/bot.html)\"\n",
      "\n",
      "66.249.65.38 - - [30/Jan/2010:18:53:53 +0200] \"GET /tags/one_tag/27 HTTP/1.1\" 200 2033 \"-\" \"Mozilla/5.0 (compatible; Googlebot/2.1; +http://www.google.com/bot.html)\"\n",
      "\n",
      "66.249.65.38 - - [30/Jan/2010:19:02:20 +0200] \"GET /browse/download_model/739 HTTP/1.1\" 200 11302 \"-\" \"Mozilla/5.0 (compatible; Googlebot/2.1; +http://www.google.com/bot.html)\"\n",
      "\n",
      "82.34.9.20 - - [30/Jan/2010:19:18:24 +0200] \"GET /account/models/33 HTTP/1.1\" 200 23774 \"http://www.google.co.uk/search?hl=en&q=%22netlogo%22+sokoban&btnG=Search&meta=&aq=f&oq=\" \"Mozilla/4.0 (compatible; MSIE 8.0; Windows NT 5.1; Trident/4.0; .NET CLR 2.0.50727; .NET CLR 3.0.4506.2152; .NET CLR 3.5.30729; InfoPath.1)\"\n",
      "\n",
      "82.34.9.20 - - [30/Jan/2010:19:18:18 +0200] \"GET /account/models/33 HTTP/1.1\" 200 23774 \"http://www.google.co.uk/search?hl=en&q=%22netlogo%22+sokoban&btnG=Search&meta=&aq=f&oq=\" \"Mozilla/4.0 (compatible; MSIE 8.0; Windows NT 5.1; Trident/4.0; .NET CLR 2.0.50727; .NET CLR 3.0.4506.2152; .NET CLR 3.5.30729; InfoPath.1)\"\n",
      "\n",
      "66.249.65.38 - - [30/Jan/2010:19:31:07 +0200] \"GET /browse/download_model/838 HTTP/1.1\" 200 7691 \"-\" \"Mozilla/5.0 (compatible; Googlebot/2.1; +http://www.google.com/bot.html)\"\n",
      "\n",
      "66.249.65.38 - - [30/Jan/2010:20:00:20 +0200] \"GET /browse/download_model/2316 HTTP/1.1\" 200 48709 \"-\" \"Mozilla/5.0 (compatible; Googlebot/2.1; +http://www.google.com/bot.html)\"\n",
      "\n",
      "66.249.65.38 - - [30/Jan/2010:20:28:55 +0200] \"GET /browse/download_model/840 HTTP/1.1\" 200 6063 \"-\" \"Mozilla/5.0 (compatible; Googlebot/2.1; +http://www.google.com/bot.html)\"\n",
      "\n",
      "66.249.65.38 - - [30/Jan/2010:20:47:05 +0200] \"GET /?id=7 HTTP/1.1\" 200 3058 \"-\" \"Mozilla/5.0 (compatible; Googlebot/2.1; +http://www.google.com/bot.html)\"\n",
      "\n",
      "66.249.65.38 - - [30/Jan/2010:20:57:43 +0200] \"GET /browse/download_model/806 HTTP/1.1\" 200 4263 \"-\" \"Mozilla/5.0 (compatible; Googlebot/2.1; +http://www.google.com/bot.html)\"\n",
      "\n",
      "66.249.65.38 - - [30/Jan/2010:21:07:44 +0200] \"GET /account/mypage/17 HTTP/1.1\" 200 3103 \"-\" \"Mozilla/5.0 (compatible; Googlebot/2.1; +http://www.google.com/bot.html)\"\n",
      "\n",
      "66.249.65.38 - - [30/Jan/2010:21:26:36 +0200] \"GET /browse/download_model/1891 HTTP/1.1\" 200 8570 \"-\" \"Mozilla/5.0 (compatible; Googlebot/2.1; +http://www.google.com/bot.html)\"\n",
      "\n",
      "66.249.65.38 - - [30/Jan/2010:21:56:01 +0200] \"GET /browse/download_model/1881 HTTP/1.1\" 200 9618 \"-\" \"Mozilla/5.0 (compatible; Googlebot/2.1; +http://www.google.com/bot.html)\"\n",
      "\n",
      "66.249.65.38 - - [30/Jan/2010:22:25:13 +0200] \"GET /browse/download_model/735 HTTP/1.1\" 200 16848 \"-\" \"Mozilla/5.0 (compatible; Googlebot/2.1; +http://www.google.com/bot.html)\"\n",
      "\n",
      "65.55.106.155 - - [30/Jan/2010:22:25:26 +0200] \"GET /robots.txt HTTP/1.1\" 200 99 \"-\" \"msnbot/2.0b (+http://search.msn.com/msnbot.htm)\"\n",
      "\n",
      "65.55.106.155 - - [30/Jan/2010:22:26:11 +0200] \"GET /account/send_password HTTP/1.1\" 304 - \"-\" \"msnbot/2.0b (+http://search.msn.com/msnbot.htm)\"\n",
      "\n",
      "66.249.65.38 - - [30/Jan/2010:22:53:40 +0200] \"GET /browse/download_model/1779 HTTP/1.1\" 200 8576 \"-\" \"Mozilla/5.0 (compatible; Googlebot/2.1; +http://www.google.com/bot.html)\"\n",
      "\n",
      "66.249.65.38 - - [30/Jan/2010:23:21:25 +0200] \"GET /browse/follow/2029.atom HTTP/1.1\" 200 653 \"-\" \"Mozilla/5.0 (compatible; Googlebot/2.1; +http://www.google.com/bot.html)\"\n",
      "\n",
      "66.249.65.38 - - [30/Jan/2010:23:22:21 +0200] \"GET /browse/download_model/788 HTTP/1.1\" 200 3865 \"-\" \"Mozilla/5.0 (compatible; Googlebot/2.1; +http://www.google.com/bot.html)\"\n",
      "\n",
      "66.249.65.38 - - [30/Jan/2010:23:28:41 +0200] \"GET /images/default-person.png?1245832850 HTTP/1.1\" 200 677 \"-\" \"Googlebot-Image/1.0\"\n",
      "\n",
      "66.249.65.38 - - [30/Jan/2010:23:53:12 +0200] \"GET /browse/download_model/2340 HTTP/1.1\" 200 30305 \"-\" \"Mozilla/5.0 (compatible; Googlebot/2.1; +http://www.google.com/bot.html)\"\n",
      "\n",
      "65.55.207.77 - - [31/Jan/2010:00:06:37 +0200] \"GET /robots.txt HTTP/1.1\" 200 99 \"-\" \"msnbot/2.0b (+http://search.msn.com/msnbot.htm)\"\n",
      "\n",
      "65.55.207.77 - - [31/Jan/2010:00:09:36 +0200] \"GET /browse/one_model/2152 HTTP/1.1\" 200 2195 \"-\" \"msnbot/2.0b (+http://search.msn.com/msnbot.htm)\"\n",
      "\n",
      "66.249.65.38 - - [31/Jan/2010:01:15:50 +0200] \"GET /account/follow/2029.atom HTTP/1.1\" 404 577 \"-\" \"Mozilla/5.0 (compatible; Googlebot/2.1; +http://www.google.com/bot.html)\"\n",
      "\n",
      "67.218.116.165 - - [31/Jan/2010:01:23:08 +0200] \"GET /robots.txt HTTP/1.0\" 200 99 \"-\" \"Mozilla/5.0 (Twiceler-0.9 http://www.cuil.com/twiceler/robot.html)\"\n",
      "\n",
      "66.249.65.38 - - [31/Jan/2010:01:35:43 +0200] \"GET /browse/one_model/2099 HTTP/1.1\" 200 2179 \"-\" \"Mozilla/5.0 (compatible; Googlebot/2.1; +http://www.google.com/bot.html)\"\n",
      "\n",
      "208.80.193.28 - - [31/Jan/2010:01:50:14 +0200] \"GET / HTTP/1.0\" 302 106 \"-\" \"Mozilla/4.0 (compatible; MSIE 6.0; Windows NT 5.1; SV1; FunWebProducts; .NET CLR 1.0.3705; .NET CLR 1.1.4322; Media Center PC 4.0; Hotbar 10.0.356.0)\"\n",
      "\n",
      "66.249.65.38 - - [31/Jan/2010:02:17:46 +0200] \"GET /browse/download_model/985 HTTP/1.1\" 200 3204 \"-\" \"Mozilla/5.0 (compatible; Googlebot/2.1; +http://www.google.com/bot.html)\"\n",
      "\n",
      "66.249.65.38 - - [31/Jan/2010:02:48:17 +0200] \"GET /browse/download_model/2162 HTTP/1.1\" 200 9362 \"-\" \"Mozilla/5.0 (compatible; Googlebot/2.1; +http://www.google.com/bot.html)\"\n",
      "\n",
      "66.249.65.38 - - [31/Jan/2010:02:51:11 +0200] \"GET /browse/display_preview/2099 HTTP/1.1\" 200 7563 \"-\" \"Googlebot-Image/1.0\"\n",
      "\n",
      "66.249.65.38 - - [31/Jan/2010:03:04:16 +0200] \"GET /browse/download_model/993 HTTP/1.1\" 200 3175 \"-\" \"Mozilla/5.0 (compatible; Googlebot/2.1; +http://www.google.com/bot.html)\"\n",
      "\n",
      "66.249.65.38 - - [31/Jan/2010:03:29:31 +0200] \"GET /robots.txt HTTP/1.1\" 200 99 \"-\" \"Mozilla/5.0 (compatible; Googlebot/2.1; +http://www.google.com/bot.html)\"\n",
      "\n",
      "66.249.65.38 - - [31/Jan/2010:03:29:31 +0200] \"GET /browse/download_model/977 HTTP/1.1\" 200 2992 \"-\" \"Mozilla/5.0 (compatible; Googlebot/2.1; +http://www.google.com/bot.html)\"\n",
      "\n",
      "66.249.65.38 - - [31/Jan/2010:03:49:42 +0200] \"GET /tags/one_tag/42 HTTP/1.1\" 200 2014 \"-\" \"Mozilla/5.0 (compatible; Googlebot/2.1; +http://www.google.com/bot.html)\"\n",
      "\n",
      "66.249.65.38 - - [31/Jan/2010:03:54:44 +0200] \"GET /browse/download_model/746 HTTP/1.1\" 200 12754 \"-\" \"Mozilla/5.0 (compatible; Googlebot/2.1; +http://www.google.com/bot.html)\"\n",
      "\n",
      "66.249.65.38 - - [31/Jan/2010:04:19:51 +0200] \"GET /browse/download_model/815 HTTP/1.1\" 200 6284 \"-\" \"Mozilla/5.0 (compatible; Googlebot/2.1; +http://www.google.com/bot.html)\"\n",
      "\n",
      "89.248.172.58 - - [31/Jan/2010:04:32:52 +0200] \"GET /account/mypage/7 HTTP/1.1\" 200 14292 \"-\" \"Mozilla/4.0 (compatible; MSIE 6.0; Windows NT 5.1; SV1)\"\n",
      "\n",
      "89.248.172.58 - - [31/Jan/2010:04:33:03 +0200] \"GET / HTTP/1.1\" 302 106 \"-\" \"Mozilla/4.0 (compatible; MSIE 6.0; Windows NT 5.1; SV1)\"\n",
      "\n",
      "89.248.172.58 - - [31/Jan/2010:04:33:03 +0200] \"GET /account/login HTTP/1.1\" 200 5998 \"-\" \"Mozilla/4.0 (compatible; MSIE 6.0; Windows NT 5.1; SV1)\"\n",
      "\n",
      "89.248.172.58 - - [31/Jan/2010:04:33:04 +0200] \"GET /browse/list_models HTTP/1.1\" 200 21752 \"-\" \"Mozilla/4.0 (compatible; MSIE 6.0; Windows NT 5.1; SV1)\"\n",
      "\n",
      "89.248.172.58 - - [31/Jan/2010:04:33:05 +0200] \"GET /browse/about HTTP/1.1\" 200 6801 \"-\" \"Mozilla/4.0 (compatible; MSIE 6.0; Windows NT 5.1; SV1)\"\n",
      "\n",
      "89.248.172.58 - - [31/Jan/2010:04:33:06 +0200] \"GET /help HTTP/1.1\" 200 5683 \"-\" \"Mozilla/4.0 (compatible; MSIE 6.0; Windows NT 5.1; SV1)\"\n",
      "\n",
      "89.248.172.58 - - [31/Jan/2010:04:33:06 +0200] \"GET /account/login HTTP/1.1\" 200 5801 \"-\" \"Mozilla/4.0 (compatible; MSIE 6.0; Windows NT 5.1; SV1)\"\n",
      "\n",
      "89.248.172.58 - - [31/Jan/2010:04:33:07 +0200] \"GET /account/follow/7.atom HTTP/1.1\" 200 4893 \"-\" \"Mozilla/4.0 (compatible; MSIE 6.0; Windows NT 5.1; SV1)\"\n",
      "\n",
      "89.248.172.58 - - [31/Jan/2010:04:33:07 +0200] \"GET /browse/one_model/1210 HTTP/1.1\" 200 6905 \"-\" \"Mozilla/4.0 (compatible; MSIE 6.0; Windows NT 5.1; SV1)\"\n",
      "\n",
      "89.248.172.58 - - [31/Jan/2010:04:33:08 +0200] \"GET /browse/one_model/1390 HTTP/1.1\" 200 6957 \"-\" \"Mozilla/4.0 (compatible; MSIE 6.0; Windows NT 5.1; SV1)\"\n",
      "\n",
      "89.248.172.58 - - [31/Jan/2010:04:33:09 +0200] \"GET /browse/one_model/2495 HTTP/1.1\" 200 7013 \"-\" \"Mozilla/4.0 (compatible; MSIE 6.0; Windows NT 5.1; SV1)\"\n",
      "\n",
      "89.248.172.58 - - [31/Jan/2010:04:33:09 +0200] \"GET /browse/one_model/2518 HTTP/1.1\" 200 6869 \"-\" \"Mozilla/4.0 (compatible; MSIE 6.0; Windows NT 5.1; SV1)\"\n",
      "\n",
      "89.248.172.58 - - [31/Jan/2010:04:33:10 +0200] \"GET /browse/one_model/1408 HTTP/1.1\" 200 6893 \"-\" \"Mozilla/4.0 (compatible; MSIE 6.0; Windows NT 5.1; SV1)\"\n",
      "\n",
      "89.248.172.58 - - [31/Jan/2010:04:33:11 +0200] \"GET /tags/one_tag/48 HTTP/1.1\" 200 6313 \"-\" \"Mozilla/4.0 (compatible; MSIE 6.0; Windows NT 5.1; SV1)\"\n",
      "\n",
      "89.248.172.58 - - [31/Jan/2010:04:33:11 +0200] \"GET /tags/one_tag/8 HTTP/1.1\" 200 6295 \"-\" \"Mozilla/4.0 (compatible; MSIE 6.0; Windows NT 5.1; SV1)\"\n",
      "\n",
      "89.248.172.58 - - [31/Jan/2010:04:33:12 +0200] \"GET /browse/one_model/815 HTTP/1.1\" 200 6839 \"-\" \"Mozilla/4.0 (compatible; MSIE 6.0; Windows NT 5.1; SV1)\"\n",
      "\n",
      "89.248.172.58 - - [31/Jan/2010:04:33:13 +0200] \"GET /browse/one_model/2547 HTTP/1.1\" 200 6890 \"-\" \"Mozilla/4.0 (compatible; MSIE 6.0; Windows NT 5.1; SV1)\"\n",
      "\n",
      "89.248.172.58 - - [31/Jan/2010:04:33:13 +0200] \"GET /browse/one_model/1578 HTTP/1.1\" 200 6913 \"-\" \"Mozilla/4.0 (compatible; MSIE 6.0; Windows NT 5.1; SV1)\"\n",
      "\n",
      "89.248.172.58 - - [31/Jan/2010:04:33:14 +0200] \"GET /browse/one_model/2510 HTTP/1.1\" 200 6829 \"-\" \"Mozilla/4.0 (compatible; MSIE 6.0; Windows NT 5.1; SV1)\"\n",
      "\n",
      "89.248.172.58 - - [31/Jan/2010:04:33:14 +0200] \"GET /browse/one_model/999 HTTP/1.1\" 200 6860 \"-\" \"Mozilla/4.0 (compatible; MSIE 6.0; Windows NT 5.1; SV1)\"\n",
      "\n",
      "89.248.172.58 - - [31/Jan/2010:04:33:15 +0200] \"GET /account/models/7 HTTP/1.1\" 200 8787 \"-\" \"Mozilla/4.0 (compatible; MSIE 6.0; Windows NT 5.1; SV1)\"\n",
      "\n",
      "89.248.172.58 - - [31/Jan/2010:04:33:16 +0200] \"GET /?id=17 HTTP/1.1\" 200 14542 \"-\" \"Mozilla/4.0 (compatible; MSIE 6.0; Windows NT 5.1; SV1)\"\n",
      "\n",
      "66.249.65.38 - - [31/Jan/2010:04:45:02 +0200] \"GET /browse/download_model/2182 HTTP/1.1\" 200 16607 \"-\" \"Mozilla/5.0 (compatible; Googlebot/2.1; +http://www.google.com/bot.html)\"\n",
      "\n",
      "66.249.65.38 - - [31/Jan/2010:05:10:16 +0200] \"GET /browse/download_model/900 HTTP/1.1\" 200 3440 \"-\" \"Mozilla/5.0 (compatible; Googlebot/2.1; +http://www.google.com/bot.html)\"\n",
      "\n",
      "66.249.65.38 - - [31/Jan/2010:05:17:05 +0200] \"GET /?id=8 HTTP/1.1\" 200 3018 \"-\" \"Mozilla/5.0 (compatible; Googlebot/2.1; +http://www.google.com/bot.html)\"\n",
      "\n",
      "66.249.65.38 - - [31/Jan/2010:05:35:29 +0200] \"GET /browse/download_model/797 HTTP/1.1\" 200 11950 \"-\" \"Mozilla/5.0 (compatible; Googlebot/2.1; +http://www.google.com/bot.html)\"\n",
      "\n",
      "66.249.65.38 - - [31/Jan/2010:06:00:42 +0200] \"GET /browse/download_model/2606 HTTP/1.1\" 200 357240 \"-\" \"Mozilla/5.0 (compatible; Googlebot/2.1; +http://www.google.com/bot.html)\"\n",
      "\n",
      "66.249.65.38 - - [31/Jan/2010:06:03:13 +0200] \"GET /browse/one_model/993 HTTP/1.1\" 200 2170 \"-\" \"Mozilla/5.0 (compatible; Googlebot/2.1; +http://www.google.com/bot.html)\"\n",
      "\n",
      "66.249.65.38 - - [31/Jan/2010:06:25:55 +0200] \"GET /browse/download_model/2601 HTTP/1.1\" 200 2498832 \"-\" \"Mozilla/5.0 (compatible; Googlebot/2.1; +http://www.google.com/bot.html)\"\n",
      "\n",
      "66.249.65.38 - - [31/Jan/2010:06:51:01 +0200] \"GET /browse/download_model/2596 HTTP/1.1\" 200 220990 \"-\" \"Mozilla/5.0 (compatible; Googlebot/2.1; +http://www.google.com/bot.html)\"\n",
      "\n",
      "66.249.65.38 - - [31/Jan/2010:07:06:26 +0200] \"GET /browse/display_preview/2244 HTTP/1.1\" 200 4072 \"-\" \"Googlebot-Image/1.0\"\n",
      "\n",
      "66.249.65.38 - - [31/Jan/2010:07:16:18 +0200] \"GET /browse/download_model/2752 HTTP/1.1\" 200 3146 \"-\" \"Mozilla/5.0 (compatible; Googlebot/2.1; +http://www.google.com/bot.html)\"\n",
      "\n",
      "66.249.65.38 - - [31/Jan/2010:07:41:27 +0200] \"GET /browse/download_model/2492 HTTP/1.1\" 200 1680079 \"-\" \"Mozilla/5.0 (compatible; Googlebot/2.1; +http://www.google.com/bot.html)\"\n",
      "\n",
      "66.249.65.38 - - [31/Jan/2010:08:06:40 +0200] \"GET /browse/download_model/1408 HTTP/1.1\" 200 25038 \"-\" \"Mozilla/5.0 (compatible; Googlebot/2.1; +http://www.google.com/bot.html)\"\n",
      "\n",
      "66.249.65.38 - - [31/Jan/2010:08:31:50 +0200] \"GET /browse/download_model/2511 HTTP/1.1\" 200 39499 \"-\" \"Mozilla/5.0 (compatible; Googlebot/2.1; +http://www.google.com/bot.html)\"\n",
      "\n",
      "66.249.65.38 - - [31/Jan/2010:08:56:59 +0200] \"GET /browse/download_model/2479 HTTP/1.1\" 200 39598 \"-\" \"Mozilla/5.0 (compatible; Googlebot/2.1; +http://www.google.com/bot.html)\"\n",
      "\n",
      "66.249.65.38 - - [31/Jan/2010:09:22:13 +0200] \"GET /browse/download_model/2754 HTTP/1.1\" 200 3279 \"-\" \"Mozilla/5.0 (compatible; Googlebot/2.1; +http://www.google.com/bot.html)\"\n",
      "\n",
      "66.249.65.38 - - [31/Jan/2010:09:47:25 +0200] \"GET /browse/download_model/2751 HTTP/1.1\" 200 3146 \"-\" \"Mozilla/5.0 (compatible; Googlebot/2.1; +http://www.google.com/bot.html)\"\n",
      "\n",
      "66.249.65.38 - - [31/Jan/2010:10:12:33 +0200] \"GET /browse/download_model/2656 HTTP/1.1\" 200 117532 \"-\" \"Mozilla/5.0 (compatible; Googlebot/2.1; +http://www.google.com/bot.html)\"\n",
      "\n",
      "66.249.65.38 - - [31/Jan/2010:10:30:53 +0200] \"GET /browse/one_node/2701 HTTP/1.1\" 200 39424 \"-\" \"Mozilla/5.0 (compatible; Googlebot/2.1; +http://www.google.com/bot.html)\"\n",
      "\n",
      "66.249.65.38 - - [31/Jan/2010:10:37:46 +0200] \"GET /browse/download_model/935 HTTP/1.1\" 200 5014 \"-\" \"Mozilla/5.0 (compatible; Googlebot/2.1; +http://www.google.com/bot.html)\"\n",
      "\n",
      "66.249.65.38 - - [31/Jan/2010:11:03:00 +0200] \"GET /browse/download_model/717 HTTP/1.1\" 200 30442 \"-\" \"Mozilla/5.0 (compatible; Googlebot/2.1; +http://www.google.com/bot.html)\"\n",
      "\n",
      "66.249.65.38 - - [31/Jan/2010:11:28:14 +0200] \"GET /browse/download_model/751 HTTP/1.1\" 200 7485 \"-\" \"Mozilla/5.0 (compatible; Googlebot/2.1; +http://www.google.com/bot.html)\"\n",
      "\n",
      "66.249.65.38 - - [31/Jan/2010:11:53:26 +0200] \"GET /browse/download_model/2549 HTTP/1.1\" 200 5052 \"-\" \"Mozilla/5.0 (compatible; Googlebot/2.1; +http://www.google.com/bot.html)\"\n",
      "\n",
      "66.249.65.38 - - [31/Jan/2010:12:18:38 +0200] \"GET /browse/download_model/2650 HTTP/1.1\" 200 57739 \"-\" \"Mozilla/5.0 (compatible; Googlebot/2.1; +http://www.google.com/bot.html)\"\n",
      "\n",
      "66.249.65.38 - - [31/Jan/2010:12:43:41 +0200] \"GET /browse/download_model/729 HTTP/1.1\" 200 13146 \"-\" \"Mozilla/5.0 (compatible; Googlebot/2.1; +http://www.google.com/bot.html)\"\n",
      "\n",
      "66.249.65.38 - - [31/Jan/2010:12:45:28 +0200] \"GET /browse/browse_applet_tab/2593 HTTP/1.1\" 200 10305 \"-\" \"Mozilla/5.0 (compatible; Googlebot/2.1; +http://www.google.com/bot.html)\"\n",
      "\n",
      "66.249.65.38 - - [31/Jan/2010:13:09:00 +0200] \"GET /browse/download_model/814 HTTP/1.1\" 200 3066 \"-\" \"Mozilla/5.0 (compatible; Googlebot/2.1; +http://www.google.com/bot.html)\"\n",
      "\n",
      "66.249.65.38 - - [31/Jan/2010:13:34:05 +0200] \"GET /browse/download_model/2629 HTTP/1.1\" 200 62903 \"-\" \"Mozilla/5.0 (compatible; Googlebot/2.1; +http://www.google.com/bot.html)\"\n",
      "\n",
      "66.249.65.38 - - [31/Jan/2010:13:59:27 +0200] \"GET /browse/download_model/2644 HTTP/1.1\" 200 12122 \"-\" \"Mozilla/5.0 (compatible; Googlebot/2.1; +http://www.google.com/bot.html)\"\n",
      "\n",
      "66.249.65.38 - - [31/Jan/2010:14:24:30 +0200] \"GET /browse/download_model/804 HTTP/1.1\" 200 4085 \"-\" \"Mozilla/5.0 (compatible; Googlebot/2.1; +http://www.google.com/bot.html)\"\n",
      "\n",
      "67.195.112.35 - - [31/Jan/2010:14:45:44 +0200] \"GET /robots.txt HTTP/1.0\" 200 99 \"-\" \"Mozilla/5.0 (compatible; Yahoo! Slurp; http://help.yahoo.com/help/us/ysearch/slurp)\"\n",
      "\n",
      "67.195.112.35 - - [31/Jan/2010:14:45:44 +0200] \"GET /account/new HTTP/1.0\" 200 2226 \"-\" \"Mozilla/5.0 (compatible; Yahoo! Slurp/3.0; http://help.yahoo.com/help/us/ysearch/slurp)\"\n",
      "\n",
      "67.195.112.35 - - [31/Jan/2010:14:45:47 +0200] \"GET /stylesheets/nlcommons.css?1264605648 HTTP/1.0\" 200 1179 \"http://modelingcommons.org/account/new\" \"Mozilla/5.0 (compatible; Yahoo! Slurp/3.0; http://help.yahoo.com/help/us/ysearch/slurp)\"\n",
      "\n",
      "67.195.112.35 - - [31/Jan/2010:14:45:50 +0200] \"GET /stylesheets/browse.css?1264605648 HTTP/1.0\" 200 422 \"http://modelingcommons.org/account/new\" \"Mozilla/5.0 (compatible; Yahoo! Slurp/3.0; http://help.yahoo.com/help/us/ysearch/slurp)\"\n",
      "\n",
      "67.195.112.35 - - [31/Jan/2010:14:45:52 +0200] \"GET /stylesheets/jquery.autocomplete.css?1264605648 HTTP/1.0\" 200 447 \"http://modelingcommons.org/account/new\" \"Mozilla/5.0 (compatible; Yahoo! Slurp/3.0; http://help.yahoo.com/help/us/ysearch/slurp)\"\n",
      "\n",
      "67.195.112.35 - - [31/Jan/2010:14:45:55 +0200] \"GET /stylesheets/themes/nlcommons/ui.all.css?1264605648 HTTP/1.0\" 200 52 \"http://modelingcommons.org/account/new\" \"Mozilla/5.0 (compatible; Yahoo! Slurp/3.0; http://help.yahoo.com/help/us/ysearch/slurp)\"\n",
      "\n",
      "67.195.112.35 - - [31/Jan/2010:14:45:57 +0200] \"GET /stylesheets/themes/nlcommons/ui.theme.css HTTP/1.0\" 200 2862 \"http://modelingcommons.org/stylesheets/themes/nlcommons/ui.all.css?1264605648\" \"Mozilla/5.0 (compatible; Yahoo! Slurp/3.0; http://help.yahoo.com/help/us/ysearch/slurp)\"\n",
      "\n",
      "67.195.112.35 - - [31/Jan/2010:14:45:57 +0200] \"GET /stylesheets/themes/nlcommons/ui.base.css HTTP/1.0\" 200 111 \"http://modelingcommons.org/stylesheets/themes/nlcommons/ui.all.css?1264605648\" \"Mozilla/5.0 (compatible; Yahoo! Slurp/3.0; http://help.yahoo.com/help/us/ysearch/slurp)\"\n",
      "\n",
      "67.195.112.35 - - [31/Jan/2010:14:45:59 +0200] \"GET /stylesheets/themes/nlcommons/ui.slider.css HTTP/1.0\" 200 318 \"http://modelingcommons.org/stylesheets/themes/nlcommons/ui.base.css\" \"Mozilla/5.0 (compatible; Yahoo! Slurp/3.0; http://help.yahoo.com/help/us/ysearch/slurp)\"\n",
      "\n",
      "67.195.112.35 - - [31/Jan/2010:14:45:59 +0200] \"GET /stylesheets/themes/nlcommons/ui.core.css HTTP/1.0\" 200 624 \"http://modelingcommons.org/stylesheets/themes/nlcommons/ui.base.css\" \"Mozilla/5.0 (compatible; Yahoo! Slurp/3.0; http://help.yahoo.com/help/us/ysearch/slurp)\"\n",
      "\n",
      "67.195.112.35 - - [31/Jan/2010:14:45:59 +0200] \"GET /stylesheets/themes/nlcommons/ui.tabs.css HTTP/1.0\" 200 414 \"http://modelingcommons.org/stylesheets/themes/nlcommons/ui.base.css\" \"Mozilla/5.0 (compatible; Yahoo! Slurp/3.0; http://help.yahoo.com/help/us/ysearch/slurp)\"\n",
      "\n",
      "67.195.112.35 - - [31/Jan/2010:14:45:59 +0200] \"GET /stylesheets/themes/nlcommons/ui.accordion.css HTTP/1.0\" 200 295 \"http://modelingcommons.org/stylesheets/themes/nlcommons/ui.base.css\" \"Mozilla/5.0 (compatible; Yahoo! Slurp/3.0; http://help.yahoo.com/help/us/ysearch/slurp)\"\n",
      "\n",
      "67.195.112.35 - - [31/Jan/2010:14:45:59 +0200] \"GET /stylesheets/themes/nlcommons/ui.dialog.css HTTP/1.0\" 200 442 \"http://modelingcommons.org/stylesheets/themes/nlcommons/ui.base.css\" \"Mozilla/5.0 (compatible; Yahoo! Slurp/3.0; http://help.yahoo.com/help/us/ysearch/slurp)\"\n",
      "\n",
      "67.195.112.35 - - [31/Jan/2010:14:45:59 +0200] \"GET /stylesheets/themes/nlcommons/ui.resizable.css HTTP/1.0\" 200 307 \"http://modelingcommons.org/stylesheets/themes/nlcommons/ui.base.css\" \"Mozilla/5.0 (compatible; Yahoo! Slurp/3.0; http://help.yahoo.com/help/us/ysearch/slurp)\"\n",
      "\n",
      "67.195.112.35 - - [31/Jan/2010:14:45:59 +0200] \"GET /stylesheets/themes/nlcommons/ui.datepicker.css HTTP/1.0\" 200 965 \"http://modelingcommons.org/stylesheets/themes/nlcommons/ui.base.css\" \"Mozilla/5.0 (compatible; Yahoo! Slurp/3.0; http://help.yahoo.com/help/us/ysearch/slurp)\"\n",
      "\n",
      "67.195.112.35 - - [31/Jan/2010:14:45:59 +0200] \"GET /stylesheets/themes/nlcommons/ui.progressbar.css HTTP/1.0\" 200 114 \"http://modelingcommons.org/stylesheets/themes/nlcommons/ui.base.css\" \"Mozilla/5.0 (compatible; Yahoo! Slurp/3.0; http://help.yahoo.com/help/us/ysearch/slurp)\"\n",
      "\n",
      "66.249.65.38 - - [31/Jan/2010:14:49:40 +0200] \"GET /browse/download_model/1420 HTTP/1.1\" 200 73293 \"-\" \"Mozilla/5.0 (compatible; Googlebot/2.1; +http://www.google.com/bot.html)\"\n",
      "\n",
      "65.55.207.50 - - [31/Jan/2010:15:07:49 +0200] \"GET /robots.txt HTTP/1.1\" 200 99 \"-\" \"msnbot/2.0b (+http://search.msn.com/msnbot.htm)\"\n",
      "\n",
      "65.55.207.50 - - [31/Jan/2010:15:09:06 +0200] \"GET / HTTP/1.1\" 302 109 \"-\" \"msnbot/2.0b (+http://search.msn.com/msnbot.htm)\"\n",
      "\n",
      "65.55.207.50 - - [31/Jan/2010:15:09:14 +0200] \"GET /account/login HTTP/1.1\" 200 1935 \"-\" \"msnbot/2.0b (+http://search.msn.com/msnbot.htm)\"\n",
      "\n",
      "66.249.65.38 - - [31/Jan/2010:15:14:55 +0200] \"GET /browse/download_model/766 HTTP/1.1\" 200 10923 \"-\" \"Mozilla/5.0 (compatible; Googlebot/2.1; +http://www.google.com/bot.html)\"\n",
      "\n",
      "66.249.65.38 - - [31/Jan/2010:15:40:01 +0200] \"GET /browse/download_model/756 HTTP/1.1\" 200 4632 \"-\" \"Mozilla/5.0 (compatible; Googlebot/2.1; +http://www.google.com/bot.html)\"\n",
      "\n",
      "66.249.65.38 - - [31/Jan/2010:16:05:28 +0200] \"GET /browse/download_model/757 HTTP/1.1\" 200 11079 \"-\" \"Mozilla/5.0 (compatible; Googlebot/2.1; +http://www.google.com/bot.html)\"\n",
      "\n",
      "66.249.65.38 - - [31/Jan/2010:16:30:36 +0200] \"GET /browse/download_model/725 HTTP/1.1\" 200 16082 \"-\" \"Mozilla/5.0 (compatible; Googlebot/2.1; +http://www.google.com/bot.html)\"\n",
      "\n",
      "66.249.65.38 - - [31/Jan/2010:16:55:37 +0200] \"GET /browse/download_model/2473 HTTP/1.1\" 200 211110 \"-\" \"Mozilla/5.0 (compatible; Googlebot/2.1; +http://www.google.com/bot.html)\"\n",
      "\n",
      "66.249.65.38 - - [31/Jan/2010:17:20:49 +0200] \"GET /browse/download_model/1510 HTTP/1.1\" 200 35814 \"-\" \"Mozilla/5.0 (compatible; Googlebot/2.1; +http://www.google.com/bot.html)\"\n",
      "\n",
      "65.55.215.75 - - [31/Jan/2010:17:39:03 +0200] \"GET /robots.txt HTTP/1.1\" 200 99 \"-\" \"msnbot/2.0b (+http://search.msn.com/msnbot.htm)\"\n",
      "\n",
      "65.55.215.75 - - [31/Jan/2010:17:40:02 +0200] \"GET /browse/list_models HTTP/1.1\" 304 - \"-\" \"msnbot/2.0b (+http://search.msn.com/msnbot.htm)\"\n",
      "\n",
      "66.249.65.38 - - [31/Jan/2010:17:46:08 +0200] \"GET /browse/download_model/802 HTTP/1.1\" 200 4800 \"-\" \"Mozilla/5.0 (compatible; Googlebot/2.1; +http://www.google.com/bot.html)\"\n",
      "\n",
      "66.249.65.38 - - [31/Jan/2010:18:11:17 +0200] \"GET /browse/download_model/2194 HTTP/1.1\" 200 11380 \"-\" \"Mozilla/5.0 (compatible; Googlebot/2.1; +http://www.google.com/bot.html)\"\n",
      "\n",
      "66.249.65.38 - - [31/Jan/2010:18:36:25 +0200] \"GET /browse/download_model/1572 HTTP/1.1\" 200 10239 \"-\" \"Mozilla/5.0 (compatible; Googlebot/2.1; +http://www.google.com/bot.html)\"\n",
      "\n",
      "66.249.65.38 - - [31/Jan/2010:19:01:55 +0200] \"GET /browse/download_model/1806 HTTP/1.1\" 200 12739 \"-\" \"Mozilla/5.0 (compatible; Googlebot/2.1; +http://www.google.com/bot.html)\"\n",
      "\n",
      "66.249.65.38 - - [31/Jan/2010:19:26:45 +0200] \"GET /browse/download_model/930 HTTP/1.1\" 200 8271 \"-\" \"Mozilla/5.0 (compatible; Googlebot/2.1; +http://www.google.com/bot.html)\"\n",
      "\n",
      "66.249.65.38 - - [31/Jan/2010:19:52:00 +0200] \"GET /browse/download_model/2041 HTTP/1.1\" 200 18891 \"-\" \"Mozilla/5.0 (compatible; Googlebot/2.1; +http://www.google.com/bot.html)\"\n",
      "\n",
      "66.249.65.38 - - [31/Jan/2010:20:17:07 +0200] \"GET /browse/download_model/1800 HTTP/1.1\" 200 14802 \"-\" \"Mozilla/5.0 (compatible; Googlebot/2.1; +http://www.google.com/bot.html)\"\n",
      "\n",
      "66.249.65.38 - - [31/Jan/2010:20:42:19 +0200] \"GET /browse/one_node/1613 HTTP/1.1\" 200 27080 \"-\" \"Mozilla/5.0 (compatible; Googlebot/2.1; +http://www.google.com/bot.html)\"\n",
      "\n",
      "66.249.65.38 - - [31/Jan/2010:21:08:00 +0200] \"GET /browse/one_node/1892 HTTP/1.1\" 200 1296 \"-\" \"Mozilla/5.0 (compatible; Googlebot/2.1; +http://www.google.com/bot.html)\"\n",
      "\n"
     ]
    }
   ],
   "source": [
    "filename = 'mini-access-log.txt'\n",
    "\n",
    "for one_line in open(filename):\n",
    "    print(one_line.split())"
   ]
  },
  {
   "cell_type": "code",
   "execution_count": null,
   "id": "f0236be6",
   "metadata": {},
   "outputs": [],
   "source": []
  }
 ],
 "metadata": {
  "kernelspec": {
   "display_name": "Python 3 (ipykernel)",
   "language": "python",
   "name": "python3"
  },
  "language_info": {
   "codemirror_mode": {
    "name": "ipython",
    "version": 3
   },
   "file_extension": ".py",
   "mimetype": "text/x-python",
   "name": "python",
   "nbconvert_exporter": "python",
   "pygments_lexer": "ipython3",
   "version": "3.11.3"
  }
 },
 "nbformat": 4,
 "nbformat_minor": 5
}
