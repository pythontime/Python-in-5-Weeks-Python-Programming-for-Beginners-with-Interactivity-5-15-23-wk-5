{
 "cells": [
  {
   "cell_type": "markdown",
   "id": "2f5d38fa",
   "metadata": {},
   "source": [
    "# Week 3: Agenda\n",
    "\n",
    "1. Q&A\n",
    "2. Tuples and unpacking\n",
    "3. Dictionaries\n",
    "    - What are they?\n",
    "    - Creating dictionaries\n",
    "    - Retrieving from them\n",
    "    - Different ways to use them in our programs\n",
    "4. Files\n",
    "    - Reading from files (plain-text files)\n",
    "    - Looping over file objects to read them\n",
    "    - Writing to files"
   ]
  },
  {
   "cell_type": "code",
   "execution_count": 2,
   "id": "98854dc0",
   "metadata": {
    "scrolled": true
   },
   "outputs": [
    {
     "data": {
      "application/javascript": [
       "IPython.notebook.set_autosave_interval(30000)"
      ]
     },
     "metadata": {},
     "output_type": "display_data"
    },
    {
     "name": "stdout",
     "output_type": "stream",
     "text": [
      "Autosaving every 30 seconds\n"
     ]
    }
   ],
   "source": [
    "%autosave 30"
   ]
  },
  {
   "cell_type": "markdown",
   "id": "d9bd2d1c",
   "metadata": {},
   "source": [
    "# Tuples and unpacking\n",
    "\n",
    "Last time, we talked about lists:\n",
    "\n",
    "- Strings are sequences of characters. They are immutable. (We cannot change a string.)\n",
    "- Lists are sequences of *anything*. They are mutable. (We *can* change a list.)\n",
    "\n",
    "Tuples are a mix of these two ideas:\n",
    "\n",
    "- A tuple is a sequence of *anything*\n",
    "- But it is also immutable.\n",
    "\n",
    "Many people like to think of tuples are immutable lists (or as I've sometimes heard, \"locked lists.\") This is *not* the way that the Python core developers want you to think about them! Rather, they want you think of lists as sequences of the same type, whereas tuples are sequences of different types.\n",
    "\n",
    "If you have a bunch of integers, then a list is appropriate. If you have one integer, one string, and one list, then a tuple is more appropriate. (At least, officially.)\n",
    "\n",
    "Where do we use tuples?  Many people use them instead of structs or records, data structures from other programming languages. Here are some more concrete examples:\n",
    "\n",
    "- A record in a database can be thought of as a tuple, and when we read a database record into Python, it's useful to have it in a tuple\n",
    "- When I call a function in Python, the arguments as passed as a tuple\n",
    "- If I have information about a person -- first name, last name, birthdate, and shoe size -- then I'll want to use a tuple, because we have different types.\n",
    "\n",
    "Many beginners (and not-so-beginners) in Python wonder why we need tuples at all. That's not a bad question! They're immutable, so they're more efficient than lists. But you can get away without using tuples for a while."
   ]
  },
  {
   "cell_type": "code",
   "execution_count": 3,
   "id": "c7811f58",
   "metadata": {},
   "outputs": [
    {
     "data": {
      "text/plain": [
       "tuple"
      ]
     },
     "execution_count": 3,
     "metadata": {},
     "output_type": "execute_result"
    }
   ],
   "source": [
    "# create a tuple\n",
    "\n",
    "t = (100, 200, 300, 400, 500)    # round parentheses and , between the elements\n",
    "type(t)"
   ]
  },
  {
   "cell_type": "code",
   "execution_count": 4,
   "id": "3e0e3c1d",
   "metadata": {},
   "outputs": [
    {
     "data": {
      "text/plain": [
       "100"
      ]
     },
     "execution_count": 4,
     "metadata": {},
     "output_type": "execute_result"
    }
   ],
   "source": [
    "t[0]   # retrieve one item"
   ]
  },
  {
   "cell_type": "code",
   "execution_count": 5,
   "id": "8a62db15",
   "metadata": {},
   "outputs": [
    {
     "data": {
      "text/plain": [
       "200"
      ]
     },
     "execution_count": 5,
     "metadata": {},
     "output_type": "execute_result"
    }
   ],
   "source": [
    "t[1]"
   ]
  },
  {
   "cell_type": "code",
   "execution_count": 6,
   "id": "8e050347",
   "metadata": {},
   "outputs": [
    {
     "data": {
      "text/plain": [
       "500"
      ]
     },
     "execution_count": 6,
     "metadata": {},
     "output_type": "execute_result"
    }
   ],
   "source": [
    "t[-1]  # get the final item"
   ]
  },
  {
   "cell_type": "code",
   "execution_count": 7,
   "id": "ecea06bf",
   "metadata": {},
   "outputs": [
    {
     "data": {
      "text/plain": [
       "5"
      ]
     },
     "execution_count": 7,
     "metadata": {},
     "output_type": "execute_result"
    }
   ],
   "source": [
    "len(t)  # how many items?"
   ]
  },
  {
   "cell_type": "code",
   "execution_count": 9,
   "id": "16ad702e",
   "metadata": {},
   "outputs": [
    {
     "data": {
      "text/plain": [
       "(300, 400, 500)"
      ]
     },
     "execution_count": 9,
     "metadata": {},
     "output_type": "execute_result"
    }
   ],
   "source": [
    "t[2:5]    #get a slice"
   ]
  },
  {
   "cell_type": "code",
   "execution_count": 10,
   "id": "24f7eba0",
   "metadata": {},
   "outputs": [
    {
     "name": "stdout",
     "output_type": "stream",
     "text": [
      "100\n",
      "200\n",
      "300\n",
      "400\n",
      "500\n"
     ]
    }
   ],
   "source": [
    "for one_item in t:\n",
    "    print(one_item)"
   ]
  },
  {
   "cell_type": "code",
   "execution_count": 11,
   "id": "4d844d1b",
   "metadata": {
    "scrolled": true
   },
   "outputs": [
    {
     "ename": "TypeError",
     "evalue": "'tuple' object does not support item assignment",
     "output_type": "error",
     "traceback": [
      "\u001b[0;31m---------------------------------------------------------------------------\u001b[0m",
      "\u001b[0;31mTypeError\u001b[0m                                 Traceback (most recent call last)",
      "Cell \u001b[0;32mIn [11], line 3\u001b[0m\n\u001b[1;32m      1\u001b[0m \u001b[38;5;66;03m# but of course, they're immutable!\u001b[39;00m\n\u001b[0;32m----> 3\u001b[0m \u001b[43mt\u001b[49m\u001b[43m[\u001b[49m\u001b[38;5;241;43m0\u001b[39;49m\u001b[43m]\u001b[49m \u001b[38;5;241m=\u001b[39m \u001b[38;5;124m'\u001b[39m\u001b[38;5;124m!\u001b[39m\u001b[38;5;124m'\u001b[39m\n",
      "\u001b[0;31mTypeError\u001b[0m: 'tuple' object does not support item assignment"
     ]
    }
   ],
   "source": [
    "# but of course, they're immutable!\n",
    "\n",
    "t[0] = '!'"
   ]
  },
  {
   "cell_type": "code",
   "execution_count": 12,
   "id": "49672ef2",
   "metadata": {
    "scrolled": true
   },
   "outputs": [
    {
     "data": {
      "text/plain": [
       "3"
      ]
     },
     "execution_count": 12,
     "metadata": {},
     "output_type": "execute_result"
    }
   ],
   "source": [
    "t = (100, 'abcd', [102, 103, 104])\n",
    "len(t)"
   ]
  },
  {
   "cell_type": "code",
   "execution_count": 13,
   "id": "dc03bf62",
   "metadata": {},
   "outputs": [
    {
     "data": {
      "text/plain": [
       "(100, 'abcd', [102, 103, 104])"
      ]
     },
     "execution_count": 13,
     "metadata": {},
     "output_type": "execute_result"
    }
   ],
   "source": [
    "# we don't even need the parentheses!\n",
    "# The commas are enough to make it a tuple\n",
    "\n",
    "t = 100, 'abcd', [102, 103, 104]\n",
    "t"
   ]
  },
  {
   "cell_type": "code",
   "execution_count": 14,
   "id": "67756d23",
   "metadata": {},
   "outputs": [
    {
     "data": {
      "text/plain": [
       "(100, 'abcd', [102, 103, 104, 105])"
      ]
     },
     "execution_count": 14,
     "metadata": {},
     "output_type": "execute_result"
    }
   ],
   "source": [
    "# can I change a list in a tuple? YES, absolutely!\n",
    "\n",
    "t[-1].append(105)\n",
    "t"
   ]
  },
  {
   "cell_type": "code",
   "execution_count": 16,
   "id": "9a5021f6",
   "metadata": {},
   "outputs": [],
   "source": [
    "# one aspect of tuples that's really useful!\n",
    "# tuple unpacking\n",
    "\n",
    "mylist = [10, 20, 30]\n",
    "\n",
    "x = mylist    # what will the value of x be?"
   ]
  },
  {
   "cell_type": "code",
   "execution_count": 17,
   "id": "29b60c6a",
   "metadata": {},
   "outputs": [
    {
     "data": {
      "text/plain": [
       "[10, 20, 30]"
      ]
     },
     "execution_count": 17,
     "metadata": {},
     "output_type": "execute_result"
    }
   ],
   "source": [
    "x"
   ]
  },
  {
   "cell_type": "code",
   "execution_count": 18,
   "id": "4d7dc78a",
   "metadata": {},
   "outputs": [],
   "source": [
    "# but what if I do this:\n",
    "\n",
    "x,y,z = mylist    # three variables in a tuple (no parentheses), and an object with three elements"
   ]
  },
  {
   "cell_type": "code",
   "execution_count": 19,
   "id": "167dab8f",
   "metadata": {},
   "outputs": [
    {
     "data": {
      "text/plain": [
       "10"
      ]
     },
     "execution_count": 19,
     "metadata": {},
     "output_type": "execute_result"
    }
   ],
   "source": [
    "x"
   ]
  },
  {
   "cell_type": "code",
   "execution_count": 20,
   "id": "0413292c",
   "metadata": {},
   "outputs": [
    {
     "data": {
      "text/plain": [
       "20"
      ]
     },
     "execution_count": 20,
     "metadata": {},
     "output_type": "execute_result"
    }
   ],
   "source": [
    "y"
   ]
  },
  {
   "cell_type": "code",
   "execution_count": 21,
   "id": "287285ce",
   "metadata": {},
   "outputs": [
    {
     "data": {
      "text/plain": [
       "30"
      ]
     },
     "execution_count": 21,
     "metadata": {},
     "output_type": "execute_result"
    }
   ],
   "source": [
    "z"
   ]
  },
  {
   "cell_type": "markdown",
   "id": "323bfcf8",
   "metadata": {},
   "source": [
    "\"Unpacking\" is when the object on the right has a certain number of values, and we put variables on the left to capture those values.\n",
    "\n",
    "If the object on the right is iterable, and if I have the same number of variables on the left, then I'm totally fine, and each variable will get one element of the iterable.\n",
    "\n",
    "What if the numbers don't match? We get an error."
   ]
  },
  {
   "cell_type": "code",
   "execution_count": 22,
   "id": "069265ee",
   "metadata": {},
   "outputs": [
    {
     "ename": "ValueError",
     "evalue": "too many values to unpack (expected 2)",
     "output_type": "error",
     "traceback": [
      "\u001b[0;31m---------------------------------------------------------------------------\u001b[0m",
      "\u001b[0;31mValueError\u001b[0m                                Traceback (most recent call last)",
      "Cell \u001b[0;32mIn [22], line 1\u001b[0m\n\u001b[0;32m----> 1\u001b[0m x,y \u001b[38;5;241m=\u001b[39m mylist\n",
      "\u001b[0;31mValueError\u001b[0m: too many values to unpack (expected 2)"
     ]
    }
   ],
   "source": [
    "x,y = mylist"
   ]
  },
  {
   "cell_type": "code",
   "execution_count": 23,
   "id": "eefd1fe0",
   "metadata": {},
   "outputs": [
    {
     "ename": "ValueError",
     "evalue": "not enough values to unpack (expected 4, got 3)",
     "output_type": "error",
     "traceback": [
      "\u001b[0;31m---------------------------------------------------------------------------\u001b[0m",
      "\u001b[0;31mValueError\u001b[0m                                Traceback (most recent call last)",
      "Cell \u001b[0;32mIn [23], line 1\u001b[0m\n\u001b[0;32m----> 1\u001b[0m w,x,y,z \u001b[38;5;241m=\u001b[39m mylist\n",
      "\u001b[0;31mValueError\u001b[0m: not enough values to unpack (expected 4, got 3)"
     ]
    }
   ],
   "source": [
    "w,x,y,z = mylist"
   ]
  },
  {
   "cell_type": "code",
   "execution_count": 25,
   "id": "05f0dc74",
   "metadata": {},
   "outputs": [
    {
     "name": "stdout",
     "output_type": "stream",
     "text": [
      "(0, 'a')\n",
      "(1, 'b')\n",
      "(2, 'c')\n",
      "(3, 'd')\n"
     ]
    }
   ],
   "source": [
    "# an example of unpacking\n",
    "\n",
    "# how can I get the indexes along with elements of a string/list/tuple? I can use \"enumerate\"\n",
    "\n",
    "# \n",
    "\n",
    "for one_item in enumerate('abcd'):\n",
    "    print(one_item)"
   ]
  },
  {
   "cell_type": "code",
   "execution_count": 26,
   "id": "4c622dd8",
   "metadata": {},
   "outputs": [
    {
     "name": "stdout",
     "output_type": "stream",
     "text": [
      "0: a\n",
      "1: b\n",
      "2: c\n",
      "3: d\n"
     ]
    }
   ],
   "source": [
    "# know that enumerate('abcd') returns a 2-element tuple (index, letter) with each\n",
    "# iteration.  Can I capture this in a nicer way?\n",
    "\n",
    "for index, one_letter in enumerate('abcd'):\n",
    "    print(f'{index}: {one_letter}')"
   ]
  },
  {
   "cell_type": "code",
   "execution_count": 28,
   "id": "4b4c90a4",
   "metadata": {},
   "outputs": [
    {
     "name": "stdout",
     "output_type": "stream",
     "text": [
      "0: 100\n",
      "1: 200\n",
      "2: 300\n"
     ]
    }
   ],
   "source": [
    "t = (100, 200, 300)\n",
    "\n",
    "for index, one_number in enumerate(t):\n",
    "    print(f'{index}: {one_number}')"
   ]
  },
  {
   "cell_type": "markdown",
   "id": "12d30128",
   "metadata": {},
   "source": [
    "# Dictionaries\n",
    "\n",
    "So far, we've seen that we can store our data in strings (only if they're characters/text), lists, or tuples. In all of these cases, we retrieve our data via a numeric index, starting at 0 for the first item and going up from there. If there are `n` elements in a sequence, then the highest index will always be `n-1`.\n",
    "\n",
    "If I want to search through a string/list/tuple for a value, it might take a long time! I might need to search through the entire data structure to see if it's there. Which means that the longer the data structure, the more time it might take to find the value.\n",
    "\n",
    "How do dictionaries help?\n",
    "\n",
    "1. We can set the index (known as a \"key\" in the world of dicts) to be anything we want, so long as it's unique  and it's immutable. (Basically, strings, integers, and floats.)  This makes the dict easier to understand and work with.\n",
    "2. Searching and retrieval via the keys is done at very very high speed."
   ]
  },
  {
   "cell_type": "code",
   "execution_count": 29,
   "id": "8a3ee6b9",
   "metadata": {},
   "outputs": [
    {
     "data": {
      "text/plain": [
       "3"
      ]
     },
     "execution_count": 29,
     "metadata": {},
     "output_type": "execute_result"
    }
   ],
   "source": [
    "# example:\n",
    "\n",
    "d = {'a':100, 'b':200, 'c':300}\n",
    "\n",
    "# this dict has 3 key-value pairs\n",
    "len(d)"
   ]
  },
  {
   "cell_type": "code",
   "execution_count": 30,
   "id": "26d9b71d",
   "metadata": {},
   "outputs": [
    {
     "data": {
      "text/plain": [
       "100"
      ]
     },
     "execution_count": 30,
     "metadata": {},
     "output_type": "execute_result"
    }
   ],
   "source": [
    "# retrieve from the dict with d[]\n",
    "# in the [], put the key whose value you want\n",
    "\n",
    "d['a']"
   ]
  },
  {
   "cell_type": "code",
   "execution_count": 31,
   "id": "48f2c250",
   "metadata": {},
   "outputs": [
    {
     "ename": "KeyError",
     "evalue": "'qqqq'",
     "output_type": "error",
     "traceback": [
      "\u001b[0;31m---------------------------------------------------------------------------\u001b[0m",
      "\u001b[0;31mKeyError\u001b[0m                                  Traceback (most recent call last)",
      "Cell \u001b[0;32mIn [31], line 2\u001b[0m\n\u001b[1;32m      1\u001b[0m \u001b[38;5;66;03m# what if I retrieve a key that doesn't exist?\u001b[39;00m\n\u001b[0;32m----> 2\u001b[0m \u001b[43md\u001b[49m\u001b[43m[\u001b[49m\u001b[38;5;124;43m'\u001b[39;49m\u001b[38;5;124;43mqqqq\u001b[39;49m\u001b[38;5;124;43m'\u001b[39;49m\u001b[43m]\u001b[49m\n",
      "\u001b[0;31mKeyError\u001b[0m: 'qqqq'"
     ]
    }
   ],
   "source": [
    "# what if I retrieve a key that doesn't exist?\n",
    "d['qqqq']"
   ]
  },
  {
   "cell_type": "code",
   "execution_count": 32,
   "id": "ab2f9e07",
   "metadata": {},
   "outputs": [
    {
     "data": {
      "text/plain": [
       "True"
      ]
     },
     "execution_count": 32,
     "metadata": {},
     "output_type": "execute_result"
    }
   ],
   "source": [
    "# how can we check to see if a key exists?\n",
    "# we can use *in*\n",
    "\n",
    "'a' in d"
   ]
  },
  {
   "cell_type": "code",
   "execution_count": 33,
   "id": "139b0eee",
   "metadata": {},
   "outputs": [
    {
     "data": {
      "text/plain": [
       "True"
      ]
     },
     "execution_count": 33,
     "metadata": {},
     "output_type": "execute_result"
    }
   ],
   "source": [
    "'b' in d"
   ]
  },
  {
   "cell_type": "code",
   "execution_count": 34,
   "id": "76949795",
   "metadata": {},
   "outputs": [
    {
     "data": {
      "text/plain": [
       "False"
      ]
     },
     "execution_count": 34,
     "metadata": {},
     "output_type": "execute_result"
    }
   ],
   "source": [
    "'g' in d"
   ]
  },
  {
   "cell_type": "markdown",
   "id": "b1222568",
   "metadata": {},
   "source": [
    "# Summary of dicts, so far\n",
    "\n",
    "1. We can define them with\n",
    "    - `{}` around the outside\n",
    "    - commas between the key-value pairs\n",
    "    - colons separating the keys from the values\n",
    "    - every key needs a value and vice versa\n",
    "    - Keys must be immutable\n",
    "2. We can retrieve with `[]`\n",
    "3. We can check for membership of a key with `in`\n",
    "\n",
    "Dicts are designed to be very fast and efficient if you retrieve the values via the keys. You can, in theory, get the keys via the values, but it's not guaranteed to be unique and it's just not done that much.\n",
    "\n",
    "- The keys of a dict must be immutable (typically strings or integers)\n",
    "- The values of a dict can be *anything at all*."
   ]
  },
  {
   "cell_type": "markdown",
   "id": "b2570d3c",
   "metadata": {},
   "source": [
    "# Exercise: Restaurant\n",
    "\n",
    "1. Define a dict whose keys are the names of items on a restaurant menu, and whose values are prices (ints). This will be the `menu` dict.\n",
    "2. Define `total` to be 0\n",
    "3. Ask the user, repeatedly, to enter something they want to eat.\n",
    "    - If they enter the empty string, stop asking and print the final bill.\n",
    "    - If they enter something that is on the menu, then add it to the total, and print out the current total and the new total.\n",
    "    - If they order something that is *not* on the menu, then scold them appropriately.\n",
    "    \n",
    "Example:\n",
    "\n",
    "    Order: sandwich\n",
    "    sandwich costs 15, total is 15\n",
    "    Order: tea\n",
    "    tea costs 7, total is 22\n",
    "    Order: cake\n",
    "    cake costs 9, total is 31\n",
    "    Order: elephant\n",
    "    Sorry, we are fresh out of elephant\n",
    "    Order: [ENTER]\n",
    "    total is 31"
   ]
  },
  {
   "cell_type": "markdown",
   "id": "00cfeb1d",
   "metadata": {},
   "source": [
    "# Use cases for dicts\n",
    "\n",
    "1. Month names (keys) and month numbers (values)\n",
    "2. Month numbers (keys) and month names (values)\n",
    "3. User IDs (keys) and user info (values)\n"
   ]
  },
  {
   "cell_type": "code",
   "execution_count": null,
   "id": "b7bddba6",
   "metadata": {},
   "outputs": [],
   "source": []
  },
  {
   "cell_type": "markdown",
   "id": "836626e6",
   "metadata": {},
   "source": [
    "# Exercise: Restaurant\n",
    "\n",
    "1. Define a dict whose keys are the names of items on a restaurant menu, and whose values are prices (ints). This will be the `menu` dict.\n",
    "2. Define `total` to be 0\n",
    "3. Ask the user, repeatedly, to enter something they want to eat.\n",
    "    - If they enter the empty string, stop asking and print the final bill.\n",
    "    - If they enter something that is on the menu, then add it to the total, and print out the current total and the new total.\n",
    "    - If they order something that is *not* on the menu, then scold them appropriately.\n",
    "    \n",
    "Example:\n",
    "\n",
    "    Order: sandwich\n",
    "    sandwich costs 15, total is 15\n",
    "    Order: tea\n",
    "    tea costs 7, total is 22\n",
    "    Order: cake\n",
    "    cake costs 9, total is 31\n",
    "    Order: elephant\n",
    "    Sorry, we are fresh out of elephant\n",
    "    Order: [ENTER]\n",
    "    total is 31"
   ]
  },
  {
   "cell_type": "code",
   "execution_count": 35,
   "id": "019ea662",
   "metadata": {},
   "outputs": [
    {
     "name": "stdout",
     "output_type": "stream",
     "text": [
      "Order: sandwich\n",
      "sandwich costs 15; total is now 15\n",
      "Order: tea\n",
      "tea costs 7; total is now 22\n",
      "Order: coffee\n",
      "coffee is not on the menu today.\n",
      "Order: cake\n",
      "cake costs 9; total is now 31\n",
      "Order: cake\n",
      "cake costs 9; total is now 40\n",
      "Order: \n",
      "40\n"
     ]
    }
   ],
   "source": [
    "# define a dict, where the keys are strings (menu items), and the values are prices (ints)\n",
    "\n",
    "menu = {'sandwich':15, 'tea':7, 'cake':9, 'apple':5}\n",
    "total = 0\n",
    "\n",
    "while True:   # this will run forever\n",
    "    order = input('Order: ').strip()\n",
    "    \n",
    "    if order == '':      # no order? break out of the loop; you could also say \"if not order:\"\n",
    "        break\n",
    "        \n",
    "    if order in menu:         # does the user's input string exist as a key our dict?\n",
    "        price = menu[order]   # get the price\n",
    "        total += price\n",
    "        print(f'{order} costs {price}; total is now {total}')\n",
    "    else:\n",
    "        print(f'{order} is not on the menu today.')\n",
    "        \n",
    "print(total)        "
   ]
  },
  {
   "cell_type": "markdown",
   "id": "a2072b30",
   "metadata": {},
   "source": [
    "# Dictionaries are mutable!\n",
    "\n",
    "Remember that \"mutable\" means that the value, the object, can be modified. Strings and tuples are immutable. Lists and dicts are mutable.\n",
    "\n",
    "This is *NOT* remotely the same thing as saying they are (or aren't) constants. A constant (in other languages) means that once you set a value to a variable, you can never change that assignment. Python doesn't have constants.\n",
    "\n",
    "Immutable means that the variable refers to an object, and the object will never change.\n",
    "\n",
    "In the case of dictionaries, we can modify the dict -- adding or removing key-value pairs, or modifying values once they're in the dict."
   ]
  },
  {
   "cell_type": "code",
   "execution_count": 36,
   "id": "3f923cc4",
   "metadata": {},
   "outputs": [
    {
     "data": {
      "text/plain": [
       "3"
      ]
     },
     "execution_count": 36,
     "metadata": {},
     "output_type": "execute_result"
    }
   ],
   "source": [
    "# how do I modify a dict?\n",
    "\n",
    "d = {'a':10, 'b':20, 'c':30}   # this is the start\n",
    "\n",
    "len(d)   # this tells me how many key-value pairs I have"
   ]
  },
  {
   "cell_type": "code",
   "execution_count": 37,
   "id": "d43b0bf9",
   "metadata": {},
   "outputs": [
    {
     "data": {
      "text/plain": [
       "{'a': 10, 'b': 20, 'c': 40}"
      ]
     },
     "execution_count": 37,
     "metadata": {},
     "output_type": "execute_result"
    }
   ],
   "source": [
    "# I'm not saying d = SOMETHING, but rather I'm modifying the object that d is referring to\n",
    "\n",
    "d['c'] = 40     # I'm replacing the value associated with the key 'c'\n",
    "d"
   ]
  },
  {
   "cell_type": "code",
   "execution_count": 38,
   "id": "1c2eb151",
   "metadata": {},
   "outputs": [],
   "source": [
    "# how can I add a new key-value pair to the dict?\n",
    "# I assign to the dict, EXACTLY as I modified an existing value\n",
    "\n",
    "# if the key exists, the value is updated\n",
    "# if the key is new, the key-value pair is added\n",
    "\n",
    "# there is no \"append\" method for dictionaries\n",
    "\n",
    "d['x'] = 1234   # this is the first assignment to the key 'x', so this creates that key-value pair"
   ]
  },
  {
   "cell_type": "code",
   "execution_count": 39,
   "id": "1fccdbf2",
   "metadata": {},
   "outputs": [
    {
     "data": {
      "text/plain": [
       "{'a': 10, 'b': 20, 'c': 40, 'x': 1234}"
      ]
     },
     "execution_count": 39,
     "metadata": {},
     "output_type": "execute_result"
    }
   ],
   "source": [
    "d"
   ]
  },
  {
   "cell_type": "code",
   "execution_count": 40,
   "id": "44264bc4",
   "metadata": {},
   "outputs": [
    {
     "data": {
      "text/plain": [
       "4"
      ]
     },
     "execution_count": 40,
     "metadata": {},
     "output_type": "execute_result"
    }
   ],
   "source": [
    "len(d)"
   ]
  },
  {
   "cell_type": "code",
   "execution_count": 41,
   "id": "3e7347fb",
   "metadata": {},
   "outputs": [
    {
     "data": {
      "text/plain": [
       "1234"
      ]
     },
     "execution_count": 41,
     "metadata": {},
     "output_type": "execute_result"
    }
   ],
   "source": [
    "# I can remove a key-value pair with the \"pop\" method\n",
    "# I name the key, and I get back the value associated with it\n",
    "\n",
    "d.pop('x')   # this looks for the key \"x\" and returns the value associated with it, when we remove the pair"
   ]
  },
  {
   "cell_type": "code",
   "execution_count": 42,
   "id": "3c8cc08b",
   "metadata": {},
   "outputs": [
    {
     "data": {
      "text/plain": [
       "{'a': 10, 'b': 20, 'c': 40}"
      ]
     },
     "execution_count": 42,
     "metadata": {},
     "output_type": "execute_result"
    }
   ],
   "source": [
    "d"
   ]
  },
  {
   "cell_type": "code",
   "execution_count": 43,
   "id": "6d882118",
   "metadata": {},
   "outputs": [
    {
     "name": "stdout",
     "output_type": "stream",
     "text": [
      "{'a': 10, 'b': 20, 'c': 40}\n"
     ]
    }
   ],
   "source": [
    "print(d)  # if I print my dict, this is how it looks..."
   ]
  },
  {
   "cell_type": "code",
   "execution_count": 44,
   "id": "5a6660f8",
   "metadata": {},
   "outputs": [
    {
     "data": {
      "text/plain": [
       "20"
      ]
     },
     "execution_count": 44,
     "metadata": {},
     "output_type": "execute_result"
    }
   ],
   "source": [
    "d['b']"
   ]
  },
  {
   "cell_type": "code",
   "execution_count": 45,
   "id": "e5cd488a",
   "metadata": {},
   "outputs": [
    {
     "name": "stdout",
     "output_type": "stream",
     "text": [
      "20\n"
     ]
    }
   ],
   "source": [
    "print(d['b'])"
   ]
  },
  {
   "cell_type": "code",
   "execution_count": 47,
   "id": "af2cd2a4",
   "metadata": {},
   "outputs": [
    {
     "data": {
      "text/plain": [
       "20"
      ]
     },
     "execution_count": 47,
     "metadata": {},
     "output_type": "execute_result"
    }
   ],
   "source": [
    "# perhaps it's obvious, but the key can be a variable\n",
    "\n",
    "k = 'b'\n",
    "\n",
    "d[k]  # retrieve the value from d, where k (the variable)'s value is the key"
   ]
  },
  {
   "cell_type": "markdown",
   "id": "ef745bc2",
   "metadata": {},
   "source": [
    "# Dicts aren't unique to Python!\n",
    "\n",
    "Just about every programming language has something like a dict. High-level languages like Python, Perl, Ruby, PHP, and JavaScript really use them everywhere. But they're known under many different names:\n",
    "\n",
    "- Hash tables\n",
    "- Hashes\n",
    "- Associative arrays\n",
    "- Name-value pairs\n",
    "- Key-value pairs\n",
    "- Hash maps\n",
    "- Maps"
   ]
  },
  {
   "cell_type": "code",
   "execution_count": 48,
   "id": "868fe549",
   "metadata": {},
   "outputs": [
    {
     "data": {
      "text/plain": [
       "{'a': 10, 'b': 10, 'c': 10, 'd': 10}"
      ]
     },
     "execution_count": 48,
     "metadata": {},
     "output_type": "execute_result"
    }
   ],
   "source": [
    "d = {}   # empty dict\n",
    "\n",
    "for one_letter in 'abcd':\n",
    "    d[one_letter] = 10\n",
    "    \n",
    "d"
   ]
  },
  {
   "cell_type": "markdown",
   "id": "dd953bd1",
   "metadata": {},
   "source": [
    "# Next up\n",
    "\n",
    "1. Accumulating (known things) in dicts\n",
    "2. Accumulating (unknown things) in dicts\n",
    "3. Looping over dicts\n",
    "4. How dicts work behind the scenes\n",
    "\n"
   ]
  },
  {
   "cell_type": "markdown",
   "id": "c6d82e52",
   "metadata": {},
   "source": [
    "# Using dicts to accumulate information\n",
    "\n",
    "In some cases, I know what I want to count. I can create a dict in which the things I want to count are the keys, and the values all start at 0. Then, over the course of the program, those numbers can rise.  At the end of the program, I look at the dict and see how many of each thing was there."
   ]
  },
  {
   "cell_type": "code",
   "execution_count": 49,
   "id": "9b7450a4",
   "metadata": {},
   "outputs": [
    {
     "name": "stdout",
     "output_type": "stream",
     "text": [
      "Enter numbers, separated by spaces: 10 15 abcd 17 18\n",
      "{'evens': 2, 'odds': 2}\n"
     ]
    }
   ],
   "source": [
    "# count even and odd numbers in a string\n",
    "\n",
    "counts = {'evens':0, 'odds':0}   \n",
    "\n",
    "numbers = input('Enter numbers, separated by spaces: ').split()\n",
    "\n",
    "for one_number in numbers:\n",
    "\n",
    "    if not one_number.isdigit():   # can this string not be made into an int? Next number!\n",
    "        continue\n",
    "        \n",
    "    n = int(one_number)\n",
    "    \n",
    "    if n % 2 == 0:   # if the number is even\n",
    "        counts['evens'] += 1\n",
    "    else:\n",
    "        counts['odds'] += 1\n",
    "        \n",
    "print(counts)        "
   ]
  },
  {
   "cell_type": "code",
   "execution_count": 50,
   "id": "09509659",
   "metadata": {},
   "outputs": [
    {
     "name": "stdout",
     "output_type": "stream",
     "text": [
      "Enter a value: 123\n",
      "Enter b value: 456\n"
     ]
    }
   ],
   "source": [
    "d = {'a':input('Enter a value: ').strip(),\n",
    "     'b':input('Enter b value: ').strip()}"
   ]
  },
  {
   "cell_type": "code",
   "execution_count": 51,
   "id": "6c9e953c",
   "metadata": {},
   "outputs": [
    {
     "data": {
      "text/plain": [
       "{'a': '123', 'b': '456'}"
      ]
     },
     "execution_count": 51,
     "metadata": {},
     "output_type": "execute_result"
    }
   ],
   "source": [
    "d"
   ]
  },
  {
   "cell_type": "markdown",
   "id": "7f592ca9",
   "metadata": {},
   "source": [
    "# Exercise: Vowels, digits, and others (dict edition)\n",
    "\n",
    "1. Define a dict with three keys: `vowels`, `digits`, and `others`, and 0 for all values.\n",
    "2. Ask the user, repeatedly, to enter a string.\n",
    "    - If the user enters the empty string, stop asking and print our dict\n",
    "3. Go through each character in the user's string:\n",
    "    - If it's a vowel, add 1 to `vowels`\n",
    "    - If it's a digit, add 1 to `digits`\n",
    "    - If it's neither, add 1 to `others`.\n",
    "4. Print our dict with all of the counts.    \n",
    "\n",
    "Example:\n",
    "\n",
    "    Enter text: hello!\n",
    "    Enter text: ab12??\n",
    "    Enter text: [ENTER]\n",
    "    \n",
    "    {'vowels':3, 'digits':2, 'others':7}"
   ]
  },
  {
   "cell_type": "code",
   "execution_count": null,
   "id": "91581cf0",
   "metadata": {},
   "outputs": [],
   "source": [
    "# if you're getting errors about futures and PyIodide (most of you won't), then you have to say\n",
    "\n",
    "x = input('Enter text: ')\n",
    "\n",
    "# don't put these in the same cell!\n",
    "s = x.result()"
   ]
  },
  {
   "cell_type": "markdown",
   "id": "69041cfe",
   "metadata": {},
   "source": [
    "# Exercise: Vowels, digits, and others (dict edition)\n",
    "\n",
    "1. Define a dict with three keys: `vowels`, `digits`, and `others`, and 0 for all values.\n",
    "2. Ask the user, repeatedly, to enter a string.\n",
    "    - If the user enters the empty string, stop asking and print our dict\n",
    "3. Go through each character in the user's string:\n",
    "    - If it's a vowel, add 1 to `vowels`\n",
    "    - If it's a digit, add 1 to `digits`\n",
    "    - If it's neither, add 1 to `others`.\n",
    "4. Print our dict with all of the counts.    \n",
    "\n",
    "Example:\n",
    "\n",
    "    Enter text: hello!\n",
    "    Enter text: ab12??\n",
    "    Enter text: [ENTER]\n",
    "    \n",
    "    {'vowels':3, 'digits':2, 'others':7}"
   ]
  },
  {
   "cell_type": "code",
   "execution_count": 52,
   "id": "f107ec59",
   "metadata": {
    "scrolled": true
   },
   "outputs": [
    {
     "name": "stdout",
     "output_type": "stream",
     "text": [
      "Enter text: hello!\n",
      "Enter text: ab12??\n",
      "Enter text: \n",
      "{'vowels': 3, 'digits': 2, 'others': 7}\n"
     ]
    }
   ],
   "source": [
    "counts = {'vowels':0, 'digits':0, 'others':0}\n",
    "\n",
    "while True:   # I don't know how many strings the user will enter\n",
    "    \n",
    "    s = input('Enter text: ').strip()\n",
    "    \n",
    "    if s == '':\n",
    "        break\n",
    "        \n",
    "    # go through each character -- for loop inside of my while loop!\n",
    "    for one_character in s:\n",
    "        if one_character in 'aeiou':   # is it a vowel?\n",
    "            counts['vowels'] += 1\n",
    "        elif one_character.isdigit():  # is it a digit?\n",
    "            counts['digits'] += 1\n",
    "        else:\n",
    "            counts['others'] += 1      # others == any character that is neither a vowel nor a digit\n",
    "            \n",
    "print(counts)"
   ]
  },
  {
   "cell_type": "markdown",
   "id": "c3f09a95",
   "metadata": {},
   "source": [
    "hello! -- h (others), e (vowels), l (others), l (others), o (vowel), ! (others)\n",
    "ab12?? -- a (vowels), b (others), 1 (digit), 2 (digit), ? (others), ? (others)\n",
    "\n",
    "others -- 7\n",
    "vowels -- 3\n",
    "digits -- 2\n"
   ]
  },
  {
   "cell_type": "markdown",
   "id": "ce400d0d",
   "metadata": {},
   "source": [
    "If your dict has integer keys, then use ints, not strings:\n",
    "\n"
   ]
  },
  {
   "cell_type": "code",
   "execution_count": 53,
   "id": "024b0a76",
   "metadata": {},
   "outputs": [
    {
     "data": {
      "text/plain": [
       "'Mar'"
      ]
     },
     "execution_count": 53,
     "metadata": {},
     "output_type": "execute_result"
    }
   ],
   "source": [
    "months = {1: 'Jan', 2: 'Feb', 3: 'Mar', 4: 'Apr'}\n",
    "\n",
    "months[3]"
   ]
  },
  {
   "cell_type": "markdown",
   "id": "f1ce0309",
   "metadata": {},
   "source": [
    "# Accumulating the unknown\n",
    "\n",
    "We don't always know what we'll be counting. Examples:\n",
    "\n",
    "- I want to know how many times each IP address has visited my server\n",
    "- I want to know how much we have earned from each product\n",
    "- I want to know which users have tried to log in unsuccessfully\n",
    "\n",
    "I can start with an empty dict:\n",
    "\n",
    "- If I want to store info about an existing key, I just add it to the current count\n",
    "- If I want to store info about a new key, I have to add the new key-value pair.\n"
   ]
  },
  {
   "cell_type": "code",
   "execution_count": 54,
   "id": "e845e1af",
   "metadata": {},
   "outputs": [
    {
     "name": "stdout",
     "output_type": "stream",
     "text": [
      "Enter text: hello\n"
     ]
    },
    {
     "ename": "KeyError",
     "evalue": "'h'",
     "output_type": "error",
     "traceback": [
      "\u001b[0;31m---------------------------------------------------------------------------\u001b[0m",
      "\u001b[0;31mKeyError\u001b[0m                                  Traceback (most recent call last)",
      "Cell \u001b[0;32mIn [54], line 15\u001b[0m\n\u001b[1;32m     10\u001b[0m         \u001b[38;5;28;01mbreak\u001b[39;00m\n\u001b[1;32m     12\u001b[0m     \u001b[38;5;28;01mfor\u001b[39;00m one_character \u001b[38;5;129;01min\u001b[39;00m s:   \u001b[38;5;66;03m# go through s, one character at a time\u001b[39;00m\n\u001b[1;32m     13\u001b[0m \n\u001b[1;32m     14\u001b[0m         \u001b[38;5;66;03m# I want to do this:\u001b[39;00m\n\u001b[0;32m---> 15\u001b[0m         \u001b[43mcounts\u001b[49m\u001b[43m[\u001b[49m\u001b[43mone_character\u001b[49m\u001b[43m]\u001b[49m \u001b[38;5;241m+\u001b[39m\u001b[38;5;241m=\u001b[39m \u001b[38;5;241m1\u001b[39m  \u001b[38;5;66;03m# this won't work because we can only add to something that exists!\u001b[39;00m\n\u001b[1;32m     17\u001b[0m \u001b[38;5;28mprint\u001b[39m(counts)\n",
      "\u001b[0;31mKeyError\u001b[0m: 'h'"
     ]
    }
   ],
   "source": [
    "# example: letter counts\n",
    "\n",
    "counts = {}   # we will count each character, how many times it appears\n",
    "\n",
    "while True:   # I don't know how many strings the user will enter\n",
    "    \n",
    "    s = input('Enter text: ').strip()\n",
    "    \n",
    "    if s == '':\n",
    "        break\n",
    "        \n",
    "    for one_character in s:   # go through s, one character at a time\n",
    "\n",
    "        # I want to do this:\n",
    "        counts[one_character] += 1  # this won't work because we can only add to something that exists!\n",
    "        \n",
    "print(counts)"
   ]
  },
  {
   "cell_type": "code",
   "execution_count": 55,
   "id": "c1d8293c",
   "metadata": {},
   "outputs": [
    {
     "name": "stdout",
     "output_type": "stream",
     "text": [
      "Enter text: hello\n",
      "Enter text: what is new?\n",
      "Enter text: I'm fine, how are you?\n",
      "Enter text: \n",
      "{'h': 3, 'e': 4, 'l': 2, 'o': 3, 'w': 3, 'a': 2, 't': 1, ' ': 6, 'i': 2, 's': 1, 'n': 2, '?': 2, 'I': 1, \"'\": 1, 'm': 1, 'f': 1, ',': 1, 'r': 1, 'y': 1, 'u': 1}\n"
     ]
    }
   ],
   "source": [
    "# example: letter counts\n",
    "\n",
    "counts = {}   # we will count each character, how many times it appears\n",
    "\n",
    "while True:   # I don't know how many strings the user will enter\n",
    "    \n",
    "    s = input('Enter text: ').strip()\n",
    "    \n",
    "    if s == '':\n",
    "        break\n",
    "        \n",
    "    for one_character in s:   # go through s, one character at a time\n",
    "\n",
    "        if one_character in counts:      # have we seen this character before?\n",
    "            counts[one_character] += 1   #   add to its count!\n",
    "        else:                            # new character?\n",
    "            counts[one_character] = 1    #   add the key-value pair with a value of 1\n",
    "        \n",
    "print(counts)"
   ]
  },
  {
   "cell_type": "markdown",
   "id": "5d5f1bf3",
   "metadata": {},
   "source": [
    "# Three paradigms for using dicts\n",
    "\n",
    "1. Define it at the start of the program, treat it as read only.\n",
    "2. Define the keys and default values (0, empty list, etc.) at the start of the program. Update the values, but don't add/remove keys.\n",
    "3. Define an empty dict at the start of the program. Add keys as necessary, and update values when you see the same key a subsequent time."
   ]
  },
  {
   "cell_type": "markdown",
   "id": "c0fd4831",
   "metadata": {},
   "source": [
    "# Exercise: Rainfall exercise\n",
    "\n",
    "1. Define an empty dict, called `rainfall`. The dict's keys will be city names, and its values will be integers -- mm of rain that fell in each city.\n",
    "2. We're going to ask the user to enter a city, again and again. When we get an empty city name, we'll stop asking.\n",
    "3. If we got a city name, then we're going to ask how much rain (in mm) fell in that city in the last day.\n",
    "    - If this is the first time we're seeing a city, then add the city + its rainfall as a key-value pair.\n",
    "    - If this is not the first time we're seeing a city, then add the current rainfall to the existing value.\n",
    "4. Print the `rainfall` dict.\n",
    "\n",
    "Example:\n",
    "\n",
    "    City: Jerusalem\n",
    "    Rain: 4\n",
    "    City: Tel Aviv\n",
    "    Rain: 3\n",
    "    City: Tel Aviv\n",
    "    Rain: 2\n",
    "    City: [ENTER]\n",
    "    {'Jerusalem':4, 'Tel Aviv':5}"
   ]
  },
  {
   "cell_type": "code",
   "execution_count": 58,
   "id": "429d08fb",
   "metadata": {},
   "outputs": [
    {
     "name": "stdout",
     "output_type": "stream",
     "text": [
      "City: a\n",
      "Rain: 5\n",
      "City: b\n",
      "Rain: 4\n",
      "City: a\n",
      "Rain: asdfsadfa\n",
      "\tNot numeric; try again\n",
      "City: a\n",
      "Rain: 3\n",
      "City: \n",
      "{'a': 8, 'b': 4}\n"
     ]
    }
   ],
   "source": [
    "rainfall = {}  # empty dict\n",
    "\n",
    "while True:\n",
    "    city_name = input('City: ').strip()\n",
    "    \n",
    "    if city_name == '':\n",
    "        break\n",
    "        \n",
    "    mm_rain = input('Rain: ').strip()\n",
    "\n",
    "    if not mm_rain.isdigit():\n",
    "        print('\\tNot numeric; try again')\n",
    "        continue\n",
    "\n",
    "    mm_rain = int(mm_rain)     # if the user enters non-digits, this will blow up\n",
    "    \n",
    "    if city_name in rainfall:\n",
    "        rainfall[city_name] += mm_rain    # add to the existing value if the city is already in the dict\n",
    "    else:\n",
    "        rainfall[city_name] = mm_rain     # add the key-value pair if the city is new\n",
    "        \n",
    "print(rainfall)        "
   ]
  },
  {
   "cell_type": "code",
   "execution_count": 59,
   "id": "f49e7bdf",
   "metadata": {},
   "outputs": [
    {
     "data": {
      "text/plain": [
       "True"
      ]
     },
     "execution_count": 59,
     "metadata": {},
     "output_type": "execute_result"
    }
   ],
   "source": [
    "# does in only work on the keys? \n",
    "\n",
    "d = {'a':10, 'b':20, 'c':30}\n",
    "\n",
    "'a' in d"
   ]
  },
  {
   "cell_type": "code",
   "execution_count": 60,
   "id": "a9751b78",
   "metadata": {},
   "outputs": [
    {
     "data": {
      "text/plain": [
       "False"
      ]
     },
     "execution_count": 60,
     "metadata": {},
     "output_type": "execute_result"
    }
   ],
   "source": [
    "10 in d"
   ]
  },
  {
   "cell_type": "markdown",
   "id": "c5d2708d",
   "metadata": {},
   "source": [
    "How do we search for values in a dict?\n",
    "\n",
    "1. Try to structure your data so you don't have to do this.\n",
    "2. If you really need to, there are dict methods `.keys()` and `.values()`. If you want, you can say something like `10 in d.values()`."
   ]
  },
  {
   "cell_type": "code",
   "execution_count": null,
   "id": "30688af7",
   "metadata": {},
   "outputs": [],
   "source": []
  },
  {
   "cell_type": "code",
   "execution_count": 61,
   "id": "38cf9978",
   "metadata": {},
   "outputs": [
    {
     "data": {
      "text/plain": [
       "True"
      ]
     },
     "execution_count": 61,
     "metadata": {},
     "output_type": "execute_result"
    }
   ],
   "source": [
    "10 in d.values()"
   ]
  },
  {
   "cell_type": "code",
   "execution_count": 62,
   "id": "20550dc0",
   "metadata": {},
   "outputs": [
    {
     "name": "stdout",
     "output_type": "stream",
     "text": [
      "City: \n",
      "{}\n"
     ]
    }
   ],
   "source": [
    "#, Rainfall dict of lists edition\n",
    "\n",
    "rainfall = {}  # empty dict\n",
    "\n",
    "while True:\n",
    "    city_name = input('City: ').strip()\n",
    "    \n",
    "    if city_name == '':\n",
    "        break\n",
    "        \n",
    "    mm_rain = input('Rain: ').strip()\n",
    "\n",
    "    if not mm_rain.isdigit():\n",
    "        print('\\tNot numeric; try again')\n",
    "        continue\n",
    "\n",
    "    mm_rain = int(mm_rain)     # if the user enters non-digits, this will blow up\n",
    "    \n",
    "    if city_name in rainfall:\n",
    "        rainfall[city_name].append(mm_rain)\n",
    "    else:\n",
    "        \n",
    "        rainfall[city_name] = [mm_rain]    \n",
    "print(rainfall)        "
   ]
  },
  {
   "cell_type": "markdown",
   "id": "fa8836dc",
   "metadata": {},
   "source": [
    "# Next up\n",
    "\n",
    "1. Loops and dicts (and avoiding some common mistakes)\n",
    "2. How do dicts work behind the scenes?\n",
    "3. Files\n",
    "    - Reading from text files\n",
    "    - Writing (a little) to text files\n",
    "    \n",
    "    "
   ]
  },
  {
   "cell_type": "markdown",
   "id": "d41c9d72",
   "metadata": {},
   "source": [
    "# Loops and dicts\n",
    "\n",
    "We've seen that we can run a `for` loop over a variety of data structures:\n",
    "\n",
    "- Iterating over a string gives us the characters\n",
    "- Iterating over a list gives us the elements\n",
    "- Iterating over a tuple also gives us its elements\n",
    "\n",
    "What happens if we iterate over a dict?"
   ]
  },
  {
   "cell_type": "code",
   "execution_count": 63,
   "id": "ea1d9343",
   "metadata": {},
   "outputs": [
    {
     "name": "stdout",
     "output_type": "stream",
     "text": [
      "a\n",
      "b\n",
      "c\n"
     ]
    }
   ],
   "source": [
    "d = {'a':10, 'b':20, 'c':30}\n",
    "\n",
    "for one_item in d:\n",
    "    print(one_item)"
   ]
  },
  {
   "cell_type": "code",
   "execution_count": 64,
   "id": "f30b4eea",
   "metadata": {},
   "outputs": [
    {
     "name": "stdout",
     "output_type": "stream",
     "text": [
      "a: 10\n",
      "b: 20\n",
      "c: 30\n"
     ]
    }
   ],
   "source": [
    "# Iterating over a dict gives you the keys\n",
    "# Let's use that to print our dict\n",
    "\n",
    "for one_key in d:\n",
    "    print(f'{one_key}: {d[one_key]}')"
   ]
  },
  {
   "cell_type": "code",
   "execution_count": 65,
   "id": "98dbc8ef",
   "metadata": {},
   "outputs": [],
   "source": [
    "# I mentioned before that there is a \"dict.keys\" method that returns the keys\n",
    "# you *could* iterate over dict.keys -- but iterating directly over d is faster (and more Pythonic)\n",
    "\n"
   ]
  },
  {
   "cell_type": "code",
   "execution_count": 67,
   "id": "182cdf8d",
   "metadata": {},
   "outputs": [
    {
     "name": "stdout",
     "output_type": "stream",
     "text": [
      "('a', 10)\n",
      "('b', 20)\n",
      "('c', 30)\n"
     ]
    }
   ],
   "source": [
    "# it's kind of annoying that I get the keys, and then I retrieve the values via the keys\n",
    "# is there a way for me to get both the keys and the values?\n",
    "\n",
    "# yes, with the .items method!\n",
    "\n",
    "# every iteration over .items gives me a 2-element tuple, (key, value)\n",
    "\n",
    "for one_item in d.items():\n",
    "    print(one_item)"
   ]
  },
  {
   "cell_type": "code",
   "execution_count": 68,
   "id": "66812e10",
   "metadata": {},
   "outputs": [
    {
     "name": "stdout",
     "output_type": "stream",
     "text": [
      "a: 10\n",
      "b: 20\n",
      "c: 30\n"
     ]
    }
   ],
   "source": [
    "for t in d.items():\n",
    "    print(f'{t[0]}: {t[1]}')   # t[0] is the key, and t[1] is the value"
   ]
  },
  {
   "cell_type": "code",
   "execution_count": 69,
   "id": "7b42e92a",
   "metadata": {},
   "outputs": [
    {
     "name": "stdout",
     "output_type": "stream",
     "text": [
      "a: 10\n",
      "b: 20\n",
      "c: 30\n"
     ]
    }
   ],
   "source": [
    "# let's take advantage of unpacking\n",
    "for t in d.items():\n",
    "    one_key, one_value = t\n",
    "    print(f'{one_key}: {one_value}')"
   ]
  },
  {
   "cell_type": "code",
   "execution_count": 70,
   "id": "6872ef33",
   "metadata": {},
   "outputs": [
    {
     "name": "stdout",
     "output_type": "stream",
     "text": [
      "a: 10\n",
      "b: 20\n",
      "c: 30\n"
     ]
    }
   ],
   "source": [
    "# we can shrink this even more by putting unpacking in our for loop\n",
    "\n",
    "for one_key, one_value in d.items():\n",
    "    print(f'{one_key}: {one_value}')"
   ]
  },
  {
   "cell_type": "code",
   "execution_count": 71,
   "id": "1171e265",
   "metadata": {},
   "outputs": [],
   "source": [
    "for one_key, one_value in rainfall.items():\n",
    "    print(f'{one_key}: {one_value}')"
   ]
  },
  {
   "cell_type": "code",
   "execution_count": 72,
   "id": "9c0ee7ef",
   "metadata": {},
   "outputs": [
    {
     "name": "stdout",
     "output_type": "stream",
     "text": [
      "City: a\n",
      "Rain: 5\n",
      "City: b\n",
      "Rain: 4\n",
      "City: a\n",
      "Rain: 3\n",
      "City: b\n",
      "Rain: 2\n",
      "City: a\n",
      "Rain: 6\n",
      "City: b\n",
      "Rain: 5\n",
      "City: \n",
      "a: [5, 3, 6]\n",
      "b: [4, 2, 5]\n"
     ]
    }
   ],
   "source": [
    "#, Rainfall dict of lists edition\n",
    "\n",
    "rainfall = {}  # empty dict\n",
    "\n",
    "while True:\n",
    "    city_name = input('City: ').strip()\n",
    "    \n",
    "    if city_name == '':\n",
    "        break\n",
    "        \n",
    "    mm_rain = input('Rain: ').strip()\n",
    "\n",
    "    if not mm_rain.isdigit():\n",
    "        print('\\tNot numeric; try again')\n",
    "        continue\n",
    "\n",
    "    mm_rain = int(mm_rain)     # if the user enters non-digits, this will blow up\n",
    "    \n",
    "    if city_name in rainfall:\n",
    "        rainfall[city_name].append(mm_rain)\n",
    "    else:\n",
    "        \n",
    "        rainfall[city_name] = [mm_rain]    \n",
    "\n",
    "        \n",
    "for one_key, one_value in rainfall.items():\n",
    "    print(f'{one_key}: {one_value}')        "
   ]
  },
  {
   "cell_type": "code",
   "execution_count": 73,
   "id": "4d149a80",
   "metadata": {},
   "outputs": [
    {
     "data": {
      "text/plain": [
       "{'a': [5, 3, 6], 'b': [4, 2, 5]}"
      ]
     },
     "execution_count": 73,
     "metadata": {},
     "output_type": "execute_result"
    }
   ],
   "source": [
    "rainfall"
   ]
  },
  {
   "cell_type": "code",
   "execution_count": 74,
   "id": "85689e57",
   "metadata": {},
   "outputs": [
    {
     "name": "stdout",
     "output_type": "stream",
     "text": [
      "a\n",
      "\t5\n",
      "\t3\n",
      "\t6\n",
      "b\n",
      "\t4\n",
      "\t2\n",
      "\t5\n"
     ]
    }
   ],
   "source": [
    "for one_key, all_values in rainfall.items():\n",
    "    print(one_key)\n",
    "\n",
    "    for one_value in all_values:\n",
    "        print(f'\\t{one_value}')"
   ]
  },
  {
   "cell_type": "markdown",
   "id": "22fd4167",
   "metadata": {},
   "source": [
    "# How do dicts work?\n",
    "\n",
    "How is it that:\n",
    "\n",
    "- Dict keys need to be immutable?\n",
    "- Searching in a dict is so fast?\n",
    "- Keys must be unique?\n",
    "- Values can be anything?\n",
    "- We can search via keys, but not via values?\n",
    "\n",
    "The answer: A hash function.  In other words, when Python decides where in memory to store each of the key-value pairs in our dict, it uses the key to make that calculation.\n",
    "\n",
    "In other words, a key-value pair with a key `'a'` will be stored in a place based on calling `hash('a')`, where `hash` is a special function that gives us a number back from a string. That number is very very hard to predict, but it's deterministic.\n",
    "\n",
    "How does this work? How is it different from lists?\n",
    "\n",
    "Lists are similar to an office building in which you don't know where people work. Searching in a list means going through each element, one at a time, hoping that you'll find the element you're looking for. You might have to search the entire list before either finding the value or giving up. That can take a long time, if you have a lot of data.\n",
    "\n",
    "Dicts work very differently, thanks to the hash function. You can look at the key and jump to the right place in memory, and then ask: Is my data here? If so, then great; you're done. If not, then it's not in the dictionary; you're also done. This is super fast -- we barely need to search at all.\n",
    "\n",
    "This explains a lot:\n",
    "\n",
    "- Why do dict keys need to be immutable? Because changing them would make their hash value irrelevant or wrong. The key-value pairs would be stored in the wrong place in the dict, and they would get lost.\n",
    "\n",
    "- Why do keys need to be unique? Because otherwise, we would have a hash collision -- more than one key-value pair vying for the same location, and no obvious way to resolve the conflict.\n",
    "\n",
    "- Values aren't part of the hash function, so they can be anything at all.\n",
    "\n"
   ]
  },
  {
   "cell_type": "code",
   "execution_count": 75,
   "id": "ac02ade7",
   "metadata": {},
   "outputs": [
    {
     "ename": "TypeError",
     "evalue": "unhashable type: 'list'",
     "output_type": "error",
     "traceback": [
      "\u001b[0;31m---------------------------------------------------------------------------\u001b[0m",
      "\u001b[0;31mTypeError\u001b[0m                                 Traceback (most recent call last)",
      "Cell \u001b[0;32mIn [75], line 3\u001b[0m\n\u001b[1;32m      1\u001b[0m mylist \u001b[38;5;241m=\u001b[39m [\u001b[38;5;241m10\u001b[39m, \u001b[38;5;241m20\u001b[39m, \u001b[38;5;241m30\u001b[39m]\n\u001b[0;32m----> 3\u001b[0m \u001b[43md\u001b[49m\u001b[43m[\u001b[49m\u001b[43mmylist\u001b[49m\u001b[43m]\u001b[49m \u001b[38;5;241m=\u001b[39m \u001b[38;5;241m100\u001b[39m\n",
      "\u001b[0;31mTypeError\u001b[0m: unhashable type: 'list'"
     ]
    }
   ],
   "source": [
    "mylist = [10, 20, 30]\n",
    "\n",
    "d[mylist] = 100"
   ]
  },
  {
   "cell_type": "markdown",
   "id": "d8529c88",
   "metadata": {},
   "source": [
    "# Files\n",
    "\n",
    "We use files all of the time:\n",
    "\n",
    "- Word files\n",
    "- Powerpoint files\n",
    "- Excel files\n",
    "- PDF files\n",
    "\n",
    "All a file is, is a bunch of bytes on disk that allow us to turn off the computer, turn it back on, and still have our data.  \n",
    "\n",
    "We're going to be using plain-text files -- as you would probably see for configuration, for logs, or for data. \n",
    "\n",
    "How can we read a file? We don't have access to the disk. But the OS does. So:\n",
    "\n",
    "- We need to ask the OS for help in opening the file\n",
    "- It does this by giving us a \"file handle,\" with which we can read from the file\n",
    "- This file handle goes through the OS, and makes sure that we don't do any monkey business\n",
    "\n",
    "The way this works in Python is that we run the `open` function, and it gives us the Python equivalent of a file handle, namely a file object. This object acts as our agent -- we ask it to read from the file, it asks the OS to read from the file, the OS asks the disk to read from the file, and then we get the file's contents (if all goes well)."
   ]
  },
  {
   "cell_type": "code",
   "execution_count": 83,
   "id": "a84f7a29",
   "metadata": {},
   "outputs": [],
   "source": [
    "# option 1 for reading from a file: open it, and run the \"read\" method on the file object\n",
    "\n",
    "f = open('linux-etc-passwd.txt')   # opened the file for reading, the default\n"
   ]
  },
  {
   "cell_type": "code",
   "execution_count": 84,
   "id": "f97c55bf",
   "metadata": {},
   "outputs": [
    {
     "data": {
      "text/plain": [
       "<_io.TextIOWrapper name='linux-etc-passwd.txt' mode='r' encoding='UTF-8'>"
      ]
     },
     "execution_count": 84,
     "metadata": {},
     "output_type": "execute_result"
    }
   ],
   "source": [
    "f   # printed representation of my file object, showing name, mode, and encoding"
   ]
  },
  {
   "cell_type": "code",
   "execution_count": 85,
   "id": "0003eb2b",
   "metadata": {},
   "outputs": [
    {
     "name": "stdout",
     "output_type": "stream",
     "text": [
      "# This is a comment\n",
      "# You should ignore me\n",
      "root:x:0:0:root:/root:/bin/bash\n",
      "daemon:x:1:1:daemon:/usr/sbin:/usr/sbin/nologin\n",
      "bin:x:2:2:bin:/bin:/usr/sbin/nologin\n",
      "sys:x:3:3:sys:/dev:/usr/sbin/nologin\n",
      "sync:x:4:65534:sync:/bin:/bin/sync\n",
      "games:x:5:60:games:/usr/games:/usr/sbin/nologin\n",
      "man:x:6:12:man:/var/cache/man:/usr/sbin/nologin\n",
      "lp:x:7:7:lp:/var/spool/lpd:/usr/sbin/nologin\n",
      "mail:x:8:8:mail:/var/mail:/usr/sbin/nologin\n",
      "\n",
      "\n",
      "\n",
      "news:x:9:9:news:/var/spool/news:/usr/sbin/nologin\n",
      "uucp:x:10:10:uucp:/var/spool/uucp:/usr/sbin/nologin\n",
      "proxy:x:13:13:proxy:/bin:/usr/sbin/nologin\n",
      "www-data:x:33:33:www-data:/var/www:/usr/sbin/nologin\n",
      "backup:x:34:34:backup:/var/backups:/usr/sbin/nologin\n",
      "list:x:38:38:Mailing List Manager:/var/list:/usr/sbin/nologin\n",
      "irc:x:39:39:ircd:/var/run/ircd:/usr/sbin/nologin\n",
      "gnats:x:41:41:Gnats Bug-Reporting System (admin):/var/lib/gnats:/usr/sbin/nologin\n",
      "\n",
      "nobody:x:65534:65534:nobody:/nonexistent:/usr/sbin/nologin\n",
      "syslog:x:101:104::/home/syslog:/bin/false\n",
      "messagebus:x:102:106::/var/run/dbus:/bin/false\n",
      "landscape:x:103:109::/var/lib/landscape:/bin/false\n",
      "jci:x:955:955::/home/jci:/bin/bash\n",
      "sshd:x:104:65534::/var/run/sshd:/usr/sbin/nologin\n",
      "user:x:1000:1000:user,,,:/home/user:/bin/bash\n",
      "reuven:x:1001:1001:Reuven M. Lerner,,,:/home/reuven:/bin/bash\n",
      "postfix:x:105:113::/var/spool/postfix:/bin/false\n",
      "colord:x:106:116:colord colour management daemon,,,:/var/lib/colord:/bin/false\n",
      "postgres:x:107:117:PostgreSQL administrator,,,:/var/lib/postgresql:/bin/bash\n",
      "dovecot:x:108:119:Dovecot mail server,,,:/usr/lib/dovecot:/bin/false\n",
      "dovenull:x:109:120:Dovecot login user,,,:/nonexistent:/bin/false\n",
      "postgrey:x:110:121::/var/lib/postgrey:/bin/false\n",
      "debian-spamd:x:111:122::/var/lib/spamassassin:/bin/sh\n",
      "memcache:x:113:124:Memcached,,,:/nonexistent:/bin/false\n",
      "genadi:x:1002:1003:Genadi Reznichenko,,,:/home/genadi:/bin/bash\n",
      "shira:x:1003:1004:Shira Friedman,,,:/home/shira:/bin/bash\n",
      "atara:x:1004:1005:Atara Lerner-Friedman,,,:/home/atara:/bin/bash\n",
      "shikma:x:1005:1006:Shikma Lerner-Friedman,,,:/home/shikma:/bin/bash\n",
      "amotz:x:1006:1007:Amotz Lerner-Friedman,,,:/home/amotz:/bin/bash\n",
      "mysql:x:114:125:MySQL Server,,,:/nonexistent:/bin/false\n",
      "clamav:x:115:126::/var/lib/clamav:/bin/false\n",
      "amavis:x:116:127:AMaViS system user,,,:/var/lib/amavis:/bin/sh\n",
      "opendkim:x:117:128::/var/run/opendkim:/bin/false\n",
      "gitlab-redis:x:999:1009::/var/opt/gitlab/redis:/bin/nologin\n",
      "gitlab-psql:x:998:1010::/var/opt/gitlab/postgresql:/bin/sh\n",
      "git:x:1007:1008:GitLab,,,:/home/git:/bin/bash\n",
      "opendmarc:x:118:129::/var/run/opendmarc:/bin/false\n",
      "dkim-milter-python:x:119:130::/var/run/dkim-milter-python:/bin/false\n",
      "deploy:x:1008:1011:Deploy,,,:/home/deploy:/bin/bash\n",
      "redis:x:112:123:redis server,,,:/var/lib/redis:/bin/false\n",
      "\n"
     ]
    }
   ],
   "source": [
    "print(f.read())  # this returns a string, the entire contents of the file"
   ]
  },
  {
   "cell_type": "code",
   "execution_count": 86,
   "id": "4d81e6ad",
   "metadata": {},
   "outputs": [
    {
     "data": {
      "text/plain": [
       "'/Users/reuven/Courses/Current/oreilly-2023-05May-python'"
      ]
     },
     "execution_count": 86,
     "metadata": {},
     "output_type": "execute_result"
    }
   ],
   "source": [
    "# not sure where Jupyter is running?\n",
    "\n",
    "%pwd   "
   ]
  },
  {
   "cell_type": "markdown",
   "id": "fe421d97",
   "metadata": {},
   "source": [
    "We could run `read()` on a file object, if it's small.\n",
    "\n",
    "But what if it's big? \n",
    "\n",
    "The answer is: read it, one line at a time.  If we do that, then the odds that we run out of memory are very slim.\n",
    "\n",
    "We can do that by iterating over our file object in a `for` loop."
   ]
  },
  {
   "cell_type": "code",
   "execution_count": 88,
   "id": "cc7ce368",
   "metadata": {},
   "outputs": [
    {
     "name": "stdout",
     "output_type": "stream",
     "text": [
      "# This is a comment\n",
      "# You should ignore me\n",
      "root:x:0:0:root:/root:/bin/bash\n",
      "daemon:x:1:1:daemon:/usr/sbin:/usr/sbin/nologin\n",
      "bin:x:2:2:bin:/bin:/usr/sbin/nologin\n",
      "sys:x:3:3:sys:/dev:/usr/sbin/nologin\n",
      "sync:x:4:65534:sync:/bin:/bin/sync\n",
      "games:x:5:60:games:/usr/games:/usr/sbin/nologin\n",
      "man:x:6:12:man:/var/cache/man:/usr/sbin/nologin\n",
      "lp:x:7:7:lp:/var/spool/lpd:/usr/sbin/nologin\n",
      "mail:x:8:8:mail:/var/mail:/usr/sbin/nologin\n",
      "\n",
      "\n",
      "\n",
      "news:x:9:9:news:/var/spool/news:/usr/sbin/nologin\n",
      "uucp:x:10:10:uucp:/var/spool/uucp:/usr/sbin/nologin\n",
      "proxy:x:13:13:proxy:/bin:/usr/sbin/nologin\n",
      "www-data:x:33:33:www-data:/var/www:/usr/sbin/nologin\n",
      "backup:x:34:34:backup:/var/backups:/usr/sbin/nologin\n",
      "list:x:38:38:Mailing List Manager:/var/list:/usr/sbin/nologin\n",
      "irc:x:39:39:ircd:/var/run/ircd:/usr/sbin/nologin\n",
      "gnats:x:41:41:Gnats Bug-Reporting System (admin):/var/lib/gnats:/usr/sbin/nologin\n",
      "\n",
      "nobody:x:65534:65534:nobody:/nonexistent:/usr/sbin/nologin\n",
      "syslog:x:101:104::/home/syslog:/bin/false\n",
      "messagebus:x:102:106::/var/run/dbus:/bin/false\n",
      "landscape:x:103:109::/var/lib/landscape:/bin/false\n",
      "jci:x:955:955::/home/jci:/bin/bash\n",
      "sshd:x:104:65534::/var/run/sshd:/usr/sbin/nologin\n",
      "user:x:1000:1000:user,,,:/home/user:/bin/bash\n",
      "reuven:x:1001:1001:Reuven M. Lerner,,,:/home/reuven:/bin/bash\n",
      "postfix:x:105:113::/var/spool/postfix:/bin/false\n",
      "colord:x:106:116:colord colour management daemon,,,:/var/lib/colord:/bin/false\n",
      "postgres:x:107:117:PostgreSQL administrator,,,:/var/lib/postgresql:/bin/bash\n",
      "dovecot:x:108:119:Dovecot mail server,,,:/usr/lib/dovecot:/bin/false\n",
      "dovenull:x:109:120:Dovecot login user,,,:/nonexistent:/bin/false\n",
      "postgrey:x:110:121::/var/lib/postgrey:/bin/false\n",
      "debian-spamd:x:111:122::/var/lib/spamassassin:/bin/sh\n",
      "memcache:x:113:124:Memcached,,,:/nonexistent:/bin/false\n",
      "genadi:x:1002:1003:Genadi Reznichenko,,,:/home/genadi:/bin/bash\n",
      "shira:x:1003:1004:Shira Friedman,,,:/home/shira:/bin/bash\n",
      "atara:x:1004:1005:Atara Lerner-Friedman,,,:/home/atara:/bin/bash\n",
      "shikma:x:1005:1006:Shikma Lerner-Friedman,,,:/home/shikma:/bin/bash\n",
      "amotz:x:1006:1007:Amotz Lerner-Friedman,,,:/home/amotz:/bin/bash\n",
      "mysql:x:114:125:MySQL Server,,,:/nonexistent:/bin/false\n",
      "clamav:x:115:126::/var/lib/clamav:/bin/false\n",
      "amavis:x:116:127:AMaViS system user,,,:/var/lib/amavis:/bin/sh\n",
      "opendkim:x:117:128::/var/run/opendkim:/bin/false\n",
      "gitlab-redis:x:999:1009::/var/opt/gitlab/redis:/bin/nologin\n",
      "gitlab-psql:x:998:1010::/var/opt/gitlab/postgresql:/bin/sh\n",
      "git:x:1007:1008:GitLab,,,:/home/git:/bin/bash\n",
      "opendmarc:x:118:129::/var/run/opendmarc:/bin/false\n",
      "dkim-milter-python:x:119:130::/var/run/dkim-milter-python:/bin/false\n",
      "deploy:x:1008:1011:Deploy,,,:/home/deploy:/bin/bash\n",
      "redis:x:112:123:redis server,,,:/var/lib/redis:/bin/false\n"
     ]
    }
   ],
   "source": [
    "f = open('linux-etc-passwd.txt')\n",
    "\n",
    "for one_line in f:   # iterating over a file gives you the next line (through \\n) with each iteration\n",
    "    print(one_line.strip())   # remove the newline from the end of the line"
   ]
  },
  {
   "cell_type": "code",
   "execution_count": 91,
   "id": "290cc727",
   "metadata": {},
   "outputs": [
    {
     "name": "stdout",
     "output_type": "stream",
     "text": [
      "root\n",
      "daemon\n",
      "bin\n",
      "sys\n",
      "sync\n",
      "games\n",
      "man\n",
      "lp\n",
      "mail\n",
      "news\n",
      "uucp\n",
      "proxy\n",
      "www-data\n",
      "backup\n",
      "list\n",
      "irc\n",
      "gnats\n",
      "nobody\n",
      "syslog\n",
      "messagebus\n",
      "landscape\n",
      "jci\n",
      "sshd\n",
      "user\n",
      "reuven\n",
      "postfix\n",
      "colord\n",
      "postgres\n",
      "dovecot\n",
      "dovenull\n",
      "postgrey\n",
      "debian-spamd\n",
      "memcache\n",
      "genadi\n",
      "shira\n",
      "atara\n",
      "shikma\n",
      "amotz\n",
      "mysql\n",
      "clamav\n",
      "amavis\n",
      "opendkim\n",
      "gitlab-redis\n",
      "gitlab-psql\n",
      "git\n",
      "opendmarc\n",
      "dkim-milter-python\n",
      "deploy\n",
      "redis\n"
     ]
    }
   ],
   "source": [
    "# Let's print all of the usernames in my passwd file\n",
    "# each useful line has a record with fields separated by ':'\n",
    "# the username is the first field on each line, meaning before the first :\n",
    "\n",
    "# let's read each line of the file, and break each line into a list using split on :\n",
    "# then field 0 will be our username\n",
    "\n",
    "for one_line in open('linux-etc-passwd.txt'):    # iterate over each line of linux-etc-passwd\n",
    "\n",
    "    if one_line[0] == '#':                       # ignore lines starting with #\n",
    "        continue\n",
    "        \n",
    "    if one_line.strip() == '':                   # if, after removing whitespace, nothing is left -- ignore it\n",
    "        continue\n",
    "    \n",
    "    fields = one_line.split(':')                 # get the current line into a list\n",
    "    print(fields[0])                             # username is first field, aka fields[0] -- print it"
   ]
  },
  {
   "cell_type": "markdown",
   "id": "acd62244",
   "metadata": {},
   "source": [
    "# Different filenames + paths\n",
    "\n",
    "- Unix\n",
    "    - If we give a filename without any `/` characters, we assume the file is in the same directory as Python is running.\n",
    "    - If the filename contains a `/` but doesn't start with it, then it's a *relative path*, and Python will try to open it relative to the current directory. So `abc/def.txt` will be the file `def.txt` in the `abc` subdirectory of the current directory.\n",
    "    - If the filename *starts* with `/`, then Python will start at the top of the filesystem, as in `/etc/passwd`.\n",
    "    \n",
    "- Windows\n",
    "    - If we give a filename without any `\\` characters, we assume the file is in the same directory as Python is running.\n",
    "    - If the filename contains a `\\` but doesn't start with it, then it's a *relative path*, and Python will try to open it relative to the current directory. So `abc\\def.txt` will be the file `def.txt` in the `abc` subdirectory of the current directory.\n",
    "    - If the filename *starts* with `c:\\`, then Python will start at the top of that disk in looking for the file, as in `c:\\etc\\passwd`.\n"
   ]
  },
  {
   "cell_type": "markdown",
   "id": "bc98fcca",
   "metadata": {},
   "source": [
    "# code -> Markdown -> code\n",
    "\n",
    "- I can switch a cell to code mode by going into command mode (ESC) and then `y`.\n",
    "- I can switch a cell to Markdown mode by going into command mode (ESC) and then `m`.\n",
    "\n",
    "shift-Enter  executes Python code, but renders Markdown into HTML."
   ]
  },
  {
   "cell_type": "markdown",
   "id": "11722566",
   "metadata": {},
   "source": [
    "# Next up\n",
    "\n",
    "1. Exercise with reading from files\n",
    "    - Simple reading from a file\n",
    "    - More advanced reading\n",
    "2. Writing to files\n",
    "    - the `with` construct\n",
    "    - writing a dict to a config file\n",
    "    \n",
    "Download this zipfile: https://files.lerner.co.il/exercise-files.zip    \n",
    "    "
   ]
  },
  {
   "cell_type": "code",
   "execution_count": 92,
   "id": "a2fb18c6",
   "metadata": {},
   "outputs": [
    {
     "data": {
      "text/plain": [
       "'/Users/reuven/Courses/Current/oreilly-2023-05May-python'"
      ]
     },
     "execution_count": 92,
     "metadata": {},
     "output_type": "execute_result"
    }
   ],
   "source": [
    "%pwd"
   ]
  },
  {
   "cell_type": "markdown",
   "id": "9a0224b6",
   "metadata": {},
   "source": [
    "# Recap: Reading from files\n",
    "\n",
    "1. We have to use `open` to start working with a file. By default, we can only read from files when we open them, and they have to be text files.\n",
    "2. We say `open(filename)`, where `filename` is any filename, relative path, or absolute path on your filesystem. (You need to have permission to read from it, of course.)\n",
    "3. If you want, you could then run the `.read()` method on the file object you get back from `open`. But that's often going to be dangerous, because you don't know how big the file is, and reading one very big string could cause very big problems.\n",
    "4. It's best, and most Pythonic, to iterate over a file object:\n",
    "    - Each iteration uses only as much memory as one line in the file\n",
    "    - With each iteration, we get back a string ending with `\\n`\n",
    "    - The `for` loop ends automatically when we get to the end of the file\n",
    "    - You can use `if` to filter lines of the file you don't want\n",
    "    - You can use `split` to break the line into a list, when that's appropriate"
   ]
  },
  {
   "cell_type": "markdown",
   "id": "9e5f527e",
   "metadata": {},
   "source": [
    "# Exercise: Summing numbers\n",
    "\n",
    "1. There is a file (in my zipfile, and the GitHub repo) called `nums.txt`. In that file, each line contains one integer, surrounded by some amount of whitespace. That's true except for one line with only whitespace and no integer.\n",
    "2. Go through this file, one line at a time, and sum/add the numbers.\n",
    "\n"
   ]
  },
  {
   "cell_type": "code",
   "execution_count": 93,
   "id": "44f4c04d",
   "metadata": {},
   "outputs": [
    {
     "name": "stdout",
     "output_type": "stream",
     "text": [
      "5\r\n",
      "\t10     \r\n",
      "\t20\r\n",
      "  \t3\r\n",
      "\t\t   \t20        \r\n",
      "\r\n",
      " 25\r\n"
     ]
    }
   ],
   "source": [
    "!cat nums.txt"
   ]
  },
  {
   "cell_type": "markdown",
   "id": "88cbf67b",
   "metadata": {},
   "source": [
    "Some hints:\n",
    "\n",
    "- Go through the file, one line at a time, with `for`\n",
    "- How can you turn the digits in that string into an integer? (`int`)\n",
    "- How can you remove the leading/trailing whitespace on each line? (`strip`)\n",
    "- How can you avoid problems with the single blank line? One option: (`strip` and checking if the result is an empty string)"
   ]
  },
  {
   "cell_type": "markdown",
   "id": "46640fd8",
   "metadata": {},
   "source": [
    "If you're using Windows, then remember that Windows uses `\\` to separate paths. Python uses `\\` to indicate that we're about to get a special character in a string.\n",
    "\n",
    "This can and will collide!  You thus either want to double your backslashes (so Python ignores them) or use a raw string, with an `r` before the opening quote in a string."
   ]
  },
  {
   "cell_type": "code",
   "execution_count": 94,
   "id": "54de68ec",
   "metadata": {},
   "outputs": [
    {
     "data": {
      "text/plain": [
       "'/Users/reuven/Courses/Current/oreilly-2023-05May-python'"
      ]
     },
     "execution_count": 94,
     "metadata": {},
     "output_type": "execute_result"
    }
   ],
   "source": [
    "%pwd"
   ]
  },
  {
   "cell_type": "code",
   "execution_count": 95,
   "id": "1d297dcb",
   "metadata": {},
   "outputs": [
    {
     "ename": "FileNotFoundError",
     "evalue": "[Errno 2] No such file or directory: 'subdir/file.txt'",
     "output_type": "error",
     "traceback": [
      "\u001b[0;31m---------------------------------------------------------------------------\u001b[0m",
      "\u001b[0;31mFileNotFoundError\u001b[0m                         Traceback (most recent call last)",
      "Cell \u001b[0;32mIn [95], line 4\u001b[0m\n\u001b[1;32m      1\u001b[0m \u001b[38;5;66;03m# if I want to open a file in a subdirectory of the current directory (as seen above in %pwd), then\u001b[39;00m\n\u001b[1;32m      2\u001b[0m \u001b[38;5;66;03m# I can say\u001b[39;00m\n\u001b[0;32m----> 4\u001b[0m \u001b[38;5;28;43mopen\u001b[39;49m\u001b[43m(\u001b[49m\u001b[38;5;124;43m'\u001b[39;49m\u001b[38;5;124;43msubdir/file.txt\u001b[39;49m\u001b[38;5;124;43m'\u001b[39;49m\u001b[43m)\u001b[49m    \u001b[38;5;66;03m# subdir must exist, as must file.txt\u001b[39;00m\n",
      "File \u001b[0;32m/usr/local/lib/python3.11/site-packages/IPython/core/interactiveshell.py:282\u001b[0m, in \u001b[0;36m_modified_open\u001b[0;34m(file, *args, **kwargs)\u001b[0m\n\u001b[1;32m    275\u001b[0m \u001b[38;5;28;01mif\u001b[39;00m file \u001b[38;5;129;01min\u001b[39;00m {\u001b[38;5;241m0\u001b[39m, \u001b[38;5;241m1\u001b[39m, \u001b[38;5;241m2\u001b[39m}:\n\u001b[1;32m    276\u001b[0m     \u001b[38;5;28;01mraise\u001b[39;00m \u001b[38;5;167;01mValueError\u001b[39;00m(\n\u001b[1;32m    277\u001b[0m         \u001b[38;5;124mf\u001b[39m\u001b[38;5;124m\"\u001b[39m\u001b[38;5;124mIPython won\u001b[39m\u001b[38;5;124m'\u001b[39m\u001b[38;5;124mt let you open fd=\u001b[39m\u001b[38;5;132;01m{\u001b[39;00mfile\u001b[38;5;132;01m}\u001b[39;00m\u001b[38;5;124m by default \u001b[39m\u001b[38;5;124m\"\u001b[39m\n\u001b[1;32m    278\u001b[0m         \u001b[38;5;124m\"\u001b[39m\u001b[38;5;124mas it is likely to crash IPython. If you know what you are doing, \u001b[39m\u001b[38;5;124m\"\u001b[39m\n\u001b[1;32m    279\u001b[0m         \u001b[38;5;124m\"\u001b[39m\u001b[38;5;124myou can use builtins\u001b[39m\u001b[38;5;124m'\u001b[39m\u001b[38;5;124m open.\u001b[39m\u001b[38;5;124m\"\u001b[39m\n\u001b[1;32m    280\u001b[0m     )\n\u001b[0;32m--> 282\u001b[0m \u001b[38;5;28;01mreturn\u001b[39;00m \u001b[43mio_open\u001b[49m\u001b[43m(\u001b[49m\u001b[43mfile\u001b[49m\u001b[43m,\u001b[49m\u001b[43m \u001b[49m\u001b[38;5;241;43m*\u001b[39;49m\u001b[43margs\u001b[49m\u001b[43m,\u001b[49m\u001b[43m \u001b[49m\u001b[38;5;241;43m*\u001b[39;49m\u001b[38;5;241;43m*\u001b[39;49m\u001b[43mkwargs\u001b[49m\u001b[43m)\u001b[49m\n",
      "\u001b[0;31mFileNotFoundError\u001b[0m: [Errno 2] No such file or directory: 'subdir/file.txt'"
     ]
    }
   ],
   "source": [
    "# if I want to open a file in a subdirectory of the current directory (as seen above in %pwd), then\n",
    "# I can say\n",
    "\n",
    "open('subdir/file.txt')    # subdir must exist, as must file.txt"
   ]
  },
  {
   "cell_type": "code",
   "execution_count": null,
   "id": "f8818d83",
   "metadata": {},
   "outputs": [],
   "source": [
    "# this means:\n",
    "# 1. I'm on a Windows machine\n",
    "# 2. The Windows path starts with \\ -- which is not true!\n",
    "# 3. there is a directory at the root of the disk called exercise-files\n",
    "# 4. there is a file called nums.txt in that directory\n",
    "\n",
    "f=open('exercise-files\\\\nums.txt')"
   ]
  },
  {
   "cell_type": "code",
   "execution_count": 100,
   "id": "62f4de9a",
   "metadata": {},
   "outputs": [
    {
     "data": {
      "text/plain": [
       "'/Users/reuven/Courses/Current/oreilly-2023-05May-python'"
      ]
     },
     "execution_count": 100,
     "metadata": {},
     "output_type": "execute_result"
    }
   ],
   "source": [
    "import os\n",
    "os.getcwd()  # this returns a string, the current working directory"
   ]
  },
  {
   "cell_type": "code",
   "execution_count": 104,
   "id": "3f690db0",
   "metadata": {},
   "outputs": [
    {
     "name": "stdout",
     "output_type": "stream",
     "text": [
      "Bad line -- ignoring\n",
      "83\n"
     ]
    }
   ],
   "source": [
    "# iterate over the lines of the file\n",
    "# because the file is in the current directory, I don't have any special path stuff to do \n",
    "\n",
    "total = 0\n",
    "for one_line in open('nums.txt'):      # go through the file, one line at a time\n",
    "    if one_line.strip() == '':         # if, after removing whitespace, nothing is left...\n",
    "        print('Bad line -- ignoring')  #   ... ignore the line\n",
    "    else:                              # if there's something left on the line...\n",
    "        total += int(one_line)         #   ... turn it into an int, and add to total\n",
    "        \n",
    "print(total)        "
   ]
  },
  {
   "cell_type": "code",
   "execution_count": 105,
   "id": "4a3f4a93",
   "metadata": {},
   "outputs": [
    {
     "name": "stdout",
     "output_type": "stream",
     "text": [
      "Bad line -- ignoring\n",
      "83\n"
     ]
    }
   ],
   "source": [
    "# even more robust version -- check that after stripping, a line only has digits\n",
    "\n",
    "total = 0\n",
    "for one_line in open('nums.txt'):       # go through the file, one line at a time\n",
    "    if not one_line.strip().isdigit():  # remove whitespace, and check that only digits are left\n",
    "        print('Bad line -- ignoring')   #   ... ignore the line\n",
    "    else:                               # if there's something left on the line...\n",
    "        total += int(one_line)          #   ... turn it into an int, and add to total\n",
    "        \n",
    "print(total)        "
   ]
  },
  {
   "cell_type": "code",
   "execution_count": 106,
   "id": "6d8f6ad2",
   "metadata": {},
   "outputs": [
    {
     "name": "stdout",
     "output_type": "stream",
     "text": [
      "Bad line -- ignoring\n",
      "83\n"
     ]
    }
   ],
   "source": [
    "# what if this file were in a subdirectory of the current directory?\n",
    "\n",
    "filename = 'data/also-nums.txt'    # this is the file in a subdirectory\n",
    "\n",
    "total = 0\n",
    "for one_line in open(filename):         # go through the file, one line at a time\n",
    "    if not one_line.strip().isdigit():  # remove whitespace, and check that only digits are left\n",
    "        print('Bad line -- ignoring')   #   ... ignore the line\n",
    "    else:                               # if there's something left on the line...\n",
    "        total += int(one_line)          #   ... turn it into an int, and add to total\n",
    "        \n",
    "print(total)        "
   ]
  },
  {
   "cell_type": "markdown",
   "id": "3e26e0a5",
   "metadata": {},
   "source": [
    "# Another example of reading from a file...\n",
    "# ... counting IP addresses\n",
    "\n",
    "I have a file `mini-access-log.txt`, which contains log info from a Web server years ago.\n",
    "\n",
    "I want a dict containing the IP addresses and how many times each address accessed our server."
   ]
  },
  {
   "cell_type": "code",
   "execution_count": 107,
   "id": "60311a5c",
   "metadata": {},
   "outputs": [
    {
     "name": "stdout",
     "output_type": "stream",
     "text": [
      "67.218.116.165 - - [30/Jan/2010:00:03:18 +0200] \"GET /robots.txt HTTP/1.0\" 200 99 \"-\" \"Mozilla/5.0 (Twiceler-0.9 http://www.cuil.com/twiceler/robot.html)\"\r\n",
      "66.249.71.65 - - [30/Jan/2010:00:12:06 +0200] \"GET /browse/one_node/1557 HTTP/1.1\" 200 39208 \"-\" \"Mozilla/5.0 (compatible; Googlebot/2.1; +http://www.google.com/bot.html)\"\r\n",
      "65.55.106.183 - - [30/Jan/2010:01:29:23 +0200] \"GET /robots.txt HTTP/1.1\" 200 99 \"-\" \"msnbot/2.0b (+http://search.msn.com/msnbot.htm)\"\r\n",
      "65.55.106.183 - - [30/Jan/2010:01:30:06 +0200] \"GET /browse/one_model/2162 HTTP/1.1\" 200 2181 \"-\" \"msnbot/2.0b (+http://search.msn.com/msnbot.htm)\"\r\n",
      "66.249.71.65 - - [30/Jan/2010:02:07:14 +0200] \"GET /browse/browse_applet_tab/2593 HTTP/1.1\" 200 10305 \"-\" \"Mozilla/5.0 (compatible; Googlebot/2.1; +http://www.google.com/bot.html)\"\r\n",
      "66.249.71.65 - - [30/Jan/2010:02:10:39 +0200] \"GET /browse/browse_files_tab/2499?tab=true HTTP/1.1\" 200 446 \"-\" \"Mozilla/5.0 (compatible; Googlebot/2.1; +http://www.google.com/bot.html)\"\r\n",
      "66.249.65.12 - - [30/Jan/2010:03:13:34 +0200] \"GET /robots.txt HTTP/1.1\" 200 99 \"-\" \"Mozilla/5.0 (compatible; Googlebot/2.1; +http://www.google.com/bot.html)\"\r\n",
      "66.249.65.12 - - [30/Jan/2010:03:13:34 +0200] \"GET /browse/one_node/2715 HTTP/1.1\" 200 26433 \"-\" \"Mozilla/5.0 (compatible; Googlebot/2.1; +http://www.google.com/bot.html)\"\r\n",
      "66.249.65.12 - - [30/Jan/2010:03:43:39 +0200] \"GET /browse/download_model/1969 HTTP/1.1\" 200 31713 \"-\" \"Mozilla/5.0 (compatible; Googlebot/2.1; +http://www.google.com/bot.html)\"\r\n",
      "66.249.65.12 - - [30/Jan/2010:04:05:43 +0200] \"GET /browse/one_node/1406 HTTP/1.1\" 302 118 \"-\" \"Mozilla/5.0 (compatible; Googlebot/2.1; +http://www.google.com/bot.html)\"\r\n"
     ]
    }
   ],
   "source": [
    "!head mini-access-log.txt"
   ]
  },
  {
   "cell_type": "code",
   "execution_count": 111,
   "id": "1fa60420",
   "metadata": {},
   "outputs": [
    {
     "name": "stdout",
     "output_type": "stream",
     "text": [
      "67.218.116.165: 2\n",
      "66.249.71.65: 3\n",
      "65.55.106.183: 2\n",
      "66.249.65.12: 32\n",
      "65.55.106.131: 2\n",
      "65.55.106.186: 2\n",
      "74.52.245.146: 2\n",
      "66.249.65.43: 3\n",
      "65.55.207.25: 2\n",
      "65.55.207.94: 2\n",
      "65.55.207.71: 1\n",
      "98.242.170.241: 1\n",
      "66.249.65.38: 100\n",
      "65.55.207.126: 2\n",
      "82.34.9.20: 2\n",
      "65.55.106.155: 2\n",
      "65.55.207.77: 2\n",
      "208.80.193.28: 1\n",
      "89.248.172.58: 22\n",
      "67.195.112.35: 16\n",
      "65.55.207.50: 3\n",
      "65.55.215.75: 2\n"
     ]
    }
   ],
   "source": [
    "filename = 'mini-access-log.txt'\n",
    "counts = {}\n",
    "\n",
    "for one_line in open(filename):\n",
    "    ip_address = one_line.split()[0]   # split the line on whitespace into a list... grab the first field\n",
    "    \n",
    "    if ip_address in counts:\n",
    "        counts[ip_address] += 1        # if we've seen this IP before, add 1 to its count\n",
    "    else:\n",
    "        counts[ip_address] = 1         # new IP? add the key-value pair to our dict\n",
    "        \n",
    "for key, value in counts.items():\n",
    "    print(f'{key}: {value}')"
   ]
  },
  {
   "cell_type": "markdown",
   "id": "5fb75f6e",
   "metadata": {},
   "source": [
    "# Writing to files\n",
    "\n",
    "If we want to write to a file:\n",
    "\n",
    "- Open it, but for writing (not for reading -- normally, you have to choose)\n",
    "- We have to ensure that the file is closed when we're done writing to it, otherwise some of it might not be written for a while, or ever\n",
    "\n",
    "So:\n",
    "\n",
    "1. I'll open the file passing `w` as the second argument to `open`, indicating that I want to open for writing\n",
    "2. I'll use the `write` method to write to the file. I can write any string I want. It's sort of like `print`, but doesn't automatically add a newline.\n",
    "3. How will we close our file? One way is to explicitly use the `close` method on our file object. But there's a nicer way, which looks weird, namely the `with` statement."
   ]
  },
  {
   "cell_type": "code",
   "execution_count": 112,
   "id": "3c8e6186",
   "metadata": {},
   "outputs": [],
   "source": [
    "# when you open a file for writing, IT WILL DESTROY THAT FILE if it already exists, replacing\n",
    "# it with a new file of 0 length\n",
    "\n",
    "# (1) I'm opening the file for writing with the filename + 'w'\n",
    "# (2) I'm putting it in this weird \"with\" statement to ensure that the file is closed when we're done\n",
    "# (3) The 'as' is a variable assignment in disguise... inside of the block, outfile is our file object for writing\n",
    "# (4) we can write whatever string we want - -don't forget the newline\n",
    "\n",
    "with open('myfile.txt', 'w') as outfile:\n",
    "    outfile.write('abcd\\n')\n",
    "    outfile.write('efgh\\n')\n",
    "    \n",
    "    # thanks to"
   ]
  },
  {
   "cell_type": "code",
   "execution_count": 113,
   "id": "97266476",
   "metadata": {},
   "outputs": [
    {
     "name": "stdout",
     "output_type": "stream",
     "text": [
      "abcd\r\n",
      "efgh\r\n"
     ]
    }
   ],
   "source": [
    "!cat myfile.txt"
   ]
  },
  {
   "cell_type": "code",
   "execution_count": null,
   "id": "1b933f50",
   "metadata": {},
   "outputs": [],
   "source": []
  }
 ],
 "metadata": {
  "kernelspec": {
   "display_name": "Python 3 (ipykernel)",
   "language": "python",
   "name": "python3"
  },
  "language_info": {
   "codemirror_mode": {
    "name": "ipython",
    "version": 3
   },
   "file_extension": ".py",
   "mimetype": "text/x-python",
   "name": "python",
   "nbconvert_exporter": "python",
   "pygments_lexer": "ipython3",
   "version": "3.11.3"
  }
 },
 "nbformat": 4,
 "nbformat_minor": 5
}
