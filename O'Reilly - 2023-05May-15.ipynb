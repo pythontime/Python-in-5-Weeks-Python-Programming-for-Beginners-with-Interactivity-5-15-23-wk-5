{
 "cells": [
  {
   "cell_type": "markdown",
   "id": "2f5d38fa",
   "metadata": {},
   "source": [
    "# Week 3: Agenda\n",
    "\n",
    "1. Q&A\n",
    "2. Tuples and unpacking\n",
    "3. Dictionaries\n",
    "    - What are they?\n",
    "    - Creating dictionaries\n",
    "    - Retrieving from them\n",
    "    - Different ways to use them in our programs\n",
    "4. Files\n",
    "    - Reading from files (plain-text files)\n",
    "    - Looping over file objects to read them\n",
    "    - Writing to files"
   ]
  },
  {
   "cell_type": "markdown",
   "id": "bb67b5cc",
   "metadata": {},
   "source": [
    "# Tuples and unpacking\n",
    "\n",
    "Last time, we talked about lists:\n",
    "\n",
    "- Strings are sequences of characters. They are immutable. (We cannot change a string.)\n",
    "- Lists are sequences of *anything*. They are mutable. (We *can* change a list.)\n",
    "\n",
    "Tuples are a mix of these two ideas:\n",
    "\n",
    "- A tuple is a sequence of *anything*\n",
    "- But it is also immutable.\n",
    "\n",
    "Many people like to think of tuples are immutable lists (or as I've sometimes heard, \"locked lists.\") This is *not* the way that the Python core developers want you to think about them! Rather, they want you think of lists as sequences of the same type, whereas tuples are sequences of different types.\n",
    "\n",
    "If you have a bunch of integers, then a list is appropriate. If you have one integer, one string, and one list, then a tuple is more appropriate. (At least, officially.)\n",
    "\n",
    "Where do we use tuples?  Many people use them instead of structs or records, data structures from other programming languages. Here are some more concrete examples:\n",
    "\n",
    "- A record in a database can be thought of as a tuple, and when we read a database record into Python, it's useful to have it in a tuple\n",
    "- When I call a function in Python, the arguments as passed as a tuple\n",
    "- If I have information about a person -- first name, last name, birthdate, and shoe size -- then I'll want to use a tuple, because we have different types.\n",
    "\n",
    "Many beginners (and not-so-beginners) in Python wonder why we need tuples at all. That's not a bad question! They're immutable, so they're more efficient than lists. But you can get away without using tuples for a while."
   ]
  },
  {
   "cell_type": "code",
   "execution_count": 3,
   "id": "c69b42ac",
   "metadata": {},
   "outputs": [
    {
     "data": {
      "text/plain": [
       "tuple"
      ]
     },
     "execution_count": 3,
     "metadata": {},
     "output_type": "execute_result"
    }
   ],
   "source": [
    "# create a tuple\n",
    "\n",
    "t = (100, 200, 300, 400, 500)    # round parentheses and , between the elements\n",
    "type(t)"
   ]
  },
  {
   "cell_type": "code",
   "execution_count": 4,
   "id": "d5392951",
   "metadata": {},
   "outputs": [
    {
     "data": {
      "text/plain": [
       "100"
      ]
     },
     "execution_count": 4,
     "metadata": {},
     "output_type": "execute_result"
    }
   ],
   "source": [
    "t[0]   # retrieve one item"
   ]
  },
  {
   "cell_type": "code",
   "execution_count": 5,
   "id": "3347d5be",
   "metadata": {},
   "outputs": [
    {
     "data": {
      "text/plain": [
       "200"
      ]
     },
     "execution_count": 5,
     "metadata": {},
     "output_type": "execute_result"
    }
   ],
   "source": [
    "t[1]"
   ]
  },
  {
   "cell_type": "code",
   "execution_count": 6,
   "id": "cf748f5b",
   "metadata": {},
   "outputs": [
    {
     "data": {
      "text/plain": [
       "500"
      ]
     },
     "execution_count": 6,
     "metadata": {},
     "output_type": "execute_result"
    }
   ],
   "source": [
    "t[-1]  # get the final item"
   ]
  },
  {
   "cell_type": "code",
   "execution_count": 7,
   "id": "ec08ab59",
   "metadata": {},
   "outputs": [
    {
     "data": {
      "text/plain": [
       "5"
      ]
     },
     "execution_count": 7,
     "metadata": {},
     "output_type": "execute_result"
    }
   ],
   "source": [
    "len(t)  # how many items?"
   ]
  },
  {
   "cell_type": "code",
   "execution_count": 9,
   "id": "115bbfee",
   "metadata": {},
   "outputs": [
    {
     "data": {
      "text/plain": [
       "(300, 400, 500)"
      ]
     },
     "execution_count": 9,
     "metadata": {},
     "output_type": "execute_result"
    }
   ],
   "source": [
    "t[2:5]    #get a slice"
   ]
  },
  {
   "cell_type": "code",
   "execution_count": 10,
   "id": "bdd2c3bb",
   "metadata": {},
   "outputs": [
    {
     "name": "stdout",
     "output_type": "stream",
     "text": [
      "100\n",
      "200\n",
      "300\n",
      "400\n",
      "500\n"
     ]
    }
   ],
   "source": [
    "for one_item in t:\n",
    "    print(one_item)"
   ]
  },
  {
   "cell_type": "code",
   "execution_count": 11,
   "id": "36fc52c9",
   "metadata": {
    "scrolled": true
   },
   "outputs": [
    {
     "ename": "TypeError",
     "evalue": "'tuple' object does not support item assignment",
     "output_type": "error",
     "traceback": [
      "\u001b[0;31m---------------------------------------------------------------------------\u001b[0m",
      "\u001b[0;31mTypeError\u001b[0m                                 Traceback (most recent call last)",
      "Cell \u001b[0;32mIn [11], line 3\u001b[0m\n\u001b[1;32m      1\u001b[0m \u001b[38;5;66;03m# but of course, they're immutable!\u001b[39;00m\n\u001b[0;32m----> 3\u001b[0m \u001b[43mt\u001b[49m\u001b[43m[\u001b[49m\u001b[38;5;241;43m0\u001b[39;49m\u001b[43m]\u001b[49m \u001b[38;5;241m=\u001b[39m \u001b[38;5;124m'\u001b[39m\u001b[38;5;124m!\u001b[39m\u001b[38;5;124m'\u001b[39m\n",
      "\u001b[0;31mTypeError\u001b[0m: 'tuple' object does not support item assignment"
     ]
    }
   ],
   "source": [
    "# but of course, they're immutable!\n",
    "\n",
    "t[0] = '!'"
   ]
  },
  {
   "cell_type": "code",
   "execution_count": 12,
   "id": "539f03d2",
   "metadata": {
    "scrolled": true
   },
   "outputs": [
    {
     "data": {
      "text/plain": [
       "3"
      ]
     },
     "execution_count": 12,
     "metadata": {},
     "output_type": "execute_result"
    }
   ],
   "source": [
    "t = (100, 'abcd', [102, 103, 104])\n",
    "len(t)"
   ]
  },
  {
   "cell_type": "code",
   "execution_count": 13,
   "id": "b9397141",
   "metadata": {},
   "outputs": [
    {
     "data": {
      "text/plain": [
       "(100, 'abcd', [102, 103, 104])"
      ]
     },
     "execution_count": 13,
     "metadata": {},
     "output_type": "execute_result"
    }
   ],
   "source": [
    "# we don't even need the parentheses!\n",
    "# The commas are enough to make it a tuple\n",
    "\n",
    "t = 100, 'abcd', [102, 103, 104]\n",
    "t"
   ]
  },
  {
   "cell_type": "code",
   "execution_count": 14,
   "id": "2b781bff",
   "metadata": {},
   "outputs": [
    {
     "data": {
      "text/plain": [
       "(100, 'abcd', [102, 103, 104, 105])"
      ]
     },
     "execution_count": 14,
     "metadata": {},
     "output_type": "execute_result"
    }
   ],
   "source": [
    "# can I change a list in a tuple? YES, absolutely!\n",
    "\n",
    "t[-1].append(105)\n",
    "t"
   ]
  },
  {
   "cell_type": "code",
   "execution_count": 16,
   "id": "7eb5c7f6",
   "metadata": {},
   "outputs": [],
   "source": [
    "# one aspect of tuples that's really useful!\n",
    "# tuple unpacking\n",
    "\n",
    "mylist = [10, 20, 30]\n",
    "\n",
    "x = mylist    # what will the value of x be?"
   ]
  },
  {
   "cell_type": "code",
   "execution_count": 17,
   "id": "c53ad6de",
   "metadata": {},
   "outputs": [
    {
     "data": {
      "text/plain": [
       "[10, 20, 30]"
      ]
     },
     "execution_count": 17,
     "metadata": {},
     "output_type": "execute_result"
    }
   ],
   "source": [
    "x"
   ]
  },
  {
   "cell_type": "code",
   "execution_count": 18,
   "id": "ab06524f",
   "metadata": {},
   "outputs": [],
   "source": [
    "# but what if I do this:\n",
    "\n",
    "x,y,z = mylist    # three variables in a tuple (no parentheses), and an object with three elements"
   ]
  },
  {
   "cell_type": "code",
   "execution_count": 19,
   "id": "b086d21d",
   "metadata": {},
   "outputs": [
    {
     "data": {
      "text/plain": [
       "10"
      ]
     },
     "execution_count": 19,
     "metadata": {},
     "output_type": "execute_result"
    }
   ],
   "source": [
    "x"
   ]
  },
  {
   "cell_type": "code",
   "execution_count": 20,
   "id": "694db1cd",
   "metadata": {},
   "outputs": [
    {
     "data": {
      "text/plain": [
       "20"
      ]
     },
     "execution_count": 20,
     "metadata": {},
     "output_type": "execute_result"
    }
   ],
   "source": [
    "y"
   ]
  },
  {
   "cell_type": "code",
   "execution_count": 21,
   "id": "a3391406",
   "metadata": {},
   "outputs": [
    {
     "data": {
      "text/plain": [
       "30"
      ]
     },
     "execution_count": 21,
     "metadata": {},
     "output_type": "execute_result"
    }
   ],
   "source": [
    "z"
   ]
  },
  {
   "cell_type": "markdown",
   "id": "cb7ccd94",
   "metadata": {},
   "source": [
    "\"Unpacking\" is when the object on the right has a certain number of values, and we put variables on the left to capture those values.\n",
    "\n",
    "If the object on the right is iterable, and if I have the same number of variables on the left, then I'm totally fine, and each variable will get one element of the iterable.\n",
    "\n",
    "What if the numbers don't match? We get an error."
   ]
  },
  {
   "cell_type": "code",
   "execution_count": 22,
   "id": "367985a1",
   "metadata": {},
   "outputs": [
    {
     "ename": "ValueError",
     "evalue": "too many values to unpack (expected 2)",
     "output_type": "error",
     "traceback": [
      "\u001b[0;31m---------------------------------------------------------------------------\u001b[0m",
      "\u001b[0;31mValueError\u001b[0m                                Traceback (most recent call last)",
      "Cell \u001b[0;32mIn [22], line 1\u001b[0m\n\u001b[0;32m----> 1\u001b[0m x,y \u001b[38;5;241m=\u001b[39m mylist\n",
      "\u001b[0;31mValueError\u001b[0m: too many values to unpack (expected 2)"
     ]
    }
   ],
   "source": [
    "x,y = mylist"
   ]
  },
  {
   "cell_type": "code",
   "execution_count": 23,
   "id": "9907fe36",
   "metadata": {},
   "outputs": [
    {
     "ename": "ValueError",
     "evalue": "not enough values to unpack (expected 4, got 3)",
     "output_type": "error",
     "traceback": [
      "\u001b[0;31m---------------------------------------------------------------------------\u001b[0m",
      "\u001b[0;31mValueError\u001b[0m                                Traceback (most recent call last)",
      "Cell \u001b[0;32mIn [23], line 1\u001b[0m\n\u001b[0;32m----> 1\u001b[0m w,x,y,z \u001b[38;5;241m=\u001b[39m mylist\n",
      "\u001b[0;31mValueError\u001b[0m: not enough values to unpack (expected 4, got 3)"
     ]
    }
   ],
   "source": [
    "w,x,y,z = mylist"
   ]
  },
  {
   "cell_type": "code",
   "execution_count": 25,
   "id": "f31362eb",
   "metadata": {},
   "outputs": [
    {
     "name": "stdout",
     "output_type": "stream",
     "text": [
      "(0, 'a')\n",
      "(1, 'b')\n",
      "(2, 'c')\n",
      "(3, 'd')\n"
     ]
    }
   ],
   "source": [
    "# an example of unpacking\n",
    "\n",
    "# how can I get the indexes along with elements of a string/list/tuple? I can use \"enumerate\"\n",
    "\n",
    "# \n",
    "\n",
    "for one_item in enumerate('abcd'):\n",
    "    print(one_item)"
   ]
  },
  {
   "cell_type": "code",
   "execution_count": 26,
   "id": "5f4b11a1",
   "metadata": {},
   "outputs": [
    {
     "name": "stdout",
     "output_type": "stream",
     "text": [
      "0: a\n",
      "1: b\n",
      "2: c\n",
      "3: d\n"
     ]
    }
   ],
   "source": [
    "# know that enumerate('abcd') returns a 2-element tuple (index, letter) with each\n",
    "# iteration.  Can I capture this in a nicer way?\n",
    "\n",
    "for index, one_letter in enumerate('abcd'):\n",
    "    print(f'{index}: {one_letter}')"
   ]
  },
  {
   "cell_type": "code",
   "execution_count": 28,
   "id": "323225df",
   "metadata": {},
   "outputs": [
    {
     "name": "stdout",
     "output_type": "stream",
     "text": [
      "0: 100\n",
      "1: 200\n",
      "2: 300\n"
     ]
    }
   ],
   "source": [
    "t = (100, 200, 300)\n",
    "\n",
    "for index, one_number in enumerate(t):\n",
    "    print(f'{index}: {one_number}')"
   ]
  },
  {
   "cell_type": "markdown",
   "id": "9e2730a2",
   "metadata": {},
   "source": [
    "# Dictionaries\n",
    "\n",
    "So far, we've seen that we can store our data in strings (only if they're characters/text), lists, or tuples. In all of these cases, we retrieve our data via a numeric index, starting at 0 for the first item and going up from there. If there are `n` elements in a sequence, then the highest index will always be `n-1`.\n",
    "\n",
    "If I want to search through a string/list/tuple for a value, it might take a long time! I might need to search through the entire data structure to see if it's there. Which means that the longer the data structure, the more time it might take to find the value.\n",
    "\n",
    "How do dictionaries help?\n",
    "\n",
    "1. We can set the index (known as a \"key\" in the world of dicts) to be anything we want, so long as it's unique  and it's immutable. (Basically, strings, integers, and floats.)  This makes the dict easier to understand and work with.\n",
    "2. Searching and retrieval via the keys is done at very very high speed."
   ]
  },
  {
   "cell_type": "code",
   "execution_count": 29,
   "id": "705faea0",
   "metadata": {},
   "outputs": [
    {
     "data": {
      "text/plain": [
       "3"
      ]
     },
     "execution_count": 29,
     "metadata": {},
     "output_type": "execute_result"
    }
   ],
   "source": [
    "# example:\n",
    "\n",
    "d = {'a':100, 'b':200, 'c':300}\n",
    "\n",
    "# this dict has 3 key-value pairs\n",
    "len(d)"
   ]
  },
  {
   "cell_type": "code",
   "execution_count": 30,
   "id": "2976b037",
   "metadata": {},
   "outputs": [
    {
     "data": {
      "text/plain": [
       "100"
      ]
     },
     "execution_count": 30,
     "metadata": {},
     "output_type": "execute_result"
    }
   ],
   "source": [
    "# retrieve from the dict with d[]\n",
    "# in the [], put the key whose value you want\n",
    "\n",
    "d['a']"
   ]
  },
  {
   "cell_type": "code",
   "execution_count": 31,
   "id": "4f1c82ea",
   "metadata": {},
   "outputs": [
    {
     "ename": "KeyError",
     "evalue": "'qqqq'",
     "output_type": "error",
     "traceback": [
      "\u001b[0;31m---------------------------------------------------------------------------\u001b[0m",
      "\u001b[0;31mKeyError\u001b[0m                                  Traceback (most recent call last)",
      "Cell \u001b[0;32mIn [31], line 2\u001b[0m\n\u001b[1;32m      1\u001b[0m \u001b[38;5;66;03m# what if I retrieve a key that doesn't exist?\u001b[39;00m\n\u001b[0;32m----> 2\u001b[0m \u001b[43md\u001b[49m\u001b[43m[\u001b[49m\u001b[38;5;124;43m'\u001b[39;49m\u001b[38;5;124;43mqqqq\u001b[39;49m\u001b[38;5;124;43m'\u001b[39;49m\u001b[43m]\u001b[49m\n",
      "\u001b[0;31mKeyError\u001b[0m: 'qqqq'"
     ]
    }
   ],
   "source": [
    "# what if I retrieve a key that doesn't exist?\n",
    "d['qqqq']"
   ]
  },
  {
   "cell_type": "code",
   "execution_count": 32,
   "id": "3a465b1a",
   "metadata": {},
   "outputs": [
    {
     "data": {
      "text/plain": [
       "True"
      ]
     },
     "execution_count": 32,
     "metadata": {},
     "output_type": "execute_result"
    }
   ],
   "source": [
    "# how can we check to see if a key exists?\n",
    "# we can use *in*\n",
    "\n",
    "'a' in d"
   ]
  },
  {
   "cell_type": "code",
   "execution_count": 33,
   "id": "c306b36c",
   "metadata": {},
   "outputs": [
    {
     "data": {
      "text/plain": [
       "True"
      ]
     },
     "execution_count": 33,
     "metadata": {},
     "output_type": "execute_result"
    }
   ],
   "source": [
    "'b' in d"
   ]
  },
  {
   "cell_type": "code",
   "execution_count": 34,
   "id": "f84243db",
   "metadata": {},
   "outputs": [
    {
     "data": {
      "text/plain": [
       "False"
      ]
     },
     "execution_count": 34,
     "metadata": {},
     "output_type": "execute_result"
    }
   ],
   "source": [
    "'g' in d"
   ]
  },
  {
   "cell_type": "markdown",
   "id": "06f6eea4",
   "metadata": {},
   "source": [
    "# Summary of dicts, so far\n",
    "\n",
    "1. We can define them with\n",
    "    - `{}` around the outside\n",
    "    - commas between the key-value pairs\n",
    "    - colons separating the keys from the values\n",
    "    - every key needs a value and vice versa\n",
    "    - Keys must be immutable\n",
    "2. We can retrieve with `[]`\n",
    "3. We can check for membership of a key with `in`\n",
    "\n",
    "Dicts are designed to be very fast and efficient if you retrieve the values via the keys. You can, in theory, get the keys via the values, but it's not guaranteed to be unique and it's just not done that much."
   ]
  },
  {
   "cell_type": "markdown",
   "id": "6a8fe73a",
   "metadata": {},
   "source": [
    "# Exercise: Restaurant\n",
    "\n",
    "1. Define a dict whose keys are the names of items on a restaurant menu, and whose values are prices (ints). This will be the `menu` dict.\n",
    "2. Define `total` to be 0\n",
    "3. Ask the user, repeatedly, to enter something they want to eat.\n",
    "    - If they enter the empty string, stop asking and print the final bill.\n",
    "    - If they enter something that is on the menu, then add it to the to"
   ]
  }
 ],
 "metadata": {
  "kernelspec": {
   "display_name": "Python 3 (ipykernel)",
   "language": "python",
   "name": "python3"
  },
  "language_info": {
   "codemirror_mode": {
    "name": "ipython",
    "version": 3
   },
   "file_extension": ".py",
   "mimetype": "text/x-python",
   "name": "python",
   "nbconvert_exporter": "python",
   "pygments_lexer": "ipython3",
   "version": "3.11.3"
  }
 },
 "nbformat": 4,
 "nbformat_minor": 5
}
