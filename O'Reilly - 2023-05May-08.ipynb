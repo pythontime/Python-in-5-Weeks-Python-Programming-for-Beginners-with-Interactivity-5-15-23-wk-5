{
 "cells": [
  {
   "cell_type": "markdown",
   "id": "e8119093",
   "metadata": {},
   "source": [
    "# Agenda, week 2\n",
    "\n",
    "1. Loops -- repeat ourselves in a variety of ways\n",
    "    - `for` loops\n",
    "    - `while` loops\n",
    "    - Looping a number of times\n",
    "    - Leaving a loop early\n",
    "2. Lists -- another data structures, more flexible than strings\n",
    "    - Create lists\n",
    "    - Retrieve from lists\n",
    "    - List methods\n",
    "    - Mutable vs. immutable data structures\n",
    "    - `enumerate` for numbering items\n",
    "3. Lists to strings, and back\n",
    "    - Strings into lists (with split)\n",
    "    - Lists into strings (with join)\n",
    "4. Tuples -- a different data structure\n",
    "    - Creating and working with tuples\n",
    "    - Why do tuples exist?\n",
    "    - Tuple unpacking"
   ]
  },
  {
   "cell_type": "markdown",
   "id": "97334a80",
   "metadata": {},
   "source": [
    "# Recapping last week\n",
    "\n",
    "1. Assignment of data into variables\n",
    "    - We do this with the `=` operator\n",
    "    - Assignment takes whatever is on the right side (the value) and assigns it to a variable\n",
    "    - If the variable doesn't exist yet, then it is created\n",
    "    - If the variable does already exist, then its current value is replaced with a new one\n",
    "2. Different kinds of data\n",
    "    - Boolean values (`True`/`False`)\n",
    "    - Numbers\n",
    "        - integers (`int`)\n",
    "        - floats (`float`)\n",
    "    - Strings (text, aka `str`)\n",
    "    - We can turn one value into another by invoking the type we want as a function\n",
    "        - `str(5)` returns the string `'5'`\n",
    "        - `int('123')` returns the integer `123`\n",
    "        - `float('123')` returns the floating-point number `123.0`\n",
    "3. Conditionals\n",
    "    - We can make our code run on condition that something is `True` with an `if` statement\n",
    "    - To the right of the `if` is a condition that returns either `True` or `False`\n",
    "    - If it's `True`, then the block (indented, just after the `if` is executed\n",
    "    - If it's `False`, then the block just after the `else` is executed (if it exists)\n",
    "    - We can have additional comparisons with `elif` blocks, which work just like `if`, but they are checked in order.\n",
    "4. Strings\n",
    "    - Creating strings \n",
    "        - Regular strings with either `''` or `\"\"`\n",
    "        - Raw strings, where backslashes (`\\`) are doubled to avoid potential problems\n",
    "        - F-strings (format strings), where we can interpolate variable and other values inside of the string with `{}` -- `print(f'Hello, {name}')`\n",
    "        \n",
    "        - Triple-quoted strings, with `\"\"\" \"\"\"`, which can include newlines\n",
    "    - Retrieve from strings with `[]`\n",
    "        - Put an integer inside of the `[]`, to retrieve one character (starting at 0 from the left side, starting at -1 from the right side) -- `s[3]` or `s[x]` if `x` is an integer.\n",
    "        - Put two integers, separated by a colon, to get a \"slice\", starting at the first index, up to and not including the second index -- `s[4:10]`, which returns a new string\n",
    "    - We cannot modify strings, because they are *immutable*. "
   ]
  },
  {
   "cell_type": "markdown",
   "id": "9ab24658",
   "metadata": {},
   "source": [
    "# Triple-quoted strings\n",
    "\n",
    "In any string, I can put `\\n`, which represents a newline.  In theory, if I want to have a string that will be printed on three separate lines, then I can just put two `\\n` characters in it. When we `print` the string, it'll show up the way we want.\n",
    "\n",
    "However, this is annoying to read when it's in our program. But a string cannot usually extend over more than one line.\n",
    "\n",
    "Triple-quoted strings solve this problem: They allow us to include literal newlines inside of our string. In other words, our strings can extend over multiple lines.\n",
    "\n",
    "When would we use this?\n",
    "\n",
    "- When we define text that extends over multiple lines -- an e-mail message, or a logfile message\n",
    "- Inside of functions, the \"docstring\" is traditionally written with triple-quoted strings\n",
    "- Some people (but not me!) like to use it for multi-line comments, because a string that is defined but never assigned anywhere is thrown out by the Python language\n",
    "\n",
    "\"\"\"\n",
    "this will be ignored\n",
    "\"\"\"\n",
    "\n",
    "Some examples:\n",
    "\n",
    "```python\n",
    "s = \"\"\"Welcome to our hotel!\n",
    "\n",
    "We are happy to have you as our guest!\"\"\"\n",
    "\n",
    "print(s)\n",
    "```\n",
    "\n",
    "You can use either triple `'` or triple `\"`, but the start and end need to match. It's more traditional to use triple `\"`."
   ]
  },
  {
   "cell_type": "code",
   "execution_count": 2,
   "id": "82d62aa6",
   "metadata": {},
   "outputs": [
    {
     "name": "stdout",
     "output_type": "stream",
     "text": [
      "Welcome to our hotel!\n",
      "\n",
      "We are happy to have you as our guest!\n"
     ]
    }
   ],
   "source": [
    "s = \"\"\"Welcome to our hotel!\n",
    "\n",
    "We are happy to have you as our guest!\"\"\"\n",
    "\n",
    "print(s)"
   ]
  },
  {
   "cell_type": "code",
   "execution_count": 4,
   "id": "33993e75",
   "metadata": {},
   "outputs": [
    {
     "name": "stdout",
     "output_type": "stream",
     "text": [
      "Welcome, Reuven, to our hotel!\n",
      "\n",
      "We are happy to have you as our guest!\n"
     ]
    }
   ],
   "source": [
    "name = 'Reuven'\n",
    "\n",
    "# triple-f string\n",
    "s = f\"\"\"Welcome, {name}, to our hotel!\n",
    "\n",
    "We are happy to have you as our guest!\"\"\"\n",
    "\n",
    "print(s)"
   ]
  },
  {
   "cell_type": "code",
   "execution_count": 5,
   "id": "1b72b4dc",
   "metadata": {},
   "outputs": [
    {
     "ename": "SyntaxError",
     "evalue": "incomplete input (3847795502.py, line 1)",
     "output_type": "error",
     "traceback": [
      "\u001b[0;36m  Cell \u001b[0;32mIn [5], line 1\u001b[0;36m\u001b[0m\n\u001b[0;31m    s = '''hello\u001b[0m\n\u001b[0m        ^\u001b[0m\n\u001b[0;31mSyntaxError\u001b[0m\u001b[0;31m:\u001b[0m incomplete input\n"
     ]
    }
   ],
   "source": [
    "s = '''hello\n",
    "\n",
    "I will not end this string!!"
   ]
  },
  {
   "cell_type": "markdown",
   "id": "61ef3769",
   "metadata": {},
   "source": [
    "# Lists\n",
    "\n",
    "Strings, as we've seen, are collections of characters. But sometimes, we want to have collections of other types of data -- to be more flexible and useful. Lists are Python's default container type.\n",
    "\n",
    "Some people, coming from other languages, think that it's silly for us to call them \"lists,\" since they're obviously arrays. But actually, they aren't arrays, because arrays:\n",
    "\n",
    "- Can only contain one type of data\n",
    "- Cannot have their sizes changed after creation\n",
    "\n",
    "Both of these are untrue for lists.  Lists can contain any number of any values of any type, and any combination of types.  It is traditional for lists to be defined such that they contain only one type of data. But Python won't stop you, or even warn you.\n",
    "\n",
    "We can define a list with `[]`:\n",
    "\n",
    "- Elements go inside of the `[]`\n",
    "- Commas between elements\n",
    "- Each element can be anything at all\n",
    "- We don't have to declare the list's length in advance\n",
    "\n",
    "Remember that Python is usually very picky about indentation. When you open parentheses, it gets much more relaxed. So inside of a list definition, you can actually drop down to a new line, etc."
   ]
  },
  {
   "cell_type": "code",
   "execution_count": 6,
   "id": "bb3a6055",
   "metadata": {},
   "outputs": [],
   "source": [
    "mylist = [10, 20, 30]"
   ]
  },
  {
   "cell_type": "code",
   "execution_count": 7,
   "id": "8b6ead62",
   "metadata": {},
   "outputs": [
    {
     "data": {
      "text/plain": [
       "list"
      ]
     },
     "execution_count": 7,
     "metadata": {},
     "output_type": "execute_result"
    }
   ],
   "source": [
    "# what kind of data do I have in the variable \"mylist\"?\n",
    "\n",
    "type(mylist)"
   ]
  },
  {
   "cell_type": "code",
   "execution_count": 8,
   "id": "a40da832",
   "metadata": {},
   "outputs": [
    {
     "data": {
      "text/plain": [
       "list"
      ]
     },
     "execution_count": 8,
     "metadata": {},
     "output_type": "execute_result"
    }
   ],
   "source": [
    "mylist = ['hello', 'goodbye', 'I am back']\n",
    "\n",
    "type(mylist)"
   ]
  },
  {
   "cell_type": "markdown",
   "id": "bf558ce8",
   "metadata": {},
   "source": [
    "# What can I do with lists?\n",
    "\n",
    "Lists are different from strings. But both lists and strings are *sequences* in Python, part of the same family that works the same way much of the time. In both:\n",
    "\n",
    "\n",
    "- Search for an element with `in` (and find out whether it's contained in the larger item)\n",
    "- Retrieve an item at index `i` with `s[i]` -- indexes start at 0\n",
    "- Retrieve a slice from index `i` to (not including) index `j` with `s[i:j]`\n"
   ]
  },
  {
   "cell_type": "code",
   "execution_count": 9,
   "id": "16d3b490",
   "metadata": {},
   "outputs": [
    {
     "data": {
      "text/plain": [
       "True"
      ]
     },
     "execution_count": 9,
     "metadata": {},
     "output_type": "execute_result"
    }
   ],
   "source": [
    "mylist = [10, 20, 30, 40, 50]\n",
    "\n",
    "30 in mylist"
   ]
  },
  {
   "cell_type": "code",
   "execution_count": 10,
   "id": "349f2936",
   "metadata": {},
   "outputs": [
    {
     "data": {
      "text/plain": [
       "40"
      ]
     },
     "execution_count": 10,
     "metadata": {},
     "output_type": "execute_result"
    }
   ],
   "source": [
    "mylist[3]"
   ]
  },
  {
   "cell_type": "code",
   "execution_count": 11,
   "id": "444f511c",
   "metadata": {},
   "outputs": [
    {
     "data": {
      "text/plain": [
       "[30, 40]"
      ]
     },
     "execution_count": 11,
     "metadata": {},
     "output_type": "execute_result"
    }
   ],
   "source": [
    "mylist[2:4]  # from index 2 up to (and not including) 4"
   ]
  },
  {
   "cell_type": "code",
   "execution_count": 12,
   "id": "c58e96f4",
   "metadata": {},
   "outputs": [
    {
     "data": {
      "text/plain": [
       "10"
      ]
     },
     "execution_count": 12,
     "metadata": {},
     "output_type": "execute_result"
    }
   ],
   "source": [
    "mylist[0]  # first element of mylist"
   ]
  },
  {
   "cell_type": "code",
   "execution_count": null,
   "id": "d27c7c7a",
   "metadata": {},
   "outputs": [],
   "source": []
  }
 ],
 "metadata": {
  "kernelspec": {
   "display_name": "Python 3 (ipykernel)",
   "language": "python",
   "name": "python3"
  },
  "language_info": {
   "codemirror_mode": {
    "name": "ipython",
    "version": 3
   },
   "file_extension": ".py",
   "mimetype": "text/x-python",
   "name": "python",
   "nbconvert_exporter": "python",
   "pygments_lexer": "ipython3",
   "version": "3.11.3"
  }
 },
 "nbformat": 4,
 "nbformat_minor": 5
}
