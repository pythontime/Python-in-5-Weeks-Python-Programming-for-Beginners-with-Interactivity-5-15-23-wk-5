{
 "cells": [
  {
   "cell_type": "markdown",
   "id": "c9ca8b37",
   "metadata": {},
   "source": [
    "# Agenda, week 2\n",
    "\n",
    "1. Loops -- repeat ourselves in a variety of ways\n",
    "    - `for` loops\n",
    "    - `while` loops\n",
    "    - Looping a number of times\n",
    "    - Leaving a loop early\n",
    "2. Lists -- another data structures, more flexible than strings\n",
    "    - Create lists\n",
    "    - Retrieve from lists\n",
    "    - List methods\n",
    "    - Mutable vs. immutable data structures\n",
    "    - `enumerate` for numbering items\n",
    "3. Lists to strings, and back\n",
    "    - Strings into lists (with split)\n",
    "    - Lists into strings (with join)\n",
    "4. Tuples -- a different data structure\n",
    "    - Creating and working with tuples\n",
    "    - Why do tuples exist?\n",
    "    - Tuple unpacking"
   ]
  },
  {
   "cell_type": "markdown",
   "id": "988e8f7c",
   "metadata": {},
   "source": [
    "# Recapping last week\n",
    "\n",
    "1. Assignment of data into variables\n",
    "    - We do this with the `=` operator\n",
    "    - Assignment takes whatever is on the right side (the value) and assigns it to a variable\n",
    "    - If the variable doesn't exist yet, then it is created\n",
    "    - If the variable does already exist, then its current value is replaced with a new one\n",
    "2. Different kinds of data\n",
    "    - Boolean values (`True`/`False`)\n",
    "    - Numbers\n",
    "        - integers (`int`)\n",
    "        - floats (`float`)\n",
    "    - Strings (text, aka `str`)\n",
    "    - We can turn one value into another by invoking the type we want as a function\n",
    "        - `str(5)` returns the string `'5'`\n",
    "        - `int('123')` returns the integer `123`\n",
    "        - `float('123')` returns the floating-point number `123.0`\n",
    "3. Conditionals\n",
    "    - We can make our code run on condition that something is `True` with an `if` statement\n",
    "    - To the right of the `if` is a condition that returns either `True` or `False`\n",
    "    - If it's `True`, then the block (indented, just after the `if` is executed\n",
    "    - If it's `False`, then the block just after the `else` is executed (if it exists)\n",
    "    - We can have additional comparisons with `elif` blocks, which work just like `if`, but they are checked in order.\n",
    "4. Strings\n",
    "    - Creating strings \n",
    "        - Regular strings with either `''` or `\"\"`\n",
    "        - Raw strings, where backslashes (`\\`) are doubled to avoid potential problems\n",
    "        - F-strings (format strings), where we can interpolate variable and other values inside of the string with `{}` -- `print('Hello, {name}')`\n",
    "        \n",
    "        - Triple-quoted strings, with `\"\"\" \"\"\"`, which can include newlines\n",
    "    - Retrieve from strings with `[]`\n",
    "        - Put an integer inside of the `[]`, to retrieve one character (starting at 0 from the left side, starting at -1 from the right side)\n",
    "        - Put "
   ]
  },
  {
   "cell_type": "code",
   "execution_count": null,
   "id": "2db68f38",
   "metadata": {},
   "outputs": [],
   "source": []
  }
 ],
 "metadata": {
  "kernelspec": {
   "display_name": "Python 3 (ipykernel)",
   "language": "python",
   "name": "python3"
  },
  "language_info": {
   "codemirror_mode": {
    "name": "ipython",
    "version": 3
   },
   "file_extension": ".py",
   "mimetype": "text/x-python",
   "name": "python",
   "nbconvert_exporter": "python",
   "pygments_lexer": "ipython3",
   "version": "3.11.3"
  }
 },
 "nbformat": 4,
 "nbformat_minor": 5
}
