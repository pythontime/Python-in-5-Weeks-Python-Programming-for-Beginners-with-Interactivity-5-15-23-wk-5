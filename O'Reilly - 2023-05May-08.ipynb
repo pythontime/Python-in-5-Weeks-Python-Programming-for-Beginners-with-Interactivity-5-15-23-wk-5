{
 "cells": [
  {
   "cell_type": "markdown",
   "id": "01c5102a",
   "metadata": {},
   "source": [
    "# Agenda, week 2\n",
    "\n",
    "1. Loops -- repeat ourselves in a variety of ways\n",
    "    - `for` loops\n",
    "    - `while` loops\n",
    "    - Looping a number of times\n",
    "    - Leaving a loop early\n",
    "2. Lists -- another data structures, more flexible than strings\n",
    "    - Create lists\n",
    "    - Retrieve from lists\n",
    "    - List methods\n",
    "    - Mutable vs. immutable data structures\n",
    "    - `enumerate` for numbering items\n",
    "3. Lists to strings, and back\n",
    "    - Strings into lists (with split)\n",
    "    - Lists into strings (with join)\n",
    "4. Tuples -- a different data structure\n",
    "    - Creating and working with tuples\n",
    "    - Why do tuples exist?\n",
    "    - Tuple unpacking"
   ]
  },
  {
   "cell_type": "markdown",
   "id": "add55ea0",
   "metadata": {},
   "source": [
    "# Recapping last week\n",
    "\n",
    "1. Assignment of data into variables\n",
    "    - We do this with the `=` operator\n",
    "    - Assignment takes whatever is on the right side (the value) and assigns it to a variable\n",
    "    - If the variable doesn't exist yet, then it is created\n",
    "    - If the variable does already exist, then its current value is replaced with a new one\n",
    "2. Different kinds of data\n",
    "    - Boolean values (`True`/`False`)\n",
    "    - Numbers\n",
    "        - integers (`int`)\n",
    "        - floats (`float`)\n",
    "    - Strings (text, aka `str`)\n",
    "    - We can turn one value into another by invoking the type we want as a function\n",
    "        - `str(5)` returns the string `'5'`\n",
    "        - `int('123')` returns the integer `123`\n",
    "        - `float('123')` returns the floating-point number `123.0`\n",
    "3. Conditionals\n",
    "    - We can make our code run on condition that \n",
    "        "
   ]
  }
 ],
 "metadata": {
  "kernelspec": {
   "display_name": "Python 3 (ipykernel)",
   "language": "python",
   "name": "python3"
  },
  "language_info": {
   "codemirror_mode": {
    "name": "ipython",
    "version": 3
   },
   "file_extension": ".py",
   "mimetype": "text/x-python",
   "name": "python",
   "nbconvert_exporter": "python",
   "pygments_lexer": "ipython3",
   "version": "3.11.3"
  }
 },
 "nbformat": 4,
 "nbformat_minor": 5
}
