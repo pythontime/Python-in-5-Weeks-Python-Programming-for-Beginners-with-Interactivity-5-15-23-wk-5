{
 "cells": [
  {
   "cell_type": "markdown",
   "id": "1850cadd",
   "metadata": {},
   "source": [
    "# Agenda, week 2\n",
    "\n",
    "1. Loops -- repeat ourselves in a variety of ways\n",
    "    - `for` loops\n",
    "    - `while` loops\n",
    "    - Looping a number of times\n",
    "    - Leaving a loop early\n",
    "2. Lists -- another data structures, more flexible than strings\n",
    "    - Create lists\n",
    "    - Retrieve from lists\n",
    "    - List methods\n",
    "    - Mutable vs. immutable data structures\n",
    "    - `enumerate` for numbering items\n",
    "3. Lists to strings, and back\n",
    "    - Strings into lists (with split)\n",
    "    - Lists into strings (with join)\n",
    "4. Tuples -- a different data structure\n",
    "    - Creating and working with tuples\n",
    "    - Why do tuples exist?\n",
    "    - Tuple unpacking"
   ]
  },
  {
   "cell_type": "markdown",
   "id": "4342a51e",
   "metadata": {},
   "source": [
    "# Recapping last week\n",
    "\n",
    "1. Assignment of data into variables\n",
    "    - We do this with the `=` operator\n",
    "    - Assignment takes whatever is on the right side (the value) and assigns it to a variable\n",
    "    - If the variable doesn't exist yet, then it is created\n",
    "    - If the variable does already exist, then its current value is replaced with a new one\n",
    "2. Different kinds of data\n",
    "    - Boolean values (`True`/`False`)\n",
    "    - Numbers\n",
    "        - integers (`int`)\n",
    "        - floats (`float`)\n",
    "    - Strings (text, aka `str`)\n",
    "    - We can turn one value into another by invoking the type we want as a function\n",
    "        - `str(5)` returns the string `'5'`\n",
    "        - `int('123')` returns the integer `123`\n",
    "        - `float('123')` returns the floating-point number `123.0`\n",
    "3. Conditionals\n",
    "    - We can make our code run on condition that something is `True` with an `if` statement\n",
    "    - To the right of the `if` is a condition that returns either `True` or `False`\n",
    "    - If it's `True`, then the block (indented, just after the `if` is executed\n",
    "    - If it's `False`, then the block just after the `else` is executed (if it exists)\n",
    "    - We can have additional comparisons with `elif` blocks, which work just like `if`, but they are checked in order.\n",
    "4. Strings\n",
    "    - Creating strings \n",
    "        - Regular strings with either `''` or `\"\"`\n",
    "        - Raw strings, where backslashes (`\\`) are doubled to avoid potential problems\n",
    "        - F-strings (format strings), where we can interpolate variable and other values inside of the string with `{}` -- `print(f'Hello, {name}')`\n",
    "        \n",
    "        - Triple-quoted strings, with `\"\"\" \"\"\"`, which can include newlines\n",
    "    - Retrieve from strings with `[]`\n",
    "        - Put an integer inside of the `[]`, to retrieve one character (starting at 0 from the left side, starting at -1 from the right side) -- `s[3]` or `s[x]` if `x` is an integer.\n",
    "        - Put two integers, separated by a colon, to get a \"slice\", starting at the first index, up to and not including the second index -- `s[4:10]`, which returns a new string\n",
    "    - We cannot modify strings, because they are *immutable*. "
   ]
  },
  {
   "cell_type": "markdown",
   "id": "3a26affc",
   "metadata": {},
   "source": [
    "# Triple-quoted strings\n",
    "\n",
    "In any string, I can put `\\n`, which represents a newline.  In theory, if I want to have a string that will be printed on three separate lines, then I can just put two `\\n` characters in it. When we `print` the string, it'll show up the way we want.\n",
    "\n",
    "However, this is annoying to read when it's in our program. But a string cannot usually extend over more than one line.\n",
    "\n",
    "Triple-quoted strings solve this problem: They allow us to include literal newlines inside of our string. In other words, our strings can extend over multiple lines.\n",
    "\n",
    "When would we use this?\n",
    "\n",
    "- When we define text that extends over multiple lines -- an e-mail message, or a logfile message\n",
    "- Inside of functions, the \"docstring\" is traditionally written with triple-quoted strings\n",
    "- Some people (but not me!) like to use it for multi-line comments, because a string that is defined but never assigned anywhere is thrown out by the Python language\n",
    "\n",
    "\"\"\"\n",
    "this will be ignored\n",
    "\"\"\"\n",
    "\n",
    "Some examples:\n",
    "\n",
    "```python\n",
    "s = \"\"\"Welcome to our hotel!\n",
    "\n",
    "We are happy to have you as our guest!\"\"\"\n",
    "\n",
    "print(s)\n",
    "```\n",
    "\n",
    "You can use either triple `'` or triple `\"`, but the start and end need to match. It's more traditional to use triple `\"`."
   ]
  },
  {
   "cell_type": "code",
   "execution_count": 2,
   "id": "5241c925",
   "metadata": {},
   "outputs": [
    {
     "name": "stdout",
     "output_type": "stream",
     "text": [
      "Welcome to our hotel!\n",
      "\n",
      "We are happy to have you as our guest!\n"
     ]
    }
   ],
   "source": [
    "s = \"\"\"Welcome to our hotel!\n",
    "\n",
    "We are happy to have you as our guest!\"\"\"\n",
    "\n",
    "print(s)"
   ]
  },
  {
   "cell_type": "code",
   "execution_count": 4,
   "id": "92596ae1",
   "metadata": {},
   "outputs": [
    {
     "name": "stdout",
     "output_type": "stream",
     "text": [
      "Welcome, Reuven, to our hotel!\n",
      "\n",
      "We are happy to have you as our guest!\n"
     ]
    }
   ],
   "source": [
    "name = 'Reuven'\n",
    "\n",
    "# triple-f string\n",
    "s = f\"\"\"Welcome, {name}, to our hotel!\n",
    "\n",
    "We are happy to have you as our guest!\"\"\"\n",
    "\n",
    "print(s)"
   ]
  },
  {
   "cell_type": "code",
   "execution_count": 5,
   "id": "2935d475",
   "metadata": {},
   "outputs": [
    {
     "ename": "SyntaxError",
     "evalue": "incomplete input (3847795502.py, line 1)",
     "output_type": "error",
     "traceback": [
      "\u001b[0;36m  Cell \u001b[0;32mIn [5], line 1\u001b[0;36m\u001b[0m\n\u001b[0;31m    s = '''hello\u001b[0m\n\u001b[0m        ^\u001b[0m\n\u001b[0;31mSyntaxError\u001b[0m\u001b[0;31m:\u001b[0m incomplete input\n"
     ]
    }
   ],
   "source": [
    "s = '''hello\n",
    "\n",
    "I will not end this string!!"
   ]
  },
  {
   "cell_type": "markdown",
   "id": "866609e8",
   "metadata": {},
   "source": [
    "# Lists\n",
    "\n",
    "Strings, as we've seen, are collections of characters. But sometimes, we want to have collections of other types of data -- to be more flexible and useful. Lists are Python's default container type.\n",
    "\n",
    "Some people, coming from other languages, think that it's silly for us to call them \"lists,\" since they're obviously arrays. But actually, they aren't arrays, because arrays:\n",
    "\n",
    "- Can only contain one type of data\n",
    "- Cannot have their sizes changed after creation\n",
    "\n",
    "Both of these are untrue for lists.  Lists can contain any number of any values of any type, and any combination of types.  It is traditional for lists to be defined such that they contain only one type of data. But Python won't stop you, or even warn you.\n",
    "\n",
    "We can define a list with `[]`:\n",
    "\n",
    "- Elements go inside of the `[]`\n",
    "- Commas between elements\n",
    "- Each element can be anything at all\n",
    "- We don't have to declare the list's length in advance\n",
    "\n",
    "Remember that Python is usually very picky about indentation. When you open parentheses, it gets much more relaxed. So inside of a list definition, you can actually drop down to a new line, etc."
   ]
  },
  {
   "cell_type": "code",
   "execution_count": 6,
   "id": "0536f5cb",
   "metadata": {},
   "outputs": [],
   "source": [
    "mylist = [10, 20, 30]"
   ]
  },
  {
   "cell_type": "code",
   "execution_count": 7,
   "id": "4708e312",
   "metadata": {},
   "outputs": [
    {
     "data": {
      "text/plain": [
       "list"
      ]
     },
     "execution_count": 7,
     "metadata": {},
     "output_type": "execute_result"
    }
   ],
   "source": [
    "# what kind of data do I have in the variable \"mylist\"?\n",
    "\n",
    "type(mylist)"
   ]
  },
  {
   "cell_type": "code",
   "execution_count": 8,
   "id": "c17e36d4",
   "metadata": {},
   "outputs": [
    {
     "data": {
      "text/plain": [
       "list"
      ]
     },
     "execution_count": 8,
     "metadata": {},
     "output_type": "execute_result"
    }
   ],
   "source": [
    "mylist = ['hello', 'goodbye', 'I am back']\n",
    "\n",
    "type(mylist)"
   ]
  },
  {
   "cell_type": "markdown",
   "id": "bfee38c2",
   "metadata": {},
   "source": [
    "# What can I do with lists?\n",
    "\n",
    "Lists are different from strings. But both lists and strings are *sequences* in Python, part of the same family that works the same way much of the time. In both:\n",
    "\n",
    "- Get the length with `len`\n",
    "- Search for an element with `in` (and find out whether it's contained in the larger item)\n",
    "- Retrieve an item at index `i` with `s[i]` -- indexes start at 0\n",
    "- Retrieve a slice from index `i` to (not including) index `j` with `s[i:j]`\n"
   ]
  },
  {
   "cell_type": "code",
   "execution_count": 9,
   "id": "fee08caf",
   "metadata": {},
   "outputs": [
    {
     "data": {
      "text/plain": [
       "True"
      ]
     },
     "execution_count": 9,
     "metadata": {},
     "output_type": "execute_result"
    }
   ],
   "source": [
    "mylist = [10, 20, 30, 40, 50]\n",
    "\n",
    "30 in mylist"
   ]
  },
  {
   "cell_type": "code",
   "execution_count": 10,
   "id": "67dd5409",
   "metadata": {},
   "outputs": [
    {
     "data": {
      "text/plain": [
       "40"
      ]
     },
     "execution_count": 10,
     "metadata": {},
     "output_type": "execute_result"
    }
   ],
   "source": [
    "mylist[3]"
   ]
  },
  {
   "cell_type": "code",
   "execution_count": 11,
   "id": "c984a19a",
   "metadata": {},
   "outputs": [
    {
     "data": {
      "text/plain": [
       "[30, 40]"
      ]
     },
     "execution_count": 11,
     "metadata": {},
     "output_type": "execute_result"
    }
   ],
   "source": [
    "mylist[2:4]  # from index 2 up to (and not including) 4"
   ]
  },
  {
   "cell_type": "code",
   "execution_count": 12,
   "id": "281a791f",
   "metadata": {},
   "outputs": [
    {
     "data": {
      "text/plain": [
       "10"
      ]
     },
     "execution_count": 12,
     "metadata": {},
     "output_type": "execute_result"
    }
   ],
   "source": [
    "mylist[0]  # first element of mylist"
   ]
  },
  {
   "cell_type": "code",
   "execution_count": 13,
   "id": "bcaa0460",
   "metadata": {},
   "outputs": [
    {
     "data": {
      "text/plain": [
       "5"
      ]
     },
     "execution_count": 13,
     "metadata": {},
     "output_type": "execute_result"
    }
   ],
   "source": [
    "len(mylist)"
   ]
  },
  {
   "cell_type": "code",
   "execution_count": 14,
   "id": "428e62a6",
   "metadata": {},
   "outputs": [
    {
     "data": {
      "text/plain": [
       "0"
      ]
     },
     "execution_count": 14,
     "metadata": {},
     "output_type": "execute_result"
    }
   ],
   "source": [
    "# empty list is just []\n",
    "\n",
    "mylist = []   \n",
    "\n",
    "len(mylist)"
   ]
  },
  {
   "cell_type": "markdown",
   "id": "f7d7e2e2",
   "metadata": {},
   "source": [
    "# Python's error messages\n",
    "\n",
    "When something goes wrong, you'll get two or three things:\n",
    "\n",
    "1. Stack backtrace, showing you the history of the error in Python. This is often very very hard to read (even for experts), but it can be useful. For now, you can mostly ignore it.\n",
    "2. Inside of the backtrace, you'll see some markers indicating where things went wrong.\n",
    "3. Finally, on the last line, you'll get the exception (error) type, and the message that was sent when things went wrong."
   ]
  },
  {
   "cell_type": "code",
   "execution_count": 15,
   "id": "fb47bd54",
   "metadata": {},
   "outputs": [
    {
     "name": "stdout",
     "output_type": "stream",
     "text": [
      "30\n"
     ]
    },
    {
     "ename": "IndexError",
     "evalue": "list index out of range",
     "output_type": "error",
     "traceback": [
      "\u001b[0;31m---------------------------------------------------------------------------\u001b[0m",
      "\u001b[0;31mIndexError\u001b[0m                                Traceback (most recent call last)",
      "Cell \u001b[0;32mIn [15], line 4\u001b[0m\n\u001b[1;32m      1\u001b[0m mylist \u001b[38;5;241m=\u001b[39m [\u001b[38;5;241m10\u001b[39m, \u001b[38;5;241m20\u001b[39m, \u001b[38;5;241m30\u001b[39m, \u001b[38;5;241m40\u001b[39m, \u001b[38;5;241m50\u001b[39m]\n\u001b[1;32m      3\u001b[0m \u001b[38;5;28mprint\u001b[39m(mylist[\u001b[38;5;241m2\u001b[39m])\n\u001b[0;32m----> 4\u001b[0m \u001b[38;5;28mprint\u001b[39m(\u001b[43mmylist\u001b[49m\u001b[43m[\u001b[49m\u001b[38;5;241;43m100\u001b[39;49m\u001b[43m]\u001b[49m)  \u001b[38;5;66;03m# this should not work\u001b[39;00m\n\u001b[1;32m      5\u001b[0m \u001b[38;5;28mprint\u001b[39m(mylist[\u001b[38;5;241m0\u001b[39m])\n",
      "\u001b[0;31mIndexError\u001b[0m: list index out of range"
     ]
    }
   ],
   "source": [
    "mylist = [10, 20, 30, 40, 50]\n",
    "\n",
    "print(mylist[2])\n",
    "print(mylist[100])  # this should not work\n",
    "print(mylist[0])"
   ]
  },
  {
   "cell_type": "code",
   "execution_count": 17,
   "id": "8961ce13",
   "metadata": {},
   "outputs": [
    {
     "data": {
      "text/plain": [
       "'abcd efgh'"
      ]
     },
     "execution_count": 17,
     "metadata": {},
     "output_type": "execute_result"
    }
   ],
   "source": [
    "s = 'aBcD eFgH'\n",
    "\n",
    "s.lower()  # get back a new string, based on s, all in lowercase"
   ]
  },
  {
   "cell_type": "code",
   "execution_count": 18,
   "id": "4a51f518",
   "metadata": {},
   "outputs": [
    {
     "ename": "AttributeError",
     "evalue": "'str' object has no attribute 'even_lower_than_that'",
     "output_type": "error",
     "traceback": [
      "\u001b[0;31m---------------------------------------------------------------------------\u001b[0m",
      "\u001b[0;31mAttributeError\u001b[0m                            Traceback (most recent call last)",
      "Cell \u001b[0;32mIn [18], line 1\u001b[0m\n\u001b[0;32m----> 1\u001b[0m \u001b[43ms\u001b[49m\u001b[38;5;241;43m.\u001b[39;49m\u001b[43meven_lower_than_that\u001b[49m()\n",
      "\u001b[0;31mAttributeError\u001b[0m: 'str' object has no attribute 'even_lower_than_that'"
     ]
    }
   ],
   "source": [
    "s.even_lower_than_that()"
   ]
  },
  {
   "cell_type": "code",
   "execution_count": 22,
   "id": "cdee4213",
   "metadata": {},
   "outputs": [
    {
     "ename": "NameError",
     "evalue": "name 'nime' is not defined",
     "output_type": "error",
     "traceback": [
      "\u001b[0;31m---------------------------------------------------------------------------\u001b[0m",
      "\u001b[0;31mNameError\u001b[0m                                 Traceback (most recent call last)",
      "Cell \u001b[0;32mIn [22], line 2\u001b[0m\n\u001b[1;32m      1\u001b[0m name \u001b[38;5;241m=\u001b[39m \u001b[38;5;124m'\u001b[39m\u001b[38;5;124mReuven\u001b[39m\u001b[38;5;124m'\u001b[39m\n\u001b[0;32m----> 2\u001b[0m \u001b[38;5;28mprint\u001b[39m(\u001b[43mnime\u001b[49m)\n",
      "\u001b[0;31mNameError\u001b[0m: name 'nime' is not defined"
     ]
    }
   ],
   "source": [
    "name = 'Reuven'\n",
    "print(nime)"
   ]
  },
  {
   "cell_type": "markdown",
   "id": "293e1ddd",
   "metadata": {},
   "source": [
    "# How can I assign to a new, empty list?\n",
    "\n",
    "If I create a new list:\n",
    "\n",
    "```python\n",
    "mylist = []\n",
    "```\n",
    "\n",
    "Can I then add to it by assigning to an index that doesn't exist?  Example:\n",
    "\n",
    "```python\n",
    "mylist[0] = 'hello'\n",
    "```\n",
    "\n",
    "Answer: No, and we'll talk about assigning to lists (and modifying them) in a bit."
   ]
  },
  {
   "cell_type": "markdown",
   "id": "6e052e31",
   "metadata": {},
   "source": [
    "# Running cells in Jupyter\n",
    "\n",
    "You can press shift+Enter to execute a cell:\n",
    "\n",
    "- If it's a Markdown cell, then it'll be formatted and displayed\n",
    "- If it's a Python cell, then it'll run and display its output (if any)"
   ]
  },
  {
   "cell_type": "code",
   "execution_count": 23,
   "id": "d3de6d41",
   "metadata": {},
   "outputs": [],
   "source": [
    "mylist = [10, 20, 30, 40, 50]"
   ]
  },
  {
   "cell_type": "markdown",
   "id": "4cca5b37",
   "metadata": {},
   "source": [
    "# Exercise: Retrieve list slice\n",
    "\n",
    "1. Define a list (of 5-10 elements of any type)\n",
    "2. Ask the user to enter a starting index.\n",
    "3. Ask the user to enter an ending index.\n",
    "4. If both indexes are at least 0, and not too long (for the list length), then print the slice from the starting index up to (and not including) the ending index.\n",
    "5. If they enter an index that's too small or too big, then scold them.\n",
    "\n",
    "Example:\n",
    "\n",
    "    If the list is [10, 20, 30, 40, 50, 60, 70, 80]\n",
    "    \n",
    "    Starting index: 4\n",
    "    Ending index: 7\n",
    "    \n",
    "    [50, 60, 70]\n",
    "    \n",
    "    "
   ]
  },
  {
   "cell_type": "code",
   "execution_count": 27,
   "id": "dfd93744",
   "metadata": {},
   "outputs": [
    {
     "name": "stdout",
     "output_type": "stream",
     "text": [
      "Starting index: -100\n",
      "Ending index: 20\n",
      "Either -100 or 20 is too high or too low\n"
     ]
    }
   ],
   "source": [
    "#         0   1  2   3   4   5   6   7   8   9\n",
    "mylist = [5, 10, 15, 20, 25, 35, 47, 50, 52, 59]\n",
    "\n",
    "# Use input to get a starting index from the user\n",
    "start_index = input('Starting index: ').strip()\n",
    "start_index = int(start_index)   # get an int from this string\n",
    "\n",
    "\n",
    "# Use input to get an ending index from the user\n",
    "end_index = input('Ending index: ').strip()\n",
    "end_index = int(end_index)\n",
    "\n",
    "if (start_index >= 0 and\n",
    "    end_index >= 0 and\n",
    "    start_index < len(mylist) and\n",
    "    end_index < len(mylist)):\n",
    "    print(    mylist[start_index:end_index]    )\n",
    "else:\n",
    "    print(f'Either {start_index} or {end_index} is too high or too low')"
   ]
  },
  {
   "cell_type": "code",
   "execution_count": 28,
   "id": "213dfd2c",
   "metadata": {},
   "outputs": [
    {
     "data": {
      "text/plain": [
       "10"
      ]
     },
     "execution_count": 28,
     "metadata": {},
     "output_type": "execute_result"
    }
   ],
   "source": [
    "# how can we print the final two items in a list?\n",
    "\n",
    "# first: we'll want a slice, from the second-to-last item until the end\n",
    "\n",
    "len(mylist)"
   ]
  },
  {
   "cell_type": "code",
   "execution_count": 30,
   "id": "bc97b91b",
   "metadata": {},
   "outputs": [
    {
     "data": {
      "text/plain": [
       "[52, 59]"
      ]
     },
     "execution_count": 30,
     "metadata": {},
     "output_type": "execute_result"
    }
   ],
   "source": [
    "mylist[8:]   # the hard-coded way, calculating using len()"
   ]
  },
  {
   "cell_type": "code",
   "execution_count": 31,
   "id": "b8eef079",
   "metadata": {},
   "outputs": [
    {
     "data": {
      "text/plain": [
       "[52, 59]"
      ]
     },
     "execution_count": 31,
     "metadata": {},
     "output_type": "execute_result"
    }
   ],
   "source": [
    "mylist[-2:]  # the clever way, counting from the end of the list backwards 2 element"
   ]
  },
  {
   "cell_type": "code",
   "execution_count": 32,
   "id": "9d7af78f",
   "metadata": {},
   "outputs": [
    {
     "name": "stdout",
     "output_type": "stream",
     "text": [
      "[59, 52, 50, 47, 35, 25, 20, 15, 10, 5]\n"
     ]
    }
   ],
   "source": [
    "# print a reversed list, use extended slice syntax\n",
    "\n",
    "print(mylist[::-1])   # from the start, to the end, step size -1"
   ]
  },
  {
   "cell_type": "markdown",
   "id": "57491f1d",
   "metadata": {},
   "source": [
    "# Loops\n",
    "\n",
    "Consider a short string, and I want to print all of the characters in that string."
   ]
  },
  {
   "cell_type": "code",
   "execution_count": 33,
   "id": "43379c48",
   "metadata": {},
   "outputs": [
    {
     "name": "stdout",
     "output_type": "stream",
     "text": [
      "a\n",
      "b\n",
      "c\n",
      "d\n"
     ]
    }
   ],
   "source": [
    "s = 'abcd'\n",
    "\n",
    "print(s[0])    # unfortunately, this works... it's super ugly!\n",
    "print(s[1])\n",
    "print(s[2])\n",
    "print(s[3])"
   ]
  },
  {
   "cell_type": "markdown",
   "id": "38348835",
   "metadata": {},
   "source": [
    "# DRY rule -- Don't Repeat Yourself!\n",
    "\n",
    "If you have code that more or less repeats itself, especially if it's several lines in a row, you should find a way to avoid repeating that code.\n",
    "\n",
    "In this case, we can see that we're doing the same thing each time, just with a different index in the string.\n",
    "\n",
    "This is a job for a `for` loop! In such a loop, we go over a bunch of values, one at a time.  These are the most common loops in Python.\n",
    "\n",
    "To write a `for` loop:\n",
    "\n",
    "- Use the keywords `for` and `in`\n",
    "- Just after the word `for`, and before the word `in`, we name our *loop variable*. This variable will be assigned, one at a time, all of the elements in `s`.\n",
    "- At the end of the line, after `in` and before `:`, we have the object over which we'll be iterating.\n",
    "- the body of the loop is executed once for each character in `s`, aka once for each different value of `one_character`.\n",
    "- when the loop ends, we exit the for and continue with the rest of the program\n",
    "\n",
    "You can (and should) name your loop variable well! Python doesn't care what you call it, and the fact that I called it `one_character` does *not* tell Python to retrieve one character at a time."
   ]
  },
  {
   "cell_type": "code",
   "execution_count": 37,
   "id": "822840a1",
   "metadata": {},
   "outputs": [
    {
     "name": "stdout",
     "output_type": "stream",
     "text": [
      "Before\n",
      "a\n",
      "b\n",
      "c\n",
      "d\n",
      "After\n"
     ]
    }
   ],
   "source": [
    "print('Before')\n",
    "for one_character in s:\n",
    "    print(one_character)\n",
    "print('After')    "
   ]
  },
  {
   "cell_type": "code",
   "execution_count": 39,
   "id": "4637fe38",
   "metadata": {},
   "outputs": [
    {
     "name": "stdout",
     "output_type": "stream",
     "text": [
      "a\n",
      "c\n",
      "e\n",
      "g\n",
      "i\n",
      "k\n",
      "m\n",
      "o\n",
      "q\n",
      "s\n",
      "u\n",
      "w\n",
      "y\n"
     ]
    }
   ],
   "source": [
    "# if I have a big string, and I want to iterate over it every 2 elements, \n",
    "# what do I do?\n",
    "\n",
    "s = 'abcdefghijklmnopqrstuvwxyz'\n",
    "\n",
    "for one_character in s[::2]:   # iterate over a slice of s!  from the start , to the end, step size 2\n",
    "    print(one_character)"
   ]
  },
  {
   "cell_type": "code",
   "execution_count": 40,
   "id": "afbb6c70",
   "metadata": {},
   "outputs": [
    {
     "name": "stdout",
     "output_type": "stream",
     "text": [
      "z\n",
      "y\n",
      "x\n",
      "w\n",
      "v\n",
      "u\n",
      "t\n",
      "s\n",
      "r\n",
      "q\n",
      "p\n",
      "o\n",
      "n\n",
      "m\n",
      "l\n",
      "k\n",
      "j\n",
      "i\n",
      "h\n",
      "g\n",
      "f\n",
      "e\n",
      "d\n",
      "c\n",
      "b\n",
      "a\n"
     ]
    }
   ],
   "source": [
    "# if I want to iterate over letters in s from the end, until the start\n",
    "# then I cannot do that in my loop -- I must do it by running a regular loop over a reversed string\n",
    "\n",
    "for one_character in s[::-1]:\n",
    "    print(one_character)"
   ]
  },
  {
   "cell_type": "markdown",
   "id": "81fd7e9e",
   "metadata": {},
   "source": [
    "# Exercise: Sum digits\n",
    "\n",
    "1. Ask the user to enter a string.\n",
    "2. Set `total` to be 0\n",
    "3. Go through each character in the string:\n",
    "    - If it's numeric, then convert its value to an integer, and add to `total`\n",
    "    - If it's not numeric, then scold the user\n",
    "4. Print `total`\n",
    "\n",
    "```\n",
    "Enter a string: abc123\n",
    "a is not numeric\n",
    "b is not numeric\n",
    "c is not numeric\n",
    "total is 6\n",
    "```    "
   ]
  },
  {
   "cell_type": "code",
   "execution_count": 43,
   "id": "6f2b5522",
   "metadata": {},
   "outputs": [
    {
     "name": "stdout",
     "output_type": "stream",
     "text": [
      "Enter a string: abc123\n",
      "a is *NOT* numeric\n",
      "b is *NOT* numeric\n",
      "c is *NOT* numeric\n",
      "1 is numeric\n",
      "2 is numeric\n",
      "3 is numeric\n",
      "Total = 6\n"
     ]
    }
   ],
   "source": [
    "s = input('Enter a string: ').strip()\n",
    "\n",
    "total = 0\n",
    "\n",
    "for one_character in s:\n",
    "    if one_character.isdigit():\n",
    "        print(f'{one_character} is numeric')\n",
    "        total += int(one_character)\n",
    "    else:\n",
    "        print(f'{one_character} is *NOT* numeric')\n",
    "        \n",
    "print(f'Total = {total}')        "
   ]
  },
  {
   "cell_type": "code",
   "execution_count": 45,
   "id": "fa8722be",
   "metadata": {},
   "outputs": [
    {
     "name": "stdout",
     "output_type": "stream",
     "text": [
      "Enter a string: \n",
      "Total = 0\n"
     ]
    }
   ],
   "source": [
    "# as suggested by KK\n",
    "\n",
    "s = input('Enter a string: ').strip()\n",
    "\n",
    "total = 0\n",
    "\n",
    "for one_character in s:\n",
    "    if type(one_character) == int:   # this will always be false!\n",
    "        print(f'{one_character} is numeric')\n",
    "        total += int(one_character)\n",
    "    else:\n",
    "        print(f'{one_character} is *NOT* numeric')\n",
    "        \n",
    "print(f'Total = {total}')        "
   ]
  },
  {
   "cell_type": "code",
   "execution_count": null,
   "id": "467a8cd0",
   "metadata": {},
   "outputs": [],
   "source": []
  },
  {
   "cell_type": "markdown",
   "id": "21a79185",
   "metadata": {},
   "source": [
    "# Next up\n",
    "\n",
    "1. Using `range` with `for` loops\n",
    "2. `while` loops\n",
    "3. Loop control structures"
   ]
  },
  {
   "cell_type": "markdown",
   "id": "6d25a871",
   "metadata": {},
   "source": [
    "# What if it isn't iterable?\n",
    "\n",
    "I've mentioned that the `for` loop asks the object if it's iterable. If it is, then `for` asks for each of the elements, one at a time.\n",
    "\n",
    "But what if the object isn't iterable? For example, what if we try to iterate over an integer?\n",
    "\n"
   ]
  },
  {
   "cell_type": "code",
   "execution_count": 46,
   "id": "01bc4e12",
   "metadata": {},
   "outputs": [
    {
     "ename": "TypeError",
     "evalue": "'int' object is not iterable",
     "output_type": "error",
     "traceback": [
      "\u001b[0;31m---------------------------------------------------------------------------\u001b[0m",
      "\u001b[0;31mTypeError\u001b[0m                                 Traceback (most recent call last)",
      "Cell \u001b[0;32mIn [46], line 1\u001b[0m\n\u001b[0;32m----> 1\u001b[0m \u001b[38;5;28;01mfor\u001b[39;00m counter \u001b[38;5;129;01min\u001b[39;00m \u001b[38;5;241m3\u001b[39m:      \u001b[38;5;66;03m# I want to print this 3 times\u001b[39;00m\n\u001b[1;32m      2\u001b[0m     \u001b[38;5;28mprint\u001b[39m(\u001b[38;5;124m'\u001b[39m\u001b[38;5;124mHooray!\u001b[39m\u001b[38;5;124m'\u001b[39m)\n",
      "\u001b[0;31mTypeError\u001b[0m: 'int' object is not iterable"
     ]
    }
   ],
   "source": [
    "for counter in 3:      # I want to print this 3 times\n",
    "    print('Hooray!')"
   ]
  },
  {
   "cell_type": "markdown",
   "id": "df40046a",
   "metadata": {},
   "source": [
    "# This seems like a common use case!\n",
    "\n",
    "In Python, you cannot iterate directly over an integer.\n",
    "\n",
    "You can, however, use the `range` function to get an iterable based on an integer.\n",
    "\n",
    "If I want to iterate 3 times, I can just iterate over `range(3)`.\n",
    "\n",
    "If you invoke `range(n)`, then you'll get each of the integers from 0 up to (and not including) `n`.  Which means that you'll get `n` values, but you'll never get `n` itself."
   ]
  },
  {
   "cell_type": "code",
   "execution_count": 47,
   "id": "5584e53c",
   "metadata": {},
   "outputs": [
    {
     "name": "stdout",
     "output_type": "stream",
     "text": [
      "Hooray!\n",
      "Hooray!\n",
      "Hooray!\n"
     ]
    }
   ],
   "source": [
    "for counter in range(3):    # use range... will it work?\n",
    "    print('Hooray!')"
   ]
  },
  {
   "cell_type": "code",
   "execution_count": 48,
   "id": "f4d2aed9",
   "metadata": {},
   "outputs": [
    {
     "name": "stdout",
     "output_type": "stream",
     "text": [
      "0 Hooray!\n",
      "1 Hooray!\n",
      "2 Hooray!\n"
     ]
    }
   ],
   "source": [
    "# what does range give us?\n",
    "\n",
    "for counter in range(3):  \n",
    "    print(f'{counter} Hooray!')"
   ]
  },
  {
   "cell_type": "markdown",
   "id": "d7b10345",
   "metadata": {},
   "source": [
    "# Off-by-one errors\n",
    "\n",
    "It's very common, when working with indexes, slices, and ranges, to have an \"off by one\" error. That comes from (usually) the fact that our indexes are 0 based.\n",
    "\n",
    "If you find that you're off by one, check to see if you made something < when it could be <=, or > when it could be >= (or vice versa)."
   ]
  },
  {
   "cell_type": "code",
   "execution_count": 49,
   "id": "56c09bc5",
   "metadata": {},
   "outputs": [],
   "source": [
    "# you can say range(start,end) ... but only with integers"
   ]
  },
  {
   "cell_type": "markdown",
   "id": "eed2b36a",
   "metadata": {},
   "source": [
    "# Exercise: Name triangles\n",
    "\n",
    "1. Ask the user to enter their name.\n",
    "2. Print one line for each letter in the name:\n",
    "    - On the first line, print the first letter.\n",
    "    - On the second line, print the first two letters.\n",
    "    - On the third line, print the first three letters.\n",
    "    - ...\n",
    "    - One the final line, print the entire name.\n",
    "    \n",
    "Example:\n",
    "\n",
    "    Enter name: Reuven\n",
    "    R\n",
    "    Re\n",
    "    Reu\n",
    "    Reuv\n",
    "    Reuve\n",
    "    Reuven\n",
    "    \n",
    "Things to keep in mind:\n",
    "- Slices let us grab any part of a string with the `[start:end]` syntax\n",
    "- Remember that the `end` index is \"up to and not including\"\n",
    "- Fun fact: If the end of a slice is outside of the string bounds, that's OK!\n",
    "- Remember that a slice can be `[start:]` to go through the end\n",
    "- `len` returns the length of the string\n",
    "- You can use a variable whose value is an integer anywhere you can use an integer"
   ]
  },
  {
   "cell_type": "code",
   "execution_count": 51,
   "id": "466e4d09",
   "metadata": {},
   "outputs": [
    {
     "name": "stdout",
     "output_type": "stream",
     "text": [
      "Enter your name: Reuven\n",
      "R\n",
      "Re\n",
      "Reu\n",
      "Reuv\n",
      "Reuve\n",
      "Reuven\n"
     ]
    }
   ],
   "source": [
    "name = input('Enter your name: ').strip()\n",
    "\n",
    "print(name[:1])\n",
    "print(name[:2])\n",
    "print(name[:3])\n",
    "print(name[:4])\n",
    "print(name[:5])\n",
    "print(name[:6])"
   ]
  },
  {
   "cell_type": "code",
   "execution_count": 55,
   "id": "1e71de4d",
   "metadata": {},
   "outputs": [
    {
     "name": "stdout",
     "output_type": "stream",
     "text": [
      "Enter your name: VeryLongName\n",
      "V\n",
      "Ve\n",
      "Ver\n",
      "Very\n",
      "VeryL\n",
      "VeryLo\n",
      "VeryLon\n",
      "VeryLong\n",
      "VeryLongN\n",
      "VeryLongNa\n",
      "VeryLongNam\n",
      "VeryLongName\n"
     ]
    }
   ],
   "source": [
    "# let's make it work with any length of name\n",
    "\n",
    "name = input('Enter your name: ').strip()\n",
    "\n",
    "name_length = len(name)\n",
    "for ending_index in range(name_length):\n",
    "    print(name[:ending_index+1])   "
   ]
  },
  {
   "cell_type": "code",
   "execution_count": 58,
   "id": "57692d6e",
   "metadata": {},
   "outputs": [
    {
     "name": "stdout",
     "output_type": "stream",
     "text": [
      "Enter your name: VeryLongNameAgain\n",
      "V\n",
      "Ve\n",
      "Ver\n",
      "Very\n",
      "VeryL\n",
      "VeryLo\n",
      "VeryLon\n",
      "VeryLong\n",
      "VeryLongN\n",
      "VeryLongNa\n",
      "VeryLongNam\n",
      "VeryLongName\n",
      "VeryLongNameA\n",
      "VeryLongNameAg\n",
      "VeryLongNameAga\n",
      "VeryLongNameAgai\n",
      "VeryLongNameAgain\n"
     ]
    }
   ],
   "source": [
    "# let's condense this a bit\n",
    "\n",
    "name = input('Enter your name: ').strip()\n",
    "\n",
    "for ending_index in range(len(name)):\n",
    "    print(name[:ending_index+1])   "
   ]
  },
  {
   "cell_type": "markdown",
   "id": "3e6be17f",
   "metadata": {},
   "source": [
    "# `print` vs. f-strings\n",
    "\n",
    "`print` is a function that displays anything you throw at it. It basically runs `str` on its argument, and displays the string it gets back. It can show any data structure in Python.\n",
    "\n",
    "Separately, we can define an f-string, which means a string into which we want to insert variable data. Variables are interpolated using `{}` inside of the f-string.\n",
    "\n",
    "There is no connection between `print` and f-strings, except that we often define an f-string and then hand it to `print` in order to display.\n",
    "\n"
   ]
  },
  {
   "cell_type": "code",
   "execution_count": 59,
   "id": "f6e3cb02",
   "metadata": {},
   "outputs": [
    {
     "name": "stdout",
     "output_type": "stream",
     "text": [
      ">>>***Reuven***<<<\n"
     ]
    }
   ],
   "source": [
    "name = 'Reuven'\n",
    "\n",
    "fancy_name = f'***{name}***'\n",
    "\n",
    "even_fancier_name = f'>>>{fancy_name}<<<'\n",
    "\n",
    "print(even_fancier_name)"
   ]
  },
  {
   "cell_type": "code",
   "execution_count": 61,
   "id": "98fde6b9",
   "metadata": {},
   "outputs": [
    {
     "name": "stdout",
     "output_type": "stream",
     "text": [
      "Printing list from index [20, 25]\n"
     ]
    }
   ],
   "source": [
    "Fentry = 3\n",
    "Lentry = 5\n",
    "\n",
    "print (f'Printing list from index {mylist[Fentry:Lentry]}')"
   ]
  },
  {
   "cell_type": "markdown",
   "id": "6c981b13",
   "metadata": {},
   "source": [
    "# `for` loops vs. `while` loops\n",
    "\n",
    "`for` loops are perfect for iterating over strings (or lists, for that matter), and doing something with each element. Or if we know how many times we want to iterate, we can use `range`.\n",
    "\n",
    "But what if we don't know how many times we'll want to iterate? What if we want to repeat an action until we've achieved some goal? That might take 1 iteration, or it might take 100,000 iterations.\n",
    "\n",
    "For such things, we use a `while` loop. You can think of `while` as being just like `if`, except that it will repeat running the block until the test returns `False`."
   ]
  },
  {
   "cell_type": "code",
   "execution_count": 63,
   "id": "3b5eef81",
   "metadata": {},
   "outputs": [
    {
     "name": "stdout",
     "output_type": "stream",
     "text": [
      "Before loop\n",
      "5\n",
      "4\n",
      "3\n",
      "2\n",
      "1\n",
      "After loop\n"
     ]
    }
   ],
   "source": [
    "# example\n",
    "\n",
    "x = 5\n",
    "\n",
    "print('Before loop')\n",
    "\n",
    "while x > 0:\n",
    "    print(x)\n",
    "    x -= 1    # subtract 1 from x, aka x = x - 1\n",
    "    \n",
    "print('After loop')    "
   ]
  },
  {
   "cell_type": "markdown",
   "id": "df430d7e",
   "metadata": {},
   "source": [
    "# Exercise: Sum to 100\n",
    "\n",
    "1. Define `total` to be 0.\n",
    "2. Ask the user, again and again, to enter a number.\n",
    "    - If they enter a non-number, scold them\n",
    "3. Add the new number to `total`.\n",
    "4. Print `total`.\n",
    "5. If `total` is >= 100, then stop. Otherwise, go back and ask again.\n",
    "\n",
    "Hints/thoughts:\n",
    "\n",
    "1. Get input from the user with `input`\n",
    "2. What we get back from `input` is a string; turn it into an integer with `int`\n",
    "3. Check if a string contains only digits with `.isdigit()`\n"
   ]
  },
  {
   "cell_type": "code",
   "execution_count": 64,
   "id": "ed1e370b",
   "metadata": {},
   "outputs": [
    {
     "name": "stdout",
     "output_type": "stream",
     "text": [
      "Enter number: 30\n",
      "total = 30\n",
      "Enter number: 20\n",
      "total = 50\n",
      "Enter number: 15\n",
      "total = 65\n",
      "Enter number: 1000\n",
      "total = 1065\n",
      "Done!\n"
     ]
    }
   ],
   "source": [
    "total = 0\n",
    "\n",
    "while total < 100:\n",
    "    s = input('Enter number: ').strip()\n",
    "    \n",
    "    n = int(s)    # get an integer based on s, and assign to n\n",
    "    \n",
    "    total += n    # same as saying total = total + n\n",
    "\n",
    "    print(f'total = {total}')\n",
    "    \n",
    "print('Done!')"
   ]
  },
  {
   "cell_type": "code",
   "execution_count": 65,
   "id": "e59bcc97",
   "metadata": {},
   "outputs": [
    {
     "name": "stdout",
     "output_type": "stream",
     "text": [
      "Enter number: 50\n",
      "total = 50\n",
      "Enter number: hello\n",
      "hello is not numeric!\n",
      "Enter number: 49\n",
      "total = 99\n",
      "Enter number: asdfafaf\n",
      "asdfafaf is not numeric!\n",
      "Enter number: 9\n",
      "total = 108\n",
      "Done!\n"
     ]
    }
   ],
   "source": [
    "# now check to see we got numbers\n",
    "\n",
    "total = 0\n",
    "\n",
    "while total < 100:\n",
    "    s = input('Enter number: ').strip()\n",
    "    \n",
    "    if s.isdigit():\n",
    "        n = int(s)    # get an integer based on s, and assign to n\n",
    "        total += n    # same as saying total = total + n\n",
    "        print(f'total = {total}')\n",
    "        \n",
    "    else:\n",
    "        print(f'{s} is not numeric!')\n",
    "    \n",
    "print('Done!')"
   ]
  },
  {
   "cell_type": "markdown",
   "id": "3acda0c6",
   "metadata": {},
   "source": [
    "# Next up\n",
    "\n",
    "1. Indexes (the lack thereof)\n",
    "2. Control in our loop (`break` and `continue`)\n",
    "3. Loops with lists\n",
    "4. Modifying lists, etc."
   ]
  },
  {
   "cell_type": "code",
   "execution_count": 66,
   "id": "b159a0ca",
   "metadata": {},
   "outputs": [
    {
     "name": "stdout",
     "output_type": "stream",
     "text": [
      "a\n",
      "b\n",
      "c\n",
      "d\n"
     ]
    }
   ],
   "source": [
    "s = 'abcd'\n",
    "\n",
    "for one_character in s:\n",
    "    print(one_character)\n",
    "    \n",
    "# for asks s: are you iterable?\n",
    "# if so, then for asks s: give me your next item\n",
    "#      if there is no next item, exit from the loop\n",
    "# that item is assigned to one_character\n",
    "# the loop body executes\n",
    "# return to asking for the next item"
   ]
  },
  {
   "cell_type": "code",
   "execution_count": 67,
   "id": "da559378",
   "metadata": {},
   "outputs": [
    {
     "name": "stdout",
     "output_type": "stream",
     "text": [
      "0: a\n",
      "1: b\n",
      "2: c\n",
      "3: d\n"
     ]
    }
   ],
   "source": [
    "# what if I *want* to print the index along with each character?\n",
    "\n",
    "# option 1: do it manually\n",
    "\n",
    "s = 'abcd'\n",
    "index = 0\n",
    "\n",
    "for one_character in s:\n",
    "    print(f'{index}: {one_character}')   # print index + character\n",
    "    index += 1                           # add 1 to index"
   ]
  },
  {
   "cell_type": "code",
   "execution_count": 68,
   "id": "c055b649",
   "metadata": {},
   "outputs": [
    {
     "name": "stdout",
     "output_type": "stream",
     "text": [
      "0: a\n",
      "1: b\n",
      "2: c\n",
      "3: d\n"
     ]
    }
   ],
   "source": [
    "# option 2: use \"enumerate\"\n",
    "# this is a little weird / little tricky\n",
    "\n",
    "# I'll wrap my object in a call to the \"enumerate\" function\n",
    "# that returns TWO VALUES with each iteration -- the index and the value\n",
    "\n",
    "s = 'abcd'\n",
    "\n",
    "for index, one_character in enumerate(s):   # we're iterating over TWO VALUES!\n",
    "    print(f'{index}: {one_character}')  "
   ]
  },
  {
   "cell_type": "markdown",
   "id": "5898cbfc",
   "metadata": {},
   "source": [
    "# Control in our loop\n",
    "\n",
    "What if I want to exit from a loop prematurely? I can use the `break` command.  When that executes, we leave our loop RIGHT AWAY. \n",
    "\n",
    "This is especially useful when we have accomplished a task, and don't want any more iterations."
   ]
  },
  {
   "cell_type": "code",
   "execution_count": 70,
   "id": "db49e11a",
   "metadata": {},
   "outputs": [
    {
     "name": "stdout",
     "output_type": "stream",
     "text": [
      "Found it: 5\n"
     ]
    }
   ],
   "source": [
    "# given a string of digits, we want to find the first digit\n",
    "# that's >= a number\n",
    "\n",
    "s = '123456789'\n",
    "look_for_at_least = 5\n",
    "\n",
    "for one_character in s:\n",
    "    if int(one_character) >= look_for_at_least:\n",
    "        print(f'Found it: {one_character}')  # print what we found\n",
    "        break                                # stop the loop"
   ]
  },
  {
   "cell_type": "code",
   "execution_count": 73,
   "id": "feb880d4",
   "metadata": {},
   "outputs": [
    {
     "name": "stdout",
     "output_type": "stream",
     "text": [
      "a is not numeric\n",
      "b is not numeric\n",
      "c is not numeric\n",
      "6\n"
     ]
    }
   ],
   "source": [
    "# what if we want to stop THIS ITERATION, but not exit the loop entirely?\n",
    "# for that, we use the \"continue\" keyword\n",
    "# that goes back up to the top of the loop, for the next iteration.\n",
    "\n",
    "s = 'a1b2c3'\n",
    "\n",
    "total = 0\n",
    "for one_character in s:\n",
    "    if not one_character.isdigit():\n",
    "        print(f'{one_character} is not numeric')   # scold the user \n",
    "        continue                                   # go onto the next iteration\n",
    "        \n",
    "    total += int(one_character)                    # we know it's numeric\n",
    "print(total)    "
   ]
  },
  {
   "cell_type": "code",
   "execution_count": 74,
   "id": "a4c8f2af",
   "metadata": {},
   "outputs": [
    {
     "name": "stdout",
     "output_type": "stream",
     "text": [
      "Enter your name: Reuven\n",
      "Hello, Reuven!\n",
      "Enter your name: whoever\n",
      "Hello, whoever!\n",
      "Enter your name: \n"
     ]
    }
   ],
   "source": [
    "# classic example of where to use \"break\"\n",
    "\n",
    "# let's say I want to ask the user their name\n",
    "# and then we print \"hello\" with the name\n",
    "# if the user enters an empty string, we'll stop asking\n",
    "\n",
    "while True:   # infinite loop!\n",
    "    name = input('Enter your name: ').strip()\n",
    "    \n",
    "    if name == '':   # did we get an empty string? exit the loop\n",
    "        break\n",
    "        \n",
    "    print(f'Hello, {name}!')  "
   ]
  },
  {
   "cell_type": "markdown",
   "id": "724bd759",
   "metadata": {},
   "source": [
    "Both `continue` and `break` can be used in `while` and `for` loops."
   ]
  },
  {
   "cell_type": "code",
   "execution_count": 75,
   "id": "c58ddd97",
   "metadata": {},
   "outputs": [
    {
     "ename": "SyntaxError",
     "evalue": "'continue' not properly in loop (414696514.py, line 1)",
     "output_type": "error",
     "traceback": [
      "\u001b[0;36m  Cell \u001b[0;32mIn [75], line 1\u001b[0;36m\u001b[0m\n\u001b[0;31m    continue\u001b[0m\n\u001b[0m    ^\u001b[0m\n\u001b[0;31mSyntaxError\u001b[0m\u001b[0;31m:\u001b[0m 'continue' not properly in loop\n"
     ]
    }
   ],
   "source": [
    "continue"
   ]
  },
  {
   "cell_type": "code",
   "execution_count": 76,
   "id": "b303aeb2",
   "metadata": {},
   "outputs": [
    {
     "ename": "SyntaxError",
     "evalue": "'break' outside loop (668683560.py, line 1)",
     "output_type": "error",
     "traceback": [
      "\u001b[0;36m  Cell \u001b[0;32mIn [76], line 1\u001b[0;36m\u001b[0m\n\u001b[0;31m    break\u001b[0m\n\u001b[0m    ^\u001b[0m\n\u001b[0;31mSyntaxError\u001b[0m\u001b[0;31m:\u001b[0m 'break' outside loop\n"
     ]
    }
   ],
   "source": [
    "break"
   ]
  },
  {
   "cell_type": "markdown",
   "id": "a23fa9b0",
   "metadata": {},
   "source": [
    "# Exercise: Count vowels\n",
    "\n",
    "1. Define `total` to be 0.\n",
    "2. Ask the user to enter a string.\n",
    "3. Go through the string, one character at a time.\n",
    "    - If you see a vowel, add 1 to `total`\n",
    "    - If you see a `.`, then stop counting and print the answer right away.\n",
    "4. Print the number of vowels you found (until `.` or the end of the string, whichever came first).\n",
    "\n",
    "Hints:\n",
    "- What kind of loop will you use? Remember that `for` is when you want to do something for each value in a sequence, and `while` is when you don't know how many iterations you'll need.\n",
    "- You'll need to check whether the current character is `.` -- if so, exit the loop early with `break`\n",
    "- How do you know if a letter is a vowel? Check if it's `in` a string of vowels.\n",
    "\n",
    "Example:\n",
    "\n",
    "    Enter a string: hello\n",
    "    vowel count: 2\n",
    "    \n",
    "    Enter a string: goodbye\n",
    "    vowel count 3\n",
    "    \n",
    "    Enter a string: good.bye\n",
    "    vowel count 2"
   ]
  },
  {
   "cell_type": "code",
   "execution_count": 85,
   "id": "41048c48",
   "metadata": {
    "scrolled": true
   },
   "outputs": [
    {
     "ename": "TabError",
     "evalue": "inconsistent use of tabs and spaces in indentation (1074848382.py, line 9)",
     "output_type": "error",
     "traceback": [
      "\u001b[0;36m  Cell \u001b[0;32mIn [85], line 9\u001b[0;36m\u001b[0m\n\u001b[0;31m    break\u001b[0m\n\u001b[0m    ^\u001b[0m\n\u001b[0;31mTabError\u001b[0m\u001b[0;31m:\u001b[0m inconsistent use of tabs and spaces in indentation\n"
     ]
    }
   ],
   "source": [
    "total = 0\n",
    "\n",
    "s = input('Enter a string: ').strip()\n",
    "\n",
    "for one_character in s.lower():           # go through each character in s\n",
    "\n",
    "    if one_character == '.':      # if the current character is a ., stop the loop\n",
    "    \tprint('breaking')\n",
    "        break\n",
    "\n",
    "    if one_character in 'aeiou':  # if it's a vowel, then add 1 to our count\n",
    "        total += 1\n",
    "        \n",
    "print(f'total = {total}')        "
   ]
  },
  {
   "cell_type": "code",
   "execution_count": 86,
   "id": "0f0c376b",
   "metadata": {},
   "outputs": [
    {
     "name": "stdout",
     "output_type": "stream",
     "text": [
      "a b c\n"
     ]
    }
   ],
   "source": [
    "print('a', 'b', 'c')    #print accepts multiple arguments separated by ,"
   ]
  },
  {
   "cell_type": "markdown",
   "id": "90656806",
   "metadata": {},
   "source": [
    "# Remember lists?\n",
    "\n"
   ]
  },
  {
   "cell_type": "code",
   "execution_count": 81,
   "id": "61227cb4",
   "metadata": {},
   "outputs": [
    {
     "name": "stdout",
     "output_type": "stream",
     "text": [
      "10\n",
      "20\n",
      "30\n",
      "40\n",
      "50\n"
     ]
    }
   ],
   "source": [
    "mylist = [10, 20, 30, 40, 50]\n",
    "\n",
    "# I can iterate over a list!\n",
    "\n",
    "for one_item in mylist:\n",
    "    print(one_item)"
   ]
  },
  {
   "cell_type": "code",
   "execution_count": 82,
   "id": "60bf9bec",
   "metadata": {},
   "outputs": [
    {
     "name": "stdout",
     "output_type": "stream",
     "text": [
      "150\n"
     ]
    }
   ],
   "source": [
    "# what if I total the values in a list?\n",
    "\n",
    "total = 0\n",
    "\n",
    "for one_item in mylist:\n",
    "    total += one_item\n",
    "    \n",
    "print(total)    "
   ]
  },
  {
   "cell_type": "code",
   "execution_count": 87,
   "id": "41206c7a",
   "metadata": {},
   "outputs": [
    {
     "ename": "TypeError",
     "evalue": "'str' object does not support item assignment",
     "output_type": "error",
     "traceback": [
      "\u001b[0;31m---------------------------------------------------------------------------\u001b[0m",
      "\u001b[0;31mTypeError\u001b[0m                                 Traceback (most recent call last)",
      "Cell \u001b[0;32mIn [87], line 6\u001b[0m\n\u001b[1;32m      1\u001b[0m \u001b[38;5;66;03m# can I modify a list?\u001b[39;00m\n\u001b[1;32m      2\u001b[0m \n\u001b[1;32m      3\u001b[0m \u001b[38;5;66;03m# we know that strings are immutable\u001b[39;00m\n\u001b[1;32m      5\u001b[0m s \u001b[38;5;241m=\u001b[39m \u001b[38;5;124m'\u001b[39m\u001b[38;5;124mabcd\u001b[39m\u001b[38;5;124m'\u001b[39m\n\u001b[0;32m----> 6\u001b[0m \u001b[43ms\u001b[49m\u001b[43m[\u001b[49m\u001b[38;5;241;43m0\u001b[39;49m\u001b[43m]\u001b[49m \u001b[38;5;241m=\u001b[39m \u001b[38;5;124m'\u001b[39m\u001b[38;5;124m!\u001b[39m\u001b[38;5;124m'\u001b[39m  \u001b[38;5;66;03m# will this work?\u001b[39;00m\n",
      "\u001b[0;31mTypeError\u001b[0m: 'str' object does not support item assignment"
     ]
    }
   ],
   "source": [
    "# can I modify a list?\n",
    "\n",
    "# we know that strings are immutable\n",
    "\n",
    "s = 'abcd'\n",
    "s[0] = '!'  # will this work?"
   ]
  },
  {
   "cell_type": "code",
   "execution_count": 88,
   "id": "a8ab5baf",
   "metadata": {},
   "outputs": [],
   "source": [
    "mylist = [10, 20, 30, 40]\n",
    "\n",
    "mylist[0] = '!' # will this work?"
   ]
  },
  {
   "cell_type": "code",
   "execution_count": 89,
   "id": "2be941e9",
   "metadata": {},
   "outputs": [
    {
     "data": {
      "text/plain": [
       "['!', 20, 30, 40]"
      ]
     },
     "execution_count": 89,
     "metadata": {},
     "output_type": "execute_result"
    }
   ],
   "source": [
    "mylist"
   ]
  },
  {
   "cell_type": "markdown",
   "id": "76ddd935",
   "metadata": {},
   "source": [
    "# Variable assignment vs. mutation\n",
    "\n",
    "When I say `x = 100`, I'm assigning a value to a variable. \n",
    "\n",
    "By contrast, when I say `mylist[0] = 100`, I'm not changing a variable at all. Rather, I'm changing the value to which the variable refers. `mylist`, after this assignment, will continue to refer to exactly the same list as before. It's just that the list has changed.\n",
    "\n",
    "It's sort of (I think) like this:\n",
    "\n",
    "- If you put on a shirt, then you're replacing the shirt that was previously there.\n",
    "- If you modify a shirt, then it's still the same shirt."
   ]
  },
  {
   "cell_type": "code",
   "execution_count": 90,
   "id": "588dae57",
   "metadata": {},
   "outputs": [
    {
     "data": {
      "text/plain": [
       "'abcdefgh'"
      ]
     },
     "execution_count": 90,
     "metadata": {},
     "output_type": "execute_result"
    }
   ],
   "source": [
    "s = 'abcd'\n",
    "s += 'efgh'  # isn't this mutation?   NO... we're creating a new string, and assigning it back to s\n",
    "\n",
    "s"
   ]
  },
  {
   "cell_type": "markdown",
   "id": "f25e0aa2",
   "metadata": {},
   "source": [
    "# Next up\n",
    "\n",
    "1. List methods (especially append)\n",
    "2. Joining lists into strings\n",
    "3. Splitting strings into lists\n",
    "\n",
    "I'm pushing to next week our talk about tuples + tuple unpacking."
   ]
  },
  {
   "cell_type": "code",
   "execution_count": 91,
   "id": "bd9bc674",
   "metadata": {},
   "outputs": [
    {
     "data": {
      "text/plain": [
       "[10, 20, 30, 40]"
      ]
     },
     "execution_count": 91,
     "metadata": {},
     "output_type": "execute_result"
    }
   ],
   "source": [
    "# I can modify the length of a list by adding elements and removing them\n",
    "# I can add one element to the end of a list with the .append method\n",
    "\n",
    "# (1) .append takes ANY OBJECT and adds it to the end of a list\n",
    "# (2) It only takes one object\n",
    "# (3) calling append modifies the list. Don't put .append on the right side of assignment!\n",
    "\n",
    "mylist = [10, 20, 30]\n",
    "mylist.append(40)     \n",
    "\n",
    "mylist"
   ]
  },
  {
   "cell_type": "code",
   "execution_count": 92,
   "id": "5169f339",
   "metadata": {},
   "outputs": [
    {
     "data": {
      "text/plain": [
       "[10, 20, 30, 40, 'hello']"
      ]
     },
     "execution_count": 92,
     "metadata": {},
     "output_type": "execute_result"
    }
   ],
   "source": [
    "mylist.append('hello')\n",
    "mylist"
   ]
  },
  {
   "cell_type": "code",
   "execution_count": 93,
   "id": "bc901dec",
   "metadata": {},
   "outputs": [
    {
     "data": {
      "text/plain": [
       "[10, 20, 30, 40, 'hello', [10, 20, 30]]"
      ]
     },
     "execution_count": 93,
     "metadata": {},
     "output_type": "execute_result"
    }
   ],
   "source": [
    "mylist.append([10, 20, 30])\n",
    "mylist"
   ]
  },
  {
   "cell_type": "code",
   "execution_count": 94,
   "id": "32c3b241",
   "metadata": {},
   "outputs": [
    {
     "data": {
      "text/plain": [
       "[10, 20, 30]"
      ]
     },
     "execution_count": 94,
     "metadata": {},
     "output_type": "execute_result"
    }
   ],
   "source": [
    "# if I create an empty list\n",
    "\n",
    "mylist = []   \n",
    "\n",
    "mylist.append(10)\n",
    "mylist.append(20)\n",
    "mylist.append(30)\n",
    "\n",
    "mylist"
   ]
  },
  {
   "cell_type": "code",
   "execution_count": 95,
   "id": "5f4476c4",
   "metadata": {},
   "outputs": [
    {
     "data": {
      "text/plain": [
       "30"
      ]
     },
     "execution_count": 95,
     "metadata": {},
     "output_type": "execute_result"
    }
   ],
   "source": [
    "# I can remove the final element of a list with the \"pop\" method\n",
    "# this both removes the final element and returns it\n",
    "\n",
    "mylist.pop()"
   ]
  },
  {
   "cell_type": "code",
   "execution_count": 96,
   "id": "5bae953c",
   "metadata": {},
   "outputs": [
    {
     "data": {
      "text/plain": [
       "[10, 20]"
      ]
     },
     "execution_count": 96,
     "metadata": {},
     "output_type": "execute_result"
    }
   ],
   "source": [
    "mylist"
   ]
  },
  {
   "cell_type": "code",
   "execution_count": 97,
   "id": "d5509549",
   "metadata": {},
   "outputs": [
    {
     "data": {
      "text/plain": [
       "20"
      ]
     },
     "execution_count": 97,
     "metadata": {},
     "output_type": "execute_result"
    }
   ],
   "source": [
    "mylist.pop()"
   ]
  },
  {
   "cell_type": "code",
   "execution_count": 98,
   "id": "9b4029fb",
   "metadata": {},
   "outputs": [
    {
     "data": {
      "text/plain": [
       "[10]"
      ]
     },
     "execution_count": 98,
     "metadata": {},
     "output_type": "execute_result"
    }
   ],
   "source": [
    "mylist"
   ]
  },
  {
   "cell_type": "code",
   "execution_count": 99,
   "id": "4cae9666",
   "metadata": {},
   "outputs": [
    {
     "data": {
      "text/plain": [
       "10"
      ]
     },
     "execution_count": 99,
     "metadata": {},
     "output_type": "execute_result"
    }
   ],
   "source": [
    "mylist.pop()"
   ]
  },
  {
   "cell_type": "code",
   "execution_count": 100,
   "id": "80e87ec1",
   "metadata": {},
   "outputs": [
    {
     "data": {
      "text/plain": [
       "[]"
      ]
     },
     "execution_count": 100,
     "metadata": {},
     "output_type": "execute_result"
    }
   ],
   "source": [
    "mylist"
   ]
  },
  {
   "cell_type": "code",
   "execution_count": 101,
   "id": "73eab2c2",
   "metadata": {},
   "outputs": [
    {
     "ename": "IndexError",
     "evalue": "pop from empty list",
     "output_type": "error",
     "traceback": [
      "\u001b[0;31m---------------------------------------------------------------------------\u001b[0m",
      "\u001b[0;31mIndexError\u001b[0m                                Traceback (most recent call last)",
      "Cell \u001b[0;32mIn [101], line 1\u001b[0m\n\u001b[0;32m----> 1\u001b[0m \u001b[43mmylist\u001b[49m\u001b[38;5;241;43m.\u001b[39;49m\u001b[43mpop\u001b[49m\u001b[43m(\u001b[49m\u001b[43m)\u001b[49m\n",
      "\u001b[0;31mIndexError\u001b[0m: pop from empty list"
     ]
    }
   ],
   "source": [
    "mylist.pop()"
   ]
  },
  {
   "cell_type": "markdown",
   "id": "9cac6c41",
   "metadata": {},
   "source": [
    "# Exercise: Vowels, digits, and others (list edition)\n",
    "\n",
    "1. Define three empty lists named `vowels`, `digits`, and `others`.\n",
    "2. Ask the user to enter a string.\n",
    "3. Go through each character in the string.\n",
    "    - If it's a vowel, then add it to the `vowels` list\n",
    "    - If it's a digit, then add it to the `digits` list\n",
    "    - Otherwise, add it to the `others` list\n",
    "4. When you're done going through the characters, print each of the lists.\n",
    "\n",
    "Example:\n",
    "\n",
    "    Enter a string: hello 123!!!\n",
    "    vowels: ['e', 'o']\n",
    "    digits: ['1', '2', '3']\n",
    "    others: ['h', 'l', 'l', ' ', '!', '!', '!']\n",
    "    \n",
    "Hints:\n",
    "- The \"isdigit\" method can indicate whether a string contains only the digits 0-9\n",
    "- You can use `in 'aeiou'` to see if something is a vowel\n",
    "- The `.append` method adds to a list\n",
    "- You'll want to loop over every character in the user's input"
   ]
  },
  {
   "cell_type": "code",
   "execution_count": 103,
   "id": "bf61cbbb",
   "metadata": {},
   "outputs": [
    {
     "name": "stdout",
     "output_type": "stream",
     "text": [
      "Enter a string: hello 123!!!\n",
      "vowels=['e', 'o']\n",
      "digits=['1', '2', '3']\n",
      "others=['h', 'l', 'l', ' ', '!', '!', '!']\n"
     ]
    }
   ],
   "source": [
    "vowels = []\n",
    "digits = []\n",
    "others = []\n",
    "\n",
    "s = input('Enter a string: ').strip()\n",
    "\n",
    "for one_character in s:\n",
    "    if one_character in 'aeiou':\n",
    "        vowels.append(one_character)\n",
    "    elif one_character.isdigit():\n",
    "        digits.append(one_character)\n",
    "    else:\n",
    "        others.append(one_character)\n",
    "        \n",
    "print(f'vowels={vowels}')        \n",
    "print(f'digits={digits}')        \n",
    "print(f'others={others}')        \n"
   ]
  },
  {
   "cell_type": "code",
   "execution_count": 104,
   "id": "a430117f",
   "metadata": {},
   "outputs": [
    {
     "data": {
      "text/plain": [
       "['abcd', 'ef', 'ghi']"
      ]
     },
     "execution_count": 104,
     "metadata": {},
     "output_type": "execute_result"
    }
   ],
   "source": [
    "# consider this string:\n",
    "\n",
    "s = 'abcd-ef-ghi'\n",
    "\n",
    "# we can see that it's really three \"words\" (maybe fields?)\n",
    "# we would like to break that string into a list of three strings\n",
    "# I can do that with the \"split\" method\n",
    "\n",
    "s.split('-')  # split returns a list of strings, based on s, removing -"
   ]
  },
  {
   "cell_type": "code",
   "execution_count": 105,
   "id": "b9be6daf",
   "metadata": {},
   "outputs": [
    {
     "data": {
      "text/plain": [
       "['abcd', 'ef', 'ghi']"
      ]
     },
     "execution_count": 105,
     "metadata": {},
     "output_type": "execute_result"
    }
   ],
   "source": [
    "s = 'abcd,ef,ghi'  # similar to CSV (comma separated values)\n",
    "\n",
    "s.split(',')"
   ]
  },
  {
   "cell_type": "code",
   "execution_count": 106,
   "id": "c5516876",
   "metadata": {},
   "outputs": [
    {
     "data": {
      "text/plain": [
       "['this', 'is', 'a', 'bunch', 'of', 'words', 'for', 'my', 'class']"
      ]
     },
     "execution_count": 106,
     "metadata": {},
     "output_type": "execute_result"
    }
   ],
   "source": [
    "# note that s.split does *not* change s!\n",
    "# it returns a new list based on s\n",
    "\n",
    "# what about words?\n",
    "s = 'this is a bunch of words for my class'\n",
    "\n",
    "s.split(' ')"
   ]
  },
  {
   "cell_type": "code",
   "execution_count": 107,
   "id": "89d7a574",
   "metadata": {},
   "outputs": [
    {
     "data": {
      "text/plain": [
       "['this',\n",
       " 'is',\n",
       " '',\n",
       " '',\n",
       " '',\n",
       " 'a',\n",
       " 'bunch',\n",
       " '',\n",
       " 'of',\n",
       " 'words',\n",
       " 'for',\n",
       " '',\n",
       " '',\n",
       " '',\n",
       " 'my',\n",
       " 'class']"
      ]
     },
     "execution_count": 107,
     "metadata": {},
     "output_type": "execute_result"
    }
   ],
   "source": [
    "# what if the string is a little sloppy, and has too many spaces between some words?\n",
    "\n",
    "s = 'this is    a bunch  of words for    my class'\n",
    "\n",
    "s.split(' ')  # every time it sees a space character, it cuts... which is ugly"
   ]
  },
  {
   "cell_type": "code",
   "execution_count": 108,
   "id": "28817f61",
   "metadata": {},
   "outputs": [
    {
     "data": {
      "text/plain": [
       "['this', 'is', 'a', 'bunch', 'of', 'words', 'for', 'my', 'class']"
      ]
     },
     "execution_count": 108,
     "metadata": {},
     "output_type": "execute_result"
    }
   ],
   "source": [
    "# if we call s.split with *NO* argument, then all whitespace, of any length,\n",
    "# is seen as a separator\n",
    "\n",
    "s = 'this is    a bunch  of words for    my class'\n",
    "\n",
    "s.split()    # notice: no argument!"
   ]
  },
  {
   "cell_type": "code",
   "execution_count": 109,
   "id": "9e2dbc97",
   "metadata": {},
   "outputs": [
    {
     "data": {
      "text/plain": [
       "['', 'his is    a bunch  of words for    my class']"
      ]
     },
     "execution_count": 109,
     "metadata": {},
     "output_type": "execute_result"
    }
   ],
   "source": [
    "s.split('t')"
   ]
  },
  {
   "cell_type": "code",
   "execution_count": 110,
   "id": "d4172c89",
   "metadata": {},
   "outputs": [
    {
     "data": {
      "text/plain": [
       "['and ', 'is is an example of ', 'e split me', 'od']"
      ]
     },
     "execution_count": 110,
     "metadata": {},
     "output_type": "execute_result"
    }
   ],
   "source": [
    "s = 'and this is an example of the split method'\n",
    "\n",
    "s.split('th')"
   ]
  },
  {
   "cell_type": "code",
   "execution_count": null,
   "id": "6e2a1902",
   "metadata": {},
   "outputs": [],
   "source": []
  },
  {
   "cell_type": "markdown",
   "id": "8de17c3a",
   "metadata": {},
   "source": [
    "# Exercise: Word lengths\n",
    "\n",
    "1. Define `total` to be 0.\n",
    "2. Ask the user to enter a sentence (words separated by spaces).\n",
    "3. Break the sentence apart using `split`, and iterate over the words in the resulting list.\n",
    "4. Add to `total` the length of each word\n",
    "5. Print `total`\n",
    "\n",
    "Remember:\n",
    "\n",
    "- You can calculate the length of a string with `len`"
   ]
  },
  {
   "cell_type": "code",
   "execution_count": 111,
   "id": "6841dccc",
   "metadata": {},
   "outputs": [
    {
     "name": "stdout",
     "output_type": "stream",
     "text": [
      "29\n"
     ]
    }
   ],
   "source": [
    "total = 0\n",
    "\n",
    "s = 'this is a bunch of words for my class'\n",
    "\n",
    "words = s.split()   # no argument -- use any whitespace combo as a field separator\n",
    "\n",
    "for one_word in words:\n",
    "    total += len(one_word)   # get the length of the current word, add to total\n",
    "    \n",
    "print(total)    "
   ]
  },
  {
   "cell_type": "code",
   "execution_count": 112,
   "id": "d414ebed",
   "metadata": {},
   "outputs": [
    {
     "name": "stdout",
     "output_type": "stream",
     "text": [
      "29\n"
     ]
    }
   ],
   "source": [
    "# a bit shorter...\n",
    "\n",
    "total = 0\n",
    "\n",
    "s = 'this is a bunch of words for my class'\n",
    "\n",
    "for one_word in s.split():\n",
    "    total += len(one_word)   # get the length of the current word, add to total\n",
    "    \n",
    "print(total)    "
   ]
  },
  {
   "cell_type": "code",
   "execution_count": null,
   "id": "e00f6bc2",
   "metadata": {},
   "outputs": [],
   "source": [
    "total=0\n",
    "s=input('Enter a sentence: ').strip()\n",
    "\n",
    "s.split()   # this returns a new list... it doesn't modify s, which remains a string\n",
    "\n",
    "for one_character in s:\n",
    "        total %2B= 1\n",
    "print(f'total number of letters = {total}')\n",
    "\n"
   ]
  },
  {
   "cell_type": "code",
   "execution_count": 114,
   "id": "416ffc84",
   "metadata": {},
   "outputs": [
    {
     "name": "stdout",
     "output_type": "stream",
     "text": [
      "Please enter a sentence.:this is also a test\n",
      "['this', 'is', 'also', 'a', 'test']\n",
      "15\n"
     ]
    }
   ],
   "source": [
    "total=0\n",
    "userin=input(\"Please enter a sentence.:\")\n",
    "\n",
    "mylist=userin.split()    # list of words based on userin\n",
    "print(mylist)\n",
    "\n",
    "for y in mylist:\n",
    "    total += len(y)\n",
    "print(total)"
   ]
  },
  {
   "cell_type": "markdown",
   "id": "d0e2df80",
   "metadata": {},
   "source": [
    "# The opposite of `str.split`: `str.join`\n",
    "\n",
    "I call them `str.split` and `str.join` because they are methods that ony work on strings. \n",
    "\n",
    "- `str.split` is a method that you call on a string, and returns a new list of strings based on it\n",
    "- `str.join` is a method that you call on a string (the \"glue\"), and you pass the list of strings you want to join together as an argument\n",
    "\n"
   ]
  },
  {
   "cell_type": "code",
   "execution_count": 115,
   "id": "eb2449ef",
   "metadata": {},
   "outputs": [
    {
     "data": {
      "text/plain": [
       "'abcd ef ghij'"
      ]
     },
     "execution_count": 115,
     "metadata": {},
     "output_type": "execute_result"
    }
   ],
   "source": [
    "mylist = ['abcd', 'ef', 'ghij']\n",
    "' '.join(mylist)   # returns a new string: 'abcd ef ghij'\n"
   ]
  },
  {
   "cell_type": "code",
   "execution_count": 116,
   "id": "7e183547",
   "metadata": {},
   "outputs": [
    {
     "data": {
      "text/plain": [
       "'abcd**ef**ghij'"
      ]
     },
     "execution_count": 116,
     "metadata": {},
     "output_type": "execute_result"
    }
   ],
   "source": [
    "mylist = ['abcd', 'ef', 'ghij']\n",
    "'**'.join(mylist)   \n"
   ]
  },
  {
   "cell_type": "markdown",
   "id": "ccba6938",
   "metadata": {},
   "source": [
    "# How to join\n",
    "\n",
    "- Start with a list of strings (and yes, the arguments must be strings)\n",
    "- Choose the glue string you want to put between the elements of the list\n",
    "- Call `str.join` on the glue string, passing the argument\n",
    "- You now have a string, and can do whatever you want with it -- assign it, pass it, etc."
   ]
  },
  {
   "cell_type": "code",
   "execution_count": 117,
   "id": "18928ff8",
   "metadata": {},
   "outputs": [
    {
     "data": {
      "text/plain": [
       "['abcd', 'ef', 'ghij']"
      ]
     },
     "execution_count": 117,
     "metadata": {},
     "output_type": "execute_result"
    }
   ],
   "source": [
    "mylist"
   ]
  },
  {
   "cell_type": "code",
   "execution_count": 118,
   "id": "39deade1",
   "metadata": {},
   "outputs": [
    {
     "data": {
      "text/plain": [
       "'abcd\\nef\\nghij'"
      ]
     },
     "execution_count": 118,
     "metadata": {},
     "output_type": "execute_result"
    }
   ],
   "source": [
    "'\\n'.join(mylist)"
   ]
  },
  {
   "cell_type": "code",
   "execution_count": 119,
   "id": "be8fb73e",
   "metadata": {},
   "outputs": [
    {
     "name": "stdout",
     "output_type": "stream",
     "text": [
      "abcd\n",
      "ef\n",
      "ghij\n"
     ]
    }
   ],
   "source": [
    "print('\\n'.join(mylist))"
   ]
  },
  {
   "cell_type": "code",
   "execution_count": 120,
   "id": "906ca0c1",
   "metadata": {},
   "outputs": [
    {
     "data": {
      "text/plain": [
       "'abcdefghij'"
      ]
     },
     "execution_count": 120,
     "metadata": {},
     "output_type": "execute_result"
    }
   ],
   "source": [
    "''.join(mylist)"
   ]
  },
  {
   "cell_type": "markdown",
   "id": "aa61a1c6",
   "metadata": {},
   "source": [
    "# Exercise: Pig Latin sentence!\n",
    "\n",
    "Last time, we translated individual words from English into Pig Latin:\n",
    "\n",
    "```python\n",
    "word = input('Enter a word: ').strip()\n",
    "\n",
    "if word[0] in 'aeiou':\n",
    "    print(word + 'way')     # starts with a vowel? add way\n",
    "else:\n",
    "    print(word[1:] + word[0] + 'ay')  # otherwise? first letter to end, and add ay\n",
    "```\n",
    "\n",
    "This time, I want you to ask the user to enter a sentence (only lowercase letters, no punctuation). Translate each word into Pig Latin, and print the result on a single line.\n",
    "\n"
   ]
  },
  {
   "cell_type": "code",
   "execution_count": 123,
   "id": "a8847439",
   "metadata": {},
   "outputs": [
    {
     "name": "stdout",
     "output_type": "stream",
     "text": [
      "Enter a sentence: this is a test\n",
      "histay\n",
      "isway\n",
      "away\n",
      "esttay\n"
     ]
    }
   ],
   "source": [
    "sentence = input('Enter a sentence: ').strip()\n",
    "\n",
    "for word in sentence.split():\n",
    "    if word[0] in 'aeiou':\n",
    "        print(word + 'way')     \n",
    "    else:\n",
    "        print(word[1:] + word[0] + 'ay')  "
   ]
  },
  {
   "cell_type": "code",
   "execution_count": null,
   "id": "70c59409",
   "metadata": {},
   "outputs": [],
   "source": [
    "# how can we print the output on a single line?\n",
    "\n",
    "output = []\n",
    "\n",
    "sentence = input('Enter a sentence: ').strip()\n",
    "\n",
    "for word in sentence.split():\n",
    "    if word[0] in 'aeiou':\n",
    "        print(word + 'way')     \n",
    "    else:\n",
    "        print(word[1:] + word[0] + 'ay')  "
   ]
  }
 ],
 "metadata": {
  "kernelspec": {
   "display_name": "Python 3 (ipykernel)",
   "language": "python",
   "name": "python3"
  },
  "language_info": {
   "codemirror_mode": {
    "name": "ipython",
    "version": 3
   },
   "file_extension": ".py",
   "mimetype": "text/x-python",
   "name": "python",
   "nbconvert_exporter": "python",
   "pygments_lexer": "ipython3",
   "version": "3.11.3"
  }
 },
 "nbformat": 4,
 "nbformat_minor": 5
}
