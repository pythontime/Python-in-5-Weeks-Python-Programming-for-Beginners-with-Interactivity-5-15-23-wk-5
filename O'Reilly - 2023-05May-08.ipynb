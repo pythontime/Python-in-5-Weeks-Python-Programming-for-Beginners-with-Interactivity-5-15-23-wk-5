{
 "cells": [
  {
   "cell_type": "markdown",
   "id": "78075fa2",
   "metadata": {},
   "source": [
    "# Agenda, week 2\n",
    "\n",
    "1. Loops -- repeat ourselves in a variety of ways\n",
    "    - `for` loops\n",
    "    - `while` loops\n",
    "    - Looping a number of times\n",
    "    - Leaving a loop early\n",
    "2. Lists -- another data structures, more flexible than strings\n",
    "    - Create lists\n",
    "    - Retrieve from lists\n",
    "    - List methods\n",
    "    - Mutable vs. immutable data structures\n",
    "    - `enumerate` for numbering items\n",
    "3. Lists to strings, and back\n",
    "    - Strings into lists (with split)\n",
    "    - Lists into strings (with join)\n",
    "4. Tuples -- a different data structure\n",
    "    - Creating and working with tuples\n",
    "    - Why do tuples exist?\n",
    "    - Tuple unpacking"
   ]
  },
  {
   "cell_type": "markdown",
   "id": "b6f63817",
   "metadata": {},
   "source": [
    "# Recapping last week\n",
    "\n",
    "1. Assignment of data into variables\n",
    "    - We do this with the `=` operator\n",
    "    - Assignment takes whatever is on the right side (the value) and assigns it to a variable\n",
    "    - If the variable doesn't exist yet, then it is created\n",
    "    - If the variable does already exist, then its current value is replaced with a new one\n",
    "2. Different kinds of data\n",
    "    - Boolean values (`True`/`False`)\n",
    "    - Numbers\n",
    "        - integers (`int`)\n",
    "        - floats (`float`)\n",
    "    - Strings (text, aka `str`)\n",
    "    - We can turn one value into another by invoking the type we want as a function\n",
    "        - `str(5)` returns the string `'5'`\n",
    "        - `int('123')` returns the integer `123`\n",
    "        - `float('123')` returns the floating-point number `123.0`\n",
    "3. Conditionals\n",
    "    - We can make our code run on condition that something is `True` with an `if` statement\n",
    "    - To the right of the `if` is a condition that returns either `True` or `False`\n",
    "    - If it's `True`, then the block (indented, just after the `if` is executed\n",
    "    - If it's `False`, then the block just after the `else` is executed (if it exists)\n",
    "    - We can have additional comparisons with `elif` blocks, which work just like `if`, but they are checked in order.\n",
    "4. Strings\n",
    "    - Creating strings \n",
    "        - Regular strings with either `''` or `\"\"`\n",
    "        - Raw strings, where backslashes (`\\`) are doubled to avoid potential problems\n",
    "        - F-strings (format strings), where we can interpolate variable and other values inside of the string with `{}` -- `print(f'Hello, {name}')`\n",
    "        \n",
    "        - Triple-quoted strings, with `\"\"\" \"\"\"`, which can include newlines\n",
    "    - Retrieve from strings with `[]`\n",
    "        - Put an integer inside of the `[]`, to retrieve one character (starting at 0 from the left side, starting at -1 from the right side) -- `s[3]` or `s[x]` if `x` is an integer.\n",
    "        - Put two integers, separated by a colon, to get a \"slice\", starting at the first index, up to and not including the second index -- `s[4:10]`, which returns a new string\n",
    "    - We cannot modify strings, because they are *immutable*. "
   ]
  },
  {
   "cell_type": "markdown",
   "id": "79dd6e73",
   "metadata": {},
   "source": [
    "# Triple-quoted strings\n",
    "\n",
    "In any string, I can put `\\n`, which represents a newline.  In theory, if I want to have a string that will be printed on three separate lines, then I can just put two `\\n` characters in it. When we `print` the string, it'll show up the way we want.\n",
    "\n",
    "However, this is annoying to read when it's in our program. But a string cannot usually extend over more than one line.\n",
    "\n",
    "Triple-quoted strings solve this problem: They allow us to include literal newlines inside of our string. In other words, our strings can extend over multiple lines.\n",
    "\n",
    "When would we use this?\n",
    "\n",
    "- When we define text that extends over multiple lines -- an e-mail message, or a logfile message\n",
    "- Inside of functions, the \"docstring\" is traditionally written with triple-quoted strings\n",
    "- Some people (but not me!) like to use it for multi-line comments, because a string that is defined but never assigned anywhere is thrown out by the Python language\n",
    "\n",
    "\"\"\"\n",
    "this will be ignored\n",
    "\"\"\"\n",
    "\n",
    "Some examples:\n",
    "\n",
    "```python\n",
    "s = \"\"\"Welcome to our hotel!\n",
    "\n",
    "We are happy to have you as our guest!\"\"\"\n",
    "\n",
    "print(s)\n",
    "```\n",
    "\n",
    "You can use either triple `'` or triple `\"`, but the start and end need to match. It's more traditional to use triple `\"`."
   ]
  },
  {
   "cell_type": "code",
   "execution_count": 2,
   "id": "bfac6007",
   "metadata": {},
   "outputs": [
    {
     "name": "stdout",
     "output_type": "stream",
     "text": [
      "Welcome to our hotel!\n",
      "\n",
      "We are happy to have you as our guest!\n"
     ]
    }
   ],
   "source": [
    "s = \"\"\"Welcome to our hotel!\n",
    "\n",
    "We are happy to have you as our guest!\"\"\"\n",
    "\n",
    "print(s)"
   ]
  },
  {
   "cell_type": "code",
   "execution_count": 4,
   "id": "4b61ae0b",
   "metadata": {},
   "outputs": [
    {
     "name": "stdout",
     "output_type": "stream",
     "text": [
      "Welcome, Reuven, to our hotel!\n",
      "\n",
      "We are happy to have you as our guest!\n"
     ]
    }
   ],
   "source": [
    "name = 'Reuven'\n",
    "\n",
    "# triple-f string\n",
    "s = f\"\"\"Welcome, {name}, to our hotel!\n",
    "\n",
    "We are happy to have you as our guest!\"\"\"\n",
    "\n",
    "print(s)"
   ]
  },
  {
   "cell_type": "code",
   "execution_count": 5,
   "id": "42b2ef96",
   "metadata": {},
   "outputs": [
    {
     "ename": "SyntaxError",
     "evalue": "incomplete input (3847795502.py, line 1)",
     "output_type": "error",
     "traceback": [
      "\u001b[0;36m  Cell \u001b[0;32mIn [5], line 1\u001b[0;36m\u001b[0m\n\u001b[0;31m    s = '''hello\u001b[0m\n\u001b[0m        ^\u001b[0m\n\u001b[0;31mSyntaxError\u001b[0m\u001b[0;31m:\u001b[0m incomplete input\n"
     ]
    }
   ],
   "source": [
    "s = '''hello\n",
    "\n",
    "I will not end this string!!"
   ]
  },
  {
   "cell_type": "markdown",
   "id": "12db32b9",
   "metadata": {},
   "source": [
    "# Lists\n",
    "\n",
    "Strings, as we've seen, are collections of characters. But sometimes, we want to have collections of other types of data -- to be more flexible and useful. Lists are Python's default container type.\n",
    "\n",
    "Some people, coming from other languages, think that it's silly for us to call them \"lists,\" since they're obviously arrays. But actually, they aren't arrays, because arrays:\n",
    "\n",
    "- Can only contain one type of data\n",
    "- Cannot have their sizes changed after creation\n",
    "\n",
    "Both of these are untrue for lists.  Lists can contain any number of any values of any type, and any combination of types.  It is traditional for lists to be defined such that they contain only one type of data. But Python won't stop you, or even warn you.\n",
    "\n",
    "We can define a list with `[]`:\n",
    "\n",
    "- Elements go inside of the `[]`\n",
    "- Commas between elements\n",
    "- Each element can be anything at all\n",
    "- We don't have to declare the list's length in advance\n",
    "\n",
    "Remember that Python is usually very picky about indentation. When you open parentheses, it gets much more relaxed. So inside of a list definition, you can actually drop down to a new line, etc."
   ]
  },
  {
   "cell_type": "code",
   "execution_count": 6,
   "id": "092b87fc",
   "metadata": {},
   "outputs": [],
   "source": [
    "mylist = [10, 20, 30]"
   ]
  },
  {
   "cell_type": "code",
   "execution_count": 7,
   "id": "3c7b5aa0",
   "metadata": {},
   "outputs": [
    {
     "data": {
      "text/plain": [
       "list"
      ]
     },
     "execution_count": 7,
     "metadata": {},
     "output_type": "execute_result"
    }
   ],
   "source": [
    "# what kind of data do I have in the variable \"mylist\"?\n",
    "\n",
    "type(mylist)"
   ]
  },
  {
   "cell_type": "code",
   "execution_count": 8,
   "id": "b0f736ad",
   "metadata": {},
   "outputs": [
    {
     "data": {
      "text/plain": [
       "list"
      ]
     },
     "execution_count": 8,
     "metadata": {},
     "output_type": "execute_result"
    }
   ],
   "source": [
    "mylist = ['hello', 'goodbye', 'I am back']\n",
    "\n",
    "type(mylist)"
   ]
  },
  {
   "cell_type": "markdown",
   "id": "da8c8119",
   "metadata": {},
   "source": [
    "# What can I do with lists?\n",
    "\n",
    "Lists are different from strings. But both lists and strings are *sequences* in Python, part of the same family that works the same way much of the time. In both:\n",
    "\n",
    "- Get the length with `len`\n",
    "- Search for an element with `in` (and find out whether it's contained in the larger item)\n",
    "- Retrieve an item at index `i` with `s[i]` -- indexes start at 0\n",
    "- Retrieve a slice from index `i` to (not including) index `j` with `s[i:j]`\n"
   ]
  },
  {
   "cell_type": "code",
   "execution_count": 9,
   "id": "f07535b9",
   "metadata": {},
   "outputs": [
    {
     "data": {
      "text/plain": [
       "True"
      ]
     },
     "execution_count": 9,
     "metadata": {},
     "output_type": "execute_result"
    }
   ],
   "source": [
    "mylist = [10, 20, 30, 40, 50]\n",
    "\n",
    "30 in mylist"
   ]
  },
  {
   "cell_type": "code",
   "execution_count": 10,
   "id": "964ecaed",
   "metadata": {},
   "outputs": [
    {
     "data": {
      "text/plain": [
       "40"
      ]
     },
     "execution_count": 10,
     "metadata": {},
     "output_type": "execute_result"
    }
   ],
   "source": [
    "mylist[3]"
   ]
  },
  {
   "cell_type": "code",
   "execution_count": 11,
   "id": "34bbff08",
   "metadata": {},
   "outputs": [
    {
     "data": {
      "text/plain": [
       "[30, 40]"
      ]
     },
     "execution_count": 11,
     "metadata": {},
     "output_type": "execute_result"
    }
   ],
   "source": [
    "mylist[2:4]  # from index 2 up to (and not including) 4"
   ]
  },
  {
   "cell_type": "code",
   "execution_count": 12,
   "id": "40b59ef4",
   "metadata": {},
   "outputs": [
    {
     "data": {
      "text/plain": [
       "10"
      ]
     },
     "execution_count": 12,
     "metadata": {},
     "output_type": "execute_result"
    }
   ],
   "source": [
    "mylist[0]  # first element of mylist"
   ]
  },
  {
   "cell_type": "code",
   "execution_count": 13,
   "id": "3aa95644",
   "metadata": {},
   "outputs": [
    {
     "data": {
      "text/plain": [
       "5"
      ]
     },
     "execution_count": 13,
     "metadata": {},
     "output_type": "execute_result"
    }
   ],
   "source": [
    "len(mylist)"
   ]
  },
  {
   "cell_type": "code",
   "execution_count": 14,
   "id": "5d1b5341",
   "metadata": {},
   "outputs": [
    {
     "data": {
      "text/plain": [
       "0"
      ]
     },
     "execution_count": 14,
     "metadata": {},
     "output_type": "execute_result"
    }
   ],
   "source": [
    "# empty list is just []\n",
    "\n",
    "mylist = []   \n",
    "\n",
    "len(mylist)"
   ]
  },
  {
   "cell_type": "markdown",
   "id": "830f06c0",
   "metadata": {},
   "source": [
    "# Python's error messages\n",
    "\n",
    "When something goes wrong, you'll get two or three things:\n",
    "\n",
    "1. Stack backtrace, showing you the history of the error in Python. This is often very very hard to read (even for experts), but it can be useful. For now, you can mostly ignore it.\n",
    "2. Inside of the backtrace, you'll see some markers indicating where things went wrong.\n",
    "3. Finally, on the last line, you'll get the exception (error) type, and the message that was sent when things went wrong."
   ]
  },
  {
   "cell_type": "code",
   "execution_count": 15,
   "id": "3f17c093",
   "metadata": {},
   "outputs": [
    {
     "name": "stdout",
     "output_type": "stream",
     "text": [
      "30\n"
     ]
    },
    {
     "ename": "IndexError",
     "evalue": "list index out of range",
     "output_type": "error",
     "traceback": [
      "\u001b[0;31m---------------------------------------------------------------------------\u001b[0m",
      "\u001b[0;31mIndexError\u001b[0m                                Traceback (most recent call last)",
      "Cell \u001b[0;32mIn [15], line 4\u001b[0m\n\u001b[1;32m      1\u001b[0m mylist \u001b[38;5;241m=\u001b[39m [\u001b[38;5;241m10\u001b[39m, \u001b[38;5;241m20\u001b[39m, \u001b[38;5;241m30\u001b[39m, \u001b[38;5;241m40\u001b[39m, \u001b[38;5;241m50\u001b[39m]\n\u001b[1;32m      3\u001b[0m \u001b[38;5;28mprint\u001b[39m(mylist[\u001b[38;5;241m2\u001b[39m])\n\u001b[0;32m----> 4\u001b[0m \u001b[38;5;28mprint\u001b[39m(\u001b[43mmylist\u001b[49m\u001b[43m[\u001b[49m\u001b[38;5;241;43m100\u001b[39;49m\u001b[43m]\u001b[49m)  \u001b[38;5;66;03m# this should not work\u001b[39;00m\n\u001b[1;32m      5\u001b[0m \u001b[38;5;28mprint\u001b[39m(mylist[\u001b[38;5;241m0\u001b[39m])\n",
      "\u001b[0;31mIndexError\u001b[0m: list index out of range"
     ]
    }
   ],
   "source": [
    "mylist = [10, 20, 30, 40, 50]\n",
    "\n",
    "print(mylist[2])\n",
    "print(mylist[100])  # this should not work\n",
    "print(mylist[0])"
   ]
  },
  {
   "cell_type": "code",
   "execution_count": 17,
   "id": "6a9cedaf",
   "metadata": {},
   "outputs": [
    {
     "data": {
      "text/plain": [
       "'abcd efgh'"
      ]
     },
     "execution_count": 17,
     "metadata": {},
     "output_type": "execute_result"
    }
   ],
   "source": [
    "s = 'aBcD eFgH'\n",
    "\n",
    "s.lower()  # get back a new string, based on s, all in lowercase"
   ]
  },
  {
   "cell_type": "code",
   "execution_count": 18,
   "id": "d99a6557",
   "metadata": {},
   "outputs": [
    {
     "ename": "AttributeError",
     "evalue": "'str' object has no attribute 'even_lower_than_that'",
     "output_type": "error",
     "traceback": [
      "\u001b[0;31m---------------------------------------------------------------------------\u001b[0m",
      "\u001b[0;31mAttributeError\u001b[0m                            Traceback (most recent call last)",
      "Cell \u001b[0;32mIn [18], line 1\u001b[0m\n\u001b[0;32m----> 1\u001b[0m \u001b[43ms\u001b[49m\u001b[38;5;241;43m.\u001b[39;49m\u001b[43meven_lower_than_that\u001b[49m()\n",
      "\u001b[0;31mAttributeError\u001b[0m: 'str' object has no attribute 'even_lower_than_that'"
     ]
    }
   ],
   "source": [
    "s.even_lower_than_that()"
   ]
  },
  {
   "cell_type": "code",
   "execution_count": 22,
   "id": "66cad2f5",
   "metadata": {},
   "outputs": [
    {
     "ename": "NameError",
     "evalue": "name 'nime' is not defined",
     "output_type": "error",
     "traceback": [
      "\u001b[0;31m---------------------------------------------------------------------------\u001b[0m",
      "\u001b[0;31mNameError\u001b[0m                                 Traceback (most recent call last)",
      "Cell \u001b[0;32mIn [22], line 2\u001b[0m\n\u001b[1;32m      1\u001b[0m name \u001b[38;5;241m=\u001b[39m \u001b[38;5;124m'\u001b[39m\u001b[38;5;124mReuven\u001b[39m\u001b[38;5;124m'\u001b[39m\n\u001b[0;32m----> 2\u001b[0m \u001b[38;5;28mprint\u001b[39m(\u001b[43mnime\u001b[49m)\n",
      "\u001b[0;31mNameError\u001b[0m: name 'nime' is not defined"
     ]
    }
   ],
   "source": [
    "name = 'Reuven'\n",
    "print(nime)"
   ]
  },
  {
   "cell_type": "markdown",
   "id": "336352fe",
   "metadata": {},
   "source": [
    "# How can I assign to a new, empty list?\n",
    "\n",
    "If I create a new list:\n",
    "\n",
    "```python\n",
    "mylist = []\n",
    "```\n",
    "\n",
    "Can I then add to it by assigning to an index that doesn't exist?  Example:\n",
    "\n",
    "```python\n",
    "mylist[0] = 'hello'\n",
    "```\n",
    "\n",
    "Answer: No, and we'll talk about assigning to lists (and modifying them) in a bit."
   ]
  },
  {
   "cell_type": "markdown",
   "id": "13507585",
   "metadata": {},
   "source": [
    "# Running cells in Jupyter\n",
    "\n",
    "You can press shift+Enter to execute a cell:\n",
    "\n",
    "- If it's a Markdown cell, then it'll be formatted and displayed\n",
    "- If it's a Python cell, then it'll run and display its output (if any)"
   ]
  },
  {
   "cell_type": "code",
   "execution_count": 23,
   "id": "0337e6c9",
   "metadata": {},
   "outputs": [],
   "source": [
    "mylist = [10, 20, 30, 40, 50]"
   ]
  },
  {
   "cell_type": "markdown",
   "id": "0a2d0d0f",
   "metadata": {},
   "source": [
    "# Exercise: Retrieve list slice\n",
    "\n",
    "1. Define a list (of 5-10 elements of any type)\n",
    "2. Ask the user to enter a starting index.\n",
    "3. Ask the user to enter an ending index.\n",
    "4. If both indexes are at least 0, and not too long (for the list length), then print the slice from the starting index up to (and not including) the ending index.\n",
    "5. If they enter an index that's too small or too big, then scold them.\n",
    "\n",
    "Example:\n",
    "\n",
    "    If the list is [10, 20, 30, 40, 50, 60, 70, 80]\n",
    "    \n",
    "    Starting index: 4\n",
    "    Ending index: 7\n",
    "    \n",
    "    [50, 60, 70]\n",
    "    \n",
    "    "
   ]
  },
  {
   "cell_type": "code",
   "execution_count": 27,
   "id": "b101965d",
   "metadata": {},
   "outputs": [
    {
     "name": "stdout",
     "output_type": "stream",
     "text": [
      "Starting index: -100\n",
      "Ending index: 20\n",
      "Either -100 or 20 is too high or too low\n"
     ]
    }
   ],
   "source": [
    "#         0   1  2   3   4   5   6   7   8   9\n",
    "mylist = [5, 10, 15, 20, 25, 35, 47, 50, 52, 59]\n",
    "\n",
    "# Use input to get a starting index from the user\n",
    "start_index = input('Starting index: ').strip()\n",
    "start_index = int(start_index)   # get an int from this string\n",
    "\n",
    "\n",
    "# Use input to get an ending index from the user\n",
    "end_index = input('Ending index: ').strip()\n",
    "end_index = int(end_index)\n",
    "\n",
    "if (start_index >= 0 and\n",
    "    end_index >= 0 and\n",
    "    start_index < len(mylist) and\n",
    "    end_index < len(mylist)):\n",
    "    print(    mylist[start_index:end_index]    )\n",
    "else:\n",
    "    print(f'Either {start_index} or {end_index} is too high or too low')"
   ]
  },
  {
   "cell_type": "code",
   "execution_count": 28,
   "id": "fc855f99",
   "metadata": {},
   "outputs": [
    {
     "data": {
      "text/plain": [
       "10"
      ]
     },
     "execution_count": 28,
     "metadata": {},
     "output_type": "execute_result"
    }
   ],
   "source": [
    "# how can we print the final two items in a list?\n",
    "\n",
    "# first: we'll want a slice, from the second-to-last item until the end\n",
    "\n",
    "len(mylist)"
   ]
  },
  {
   "cell_type": "code",
   "execution_count": 30,
   "id": "e7e3bed9",
   "metadata": {},
   "outputs": [
    {
     "data": {
      "text/plain": [
       "[52, 59]"
      ]
     },
     "execution_count": 30,
     "metadata": {},
     "output_type": "execute_result"
    }
   ],
   "source": [
    "mylist[8:]   # the hard-coded way, calculating using len()"
   ]
  },
  {
   "cell_type": "code",
   "execution_count": 31,
   "id": "0f103306",
   "metadata": {},
   "outputs": [
    {
     "data": {
      "text/plain": [
       "[52, 59]"
      ]
     },
     "execution_count": 31,
     "metadata": {},
     "output_type": "execute_result"
    }
   ],
   "source": [
    "mylist[-2:]  # the clever way, counting from the end of the list backwards 2 element"
   ]
  },
  {
   "cell_type": "code",
   "execution_count": 32,
   "id": "9b5f8b70",
   "metadata": {},
   "outputs": [
    {
     "name": "stdout",
     "output_type": "stream",
     "text": [
      "[59, 52, 50, 47, 35, 25, 20, 15, 10, 5]\n"
     ]
    }
   ],
   "source": [
    "# print a reversed list, use extended slice syntax\n",
    "\n",
    "print(mylist[::-1])   # from the start, to the end, step size -1"
   ]
  },
  {
   "cell_type": "markdown",
   "id": "9534d443",
   "metadata": {},
   "source": [
    "# Loops\n",
    "\n",
    "Consider a short string, and I want to print all of the characters in that string."
   ]
  },
  {
   "cell_type": "code",
   "execution_count": 33,
   "id": "035b1684",
   "metadata": {},
   "outputs": [
    {
     "name": "stdout",
     "output_type": "stream",
     "text": [
      "a\n",
      "b\n",
      "c\n",
      "d\n"
     ]
    }
   ],
   "source": [
    "s = 'abcd'\n",
    "\n",
    "print(s[0])    # unfortunately, this works... it's super ugly!\n",
    "print(s[1])\n",
    "print(s[2])\n",
    "print(s[3])"
   ]
  },
  {
   "cell_type": "markdown",
   "id": "f7d1e0b5",
   "metadata": {},
   "source": [
    "# DRY rule -- Don't Repeat Yourself!\n",
    "\n",
    "If you have code that more or less repeats itself, especially if it's several lines in a row, you should find a way to avoid repeating that code.\n",
    "\n",
    "In this case, we can see that we're doing the same thing each time, just with a different index in the string.\n",
    "\n",
    "This is a job for a `for` loop! In such a loop, we go over a bunch of values, one at a time.  These are the most common loops in Python.\n",
    "\n",
    "To write a `for` loop:\n",
    "\n",
    "- Use the keywords `for` and `in`\n",
    "- Just after the word `for`, and before the word `in`, we name our *loop variable*. This variable will be assigned, one at a time, all of the elements in `s`.\n",
    "- At the end of the line, after `in` and before `:`, we have the object over which we'll be iterating.\n",
    "- the body of the loop is executed once for each character in `s`, aka once for each different value of `one_character`.\n",
    "- when the loop ends, we exit the for and continue with the rest of the program\n",
    "\n",
    "You can (and should) name your loop variable well! Python doesn't care what you call it, and the fact that I called it `one_character` does *not* tell Python to retrieve one character at a time."
   ]
  },
  {
   "cell_type": "code",
   "execution_count": 37,
   "id": "67ce6cb8",
   "metadata": {},
   "outputs": [
    {
     "name": "stdout",
     "output_type": "stream",
     "text": [
      "Before\n",
      "a\n",
      "b\n",
      "c\n",
      "d\n",
      "After\n"
     ]
    }
   ],
   "source": [
    "print('Before')\n",
    "for one_character in s:\n",
    "    print(one_character)\n",
    "print('After')    "
   ]
  },
  {
   "cell_type": "code",
   "execution_count": 39,
   "id": "b0e58933",
   "metadata": {},
   "outputs": [
    {
     "name": "stdout",
     "output_type": "stream",
     "text": [
      "a\n",
      "c\n",
      "e\n",
      "g\n",
      "i\n",
      "k\n",
      "m\n",
      "o\n",
      "q\n",
      "s\n",
      "u\n",
      "w\n",
      "y\n"
     ]
    }
   ],
   "source": [
    "# if I have a big string, and I want to iterate over it every 2 elements, \n",
    "# what do I do?\n",
    "\n",
    "s = 'abcdefghijklmnopqrstuvwxyz'\n",
    "\n",
    "for one_character in s[::2]:   # iterate over a slice of s!  from the start , to the end, step size 2\n",
    "    print(one_character)"
   ]
  },
  {
   "cell_type": "code",
   "execution_count": 40,
   "id": "677bca46",
   "metadata": {},
   "outputs": [
    {
     "name": "stdout",
     "output_type": "stream",
     "text": [
      "z\n",
      "y\n",
      "x\n",
      "w\n",
      "v\n",
      "u\n",
      "t\n",
      "s\n",
      "r\n",
      "q\n",
      "p\n",
      "o\n",
      "n\n",
      "m\n",
      "l\n",
      "k\n",
      "j\n",
      "i\n",
      "h\n",
      "g\n",
      "f\n",
      "e\n",
      "d\n",
      "c\n",
      "b\n",
      "a\n"
     ]
    }
   ],
   "source": [
    "# if I want to iterate over letters in s from the end, until the start\n",
    "# then I cannot do that in my loop -- I must do it by running a regular loop over a reversed string\n",
    "\n",
    "for one_character in s[::-1]:\n",
    "    print(one_character)"
   ]
  },
  {
   "cell_type": "markdown",
   "id": "8e9be0e4",
   "metadata": {},
   "source": [
    "# Exercise: Sum digits\n",
    "\n",
    "1. Ask the user to enter a string.\n",
    "2. Set `total` to be 0\n",
    "3. Go through each character in the string:\n",
    "    - If it's numeric, then convert its value to an integer, and add to `total`\n",
    "    - If it's not numeric, then scold the user\n",
    "4. Print `total`\n",
    "\n",
    "```\n",
    "Enter a string: abc123\n",
    "a is not numeric\n",
    "b is not numeric\n",
    "c is not numeric\n",
    "total is 6\n",
    "```    "
   ]
  },
  {
   "cell_type": "code",
   "execution_count": 43,
   "id": "d09ca3ee",
   "metadata": {},
   "outputs": [
    {
     "name": "stdout",
     "output_type": "stream",
     "text": [
      "Enter a string: abc123\n",
      "a is *NOT* numeric\n",
      "b is *NOT* numeric\n",
      "c is *NOT* numeric\n",
      "1 is numeric\n",
      "2 is numeric\n",
      "3 is numeric\n",
      "Total = 6\n"
     ]
    }
   ],
   "source": [
    "s = input('Enter a string: ').strip()\n",
    "\n",
    "total = 0\n",
    "\n",
    "for one_character in s:\n",
    "    if one_character.isdigit():\n",
    "        print(f'{one_character} is numeric')\n",
    "        total += int(one_character)\n",
    "    else:\n",
    "        print(f'{one_character} is *NOT* numeric')\n",
    "        \n",
    "print(f'Total = {total}')        "
   ]
  },
  {
   "cell_type": "code",
   "execution_count": 45,
   "id": "6a41931a",
   "metadata": {},
   "outputs": [
    {
     "name": "stdout",
     "output_type": "stream",
     "text": [
      "Enter a string: \n",
      "Total = 0\n"
     ]
    }
   ],
   "source": [
    "# as suggested by KK\n",
    "\n",
    "s = input('Enter a string: ').strip()\n",
    "\n",
    "total = 0\n",
    "\n",
    "for one_character in s:\n",
    "    if type(one_character) == int:   # this will always be false!\n",
    "        print(f'{one_character} is numeric')\n",
    "        total += int(one_character)\n",
    "    else:\n",
    "        print(f'{one_character} is *NOT* numeric')\n",
    "        \n",
    "print(f'Total = {total}')        "
   ]
  },
  {
   "cell_type": "code",
   "execution_count": null,
   "id": "f9addb34",
   "metadata": {},
   "outputs": [],
   "source": []
  },
  {
   "cell_type": "markdown",
   "id": "5cee956f",
   "metadata": {},
   "source": [
    "# Next up\n",
    "\n",
    "1. Using `range` with `for` loops\n",
    "2. `while` loops\n",
    "3. Loop control structures"
   ]
  },
  {
   "cell_type": "markdown",
   "id": "1a00e00c",
   "metadata": {},
   "source": [
    "# What if it isn't iterable?\n",
    "\n",
    "I've mentioned that the `for` loop asks the object if it's iterable. If it is, then `for` asks for each of the elements, one at a time.\n",
    "\n",
    "But what if the object isn't iterable? For example, what if we try to iterate over an integer?\n",
    "\n"
   ]
  },
  {
   "cell_type": "code",
   "execution_count": 46,
   "id": "44093f86",
   "metadata": {},
   "outputs": [
    {
     "ename": "TypeError",
     "evalue": "'int' object is not iterable",
     "output_type": "error",
     "traceback": [
      "\u001b[0;31m---------------------------------------------------------------------------\u001b[0m",
      "\u001b[0;31mTypeError\u001b[0m                                 Traceback (most recent call last)",
      "Cell \u001b[0;32mIn [46], line 1\u001b[0m\n\u001b[0;32m----> 1\u001b[0m \u001b[38;5;28;01mfor\u001b[39;00m counter \u001b[38;5;129;01min\u001b[39;00m \u001b[38;5;241m3\u001b[39m:      \u001b[38;5;66;03m# I want to print this 3 times\u001b[39;00m\n\u001b[1;32m      2\u001b[0m     \u001b[38;5;28mprint\u001b[39m(\u001b[38;5;124m'\u001b[39m\u001b[38;5;124mHooray!\u001b[39m\u001b[38;5;124m'\u001b[39m)\n",
      "\u001b[0;31mTypeError\u001b[0m: 'int' object is not iterable"
     ]
    }
   ],
   "source": [
    "for counter in 3:      # I want to print this 3 times\n",
    "    print('Hooray!')"
   ]
  },
  {
   "cell_type": "markdown",
   "id": "f93ea811",
   "metadata": {},
   "source": [
    "# This seems like a common use case!\n",
    "\n",
    "In Python, you cannot iterate directly over an integer.\n",
    "\n",
    "You can, however, use the `range` function to get an iterable based on an integer.\n",
    "\n",
    "If I want to iterate 3 times, I can just iterate over `range(3)`.\n",
    "\n",
    "If you invoke `range(n)`, then you'll get each of the integers from 0 up to (and not including) `n`.  Which means that you'll get `n` values, but you'll never get `n` itself."
   ]
  },
  {
   "cell_type": "code",
   "execution_count": 47,
   "id": "edef17a5",
   "metadata": {},
   "outputs": [
    {
     "name": "stdout",
     "output_type": "stream",
     "text": [
      "Hooray!\n",
      "Hooray!\n",
      "Hooray!\n"
     ]
    }
   ],
   "source": [
    "for counter in range(3):    # use range... will it work?\n",
    "    print('Hooray!')"
   ]
  },
  {
   "cell_type": "code",
   "execution_count": 48,
   "id": "069a94bb",
   "metadata": {},
   "outputs": [
    {
     "name": "stdout",
     "output_type": "stream",
     "text": [
      "0 Hooray!\n",
      "1 Hooray!\n",
      "2 Hooray!\n"
     ]
    }
   ],
   "source": [
    "# what does range give us?\n",
    "\n",
    "for counter in range(3):  \n",
    "    print(f'{counter} Hooray!')"
   ]
  },
  {
   "cell_type": "markdown",
   "id": "fbddaf13",
   "metadata": {},
   "source": [
    "# Off-by-one errors\n",
    "\n",
    "It's very common, when working with indexes, slices, and ranges, to have an \"off by one\" error. That comes from (usually) the fact that our indexes are 0 based.\n",
    "\n",
    "If you find that you're off by one, check to see if you made something < when it could be <=, or > when it could be >= (or vice versa)."
   ]
  },
  {
   "cell_type": "code",
   "execution_count": 49,
   "id": "76a43c85",
   "metadata": {},
   "outputs": [],
   "source": [
    "# you can say range(start,end) ... but only with integers"
   ]
  },
  {
   "cell_type": "markdown",
   "id": "b375a44d",
   "metadata": {},
   "source": [
    "# Exercise: Name triangles\n",
    "\n",
    "1. Ask the user to enter their name.\n",
    "2. Print one line for each letter in the name:\n",
    "    - On the first line, print the first letter.\n",
    "    - On the second line, print the first two letters.\n",
    "    - On the third line, print the first three letters.\n",
    "    - ...\n",
    "    - One the final line, print the entire name.\n",
    "    \n",
    "Example:\n",
    "\n",
    "    Enter name: Reuven\n",
    "    R\n",
    "    Re\n",
    "    Reu\n",
    "    Reuv\n",
    "    Reuve\n",
    "    Reuven\n",
    "    \n",
    "Things to keep in mind:\n",
    "- Slices let us grab any part of a string with the `[start:end]` syntax\n",
    "- Remember that the `end` index is \"up to and not including\"\n",
    "- Fun fact: If the end of a slice is outside of the string bounds, that's OK!\n",
    "- Remember that a slice can be `[start:]` to go through the end\n",
    "- `len` returns the length of the string\n",
    "- You can use a variable whose value is an integer anywhere you can use an integer"
   ]
  },
  {
   "cell_type": "code",
   "execution_count": 51,
   "id": "3a38822b",
   "metadata": {},
   "outputs": [
    {
     "name": "stdout",
     "output_type": "stream",
     "text": [
      "Enter your name: Reuven\n",
      "R\n",
      "Re\n",
      "Reu\n",
      "Reuv\n",
      "Reuve\n",
      "Reuven\n"
     ]
    }
   ],
   "source": [
    "name = input('Enter your name: ').strip()\n",
    "\n",
    "print(name[:1])\n",
    "print(name[:2])\n",
    "print(name[:3])\n",
    "print(name[:4])\n",
    "print(name[:5])\n",
    "print(name[:6])"
   ]
  },
  {
   "cell_type": "code",
   "execution_count": 52,
   "id": "c38979f4",
   "metadata": {},
   "outputs": [
    {
     "name": "stdout",
     "output_type": "stream",
     "text": [
      "Enter your name: Reuven\n",
      "\n",
      "R\n",
      "Re\n",
      "Reu\n",
      "Reuv\n",
      "Reuve\n"
     ]
    }
   ],
   "source": [
    "name = input('Enter your name: ').strip()\n",
    "\n",
    "for ending_index in range(6):\n",
    "    print(name[:ending_index])"
   ]
  }
 ],
 "metadata": {
  "kernelspec": {
   "display_name": "Python 3 (ipykernel)",
   "language": "python",
   "name": "python3"
  },
  "language_info": {
   "codemirror_mode": {
    "name": "ipython",
    "version": 3
   },
   "file_extension": ".py",
   "mimetype": "text/x-python",
   "name": "python",
   "nbconvert_exporter": "python",
   "pygments_lexer": "ipython3",
   "version": "3.11.3"
  }
 },
 "nbformat": 4,
 "nbformat_minor": 5
}
