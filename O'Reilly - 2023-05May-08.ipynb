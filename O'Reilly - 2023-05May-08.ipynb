{
 "cells": [
  {
   "cell_type": "markdown",
   "id": "d79dfd84",
   "metadata": {},
   "source": [
    "# Agenda, week 2\n",
    "\n",
    "1. Loops -- repeat ourselves in a variety of ways\n",
    "    - `for` loops\n",
    "    - `while` loops\n",
    "    - Looping a number of times\n",
    "    - Leaving a loop early\n",
    "2. Lists -- another data structures, more flexible than strings\n",
    "    - Create lists\n",
    "    - Retrieve from lists\n",
    "    - List methods\n",
    "    - Mutable vs. immutable data structures\n",
    "    - `enumerate` for numbering items\n",
    "3. Lists to strings, and back\n",
    "    - Strings into lists (with split)\n",
    "    - Lists into strings (with join)\n",
    "4. Tuples -- a different data structure\n",
    "    - Creating and working with tuples\n",
    "    - Why do tuples exist?\n",
    "    - Tuple unpacking"
   ]
  },
  {
   "cell_type": "markdown",
   "id": "4d4c1eb9",
   "metadata": {},
   "source": [
    "# Recapping last week\n",
    "\n",
    "1. "
   ]
  }
 ],
 "metadata": {
  "kernelspec": {
   "display_name": "Python 3 (ipykernel)",
   "language": "python",
   "name": "python3"
  },
  "language_info": {
   "codemirror_mode": {
    "name": "ipython",
    "version": 3
   },
   "file_extension": ".py",
   "mimetype": "text/x-python",
   "name": "python",
   "nbconvert_exporter": "python",
   "pygments_lexer": "ipython3",
   "version": "3.11.3"
  }
 },
 "nbformat": 4,
 "nbformat_minor": 5
}
